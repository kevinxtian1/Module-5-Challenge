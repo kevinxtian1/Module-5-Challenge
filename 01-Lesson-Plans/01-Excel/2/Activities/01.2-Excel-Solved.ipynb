{
 "cells": [
  {
   "cell_type": "markdown",
   "metadata": {},
   "source": [
    "@channel **Hi Everyone,**\n",
    "\n",
    "First, make sure you did `git pull` to get the latest materials for this week.\n",
    "\n",
    "`Explore the activities and try to understand before class to make it easy for you`\n",
    "\n",
    "---\n",
    "**2023-08-29 `01.2-Excel-Data Fundamentals in Excel`**\n",
    "\n",
    "**Objectives**\n",
    "\n",
    "* Demonstrate basic Excel navigation and functionality.\n",
    "* Explain the value and use of pivot tables.\n",
    "* Use VLOOKUPs and HLOOKUPs.\n",
    "* Implement conditional formatting based on logical rules.\n",
    "\n",
    "**Presentation**\n",
    "* [01.2-Excel-Data Fundamentals in Excel](https://git.bootcampcontent.com/University-of-California---Berkeley/UCB-VIRT-DATA-PT-08-2023-U-LOLC/-/blob/main/Slides/Data-01.2-Data_Fundamentals_in_Excel.pdf)\n",
    "\n",
    "**Resources**\n",
    "* [Named Ranges in Excel](https://www.lifewire.com/define-and-edit-named-range-in-excel-4178633)\n",
    "* [Using conditionals in Excel Formulas](https://www.lifewire.com/nesting-and-or-if-functions-in-excel-4178190)\n",
    "* [Pivot tables in Excel](https://www.wikihow.com/Create-Pivot-Tables-in-Excel)\n",
    "\n",
    "**Best wishes.**"
   ]
  },
  {
   "cell_type": "markdown",
   "metadata": {},
   "source": [
    "# =========================================="
   ]
  },
  {
   "cell_type": "markdown",
   "metadata": {},
   "source": [
    "### 2.01 Instructor Do: Excel Playground (5 min)"
   ]
  },
  {
   "cell_type": "markdown",
   "metadata": {},
   "source": [
    "![](../Images/01-ExcelPlayground.gif)\n",
    "\n",
    "![](../Images/01-ExcelPlayground_2.png)\n"
   ]
  },
  {
   "cell_type": "markdown",
   "metadata": {},
   "source": [
    "# =========================================="
   ]
  },
  {
   "cell_type": "markdown",
   "metadata": {},
   "source": [
    "### 2.02 Instructor Do: Named Ranges (5 min)"
   ]
  },
  {
   "cell_type": "markdown",
   "metadata": {},
   "source": [
    "![](../Images/02-NamedRanges.png)\n",
    "\n",
    "![](../Images/02-NamedRanges_1.png)\n"
   ]
  },
  {
   "cell_type": "markdown",
   "metadata": {},
   "source": [
    "# =========================================="
   ]
  },
  {
   "cell_type": "markdown",
   "metadata": {},
   "source": [
    "### 2.03 Instructor Do: Color Counter (10 min)"
   ]
  },
  {
   "cell_type": "markdown",
   "metadata": {},
   "source": [
    "![](../Images/03-ColorCounter.png)\n"
   ]
  },
  {
   "cell_type": "code",
   "execution_count": null,
   "metadata": {},
   "outputs": [],
   "source": []
  },
  {
   "cell_type": "markdown",
   "metadata": {},
   "source": [
    "# =========================================="
   ]
  },
  {
   "cell_type": "markdown",
   "metadata": {},
   "source": [
    "### 2.04 Students Do: Grade Book (15 min)"
   ]
  },
  {
   "cell_type": "markdown",
   "metadata": {},
   "source": [
    "![](../Images/GradeBook_Solved.png)"
   ]
  },
  {
   "cell_type": "markdown",
   "metadata": {},
   "source": [
    "![](../Images/04-GradeBook_1.png)\n",
    "\n",
    "![](../Images/04-GradeBook_2.png)\n",
    "\n",
    "![](../Images/04-GradeBook_3.png)\n"
   ]
  },
  {
   "cell_type": "markdown",
   "metadata": {},
   "source": [
    "# =========================================="
   ]
  },
  {
   "cell_type": "markdown",
   "metadata": {},
   "source": [
    "### 2.05 Instructor Do: Measures of Central Tendency (10 min)"
   ]
  },
  {
   "cell_type": "markdown",
   "metadata": {},
   "source": [
    "![](../Images/05-MeanExample.png)\n",
    "\n",
    "![](../Images/05-MedianExample.png)\n",
    "\n",
    "![](../Images/05-SingeModeExample.png)\n",
    "\n",
    "![](../Images/05-MultiModeExample.png)\n",
    "\n",
    "![](../Images/05-ProductSales.png)\n",
    "\n"
   ]
  },
  {
   "cell_type": "code",
   "execution_count": null,
   "metadata": {},
   "outputs": [],
   "source": []
  },
  {
   "cell_type": "markdown",
   "metadata": {},
   "source": [
    "# =========================================="
   ]
  },
  {
   "cell_type": "markdown",
   "metadata": {},
   "source": [
    "### 2.06 Everyone Do: Measuring the Measures (15 min)"
   ]
  },
  {
   "cell_type": "markdown",
   "metadata": {},
   "source": [
    "![](../Images/06-MeasuringExample1.png)\n",
    "\n",
    "![](../Images/06-MeasuringExample1Solved.png)\n",
    "\n",
    "![](../Images/06-MeasuringExample2.png)\n",
    "\n",
    "![](../Images/06-MeasuringExample3.png)\n",
    "\n",
    "![](../Images/06-MeasuringExample4.png)\n"
   ]
  },
  {
   "cell_type": "markdown",
   "metadata": {},
   "source": [
    "# =========================================="
   ]
  },
  {
   "cell_type": "markdown",
   "metadata": {},
   "source": [
    "### BREAK (0:10)"
   ]
  },
  {
   "cell_type": "markdown",
   "metadata": {},
   "source": [
    "# =========================================="
   ]
  },
  {
   "cell_type": "markdown",
   "metadata": {},
   "source": [
    "### 2.07 Instructor Do: Formatting (10 min)"
   ]
  },
  {
   "cell_type": "markdown",
   "metadata": {},
   "source": [
    "![](../Images/NumberFormats.png)\n",
    "\n",
    "![](../Images/06-Formatting.png)\n"
   ]
  },
  {
   "cell_type": "markdown",
   "metadata": {},
   "source": [
    "# =========================================="
   ]
  },
  {
   "cell_type": "markdown",
   "metadata": {},
   "source": [
    "### 2.08 Instructor Do: Pivot Tables (10 min)"
   ]
  },
  {
   "cell_type": "markdown",
   "metadata": {},
   "source": [
    "![](../Images/MultiRows.png)\n",
    "\n",
    "![](../Images/ValueSettings.png)\n",
    "\n",
    "![](../Images/07-PivotTables.png)\n"
   ]
  },
  {
   "cell_type": "markdown",
   "metadata": {},
   "source": [
    "# =========================================="
   ]
  },
  {
   "cell_type": "markdown",
   "metadata": {},
   "source": [
    "### 2.09 Students Do: Top-Songs Pivot Table (15 min)"
   ]
  },
  {
   "cell_type": "markdown",
   "metadata": {},
   "source": [
    "![](../Images/08-TopPivot.png)\n",
    "\n",
    "![](../Images/Top5000SongsPivot.png)\n"
   ]
  },
  {
   "cell_type": "markdown",
   "metadata": {},
   "source": [
    "# =========================================="
   ]
  },
  {
   "cell_type": "markdown",
   "metadata": {},
   "source": [
    "### 2.10 Instructor Do: Lookups (10 min)"
   ]
  },
  {
   "cell_type": "markdown",
   "metadata": {},
   "source": [
    "![](../Images/09-VLookups_1.png)"
   ]
  },
  {
   "cell_type": "markdown",
   "metadata": {},
   "source": [
    "# =========================================="
   ]
  },
  {
   "cell_type": "markdown",
   "metadata": {},
   "source": [
    "### 2.11 Partners Do: Product Pivot (15 min)"
   ]
  },
  {
   "cell_type": "markdown",
   "metadata": {},
   "source": [
    "![](../Images/10-ProductLookups_1.png)\n",
    "\n",
    "![](../Images/10-ProductLookups_2.png)\n",
    "\n",
    "![](../Images/ProductionPivot_Shipping.png)\n",
    "\n",
    "![](../Images/10-ProductLookups_3.png)\n"
   ]
  },
  {
   "cell_type": "markdown",
   "metadata": {},
   "source": [
    "# =========================================="
   ]
  },
  {
   "cell_type": "markdown",
   "metadata": {},
   "source": [
    "### Rating Class Objectives\n",
    "\n",
    "* rate your understanding using 1-5 method in each objective"
   ]
  },
  {
   "cell_type": "code",
   "execution_count": null,
   "metadata": {},
   "outputs": [],
   "source": [
    "title = \"01.2-Excel-Data Fundamentals in Excel\"\n",
    "objectives = [\n",
    "    \"Demonstrate basic Excel navigation and functionality\",\n",
    "    \"Explain the value and use of pivot tables\",\n",
    "    \"Use VLOOKUPs and HLOOKUPs\",\n",
    "    \"Implement conditional formatting based on logical rules\",\n",
    "]\n",
    "rating = []\n",
    "total = 0\n",
    "for i in range(len(objectives)):\n",
    "    rate = input(objectives[i]+\"? \")\n",
    "    total += int(rate)\n",
    "    rating.append(objectives[i] + \". (\" + rate + \"/5)\")\n",
    "print(\"=\"*96)\n",
    "print(f\"Self Evaluation for: {title}\")\n",
    "print(\"-\"*24)\n",
    "for i in rating:\n",
    "    print(i)\n",
    "print(\"-\"*64)\n",
    "print(\"Average: \" + str(total/len(objectives)))"
   ]
  }
 ],
 "metadata": {
  "kernelspec": {
   "display_name": "Python 3 (ipykernel)",
   "language": "python",
   "name": "python3"
  },
  "language_info": {
   "codemirror_mode": {
    "name": "ipython",
    "version": 3
   },
   "file_extension": ".py",
   "mimetype": "text/x-python",
   "name": "python",
   "nbconvert_exporter": "python",
   "pygments_lexer": "ipython3",
   "version": "3.9.13"
  }
 },
 "nbformat": 4,
 "nbformat_minor": 4
}

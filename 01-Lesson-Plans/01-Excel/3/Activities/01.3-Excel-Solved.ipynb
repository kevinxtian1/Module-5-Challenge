{
 "cells": [
  {
   "cell_type": "markdown",
   "metadata": {},
   "source": [
    "@channel **Hi Everyone,**\n",
    "\n",
    "**2023-08-31 `01.3-Excel-Charting a New Course with Excel`**\n",
    "\n",
    "We are on our way!  With the 2nd Day of Excel behind us, you can see that the pace of the bootcamp will be brisk. These resources posts are simply additional articles, tutorials and videos you can look at prior to the next class. While much (if not all of the material) in these resources will be covered in class, these are NOT mandatory. With that, past students have indicated that these are very helpful.\n",
    "\n",
    "Next class, we are going to begin doing visualizations in Excel.  While this may be familiar to many of you, it is an important step to understand the basic charts that will be the foundation for visualizations to come.\n",
    "\n",
    "At the beginning of class we are going to have a brief talk on Git.\n",
    "\n",
    "**Objectives**\n",
    "\n",
    "* Create, modify, and stylize basic charts from start to finish in Microsoft Excel.\n",
    "* Create scatter plots and trend lines.\n",
    "* Create charts that contain filtered data.\n",
    "* Create regressions and calculate moving averages in Excel.\n",
    "\n",
    "**Presentation**\n",
    "* [01.3-Excel-Charting a New Course with Excel](https://git.bootcampcontent.com/University-of-California---Berkeley/UCB-VIRT-DATA-PT-08-2023-U-LOLC/-/blob/main/Slides/Data-01.3-Excel_Plotting.pdf)\n",
    "\n",
    "**Resources**\n",
    "* [Git Tutorial](https://guides.github.com/activities/hello-world/)\n",
    "* [Nice Excel Charting Tutorial](https://www.excel-easy.com/data-analysis/charts.html)\n",
    "* [Types of Charts with Explanations](http://www.intellspot.com/types-graphs-charts/)\n",
    "    * [How to Choose the Best Types of Charts For Your Data](https://venngage.com/blog/how-to-choose-the-best-charts-for-your-infographic/)\n",
    "    * [The Extreme Presentation(tm) Method](https://extremepresentation.typepad.com/blog/2006/09/choosing_a_good.html)\n",
    "* [Light Statistics discussion about Variability](https://statisticsbyjim.com/basics/variability-range-interquartile-variance-standard-deviation/)\n",
    "* [Statistics How To](https://www.statisticshowto.com/empirical-rule-2/)\n",
    "* [There is a nice free book about how to use git](https://www.amazon.com/Pro-Git-Scott-Chacon-ebook/dp/B01ISNIKES/ref=sr_1_1?dchild=1&keywords=pro+git&qid=1602350193&s=digital-text&sr=1-1)\n",
    "\n",
    "\n",
    "**Best wishes.**"
   ]
  },
  {
   "cell_type": "markdown",
   "metadata": {},
   "source": [
    "# =========================================="
   ]
  },
  {
   "cell_type": "markdown",
   "metadata": {},
   "source": [
    "### 3.01 Everyone Do: Adding files to GitHub (10 min)"
   ]
  },
  {
   "cell_type": "markdown",
   "metadata": {},
   "source": [
    "![](../Images/GitDemo_1.png)\n",
    "\n",
    "![](../Images/Git_ignore_1.png)\n",
    "\n",
    "![](../Images/Git_ignore_2.png)\n",
    "\n",
    "![](../Images/Git_ignore_3.png)\n",
    "\n",
    "![](../Images/Git_ignore_4.png)\n",
    "\n",
    "![](../Images/GitDemo_upload.png)\n",
    "\n",
    "![](../Images/GitDemo_filedrag.gif)\n",
    "\n"
   ]
  },
  {
   "cell_type": "code",
   "execution_count": null,
   "metadata": {},
   "outputs": [],
   "source": []
  },
  {
   "cell_type": "markdown",
   "metadata": {},
   "source": [
    "# =========================================="
   ]
  },
  {
   "cell_type": "markdown",
   "metadata": {},
   "source": [
    "### 3.02 Instructor Do: Basic Charting (15 min)"
   ]
  },
  {
   "cell_type": "markdown",
   "metadata": {},
   "source": [
    "![](..//Images/PC_chart_options.png)\n",
    "\n",
    "![](..//Images/PC_AddElements.png)\n",
    "\n",
    "![](..//Images/PC_ChartColors.png)\n",
    "\n",
    "![](..//Images/MAC_axis.png)\n",
    "\n",
    "![](..//Images/Mac_colors.png)\n",
    "\n",
    "![](..//Images/mac_legend.png)\n",
    "\n",
    "![](..//Images/PC_LineGraph.png)\n",
    "\n",
    "![](..//Images/mac-line-chart-filter.gif)\n",
    "\n"
   ]
  },
  {
   "cell_type": "markdown",
   "metadata": {},
   "source": [
    "# =========================================="
   ]
  },
  {
   "cell_type": "markdown",
   "metadata": {},
   "source": [
    "### 3.03 Students Do: The Line and Bar Grades (10 min)"
   ]
  },
  {
   "cell_type": "markdown",
   "metadata": {},
   "source": []
  },
  {
   "cell_type": "code",
   "execution_count": null,
   "metadata": {},
   "outputs": [],
   "source": []
  },
  {
   "cell_type": "markdown",
   "metadata": {},
   "source": [
    "# =========================================="
   ]
  },
  {
   "cell_type": "markdown",
   "metadata": {},
   "source": [
    "### 3.04 Instructor Do: Scatter Plots and Trend Lines (10 min)"
   ]
  },
  {
   "cell_type": "markdown",
   "metadata": {},
   "source": [
    "![](../Images/PC_TrendLine.png)\n",
    "\n",
    "![](../Images/mac_trendline.png)\n",
    "\n",
    "![](../Images/PC_FormatTrend.PNG)\n",
    "\n",
    "![](../Images/mac_power.png)\n",
    "\n",
    "![](../Images/mac_axis_options.png)\n",
    "\n"
   ]
  },
  {
   "cell_type": "code",
   "execution_count": null,
   "metadata": {},
   "outputs": [],
   "source": []
  },
  {
   "cell_type": "markdown",
   "metadata": {},
   "source": [
    "# =========================================="
   ]
  },
  {
   "cell_type": "markdown",
   "metadata": {},
   "source": [
    "### 3.05 Partners Do: St. Louis, MO Home Sales (10 min)"
   ]
  },
  {
   "cell_type": "markdown",
   "metadata": {},
   "source": []
  },
  {
   "cell_type": "code",
   "execution_count": null,
   "metadata": {},
   "outputs": [],
   "source": []
  },
  {
   "cell_type": "markdown",
   "metadata": {},
   "source": [
    "# =========================================="
   ]
  },
  {
   "cell_type": "markdown",
   "metadata": {},
   "source": [
    "### 3.06 Everyone Do: The Need to Filter (10 min)"
   ]
  },
  {
   "cell_type": "markdown",
   "metadata": {},
   "source": [
    "![](../Images/PC_PivotChart.png)\n",
    "\n",
    "![](../Images/mac_pivot.png)\n",
    "\n"
   ]
  },
  {
   "cell_type": "code",
   "execution_count": null,
   "metadata": {},
   "outputs": [],
   "source": []
  },
  {
   "cell_type": "markdown",
   "metadata": {},
   "source": [
    "# =========================================="
   ]
  },
  {
   "cell_type": "markdown",
   "metadata": {},
   "source": [
    "### 3.07 Partners Do: Filter Home Sales (15 min)"
   ]
  },
  {
   "cell_type": "markdown",
   "metadata": {},
   "source": []
  },
  {
   "cell_type": "code",
   "execution_count": null,
   "metadata": {},
   "outputs": [],
   "source": []
  },
  {
   "cell_type": "markdown",
   "metadata": {},
   "source": [
    "# =========================================="
   ]
  },
  {
   "cell_type": "markdown",
   "metadata": {},
   "source": [
    "### BREAK (0:10)"
   ]
  },
  {
   "cell_type": "markdown",
   "metadata": {},
   "source": [
    "# =========================================="
   ]
  },
  {
   "cell_type": "markdown",
   "metadata": {},
   "source": [
    "### 3.08 Instructor Do: Variance, Standard Deviation, and Z-Score (20 min)"
   ]
  },
  {
   "cell_type": "markdown",
   "metadata": {},
   "source": [
    "![](../Images/VarianceEquation.png)\n",
    "\n",
    "![](../Images/13-VarianceExample.png)\n",
    "\n",
    "![](../Images/13-SDExample.png)\n",
    "\n",
    "![](../Images/13-Normal68.png)\n",
    "\n",
    "![](../Images/ZScoreEquation.png)\n",
    "\n",
    "![](../Images/13-ZScoreExample.png)\n",
    "\n"
   ]
  },
  {
   "cell_type": "markdown",
   "metadata": {},
   "source": [
    "# =========================================="
   ]
  },
  {
   "cell_type": "markdown",
   "metadata": {},
   "source": [
    "### 3.09 Students Do: Variance, Standard Deviation, and Z-Score Review (10 min)"
   ]
  },
  {
   "cell_type": "markdown",
   "metadata": {},
   "source": [
    "![](../Images/16-SummaryTable.png)\n",
    "\n",
    "![](../Images/16-CalculateAverage.gif)\n",
    "\n",
    "![](../Images/16-ZScoreTable.png)\n"
   ]
  },
  {
   "cell_type": "markdown",
   "metadata": {},
   "source": [
    "# =========================================="
   ]
  },
  {
   "cell_type": "markdown",
   "metadata": {},
   "source": [
    "### 3.10 Instructor Do: Quantiles, Outliers, and Box Plots (15 min)"
   ]
  },
  {
   "cell_type": "markdown",
   "metadata": {},
   "source": [
    "![](../Images/10-QuartileExample1.png)\n",
    "\n",
    "![](../Images/10-QuartileExample2.png)\n",
    "\n",
    "![](../Images/10-QuartileExample3.png)\n",
    "\n",
    "![](../Images/10-QuartileExample4.png)\n",
    "\n"
   ]
  },
  {
   "cell_type": "code",
   "execution_count": null,
   "metadata": {},
   "outputs": [],
   "source": []
  },
  {
   "cell_type": "markdown",
   "metadata": {},
   "source": [
    "# =========================================="
   ]
  },
  {
   "cell_type": "markdown",
   "metadata": {},
   "source": [
    "### 3.11 Students Do: Cereal Outliers (10 min)"
   ]
  },
  {
   "cell_type": "markdown",
   "metadata": {},
   "source": [
    "![](../Images/12-OutlierReview1.png)\n"
   ]
  },
  {
   "cell_type": "code",
   "execution_count": null,
   "metadata": {},
   "outputs": [],
   "source": []
  },
  {
   "cell_type": "markdown",
   "metadata": {},
   "source": [
    "# =========================================="
   ]
  },
  {
   "cell_type": "markdown",
   "metadata": {},
   "source": [
    "### Rating Class Objectives\n",
    "\n",
    "* rate your understanding using 1-5 method in each objective"
   ]
  },
  {
   "cell_type": "code",
   "execution_count": null,
   "metadata": {},
   "outputs": [],
   "source": [
    "title = \"01.3-Excel-Charting a New Course with Excel\"\n",
    "objectives = [\n",
    "    \"Create, modify, and stylize basic charts from start to finish in Microsoft Excel\",\n",
    "    \"Create scatter plots and trend lines\",\n",
    "    \"Create charts that contain filtered data\",\n",
    "    \"Create regressions and calculate moving averages in Excel\",\n",
    "]\n",
    "rating = []\n",
    "total = 0\n",
    "for i in range(len(objectives)):\n",
    "    rate = input(objectives[i]+\"? \")\n",
    "    total += int(rate)\n",
    "    rating.append(objectives[i] + \". (\" + rate + \"/5)\")\n",
    "print(\"=\"*96)\n",
    "print(f\"Self Evaluation for: {title}\")\n",
    "print(\"-\"*24)\n",
    "for i in rating:\n",
    "    print(i)\n",
    "print(\"-\"*64)\n",
    "print(\"Average: \" + str(total/len(objectives)))"
   ]
  }
 ],
 "metadata": {
  "kernelspec": {
   "display_name": "Python 3 (ipykernel)",
   "language": "python",
   "name": "python3"
  },
  "language_info": {
   "codemirror_mode": {
    "name": "ipython",
    "version": 3
   },
   "file_extension": ".py",
   "mimetype": "text/x-python",
   "name": "python",
   "nbconvert_exporter": "python",
   "pygments_lexer": "ipython3",
   "version": "3.9.13"
  }
 },
 "nbformat": 4,
 "nbformat_minor": 4
}

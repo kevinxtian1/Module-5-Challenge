{
 "cells": [
  {
   "cell_type": "markdown",
   "metadata": {},
   "source": [
    "@channel **Hi Everyone,**\n",
    "\n",
    "**2023-09-12 `03.1-Python-Introduction to Python`**\n",
    "\n",
    "**This week we will be introducing the Python programming language. The purpose of this unit is to gain a firm understanding on how to use the core Python language to store and manipulate data; read and write to files; and “translate” logical solutions to problems to Python implementations of those solutions.**\n",
    "\n",
    "This unit will start out with core features of Python, such as variable declarations, and move on to discuss more advanced and idiomatic features of the language. Topics will include reading and writing files, working with the file system, iteration using for loops, iteration using list comprehension, list methods, the notion of dictionaries and methods on them, and additional miscellany where required to facilitate completion of the homework assignment.\n",
    "Make sure that you have all of your required course tools installed.\n",
    "\n",
    "The code you will write in Python will eventually be seen by someone else. Focusing on organization and readability is important because you want colleagues to be able to read your code. If your code is poorly organized it will be difficult to read later on.\n",
    "\n",
    "**Objectives**\n",
    "\n",
    "* Perform their Python 3 installation.\n",
    "* Navigate through files and folders via the terminal.\n",
    "* Create Python scripts and run them in the terminal.\n",
    "* Understand basic programming concepts in Python.\n",
    "\n",
    "**Presentation**\n",
    "* [03.1-Python-Introduction to Python](https://git.bootcampcontent.com/University-of-California---Berkeley/UCB-VIRT-DATA-PT-08-2023-U-LOLC/-/blob/main/Slides/Data-03.1-Introduction_to_Python.pdf)\n",
    "\n",
    "**Resources**\n",
    "* [Python - Beginner](https://www.learnpython.org/)\n",
    "* [Python - Scripting](https://automatetheboringstuff.com/)\n",
    "* [Python f-strings](https://www.python.org/dev/peps/pep-0498/)\n",
    "* [Python Data Structures](https://docs.python.org/3/tutorial/datastructures.html)\n",
    "* [Python CSV Module](https://docs.python.org/3/library/csv.html)\n",
    "* [Git and GitHub in Plain English](https://blog.red-badger.com/2016/11/29/gitgithub-in-plain-english)\n",
    "* [Git/GitHub](https://github.com/Multishifties/No-Nonsense-Github-Project)\n",
    "* [Visual Git Guide](http://marklodato.github.io/visual-git-guide/index-en.html)\n",
    "* [Python 3's f-Strings](https://realpython.com/python-f-strings/)\n",
    "\n",
    "**Install**\n",
    "* [Running Visual Studio Code on macOS Terminal](https://code.visualstudio.com/docs/setup/mac)\n",
    "* [Anaconda Distribution](https://www.anaconda.com/download)\n",
    "\n",
    "**Best wishes.**"
   ]
  },
  {
   "cell_type": "markdown",
   "metadata": {},
   "source": [
    "# =========================================="
   ]
  },
  {
   "cell_type": "markdown",
   "metadata": {},
   "source": [
    "### 1.01 Instructor Do: Terminal (10 min)"
   ]
  },
  {
   "cell_type": "markdown",
   "metadata": {},
   "source": [
    "`pwd` will shows the current directory\n",
    "\n",
    "`cd Desktop` will change to the desktop directory\n",
    "\n",
    "`mkdir <folder_name>` will make a new directory/folder on the desktop.\n",
    "\n",
    "`cd <folder_name>` will move to the newly created folder\n",
    "\n",
    "`open .` on a Mac will open the current folder\n",
    "\n",
    "`explorer .` on a Windows will open the current folder\n",
    "\n",
    "`code .` will opens the current directory in VS Code\n",
    "\n",
    "`touch <file_name.py>` will create a Python file\n",
    "\n",
    "`ls` will show what is in the current directory\n",
    "\n",
    "`cd ..` will move us up a directory back to Desktop\n"
   ]
  },
  {
   "cell_type": "markdown",
   "metadata": {},
   "source": [
    "# =========================================="
   ]
  },
  {
   "cell_type": "markdown",
   "metadata": {},
   "source": [
    "### 1.02 Students Do: Terminal (10 min)"
   ]
  },
  {
   "cell_type": "markdown",
   "metadata": {},
   "source": [
    "# Terminal\n",
    "\n",
    "Now, it's your turn to do some work in the terminal. You'll create three folders and a pair of Python files to print strings of your own creation to the console.\n",
    "\n",
    "## Instructions\n",
    "\n",
    "Use the following instructions to write commands in your terminal:\n",
    "\n",
    "* Create a folder called `LearnPython`.\n",
    "\n",
    "* Navigate into the folder.\n",
    "\n",
    "* Inside `LearnPython`, create another folder called `Assignment1`.\n",
    "\n",
    "* Inside `Assignment1`, create a file called `quick_python.py`.\n",
    "\n",
    "* Add a print statement to `quick_python.py`.\n",
    "\n",
    "* Run `quick_python.py`.\n",
    "\n",
    "* Return to the `LearnPython` folder.\n",
    "\n",
    "* Inside `LearnPython`, create another folder called `Assignment2`.\n",
    "\n",
    "* Inside `Assignment2`, create a file called `quick_python2.py`.\n",
    "\n",
    "* Add a different print statement to `quick_python2.py`.\n",
    "\n",
    "* Run `quick_python2.py`.\n",
    "\n",
    "---"
   ]
  },
  {
   "cell_type": "markdown",
   "metadata": {},
   "source": [
    "```\n",
    "# Follow the below instructions in your terminal and write the commands below.\n",
    "\n",
    "# Create a folder called LearnPython\n",
    "mkdir LearnPython\n",
    "\n",
    "# Navigate into the folder\n",
    "cd LearnPython\n",
    "\n",
    "# Inside LearnPython create another folder called Assignment1\n",
    "mkdir Assignment1\n",
    "\n",
    "# Inside Assignment1 create a file called quick_python.py\n",
    "touch quick_python.py\n",
    "\n",
    "# Add a print statement to quick_python.py\n",
    "# add print(\"This file works!\") in a python file\n",
    "\n",
    "# Run quick_python.py\n",
    "python quick_python.py\n",
    "\n",
    "# Return to the LearnPython folder\n",
    "cd ..\n",
    "\n",
    "# Inside LearnPython create another folder called Assignment2\n",
    "mkdir Assignment2\n",
    "\n",
    "# Inside Assignment2 create a file called quick_python2.py\n",
    "touch quick_python2.py\n",
    "\n",
    "# Add a different print statement to quick_python2.py\n",
    "# add print(\"This file also works!\") in a python file\n",
    "\n",
    "# Run quick_python2.py\n",
    "python quick_python2.py\n",
    "\n",
    "```"
   ]
  },
  {
   "cell_type": "markdown",
   "metadata": {},
   "source": [
    "# =========================================="
   ]
  },
  {
   "cell_type": "markdown",
   "metadata": {},
   "source": [
    "### 1.03 Instructor Do: Variables (5 min)"
   ]
  },
  {
   "cell_type": "markdown",
   "metadata": {},
   "source": [
    "```python\n",
    "# Creates a variable with a string \"Frankfurter\"\n",
    "title = \"Frankfurter\"\n",
    "\n",
    "# Creates a variable with an integer 80\n",
    "years = 80\n",
    "\n",
    "# Creates a variable with the boolean value of True\n",
    "expert_status = True\n",
    "\n",
    "# Prints a statement adding the variable\n",
    "print(\"Nick is a professional \" + title)\n",
    "\n",
    "# Convert the integer years into a string and prints\n",
    "print(\"He has been coding for \" + str(years) + \" years\")\n",
    "\n",
    "# Converts a boolean into a string and prints\n",
    "print(\"Expert status: \" + str(expert_status))\n",
    "\n",
    "# An f-string accepts all data types without conversion\n",
    "print(f\"Expert status: {expert_status}\")\n",
    "\n",
    "\n",
    "```"
   ]
  },
  {
   "cell_type": "markdown",
   "metadata": {},
   "source": [
    "# =========================================="
   ]
  },
  {
   "cell_type": "markdown",
   "metadata": {},
   "source": [
    "### 1.04 Students Do: Hello, Variable World! (10 min)"
   ]
  },
  {
   "cell_type": "markdown",
   "metadata": {},
   "source": [
    "# Hello, Variable World\n",
    "\n",
    "In this activity, you will create a simple Python application that uses variables to run calculations on integers and print strings out to the console.\n",
    "\n",
    "## Instructions\n",
    "\n",
    "* Create two variables, called `name` and `country`, that will hold strings.\n",
    "\n",
    "* Create two variables, called `age` and `hourly_wage`, that will hold integers.\n",
    "\n",
    "* Create a variable called `satisfied`, which will hold a Boolean.\n",
    "\n",
    "* Create a variable called `daily_wage`, which will hold the value of `hourly_wage` multiplied by 8.\n",
    "\n",
    "* Use traditional string concatenation to print the `name`, `country`, `age`, and `hourly_wage` variables.\n",
    "\n",
    "* With an `f-string`, print the `daily_wage` and `satisfied` variables.\n",
    "\n",
    "## Hint\n",
    "\n",
    "For additional help with f-strings, visit [Python 3's f-Strings](https://realpython.com/python-f-strings/).\n",
    "\n",
    "---"
   ]
  },
  {
   "cell_type": "markdown",
   "metadata": {},
   "source": [
    "```python\n",
    "# Create a variable called 'name' that holds a string\n",
    "name = \"Jacob Deming\"\n",
    "\n",
    "# Create a variable called 'country' that holds a string\n",
    "country = \"United States\"\n",
    "\n",
    "# Create a variable called 'age' that holds an integer\n",
    "age = 25\n",
    "\n",
    "# Create a variable called 'hourly_wage' that holds an integer\n",
    "hourly_wage = 15\n",
    "\n",
    "# Calculate the daily wage for the user\n",
    "daily_wage = hourly_wage * 8\n",
    "\n",
    "# Create a variable called 'satisfied' that holds a boolean\n",
    "satisfied = True\n",
    "\n",
    "# Print out \"Hello <name>!\"\n",
    "print(\"Hello \" + name + \"!\")\n",
    "\n",
    "# Print out what country the user entered\n",
    "print(\"You live in \" + country)\n",
    "\n",
    "# Print out the user's age\n",
    "print(\"You are \" + str(age) + \" years old\")\n",
    "\n",
    "# With an f-string, print out the daily wage that was calculated\n",
    "print(f\"You make {daily_wage} per day\")\n",
    "\n",
    "# With an f-string, print out whether the users were satisfied\n",
    "print(f\"Are you satisfied with your current wage? {satisfied}\")\n",
    "\n",
    "```"
   ]
  },
  {
   "cell_type": "markdown",
   "metadata": {},
   "source": [
    "# =========================================="
   ]
  },
  {
   "cell_type": "markdown",
   "metadata": {},
   "source": [
    "### 1.05 Instructor Do: Inputs and Prompts (5 min)"
   ]
  },
  {
   "cell_type": "markdown",
   "metadata": {
    "tags": []
   },
   "source": [
    "```python\n",
    "# Collects the user's input for the prompt \"What is your name?\"\n",
    "name = input(\"What is your name? \")\n",
    "\n",
    "# Collects the user's input for the prompt \"How old are you?\" and converts the string to an integer.\n",
    "age = int(input(\"How old are you? \"))\n",
    "\n",
    "# Collects the user's input for the prompt \"Is input truthy?\" and converts it to a boolean. Note that non-zero,\n",
    "#   non-empty objects are truth-y.\n",
    "trueOrFalse = bool(input(\"Is the input truthy? \"))\n",
    "\n",
    "# Creates three print statements that to respond with the output.\n",
    "print(\"My name is \" + str(name))\n",
    "print(\"I will be \" + str(age + 1) + \" next year.\")\n",
    "print(\"The input was converted to \" + str(trueOrFalse))\n",
    "\n",
    "```"
   ]
  },
  {
   "cell_type": "markdown",
   "metadata": {},
   "source": [
    "```python\n",
    "# Create a Python list to store your grocery list\n",
    "grocery_list = [\"Milk\", \"Bread\", \"Eggs\", \"Peanut Butter\", \"Jelly\"]\n",
    "\n",
    "# Print the grocery list\n",
    "print(grocery_list)\n",
    "\n",
    "# Change \"Peanut Butter\" to \"Almond Butter\" and print out the updated list\n",
    "grocery_list[3] = \"Almond Butter\"\n",
    "print(grocery_list)\n",
    "\n",
    "# Remove \"Jelly\" from grocery list and print out the updated list\n",
    "grocery_list.remove(\"Jelly\")\n",
    "print(grocery_list)\n",
    "\n",
    "# Add \"Coffee\" to grocery list and print the updated list\n",
    "grocery_list.append(\"Coffee\")\n",
    "print(grocery_list)\n",
    "```"
   ]
  },
  {
   "cell_type": "code",
   "execution_count": null,
   "metadata": {},
   "outputs": [],
   "source": []
  },
  {
   "cell_type": "markdown",
   "metadata": {},
   "source": [
    "# =========================================="
   ]
  },
  {
   "cell_type": "markdown",
   "metadata": {},
   "source": [
    "### 1.06 Students Do: Down to Input (10 min)"
   ]
  },
  {
   "cell_type": "markdown",
   "metadata": {},
   "source": [
    "# Down to Input\n",
    "\n",
    "In this activity, you store inputs from the command line and run code based on those inputs.\n",
    "\n",
    "## Instructions\n",
    "\n",
    "* Create two different variables, one to take the input of your first name and one for your neighbor’s first name.\n",
    "\n",
    "* Create two more inputs to ask how many months you and your neighbor have been coding.\n",
    "\n",
    "* Finally, display a result with both your names and the total amount of months coding.\n",
    "\n",
    "---"
   ]
  },
  {
   "cell_type": "markdown",
   "metadata": {},
   "source": [
    "```python\n",
    "# Take input of you and your neighbor\n",
    "your_first_name = input(\"What is your name? \")\n",
    "neighbor_first_name = input(\"What is your neighbor's name? \")\n",
    "\n",
    "# Take how long each of you have been coding\n",
    "months_you_coded = input(\"How many months have you been coding? \")\n",
    "months_neighbor_coded = input(\"How many months has your neighbor been coding? \")\n",
    "\n",
    "# Add total month\n",
    "total_months_coded = int(months_you_coded) + int(months_neighbor_coded)\n",
    "\n",
    "# Print results\n",
    "print(\"I am \" + your_first_name + \" and my neighbor is \" + neighbor_first_name)\n",
    "print(\"Together we have been coding for \" + str(total_months_coded) + \" months!\")\n",
    "\n",
    "```"
   ]
  },
  {
   "cell_type": "markdown",
   "metadata": {},
   "source": [
    "# =========================================="
   ]
  },
  {
   "cell_type": "markdown",
   "metadata": {},
   "source": [
    "### 1.07 Instructor Do: Conditionals (5 min)"
   ]
  },
  {
   "cell_type": "markdown",
   "metadata": {},
   "source": [
    "```python\n",
    "x = 1\n",
    "y = 10\n",
    "\n",
    "# Checks if one value is equal to another\n",
    "if x == 1:\n",
    "    print(\"x is equal to 1\")\n",
    "\n",
    "# Checks if one value is NOT equal to another\n",
    "if y != 1:\n",
    "    print(\"y is not equal to 1\")\n",
    "\n",
    "# Checks if one value is less than another\n",
    "if x < y:\n",
    "    print(\"x is less than y\")\n",
    "\n",
    "# Checks if one value is greater than another\n",
    "if y > x:\n",
    "    print(\"y is greater than x\")\n",
    "\n",
    "# Checks if a value is greater than or equal to another\n",
    "if x >= 1:\n",
    "    print(\"x is greater than or equal to 1\")\n",
    "\n",
    "# Checks for two conditions to be met using \"and\"\n",
    "if x == 1 and y == 10:\n",
    "    print(\"Both values returned true\")\n",
    "\n",
    "# Checks if either of two conditions is met\n",
    "if x < 45 or y < 5:\n",
    "    print(\"One or more of the statements were true\")\n",
    "\n",
    "# Nested if statements\n",
    "if x < 10:\n",
    "    if y < 5:\n",
    "        print(\"x is less than 10 and y is less than 5\")\n",
    "    elif y == 5:\n",
    "        print(\"x is less than 10 and y is equal to 5\")\n",
    "    else:\n",
    "        print(\"x is less than 10 and y is greater than 5\")\n",
    "```"
   ]
  },
  {
   "cell_type": "markdown",
   "metadata": {},
   "source": [
    "# =========================================="
   ]
  },
  {
   "cell_type": "markdown",
   "metadata": {},
   "source": [
    "### 1.08 Students Do: Conditional Conundrum (10 min)"
   ]
  },
  {
   "cell_type": "markdown",
   "metadata": {},
   "source": [
    "# Conditionals Conundrum\n",
    "\n",
    "In this activity, you’ll review prewritten conditionals and predict the lines that will be printed to the console.\n",
    "\n",
    "## Instructions\n",
    "\n",
    "* Go through the conditionals in the provided code, and predict the lines that will be printed to the console.\n",
    "\n",
    "* Do not run the code at first. Try to follow the thought process for each chunk of code and then make a guess. Only after coming up with a guess for each section should you run the application.\n",
    "\n",
    "---"
   ]
  },
  {
   "cell_type": "markdown",
   "metadata": {},
   "source": [
    "```python\n",
    "# 1. oooo needs some work\n",
    "x = 5\n",
    "if 2 * x > 10:\n",
    "    print(\"Question 1 works!\")\n",
    "else:\n",
    "    print(\"oooo needs some work\")\n",
    "\n",
    "# 2. Question 2 works!\n",
    "x = 5\n",
    "if len(\"Dog\") < x:\n",
    "    print(\"Question 2 works!\")\n",
    "else:\n",
    "    print(\"Still missing out\")\n",
    "\n",
    "# 3. GOT QUESTION 3!\n",
    "x = 2\n",
    "y = 5\n",
    "if (x ** 3 >= y) and (y ** 2 < 26):\n",
    "    print(\"GOT QUESTION 3!\")\n",
    "else:\n",
    "    print(\"Oh good you can count\")\n",
    "\n",
    "# 4. Dan is in group three\n",
    "name = \"Dan\"\n",
    "group_one = [\"Greg\", \"Tony\", \"Susan\"]\n",
    "group_two = [\"Gerald\", \"Paul\", \"Ryder\"]\n",
    "group_three = [\"Carla\", \"Dan\", \"Jefferson\"]\n",
    "\n",
    "if name in group_one:\n",
    "    print(name + \" is in the first group\")\n",
    "elif name in group_two:\n",
    "    print(name + \" is in group two\")\n",
    "elif name in group_three:\n",
    "    print(name + \" is in group three\")\n",
    "else:\n",
    "    print(name + \" does not have a group\")\n",
    "\n",
    "# 5. Can ride bumper cars\n",
    "height = 66\n",
    "age = 16\n",
    "adult_permission = True\n",
    "\n",
    "if (height > 70) and (age >= 18):\n",
    "    print(\"Can ride all the roller coasters\")\n",
    "elif (height > 65) and (age >= 18):\n",
    "    print(\"Can ride moderate roller coasters\")\n",
    "elif (height > 60) and (age >= 18):\n",
    "    print(\"Can ride light roller coasters\")\n",
    "elif ((height > 50) and (age >= 18)) or ((adult_permission) and (height > 50)):\n",
    "    print(\"Can ride bumper cars\")\n",
    "else:\n",
    "    print(\"Stick to lazy river\")\n",
    "\n",
    "```"
   ]
  },
  {
   "cell_type": "markdown",
   "metadata": {},
   "source": [
    "# =========================================="
   ]
  },
  {
   "cell_type": "markdown",
   "metadata": {},
   "source": [
    "## Break (10 min)"
   ]
  },
  {
   "cell_type": "markdown",
   "metadata": {},
   "source": [
    "# =========================================="
   ]
  },
  {
   "cell_type": "markdown",
   "metadata": {},
   "source": [
    "### 1.09 Instructor Do: Lists (10 min)"
   ]
  },
  {
   "cell_type": "markdown",
   "metadata": {},
   "source": [
    "```python\n",
    "# Create a variable and set it as an List\n",
    "myList = [\"Jacob\", 25, \"Ahmed\", 80]\n",
    "print(myList)\n",
    "\n",
    "# Adds an element onto the end of a List\n",
    "myList.append(\"Matt\")\n",
    "print(myList)\n",
    "\n",
    "# Returns the index of the first object with a matching value\n",
    "print(myList.index(\"Matt\"))\n",
    "\n",
    "# Changes a specified element within an List at the given index\n",
    "myList[3] = 85\n",
    "print(myList)\n",
    "\n",
    "# Returns the length of the List\n",
    "print(len(myList))\n",
    "\n",
    "# Removes a specified object from an List\n",
    "myList.remove(\"Matt\")\n",
    "print(myList)\n",
    "\n",
    "# Removes the object at the index specified\n",
    "myList.pop(0)\n",
    "myList.pop(0)\n",
    "print(myList)\n",
    "\n",
    "# Creates a tuple, a sequence of immutable Python objects that cannot be changed\n",
    "myTuple = ('Python', 100, 'VBA', False)\n",
    "print(myTuple)\n",
    "\n",
    "```"
   ]
  },
  {
   "cell_type": "markdown",
   "metadata": {},
   "source": [
    "# =========================================="
   ]
  },
  {
   "cell_type": "markdown",
   "metadata": {},
   "source": [
    "### 1.10 Students Do: Rock, Paper, Scissors (25 min)"
   ]
  },
  {
   "cell_type": "markdown",
   "metadata": {},
   "source": [
    "# Rock, Paper, Scissors\n",
    "\n",
    "Create a Rock, Paper, Scissors game that takes user input from the command line and plays against the computer.\n",
    "\n",
    "## Instructions\n",
    "\n",
    "* Using the terminal, take an input of `r`, `p`, or `s` for rock, paper, or scissors.\n",
    "\n",
    "* Have the computer randomly pick one of these three choices.\n",
    "\n",
    "* Compare the user's input to the computer's choice to determine if the user won, lost, or tied.\n",
    "\n",
    "## Hint\n",
    "\n",
    "* Check out this [Stack Overflow](https://stackoverflow.com/questions/306400/how-to-randomly-select-an-item-from-a-list) question for help with using the `random` module to select a value from a list.\n",
    "\n",
    "---"
   ]
  },
  {
   "cell_type": "markdown",
   "metadata": {},
   "source": [
    "```python\n",
    "# Incorporate the random library\n",
    "import random\n",
    "\n",
    "# Print Title\n",
    "print(\"Let's Play Rock Paper Scissors!\")\n",
    "\n",
    "# Specify the three options\n",
    "options = [\"r\", \"p\", \"s\"]\n",
    "\n",
    "# Computer Selection\n",
    "computer_choice = random.choice(options)\n",
    "\n",
    "# User Selection\n",
    "user_choice = input(\"Make your Choice: (r)ock, (p)aper, (s)cissors? \")\n",
    "\n",
    "# Run Conditionals\n",
    "if (user_choice == \"r\" and computer_choice == \"p\"):\n",
    "    print(\"You chose rock. The computer chose paper.\")\n",
    "    print(\"Sorry. You lose.\")\n",
    "\n",
    "elif (user_choice == \"r\" and computer_choice == \"s\"):\n",
    "    print(\"You chose rock. The computer chose scissors.\")\n",
    "    print(\"Yay! You won.\")\n",
    "\n",
    "elif (user_choice == \"r\" and computer_choice == \"r\"):\n",
    "    print(\"You chose rock. The computer chose rock.\")\n",
    "    print(\"A smashing tie!\")\n",
    "\n",
    "elif (user_choice == \"p\" and computer_choice == \"p\"):\n",
    "    print(\"You chose paper. The computer chose paper.\")\n",
    "    print(\"A smashing tie!\")\n",
    "\n",
    "elif (user_choice == \"p\" and computer_choice == \"s\"):\n",
    "    print(\"You chose paper. The computer chose scissors.\")\n",
    "    print(\"Sorry. You lose.\")\n",
    "\n",
    "elif (user_choice == \"p\" and computer_choice == \"r\"):\n",
    "    print(\"You chose paper. The computer chose rock.\")\n",
    "    print(\"Yay! You won.\")\n",
    "\n",
    "elif (user_choice == \"s\" and computer_choice == \"p\"):\n",
    "    print(\"You chose scissors. The computer chose paper.\")\n",
    "    print(\"Yay! You won.\")\n",
    "\n",
    "elif (user_choice == \"s\" and computer_choice == \"s\"):\n",
    "    print(\"You chose scissors. The computer chose scissors.\")\n",
    "    print(\"A smashing tie!\")\n",
    "\n",
    "elif (user_choice == \"s\" and computer_choice == \"r\"):\n",
    "    print(\"You chose scissors. The computer chose rock.\")\n",
    "    print(\"Sorry. You lose.\")\n",
    "\n",
    "else:\n",
    "    print(\"I don't understand that!\")\n",
    "    print(\"Next time, choose from 'r', 'p', or 's'.\")\n",
    "\n",
    "```"
   ]
  },
  {
   "cell_type": "markdown",
   "metadata": {},
   "source": [
    "# =========================================="
   ]
  },
  {
   "cell_type": "markdown",
   "metadata": {},
   "source": [
    "### 1.11 Instructor Do: Loops (10 min)"
   ]
  },
  {
   "cell_type": "markdown",
   "metadata": {},
   "source": [
    "```python\n",
    "# Loop through a range of numbers (0 through 4)\n",
    "for x in range(5):\n",
    "    print(x)\n",
    "\n",
    "print(\"-----------------------------------------\")\n",
    "\n",
    "# Loop through a range of numbers (2 through 6 - yes 6! Up to, but not including, 7)\n",
    "for x in range(2, 7):\n",
    "    print(x)\n",
    "\n",
    "print(\"----------------------------------------\")\n",
    "\n",
    "# Iterate through letters in a string\n",
    "word = \"Peace\"\n",
    "for letter in word:\n",
    "    print(letter)\n",
    "\n",
    "print(\"----------------------------------------\")\n",
    "\n",
    "# Iterate through a list\n",
    "zoo = [\"cow\", \"dog\", \"bee\", \"zebra\"]\n",
    "for animal in zoo:\n",
    "    print(animal)\n",
    "\n",
    "print(\"----------------------------------------\")\n",
    "\n",
    "# Loop while a condition is being met\n",
    "run = \"y\"\n",
    "\n",
    "while run == \"y\":\n",
    "    print(\"Hi!\")\n",
    "    run = input(\"To run again. Enter 'y': \")\n",
    "\n",
    "```"
   ]
  },
  {
   "cell_type": "markdown",
   "metadata": {},
   "source": [
    "# =========================================="
   ]
  },
  {
   "cell_type": "markdown",
   "metadata": {},
   "source": [
    "### 1.12 Students Do: Number Chain - Loops (15 min)"
   ]
  },
  {
   "cell_type": "markdown",
   "metadata": {},
   "source": [
    "# Number Chain\n",
    "\n",
    "In this activity, you will take user input and print out a string of numbers.\n",
    "\n",
    "## Instructions\n",
    "\n",
    "* Using a `while` loop, ask the user \"How many numbers?\", and then print out a chain of numbers in increasing order, from 0 to the user-input number.\n",
    "\n",
    "* After the results have been printed, ask the user if they would like to continue.\n",
    "\n",
    "    * If \"y\" is entered, keep the chain running by inputting a new number and starting a new count from 0 to the new user-input number.\n",
    "\n",
    "    * If \"n\" is entered, exit the application.\n",
    "\n",
    "## Bonus\n",
    "\n",
    "Rather than just displaying numbers starting from 0, have the numbers begin at the end of the previous chain.\n",
    "\n",
    "---"
   ]
  },
  {
   "cell_type": "markdown",
   "metadata": {},
   "source": [
    "```python\n",
    "# Initial variable to track game play\n",
    "user_play = \"y\"\n",
    "\n",
    "# Set start and last number\n",
    "start_number = 0\n",
    "\n",
    "# While we are still playing...\n",
    "while user_play == \"y\":\n",
    "\n",
    "    # Ask the user how many numbers to loop through\n",
    "    user_number = input(\"How many numbers? \")\n",
    "\n",
    "    # Loop through the numbers. (Be sure to cast the string into an integer.)\n",
    "    for x in range(start_number, int(user_number) + start_number):\n",
    "\n",
    "        # Print each number in the range\n",
    "        print(x)\n",
    "\n",
    "    # Set the next start number as the last number of the loop\n",
    "    start_number = start_number + int(user_number)\n",
    "\n",
    "    # Once complete...\n",
    "    user_play = input(\"Continue the chain: (y)es or (n)o? \")\n",
    "\n",
    "```"
   ]
  },
  {
   "cell_type": "markdown",
   "metadata": {},
   "source": [
    "# =========================================="
   ]
  },
  {
   "cell_type": "markdown",
   "metadata": {},
   "source": [
    "### Rating Class Objectives\n",
    "\n",
    "* rate your understanding using 1-5 method in each objective"
   ]
  },
  {
   "cell_type": "code",
   "execution_count": null,
   "metadata": {},
   "outputs": [],
   "source": [
    "title = \"03.1-Python-Introduction to Python\"\n",
    "objectives = [\n",
    "    \"Perform their Python 3 installation\",\n",
    "    \"Navigate through files and folders via the terminal\",\n",
    "    \"Create Python scripts and run them in the terminal\",\n",
    "    \"Understand basic programming concepts in Python\",\n",
    "]\n",
    "rating = []\n",
    "total = 0\n",
    "for i in range(len(objectives)):\n",
    "    rate = input(objectives[i]+\"? \")\n",
    "    total += int(rate)\n",
    "    rating.append(objectives[i] + \". (\" + rate + \"/5)\")\n",
    "print(\"=\"*96)\n",
    "print(f\"Self Evaluation for: {title}\")\n",
    "print(\"-\"*24)\n",
    "for i in rating:\n",
    "    print(i)\n",
    "print(\"-\"*64)\n",
    "print(\"Average: \" + str(total/len(objectives)))"
   ]
  },
  {
   "cell_type": "code",
   "execution_count": null,
   "metadata": {},
   "outputs": [],
   "source": []
  },
  {
   "cell_type": "code",
   "execution_count": null,
   "metadata": {},
   "outputs": [],
   "source": []
  }
 ],
 "metadata": {
  "kernelspec": {
   "display_name": "Python 3 (ipykernel)",
   "language": "python",
   "name": "python3"
  },
  "language_info": {
   "codemirror_mode": {
    "name": "ipython",
    "version": 3
   },
   "file_extension": ".py",
   "mimetype": "text/x-python",
   "name": "python",
   "nbconvert_exporter": "python",
   "pygments_lexer": "ipython3",
   "version": "3.9.13"
  }
 },
 "nbformat": 4,
 "nbformat_minor": 4
}

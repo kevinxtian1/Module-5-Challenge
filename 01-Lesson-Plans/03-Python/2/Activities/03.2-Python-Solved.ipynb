{
 "cells": [
  {
   "cell_type": "markdown",
   "metadata": {},
   "source": [
    "@channel **Hi Everyone,**\n",
    "\n",
    "**2023-09-14 `03.2-Python-Reading and Writing in Python`**\n",
    "\n",
    "I hope your first day of Python filled you with a thirst for more.\n",
    "\n",
    "You are on your way to building a skill you can use in so many ways.\n",
    "\n",
    "This week we are going to learn to read from files stored on your computer.\n",
    "\n",
    "We are going to write files as well.\n",
    "\n",
    "Then we will take a peek at creating your own functions.\n",
    "\n",
    "This in addition to some review of Day 1 will give us a very interesting class!\n",
    "\n",
    "Keep up the great work!\n",
    "\n",
    "**Objectives**\n",
    "\n",
    "* Read data into Python from CSV files.\n",
    "* Write data from Python to CSV files.\n",
    "* Zip two lists together.\n",
    "* Create and use Python functions.\n",
    "\n",
    "**Presentation**\n",
    "* [03.2-Python-Reading and Writing in Python](https://git.bootcampcontent.com/University-of-California---Berkeley/UCB-VIRT-DATA-PT-08-2023-U-LOLC/-/blob/main/Slides/Data-03.2-Reading_and_Writing_in_Python.pdf)\n",
    "\n",
    "**Resources**\n",
    "* [reading csv (you don't need the pandas stuff, yet)](https://pythonprogramming.net/reading-csv-files-python-3/)\n",
    "* [writing csv files with Python](https://realpython.com/python-csv/#writing-csv-files-with-csv)\n",
    "* [the zip() function](https://www.w3schools.com/python/ref_func_zip.asp)\n",
    "* [reading and writing (longer read if you have the time)](https://thepythonguru.com/python-how-to-read-and-write-csv-files/)\n",
    "\n",
    "**Install**\n",
    "* [Anaconda Distribution](https://www.anaconda.com/download)\n",
    "* [Visual Studio Code (VSCode)](https://code.visualstudio.com/download)\n",
    "* [Running Visual Studio Code on macOS Terminal](https://code.visualstudio.com/docs/setup/mac)\n",
    "\n",
    "**Best wishes.**"
   ]
  },
  {
   "cell_type": "markdown",
   "metadata": {},
   "source": [
    "# =========================================="
   ]
  },
  {
   "cell_type": "markdown",
   "metadata": {},
   "source": [
    "### 1.01 Students Do: Python Check-Up (10 min)"
   ]
  },
  {
   "cell_type": "markdown",
   "metadata": {},
   "source": [
    "# Quick Check-Up\n",
    "\n",
    "Let’s start with a quick warm-up activity to get the Python juices flowing.\n",
    "\n",
    "## Instructions\n",
    "\n",
    "Create a simple Python command line application that does the following:\n",
    "\n",
    "* Prints \"Hello User!\"\n",
    "\n",
    "* Then asks \"What is your name?\"\n",
    "\n",
    "* Then responds \"Hello &lt;user's name&gt;\"\n",
    "\n",
    "* Then asks: \"What is your favorite number? \"\n",
    "\n",
    "* Then responds: \"Your favorite number is lower than mine.\", \"Your favorite number is higher than mine.\", or \"Your favorite number is the same as mine!\" depending on your favorite number.\n",
    "\n",
    "\n",
    "## Hint\n",
    "\n",
    "* Remember to cast your variables!\n",
    "![](../Images/01-CheckUp_Solved.gif)\n",
    "---"
   ]
  },
  {
   "cell_type": "markdown",
   "metadata": {},
   "source": [
    "```python\n",
    "# Print Hello User!\n",
    "print(\"Hello User!\")\n",
    "\n",
    "# Take in User Input\n",
    "name = input(\"What is your name? \")\n",
    "\n",
    "# Respond Back with User Input\n",
    "print(\"Hi \" + name + \"!\")\n",
    "\n",
    "# Take in the User Favorite Number\n",
    "favorite_number = input(\"What is your favorite number? \")\n",
    "\n",
    "# Respond Back with a statement based on your favorite number\n",
    "if (int(favorite_number) < 7):\n",
    "    print(\"Your favorite number is lower than mine.\")\n",
    "\n",
    "elif (int(favorite_number) == 7):\n",
    "    print(\"Your favorite number is the same as mine!\")\n",
    "\n",
    "else:\n",
    "    print(\"Your favorite number is higher than mine.\")\n",
    "\n",
    "```"
   ]
  },
  {
   "cell_type": "markdown",
   "metadata": {},
   "source": [
    "# =========================================="
   ]
  },
  {
   "cell_type": "markdown",
   "metadata": {},
   "source": [
    "### 1.02 Instructor Do: Loop Recap (5 min)"
   ]
  },
  {
   "cell_type": "markdown",
   "metadata": {},
   "source": [
    "![](../Images/02-SimpleLoops_0to9.gif)\n",
    "\n",
    "![](../Images/02-SimpleLoops_MerryGoRound.gif)\n",
    "\n"
   ]
  },
  {
   "cell_type": "markdown",
   "metadata": {},
   "source": [
    "```python\n",
    "# A For loop moves through a given range of numbers\n",
    "# If only one number is provided it will loop from 0 to that number\n",
    "for x in range(10):\n",
    "    print(x)\n",
    "\n",
    "# If two numbers are provided then a For loop will loop from the first number up until it reaches the second number\n",
    "for x in range(20, 30):\n",
    "    print(x)\n",
    "\n",
    "# If a list is provided, then the For loop will loop through each element within the list\n",
    "words = [\"Peanut\", \"Butter\", \"Jelly\", \"Time\", \"Is\", \"Now\"]\n",
    "for word in words:\n",
    "    print(word)\n",
    "\n",
    "# A While Loop will continue to loop through the code contained within it until some condition is met\n",
    "x = \"Yes\"\n",
    "while x == \"Yes\":\n",
    "    print(\"Whee! Merry-Go-Rounds are great!\")\n",
    "    x = input(\"Would you like to go on the Merry-Go-Round again? \")\n",
    "\n",
    "```"
   ]
  },
  {
   "cell_type": "markdown",
   "metadata": {},
   "source": [
    "# =========================================="
   ]
  },
  {
   "cell_type": "markdown",
   "metadata": {},
   "source": [
    "### 1.03 Students Do: Kid in a Candy Store - Loop Recap (15 min)"
   ]
  },
  {
   "cell_type": "markdown",
   "metadata": {},
   "source": [
    "# Kid in a Candy Store\n",
    "\n",
    "In this activity, you will create the code that a candy store will use in their state-of-the-art candy vending machine.\n",
    "\n",
    "## Instructions\n",
    "\n",
    "* Create a loop that prints all of the candies in the store to the terminal, with their index stored in brackets beside them.\n",
    "\n",
    "  * For example: `\"[0] Snickers\"`\n",
    "\n",
    "* Create a second loop that runs for a set number of times determined by the variable `allowance`.\n",
    "\n",
    "  * For example: If allowance is equal to five, the loop should run five times.\n",
    "\n",
    "  * Each time this second loop runs, take in a user's input, preferably a number, and then add the candy with the matching index to the variable `candy_cart`.\n",
    "\n",
    "  * For example: If the user enters \"0\" as their input, \"Snickers\" should be added into the `candy_cart` list.\n",
    "\n",
    "* Use another loop to print all of the candies selected to the terminal.\n",
    "\n",
    "## Bonus\n",
    "\n",
    "Create a version of the code that allows a user to select as much candy as they want until they say they do not want any more.\n",
    "\n",
    "![](../Images/03-KidInCandyStore_Solved.gif)\n",
    "\n",
    "---"
   ]
  },
  {
   "cell_type": "markdown",
   "metadata": {},
   "source": [
    "```python\n",
    "# The list of candies to print to the screen\n",
    "candy_list = [\n",
    "    \"Snickers\",\n",
    "    \"Kit Kat\",\n",
    "    \"Sour Patch Kids\",\n",
    "    \"Juicy Fruit\",\n",
    "    \"Swedish Fish\",\n",
    "    \"Skittles\",\n",
    "    \"Hershey Bar\",\n",
    "    \"Starbursts\",\n",
    "    \"M&Ms\"\n",
    "]\n",
    "\n",
    "# The amount of candy the user will be allowed to choose\n",
    "allowance = 5\n",
    "\n",
    "# The list used to store all of the candies selected inside of\n",
    "candy_cart = []\n",
    "\n",
    "# Print all of the candies to the screen and their index in brackets\n",
    "for candy in candy_list:\n",
    "    print(f'[{str(candy_list.index(candy))}] {candy}')\n",
    "\n",
    "# Another option to run the for loop involves Python's enumerate method\n",
    "# This method obtains both the index and the value of an item during a for loop\n",
    "# for index, candy in candy_list:\n",
    "#     print(index, candy)\n",
    "\n",
    "# Run through a loop which allows the user to choose which candies to take home with them\n",
    "print(\"Which candy would you like to bring home?\")\n",
    "for x in range(allowance):\n",
    "    selected = input(\"Input the number of the candy you want: \")\n",
    "\n",
    "    # Add the candy at the index chosen to the candy_cart list\n",
    "    candy_cart.append(candy_list[int(selected)])\n",
    "\n",
    "# Loop through the candy_cart to say what candies were brought home\n",
    "print(\"I brought home with me...\")\n",
    "for candy in candy_cart:\n",
    "    print(candy)\n",
    "\n",
    "```\n",
    "---"
   ]
  },
  {
   "cell_type": "markdown",
   "metadata": {},
   "source": [
    "```python\n",
    "# The list of candies to print to the screen\n",
    "candy_list = [\n",
    "    \"Snickers\",\n",
    "    \"Kit Kat\",\n",
    "    \"Sour Patch Kids\",\n",
    "    \"Juicy Fruit\",\n",
    "    \"Swedish Fish\",\n",
    "    \"Skittles\",\n",
    "    \"Hershey Bar\",\n",
    "    \"Starbursts\",\n",
    "    \"M&Ms\"\n",
    "]\n",
    "\n",
    "# The amount of candy the user will be allowed to choose\n",
    "allowance = 5\n",
    "\n",
    "# The list used to store all of the candies selected inside of\n",
    "candy_cart = []\n",
    "\n",
    "# Print all of the candies to the screen and their index in brackets\n",
    "for i in range(len(candy_list)):\n",
    "    print(\"[\" + str(i) + \"] \" + candy_list[i])\n",
    "\n",
    "\n",
    "# Set answer to \"yes\" for while loop\n",
    "answer = \"yes\"\n",
    "\n",
    "\n",
    "while answer == \"yes\":\n",
    "\n",
    "    # Ask which candy the user would like to bring ho\n",
    "    print(\"Which candy would you like to bring home?\")\n",
    "    selected = input(\"Input the number of the candy you want: \")\n",
    "\n",
    "    # Add the candy at the index chosen to the candy_cart list\n",
    "    candy_cart.append(candy_list[int(selected)])\n",
    "\n",
    "    # ask the user if they want more candy\n",
    "    answer = input(\"Would you like to make another selection? ('yes' or 'no') \")\n",
    "\n",
    "\n",
    "# Loop through the candy_cart to say what candies were brought home\n",
    "print(\"I brought home with me...\")\n",
    "for candy in candy_cart:\n",
    "    print(candy)\n",
    "\n",
    "```"
   ]
  },
  {
   "cell_type": "markdown",
   "metadata": {},
   "source": [
    "# =========================================="
   ]
  },
  {
   "cell_type": "markdown",
   "metadata": {},
   "source": [
    "### 1.04 Students Do: House of Pies - Advanced Loops (15 min)"
   ]
  },
  {
   "cell_type": "markdown",
   "metadata": {},
   "source": [
    "# House of Pies\n",
    "\n",
    "In this activity, you will build an order form that displays a list of pies and then prompts users to make a selection. The form will continue to prompt for selections until the user decides to end the process.\n",
    "\n",
    "## Instructions\n",
    "\n",
    "* Create an order form that displays a list of pies to the user in the following way:\n",
    "\n",
    "\n",
    "```\n",
    "Welcome to the House of Pies! Here are our pies:\n",
    "\n",
    "---------------------------------------------------------------------\n",
    "(1) Pecan, (2) Apple Crisp, (3) Bean, (4) Banoffee,  (5) Black Bun, (6) Blueberry, (7) Buko, (8) Burek,  (9) Tamale, (10) Steak\n",
    "```\n",
    "\n",
    "* Then, prompt the user to enter the number for the pie they would like to order.\n",
    "\n",
    "* Immediately follow up their order with `Great! We'll have that <PIE NAME> right out for you`, and then ask if they would like to make another order. If so, repeat the process.\n",
    "\n",
    "* Once the user is done purchasing pies, print the total number of pies ordered.\n",
    "\n",
    "## Bonus\n",
    "\n",
    "* Modify the application so that at the conclusion of the transaction, the user's purchases are listed out, with the total pie count broken by _each_ pie. For example:\n",
    "\n",
    "```\n",
    "You purchased:\n",
    "0 Pecan\n",
    "0 Apple Crisp\n",
    "0 Bean\n",
    "2 Banoffee\n",
    "0 Black Bun\n",
    "0 Blueberry\n",
    "0 Buko\n",
    "0 Burek\n",
    "0 Tamale\n",
    "1 Steak\n",
    "```\n",
    "![](../Images/04-HouseOfPies_Solved.gif)\n",
    "\n",
    "---"
   ]
  },
  {
   "cell_type": "markdown",
   "metadata": {},
   "source": [
    "```python\n",
    "# Initial variable to track shopping status\n",
    "shopping = 'y'\n",
    "\n",
    "# List to track pie purchases\n",
    "pie_purchases = []\n",
    "\n",
    "# Pie List\n",
    "pie_list = [\"Pecan\", \"Apple Crisp\", \"Bean\", \"Banoffee\", \"Black Bun\",\n",
    "            \"Blueberry\", \"Buko\", \"Burek\", \"Tamale\", \"Steak\"]\n",
    "\n",
    "# Display initial message\n",
    "print(\"Welcome to the House of Pies! Here are our pies:\")\n",
    "\n",
    "# While we are still shopping...\n",
    "while shopping == \"y\":\n",
    "\n",
    "    # Show pie selection prompt\n",
    "    print(\"---------------------------------------------------------------------\")\n",
    "    print(\"(1) Pecan, (2) Apple Crisp, (3) Bean, (4) Banoffee, \" +\n",
    "          \" (5) Black Bun, (6) Blueberry, (7) Buko, (8) Burek, \" +\n",
    "          \" (9) Tamale, (10) Steak \")\n",
    "\n",
    "    pie_choice = input(\"Which would you like? \")\n",
    "\n",
    "    # Add pie to the pie list\n",
    "    pie_purchases.append(pie_choice)\n",
    "\n",
    "    print(\"------------------------------------------------------------------------\")\n",
    "\n",
    "    # Inform the customer of the pie purchase\n",
    "    print(\"Great! We'll have that \" + pie_list[int(pie_choice) - 1] + \" right out for you.\")\n",
    "\n",
    "    # Provide exit option\n",
    "    shopping = input(\"Would you like to make another purchase: (y)es or (n)o? \")\n",
    "\n",
    "# Once the pie list is complete\n",
    "print(\"------------------------------------------------------------------------\")\n",
    "print(\"You purchased a total of \" + str(len(pie_purchases)) + \".\")\n",
    "\n",
    "```\n",
    "---"
   ]
  },
  {
   "cell_type": "markdown",
   "metadata": {},
   "source": [
    "```python\n",
    "# Initial variable to track shopping status\n",
    "shopping = 'y'\n",
    "\n",
    "# List to track pie purchases\n",
    "pie_purchases = [0, 0, 0, 0, 0, 0, 0, 0, 0, 0]\n",
    "\n",
    "# Pie List\n",
    "pie_list = [\"Pecan\", \"Apple Crisp\", \"Bean\", \"Banoffee\", \"Black Bun\",\n",
    "            \"Blueberry\", \"Buko\", \"Burek\", \"Tamale\", \"Steak\"]\n",
    "\n",
    "# Display initial message\n",
    "print(\"Welcome to the House of Pies! Here are our pies:\")\n",
    "\n",
    "# While we are still shopping...\n",
    "while shopping == \"y\":\n",
    "\n",
    "    # Show pie selection prompt\n",
    "    print(\"---------------------------------------------------------------------\")\n",
    "    print(\"(1) Pecan, (2) Apple Crisp, (3) Bean, (4) Banoffee, \" +\n",
    "          \" (5) Black Bun, (6) Blueberry, (7) Buko, (8) Burek, \" +\n",
    "          \" (9) Tamale, (10) Steak \")\n",
    "\n",
    "    pie_choice = input(\"Which would you like? \")\n",
    "\n",
    "    # Get index of the pie from the selected number\n",
    "    choice_index = int(pie_choice) - 1\n",
    "\n",
    "    # Add pie to the pie list by finding the matching index and adding one to its value\n",
    "    pie_purchases[choice_index] += 1\n",
    "\n",
    "    print(\"------------------------------------------------------------------------\")\n",
    "\n",
    "    # Inform the customer of the pie purchase\n",
    "    print(\"Great! We'll have that \" + pie_list[choice_index] + \" right out for you.\")\n",
    "\n",
    "    # Provide exit option\n",
    "    shopping = input(\"Would you like to make another purchase: (y)es or (n)o? \")\n",
    "\n",
    "# Once the pie list is complete\n",
    "print(\"------------------------------------------------------------------------\")\n",
    "\n",
    "# Count instances of each pie\n",
    "print(\"You purchased: \")\n",
    "\n",
    "# Loop through the full pie list\n",
    "for pie_index in range(len(pie_list)):\n",
    "    pie_count = str(pie_purchases[pie_index])\n",
    "    pie_name = str(pie_list[pie_index])\n",
    "\n",
    "    # Gather the count of each pie in the pie list and print them alongside the pies\n",
    "    print(pie_count + \" \" + pie_name)\n",
    "\n",
    "```"
   ]
  },
  {
   "cell_type": "code",
   "execution_count": null,
   "metadata": {},
   "outputs": [],
   "source": []
  },
  {
   "cell_type": "markdown",
   "metadata": {},
   "source": [
    "# =========================================="
   ]
  },
  {
   "cell_type": "markdown",
   "metadata": {},
   "source": [
    "### 1.05 Instructor Do: Reading Text Files (5 min)"
   ]
  },
  {
   "cell_type": "markdown",
   "metadata": {},
   "source": [
    "```python\n",
    "# Store the file path associated with the file (note the backslash may be OS specific)\n",
    "file = '../Resources/input.txt'\n",
    "\n",
    "# Open the file in \"read\" mode ('r') and store the contents in the variable \"text\"\n",
    "with open(file, 'r') as text:\n",
    "\n",
    "    # This stores a reference to a file stream\n",
    "    print(text)\n",
    "\n",
    "    # Store all of the text inside a variable called \"lines\"\n",
    "    lines = text.read()\n",
    "\n",
    "    # Print the contents of the text file\n",
    "    print(lines)\n",
    "\n",
    "```"
   ]
  },
  {
   "cell_type": "code",
   "execution_count": null,
   "metadata": {},
   "outputs": [],
   "source": []
  },
  {
   "cell_type": "markdown",
   "metadata": {},
   "source": [
    "# =========================================="
   ]
  },
  {
   "cell_type": "markdown",
   "metadata": {},
   "source": [
    "### 1.06 Instructor Do: Introduction to Modules (5 min)"
   ]
  },
  {
   "cell_type": "markdown",
   "metadata": {},
   "source": [
    "![](../Images/06-Modules_String.gif)\n",
    "\n",
    "![](../Images/06-Modules_Random.gif)\n",
    "\n"
   ]
  },
  {
   "cell_type": "markdown",
   "metadata": {},
   "source": [
    "```python\n",
    "# Import the random and string Module\n",
    "import random\n",
    "import string\n",
    "\n",
    "# Utilize the string module's custom method: \".ascii_letters\"\n",
    "print(string.ascii_letters)\n",
    "\n",
    "# Utilize the random module's custom method randint\n",
    "for x in range(10):\n",
    "    print(random.randint(1, 10))\n",
    "\n",
    "```"
   ]
  },
  {
   "cell_type": "markdown",
   "metadata": {},
   "source": [
    "# =========================================="
   ]
  },
  {
   "cell_type": "markdown",
   "metadata": {},
   "source": [
    "### 1.07 Students Do: Module Playground (5 min)"
   ]
  },
  {
   "cell_type": "markdown",
   "metadata": {},
   "source": [
    "# Module Playground\n",
    "\n",
    "In this activity, you will have the opportunity to explore and play around with some Python modules.\n",
    "\n",
    "## Instructions\n",
    "\n",
    "There are tons of built-in modules for Python. Review some of Python's modules and play around with them. Use the following link:\n",
    "\n",
    "[List of Built-In Python Modules](https://docs.python.org/3/py-modindex.html)\n"
   ]
  },
  {
   "cell_type": "markdown",
   "metadata": {},
   "source": [
    "# =========================================="
   ]
  },
  {
   "cell_type": "markdown",
   "metadata": {},
   "source": [
    "### BREAK (0:10)"
   ]
  },
  {
   "cell_type": "markdown",
   "metadata": {},
   "source": [
    "# =========================================="
   ]
  },
  {
   "cell_type": "markdown",
   "metadata": {},
   "source": [
    "### 1.08 Instructor Do: Reading in CSV Files (10 min)"
   ]
  },
  {
   "cell_type": "markdown",
   "metadata": {},
   "source": [
    "![](../Images/07-ReadCSV_ExampleFile.png)\n",
    "\n",
    "```python\n",
    "# First we'll import the os module\n",
    "# This will allow us to create file paths across operating systems\n",
    "import os\n",
    "\n",
    "# Module for reading CSV files\n",
    "import csv\n",
    "\n",
    "csvpath = os.path.join('..', 'Resources', 'contacts.csv')\n",
    "\n",
    "# # Method 1: Plain Reading of CSV files\n",
    "# with open(csvpath, 'r') as file_handler:\n",
    "#     lines = file_handler.read()\n",
    "#     print(lines)\n",
    "#     print(type(lines))\n",
    "\n",
    "\n",
    "# Method 2: Improved Reading using CSV module\n",
    "\n",
    "with open(csvpath) as csvfile:\n",
    "\n",
    "    # CSV reader specifies delimiter and variable that holds contents\n",
    "    csvreader = csv.reader(csvfile, delimiter=',')\n",
    "\n",
    "    print(csvreader)\n",
    "\n",
    "    # Read the header row first (skip this step if there is no header)\n",
    "    csv_header = next(csvreader)\n",
    "    print(f\"CSV Header: {csv_header}\")\n",
    "\n",
    "    # Read each row of data after the header\n",
    "    for row in csvreader:\n",
    "        print(row)\n",
    "\n",
    "```"
   ]
  },
  {
   "cell_type": "markdown",
   "metadata": {},
   "source": [
    "# =========================================="
   ]
  },
  {
   "cell_type": "markdown",
   "metadata": {},
   "source": [
    "### 1.09 Students Do: Reading Comic Book Data (15 min)"
   ]
  },
  {
   "cell_type": "markdown",
   "metadata": {},
   "source": [
    "# Reading Comic Book Data\n",
    "\n",
    "In this activity, you will create an application that searches the provided CSV file for a specific graphic novel title and then returns the title, publisher’s name, and the year it was published.\n",
    "\n",
    "## Instructions\n",
    "\n",
    "* Prompt the user for the book title they’d like to search.\n",
    "\n",
    "* Read in the CSV using the UTF-8 encoding, due to foreign characters.\n",
    "\n",
    "* Search through the `comic_books.csv` to find the user's book.\n",
    "\n",
    "* If the CSV contains the user's title, then print out the title, the publisher name, and the year it was published.\n",
    "\n",
    "    * For example: `\"Alien was published by DC Comics in 2015\"`.\n",
    "\n",
    "* If the CSV does not contain the user's title, then print out a message telling them that their book could not be found.\n",
    "\n",
    "    * Set a variable to `False` to check if we found the comic book.\n",
    "\n",
    "    * In the `for` loop, change the variable to confirm that the comic book is found.\n",
    "\n",
    "## References\n",
    "\n",
    "Data modified from \"Comic books CSV\" Updated April 2021. Initially released in 2014 to accompany the British Library's exhibition Comics Unmasked. [https://www.bl.uk/collection-metadata/downloads](https://www.bl.uk/collection-metadata/downloads)\n",
    "\n",
    "---"
   ]
  },
  {
   "cell_type": "markdown",
   "metadata": {},
   "source": [
    "```python\n",
    "# Modules\n",
    "import os\n",
    "import csv\n",
    "\n",
    "# Prompt user for title lookup\n",
    "book = input(\"What title are you looking for? \")\n",
    "\n",
    "# Set path for file\n",
    "csvpath = os.path.join(\"..\", \"Resources\", \"comic_books.csv\")\n",
    "\n",
    "# Set variable to check if we found the video\n",
    "found = False\n",
    "\n",
    "# Open the CSV using the UTF-8 encoding\n",
    "with open(csvpath, encoding='UTF-8') as csvfile:\n",
    "    csvreader = csv.reader(csvfile, delimiter=\",\")\n",
    "\n",
    "    # Loop through looking for the video\n",
    "    for row in csvreader:\n",
    "        if row[0] == book:\n",
    "            print(row[0] + \" was published by \" + row[8] + \" in \" + row[9])\n",
    "\n",
    "            # Set variable to confirm we have found the video\n",
    "            found = True\n",
    "\n",
    "    # If the book is never found, alert the user\n",
    "    if found is False:\n",
    "        print(\"Sorry about this, we don't seem to have what you are looking for!\")\n",
    "\n",
    "```"
   ]
  },
  {
   "cell_type": "markdown",
   "metadata": {},
   "source": [
    "# =========================================="
   ]
  },
  {
   "cell_type": "markdown",
   "metadata": {},
   "source": [
    "### 1.10 Instructor Do: Writing CSV Files (5 min)"
   ]
  },
  {
   "cell_type": "markdown",
   "metadata": {},
   "source": [
    "```python\n",
    "# Dependencies\n",
    "import os\n",
    "import csv\n",
    "\n",
    "# Specify the file to write to\n",
    "output_path = os.path.join(\"..\", \"output\", \"new.csv\")\n",
    "\n",
    "# Open the file using \"write\" mode. Specify the variable to hold the contents\n",
    "with open(output_path, 'w') as csvfile:\n",
    "\n",
    "    # Initialize csv.writer\n",
    "    csvwriter = csv.writer(csvfile, delimiter=',')\n",
    "\n",
    "    # Write the first row (column headers)\n",
    "    csvwriter.writerow(['First Name', 'Last Name', 'SSN'])\n",
    "\n",
    "    # Write the second row\n",
    "    csvwriter.writerow(['Caleb', 'Frost', '505-80-2901'])\n",
    "\n",
    "```"
   ]
  },
  {
   "cell_type": "markdown",
   "metadata": {},
   "source": [
    "# =========================================="
   ]
  },
  {
   "cell_type": "markdown",
   "metadata": {},
   "source": [
    "### 1.11 Instructor Do: Zipping Lists (5 min)"
   ]
  },
  {
   "cell_type": "markdown",
   "metadata": {},
   "source": [
    "```python\n",
    "import csv\n",
    "import os\n",
    "\n",
    "# Three Lists\n",
    "indexes = [1, 2, 3, 4]\n",
    "employees = [\"Michael\", \"Dwight\", \"Meredith\", \"Kelly\"]\n",
    "department = [\"Boss\", \"Sales\", \"Sales\", \"HR\"]\n",
    "\n",
    "# Zip all three lists together into tuples\n",
    "roster = list(zip(indexes, employees, department))\n",
    "\n",
    "# Print the contents of each row\n",
    "for employee in roster:\n",
    "    print(employee)\n",
    "\n",
    "# save the output file path\n",
    "output_file = os.path.join(\"output.csv\")\n",
    "\n",
    "# open the output file, create a header row, and then write the zipped object to the csv\n",
    "with open(output_file, \"w\", newline='') as datafile:\n",
    "    writer = csv.writer(datafile)\n",
    "\n",
    "    writer.writerow([\"Index\", \"Employee\", \"Department\"])\n",
    "\n",
    "    writer.writerows(roster)\n",
    "\n",
    "\n",
    "# # to print out to terminal:\n",
    "# #comment out above code and run the code below\n",
    "# for employee in roster:\n",
    "#     print(employee)\n",
    "\n",
    "```"
   ]
  },
  {
   "cell_type": "markdown",
   "metadata": {},
   "source": [
    "# =========================================="
   ]
  },
  {
   "cell_type": "markdown",
   "metadata": {},
   "source": [
    "### 1.12 Students Do: U.S. Census Zip (20 min)"
   ]
  },
  {
   "cell_type": "markdown",
   "metadata": {},
   "source": [
    "# U.S. Census Breakdown\n",
    "\n",
    "In this activity, you will be provided with a large dataset from the 2019 U.S. Census. Your task is to clean up this dataset and create a new CSV file that is easier to comprehend.\n",
    "\n",
    "## Instructions\n",
    "\n",
    "* Create a Python application that reads in the data from the 2019 U.S. Census.\n",
    "\n",
    "* Then, store the contents of `Place`, `Population`, `Per Capita Income`, and `Poverty Count` into Python Lists.\n",
    "\n",
    "* Then, zip these lists together into a single tuple.\n",
    "\n",
    "* Finally, write the contents of your extracted data into a CSV. Make sure to include the titles of these columns in your CSV.\n",
    "\n",
    "## Bonus\n",
    "\n",
    "* Find the poverty rate (percentage of population living in poverty). Include this in your final output, converting the rate to a string and including a \"%\" at the end of the string.\n",
    "\n",
    "* Parse the string associated with `Place`, separating it into `County` and `State`, so we can store both in separate columns.\n",
    "\n",
    "## Hints\n",
    "\n",
    "* Windows users may get a `UnicodeDecodeError`. To avoid this, pass in `encoding=\"utf8\"` as an additional parameter when reading in the file.\n",
    "\n",
    "* As with many datasets, the file does not include the header line. Use the following list as a guide to the columns: \"Place,Population,Median Age,Household Income,Per Capita Income,Employed Civilians,Unemployed Civilians,People in the Military,Poverty Count\"\n",
    "\n",
    "## References\n",
    "\n",
    "Data Source: [U.S. Census API - ACS 5-Year Estimates 2019](https://www.census.gov/data/developers/data-sets/census-microdata-api.ACS_5-Year_PUMS.html)\n",
    "\n",
    "---"
   ]
  },
  {
   "cell_type": "markdown",
   "metadata": {},
   "source": [
    "```python\n",
    "import os\n",
    "import csv\n",
    "\n",
    "census_csv = os.path.join(\"..\", \"Resources\", \"census_starter.csv\")\n",
    "\n",
    "# Lists to store data\n",
    "place = []\n",
    "population = []\n",
    "income = []\n",
    "poverty_count = []\n",
    "poverty_rate = []\n",
    "county = []\n",
    "state = []\n",
    "\n",
    "# with open(udemy_csv, encoding='utf-8') as csvfile:\n",
    "with open(census_csv) as csvfile:\n",
    "    csvreader = csv.reader(csvfile, delimiter=\",\")\n",
    "\n",
    "    for row in csvreader:\n",
    "        # Add place\n",
    "        place.append(row[0])\n",
    "\n",
    "        # Add population\n",
    "        population.append(row[1])\n",
    "\n",
    "        # Add per capita income\n",
    "        income.append(row[4])\n",
    "\n",
    "        # Add poverty count\n",
    "        poverty_count.append(row[8])\n",
    "\n",
    "        # Determine poverty rate to 2 decimal places, convert to string\n",
    "        percent = round(int(row[8]) / int(row[1]) * 100, 2)\n",
    "        poverty_rate.append(str(percent) + \"%\")\n",
    "\n",
    "        # Split the place into county and state\n",
    "        split_place = row[0].split(\", \")\n",
    "        county.append(split_place[0])\n",
    "        state.append(split_place[1])\n",
    "\n",
    "# Zip lists together\n",
    "cleaned_csv = list(zip(place, population, income, poverty_count, poverty_rate, county, state))\n",
    "\n",
    "# Set variable for output file\n",
    "output_file = os.path.join(\"census_final.csv\")\n",
    "\n",
    "#  Open the output file\n",
    "with open(output_file, \"w\", newline='') as datafile:\n",
    "    writer = csv.writer(datafile)\n",
    "\n",
    "    # Write the header row\n",
    "    writer.writerow([\"Place\", \"Population\", \"Per Capita Income\", \"Poverty Count\", \"Poverty Rate\",\n",
    "                    \"County\", \"State\"])\n",
    "\n",
    "    # Write in zipped rows\n",
    "    writer.writerows(cleaned_csv)\n",
    "\n",
    "```"
   ]
  },
  {
   "cell_type": "markdown",
   "metadata": {},
   "source": [
    "# =========================================="
   ]
  },
  {
   "cell_type": "markdown",
   "metadata": {},
   "source": [
    "### 1.13 Instructor Do: Introduction to Functions (5 min)"
   ]
  },
  {
   "cell_type": "markdown",
   "metadata": {},
   "source": [
    "```python\n",
    "# Define the function and tell it to print \"Hello!\" when called\n",
    "def print_hello():\n",
    "    print(f\"Hello!\")\n",
    "\n",
    "\n",
    "# Call the function within the application to ensure the code is run\n",
    "print_hello()\n",
    "# -------------#\n",
    "\n",
    "\n",
    "# Functions that take in and use parameters can also be defined\n",
    "def print_name(name):\n",
    "    print(\"Hello \" + name + \"!\")\n",
    "\n",
    "\n",
    "# When calling a function with a parameter, a parameter must be passed into the function\n",
    "print_name(\"Bob Smith\")\n",
    "# -------------#\n",
    "\n",
    "# The prime use case for functions is in being able to run the same code for different values\n",
    "list_one = [1, 2, 3, 4, 5, 6, 7, 8, 9, 10]\n",
    "list_two = [11, 12, 13, 14, 15]\n",
    "\n",
    "\n",
    "def list_information(simple_list):\n",
    "    print(f\"The values within the list are...\")\n",
    "    for value in simple_list:\n",
    "        print(value)\n",
    "    print(\"The length of this list is... \" + str(len(simple_list)))\n",
    "\n",
    "\n",
    "list_information(list_one)\n",
    "list_information(list_two)\n",
    "```"
   ]
  },
  {
   "cell_type": "markdown",
   "metadata": {},
   "source": [
    "# =========================================="
   ]
  },
  {
   "cell_type": "markdown",
   "metadata": {},
   "source": [
    "### Rating Class Objectives\n",
    "\n",
    "* rate your understanding using 1-5 method in each objective"
   ]
  },
  {
   "cell_type": "code",
   "execution_count": null,
   "metadata": {},
   "outputs": [],
   "source": [
    "title = \"03.2-Python-Reading and Writing in Python\"\n",
    "objectives = [\n",
    "    \"Read data into Python from CSV files\",\n",
    "    \"Write data from Python to CSV files\",\n",
    "    \"Zip two lists together\",\n",
    "    \"Create and use Python functions\"\n",
    "]\n",
    "rating = []\n",
    "total = 0\n",
    "for i in range(len(objectives)):\n",
    "    rate = input(objectives[i]+\"? \")\n",
    "    total += int(rate)\n",
    "    rating.append(objectives[i] + \". (\" + rate + \"/5)\")\n",
    "print(\"=\"*96)\n",
    "print(f\"Self Evaluation for: {title}\")\n",
    "print(\"-\"*24)\n",
    "for i in rating:\n",
    "    print(i)\n",
    "print(\"-\"*64)\n",
    "print(\"Average: \" + str(total/len(objectives)))"
   ]
  },
  {
   "cell_type": "code",
   "execution_count": null,
   "metadata": {},
   "outputs": [],
   "source": []
  },
  {
   "cell_type": "code",
   "execution_count": null,
   "metadata": {},
   "outputs": [],
   "source": []
  }
 ],
 "metadata": {
  "kernelspec": {
   "display_name": "Python 3 (ipykernel)",
   "language": "python",
   "name": "python3"
  },
  "language_info": {
   "codemirror_mode": {
    "name": "ipython",
    "version": 3
   },
   "file_extension": ".py",
   "mimetype": "text/x-python",
   "name": "python",
   "nbconvert_exporter": "python",
   "pygments_lexer": "ipython3",
   "version": "3.9.13"
  }
 },
 "nbformat": 4,
 "nbformat_minor": 4
}

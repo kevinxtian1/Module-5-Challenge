{
 "cells": [
  {
   "cell_type": "markdown",
   "metadata": {},
   "source": [
    "@channel **Hi Everyone,**\n",
    "\n",
    "**2023-09-18 `03.3-Python-A Deeper Dive Into Python`**\n",
    "\n",
    "Python is one of the most popular languages for many job fields.   As a data professional, it would only be second to SQL.  We have learned much of the basics.\n",
    "\n",
    "Next class we will start digging into Dictionaries!  A powerfully simple way to store and access data (and very similar to a datatype we will use in Javascript).\n",
    "\n",
    "We will also look into an abbreviated way to create lists , list comprehension.\n",
    "\n",
    "Lastly, we will end our first week of python, doing some more work with functions.\n",
    "\n",
    "Looking forward to seeing everyone there.\n",
    "\n",
    "**Objectives**\n",
    "\n",
    "* Create and use Python `dictionaries`.\n",
    "* Read in data from a `dictionary`.\n",
    "* Use `list` comprehensions.\n",
    "* Write and reuse Python `functions`.\n",
    "* Use coding `logic` and `reasoning`.\n",
    "* `Add`, `commit`, and `push` code to GitHub from the command line.\n",
    "\n",
    "**Presentation**\n",
    "* [03.3-Python-A Deeper Dive Into Python](https://git.bootcampcontent.com/University-of-California---Berkeley/UCB-VIRT-DATA-PT-08-2023-U-LOLC/-/blob/main/Slides/Data-03.3-Deeper_Dive_into_Python.pdf)\n",
    "\n",
    "**Resources**\n",
    "* [Some Reading on Dictionaries](https://www.tutorialspoint.com/python/python_dictionary.htm)\n",
    "* [list comprehension](https://www.pythonforbeginners.com/basics/list-comprehensions-in-python)\n",
    "\n",
    "**Best wishes.**"
   ]
  },
  {
   "cell_type": "markdown",
   "metadata": {},
   "source": [
    "# ==============================="
   ]
  },
  {
   "cell_type": "markdown",
   "metadata": {},
   "source": [
    "### 3.01 Everyone Do: Cereal Cleaner (15 min)"
   ]
  },
  {
   "cell_type": "markdown",
   "metadata": {},
   "source": [
    "# Cereal Cleaner\n",
    "\n",
    "In this activity, you will create an application that reads in cereal data from a CSV file and then prints only those cereals that contain 5 or more grams of fiber.\n",
    "\n",
    "## Instructions\n",
    "\n",
    "* Open the file, `cereal.csv` and start by skipping the header row. See hints below for this.\n",
    "\n",
    "* Read through the remaining rows and find the cereals that contain five grams of fiber or more, printing the data from those rows to the terminal.\n",
    "\n",
    "## Hints\n",
    "\n",
    "* Every value within the csv is stored as a string, and certain values have a decimal. This means that they will have to be cast to be used.\n",
    "\n",
    "* `csv.reader` begins reading the CSV file from the first row. `next(csv_reader, None)` will skip the header row.\n",
    "\n",
    "  * Refer to this Stack Overflow post on [how to skip the header](https://stackoverflow.com/a/14257599) for more information.\n",
    "\n",
    "* Integers in Python are whole numbers and, as such, cannot contain decimals. Decimal numbers As such, your numbers containing decimal points will have to be cast as a `float`.\n",
    "\n",
    "## Bonus\n",
    "\n",
    "Try the activity again, but this time use `cereal_bonus.csv`, which does not include a header.\n",
    "\n",
    "## References\n",
    "\n",
    "Crawford, C. (2017, October 24). 80 cereals. [https://www.kaggle.com/crawford/80-cereals](https://www.kaggle.com/crawford/80-cereals), originally sourced from [http://lib.stat.cmu.edu/datasets/1993.expo/](http://lib.stat.cmu.edu/datasets/1993.expo/)\n",
    "\n",
    "---"
   ]
  },
  {
   "cell_type": "code",
   "execution_count": 7,
   "metadata": {},
   "outputs": [
    {
     "name": "stdout",
     "output_type": "stream",
     "text": [
      "['ï»¿100% Bran', 'N', 'C', '70', '4', '1', '130', '10', '5', '6', '280', '25', '3', '1', '0.33', '68.402973']\n",
      "['All-Bran', 'K', 'C', '70', '4', '1', '260', '9', '7', '5', '320', '25', '3', '1', '0.33', '59.425505']\n",
      "['All-Bran with Extra Fiber', 'K', 'C', '50', '4', '0', '140', '14', '8', '0', '330', '25', '3', '1', '0.5', '93.704912']\n",
      "['Bran Flakes', 'P', 'C', '90', '3', '0', '210', '5', '13', '5', '190', '25', '3', '1', '0.67', '53.313813']\n",
      "['Fruit & Fibre Dates; Walnuts; and Oats', 'P', 'C', '120', '3', '2', '160', '5', '12', '10', '200', '25', '3', '1.25', '0.67', '40.917047']\n",
      "['Fruitful Bran', 'K', 'C', '120', '3', '0', '240', '5', '14', '12', '190', '25', '3', '1.33', '0.67', '41.015492']\n",
      "['Post Nat. Raisin Bran', 'P', 'C', '120', '3', '1', '200', '6', '11', '14', '260', '25', '3', '1.33', '0.67', '37.840594']\n",
      "['Raisin Bran', 'K', 'C', '120', '3', '1', '210', '5', '14', '12', '240', '25', '2', '1.33', '0.75', '39.259197']\n"
     ]
    }
   ],
   "source": [
    "import os\n",
    "import csv\n",
    "\n",
    "cereal_csv = os.path.join(\"01-Evr_CerealCleaner\", \"Resources\", \"cereal_bonus.csv\")\n",
    "\n",
    "# with open(cereal_csv, encoding='utf-8-sig') as csvfile:\n",
    "with open(cereal_csv) as csvfile:\n",
    "    csv_reader = csv.reader(csvfile, delimiter=\",\")\n",
    "\n",
    "    # @NOTE: This time, we do not use `next(csv_reader)` because there is no header for this file\n",
    "\n",
    "    # Read through each row of data after the header\n",
    "    for row in csv_reader:\n",
    "\n",
    "        # Convert row to float and compare to grams of fiber\n",
    "        if float(row[7]) >= 5:\n",
    "            print(row)\n"
   ]
  },
  {
   "cell_type": "code",
   "execution_count": 3,
   "metadata": {},
   "outputs": [
    {
     "name": "stdout",
     "output_type": "stream",
     "text": [
      "Header: ï»¿name,mfr,type,calories,protein,fat,sodium,fiber,carbo,sugars,potass,vitamins,shelf,weight,cups,rating\n",
      "\n",
      "['100% Bran', 'N', 'C', '70', '4', '1', '130', '10', '5', '6', '280', '25', '3', '1', '0.33', '68.402973']\n",
      "['All-Bran', 'K', 'C', '70', '4', '1', '260', '9', '7', '5', '320', '25', '3', '1', '0.33', '59.425505']\n",
      "['All-Bran with Extra Fiber', 'K', 'C', '50', '4', '0', '140', '14', '8', '0', '330', '25', '3', '1', '0.5', '93.704912']\n",
      "['Bran Flakes', 'P', 'C', '90', '3', '0', '210', '5', '13', '5', '190', '25', '3', '1', '0.67', '53.313813']\n",
      "['Fruit & Fibre Dates; Walnuts; and Oats', 'P', 'C', '120', '3', '2', '160', '5', '12', '10', '200', '25', '3', '1.25', '0.67', '40.917047']\n",
      "['Fruitful Bran', 'K', 'C', '120', '3', '0', '240', '5', '14', '12', '190', '25', '3', '1.33', '0.67', '41.015492']\n",
      "['Post Nat. Raisin Bran', 'P', 'C', '120', '3', '1', '200', '6', '11', '14', '260', '25', '3', '1.33', '0.67', '37.840594']\n",
      "['Raisin Bran', 'K', 'C', '120', '3', '1', '210', '5', '14', '12', '240', '25', '2', '1.33', '0.75', '39.259197']\n"
     ]
    }
   ],
   "source": [
    "import os\n",
    "import csv\n",
    "\n",
    "cereal_csv = os.path.join(\"01-Evr_CerealCleaner\", \"Resources\", \"cereal.csv\")\n",
    "\n",
    "# Open and read csv\n",
    "with open(cereal_csv) as csv_file:\n",
    "    csv_reader = csv.reader(csv_file, delimiter=\",\")\n",
    "\n",
    "    # Read the header row first (skip this part if there is no header)\n",
    "    csv_header = next(csv_file)\n",
    "    print(f\"Header: {csv_header}\")\n",
    "\n",
    "    # Read through each row of data after the header\n",
    "    for row in csv_reader:\n",
    "\n",
    "        # Convert row to float and compare to grams of fiber\n",
    "        if float(row[7]) >= 5:\n",
    "            print(row)\n"
   ]
  },
  {
   "cell_type": "markdown",
   "metadata": {},
   "source": [
    "# ==============================="
   ]
  },
  {
   "cell_type": "markdown",
   "metadata": {},
   "source": [
    "### 3.02 Instructor Do: Dictionaries (5 min)"
   ]
  },
  {
   "cell_type": "markdown",
   "metadata": {},
   "source": []
  },
  {
   "cell_type": "code",
   "execution_count": 8,
   "metadata": {},
   "outputs": [
    {
     "name": "stdout",
     "output_type": "stream",
     "text": [
      "Tom Cruise\n",
      "{'name': 'Denzel Washington'}\n",
      "Denzel Washington\n",
      "Tom Cruise\n",
      "Sylvester Stallone was in Rocky\n",
      "Interstellar made 360 million dollars in the US.\n"
     ]
    }
   ],
   "source": [
    "# Unlike lists, dictionaries store information in pairs\n",
    "# ---------------------------------------------------------------\n",
    "\n",
    "# Create a dictionary to hold the actor's names.\n",
    "actors = {}\n",
    "\n",
    "# Create a dictionary using the built-in function.\n",
    "actors = dict()\n",
    "\n",
    "# A dictionary of an actor.\n",
    "actors = {\"name\": \"Tom Cruise\"}\n",
    "print(f'{actors[\"name\"]}')\n",
    "\n",
    "# Add an actor to the dictionary with the key \"name\"\n",
    "# and the value \"Denzel Washington\".\n",
    "actors[\"name\"] = \"Denzel Washington\"\n",
    "\n",
    "# Print the actors dictionary.\n",
    "print(actors)\n",
    "\n",
    "# Print only the actor.\n",
    "print(f'{actors[\"name\"]}')\n",
    "\n",
    "# A list of actors\n",
    "actors_list = [\n",
    "    \"Tom Cruise\",\n",
    "    \"Angelina Jolie\",\n",
    "    \"Kristen Stewart\",\n",
    "    \"Denzel Washington\"]\n",
    "\n",
    "# Overwrite the value, \"Denzel Washington\", with the list of actors.\n",
    "actors[\"name\"] = actors_list\n",
    "\n",
    "# Print the first actor\n",
    "print(f'{actors[\"name\"][0]}')\n",
    "\n",
    "# ---------------------------------------------------------------\n",
    "\n",
    "# A dictionary can contain multiple pairs of information\n",
    "actress = {\n",
    "    \"name\": \"Angelina Jolie\",\n",
    "    \"genre\": \"Action\",\n",
    "    \"nationality\": \"United States\"\n",
    "}\n",
    "\n",
    "# ---------------------------------------------------------------\n",
    "\n",
    "# A dictionary can contain multiple types of information\n",
    "another_actor = {\n",
    "    \"name\": \"Sylvester Stallone\",\n",
    "    \"age\": 62,\n",
    "    \"married\": True,\n",
    "    \"best movies\": [\n",
    "        \"Rocky\",\n",
    "        \"Rocky 2\",\n",
    "        \"Rocky 3\"]}\n",
    "print(f'{another_actor[\"name\"]} was in {another_actor[\"best movies\"][0]}')\n",
    "# ---------------------------------------------------------------\n",
    "\n",
    "# A dictionary can even contain another dictionary\n",
    "film = {\n",
    "    \"title\": \"Interstellar\",\n",
    "    \"revenues\": {\n",
    "        \"United States\": 360,\n",
    "        \"China\": 250,\n",
    "        \"United Kingdom\": 73\n",
    "    }\n",
    "}\n",
    "print(f'{film[\"title\"]} made {film[\"revenues\"][\"United States\"]}'\" million dollars in the US.\")\n",
    "# ---------------------------------------------------------------\n"
   ]
  },
  {
   "cell_type": "markdown",
   "metadata": {},
   "source": [
    "# ==============================="
   ]
  },
  {
   "cell_type": "markdown",
   "metadata": {},
   "source": [
    "### 3.03 Students Do: Hobby Book: Dictionaries (10 min)"
   ]
  },
  {
   "cell_type": "markdown",
   "metadata": {},
   "source": [
    "# Hobby Book: Dictionaries\n",
    "\n",
    "In this activity, you will create and access dictionaries that are based on your own hobbies.\n",
    "\n",
    "## Instructions\n",
    "\n",
    "1. Create a dictionary to store the following information:\n",
    "\n",
    "* Your name\n",
    "* Your age\n",
    "* A list of a few of your hobbies\n",
    "* A dictionary that includes a few days and the time you typically wake up on those days\n",
    "\n",
    "2. Print out your name, how many hobbies you have, and a time you typically wake up during the week.\n",
    "\n",
    "---"
   ]
  },
  {
   "cell_type": "code",
   "execution_count": 10,
   "metadata": {},
   "outputs": [
    {
     "name": "stdout",
     "output_type": "stream",
     "text": [
      "Hello I am Rex and I am a dog\n",
      "I have 4 hobbies!\n",
      "On the weekend I get up at 10\n"
     ]
    }
   ],
   "source": [
    "# Dictionary full of info\n",
    "my_info = {\n",
    "    \"name\": \"Rex\",\n",
    "    \"occupation\": \"dog\",\n",
    "    \"age\": 21,\n",
    "    \"hobbies\": [\n",
    "        \"barking\",\n",
    "        \"eating\",\n",
    "        \"sleeping\",\n",
    "        \"loving my owner\"\n",
    "    ],\n",
    "    \"wake-up\": {\n",
    "        \"Mon\": 5,\n",
    "        \"Friday\": 5,\n",
    "        \"Saturday\": 10,\n",
    "        \"Sunday\": 9\n",
    "    }\n",
    "}\n",
    "\n",
    "# Print out results are stored in the dictionary\n",
    "print(f'Hello I am {my_info[\"name\"]} and I am a {my_info[\"occupation\"]}')\n",
    "print(f'I have {len(my_info[\"hobbies\"])} hobbies!')\n",
    "print(f'On the weekend I get up at {my_info[\"wake-up\"][\"Saturday\"]}')\n"
   ]
  },
  {
   "cell_type": "markdown",
   "metadata": {},
   "source": [
    "# ==============================="
   ]
  },
  {
   "cell_type": "markdown",
   "metadata": {},
   "source": [
    "### 3.04 Instructor Do: List Comprehensions (10 min)"
   ]
  },
  {
   "cell_type": "markdown",
   "metadata": {},
   "source": []
  },
  {
   "cell_type": "code",
   "execution_count": 11,
   "metadata": {},
   "outputs": [
    {
     "name": "stdout",
     "output_type": "stream",
     "text": [
      "['h', 'a', 'l', 'i', 'b', 'u', 't']\n",
      "['h', 'a', 'l', 'i', 'b', 'u', 't']\n",
      "['H', 'A', 'L', 'I', 'B', 'U', 'T']\n",
      "['H', 'A', 'L', 'I', 'B', 'U', 'T']\n",
      "[92, 106]\n",
      "[92, 106]\n"
     ]
    }
   ],
   "source": [
    "fish = \"halibut\"\n",
    "\n",
    "# Loop through each letter in the string\n",
    "# and push to an array\n",
    "letters = []\n",
    "for letter in fish:\n",
    "    letters.append(letter)\n",
    "\n",
    "print(letters)\n",
    "\n",
    "# List comprehensions provide concise syntax for creating lists\n",
    "letters = [letter for letter in fish]\n",
    "\n",
    "print(letters)\n",
    "\n",
    "# We can manipulate each element as we go\n",
    "capital_letters = []\n",
    "for letter in fish:\n",
    "    capital_letters.append(letter.upper())\n",
    "\n",
    "print(capital_letters)\n",
    "\n",
    "# List Comprehension for the above\n",
    "capital_letters = [letter.upper() for letter in fish]\n",
    "\n",
    "print(capital_letters)\n",
    "\n",
    "# We can also add conditional logic (if statements) to a list comprehension\n",
    "july_temperatures = [87, 85, 92, 79, 106]\n",
    "hot_days = []\n",
    "for temperature in july_temperatures:\n",
    "    if temperature > 90:\n",
    "        hot_days.append(temperature)\n",
    "print(hot_days)\n",
    "\n",
    "# List Comprehension with conditional\n",
    "hot_days = [temperature for temperature in july_temperatures if temperature > 90]\n",
    "\n",
    "print(hot_days)\n"
   ]
  },
  {
   "cell_type": "markdown",
   "metadata": {},
   "source": [
    "# ==============================="
   ]
  },
  {
   "cell_type": "markdown",
   "metadata": {},
   "source": [
    "### 3.05 Students Do: List Comprehensions (10 min)"
   ]
  },
  {
   "cell_type": "markdown",
   "metadata": {},
   "source": [
    "# List Comprehensions\n",
    "In this activity, you’ll use list comprehensions to compose a wedding invitation, which you will send to every name on your mailing list.\n",
    "## Instructions\n",
    "* Open the file called `comprehensions.py`.\n",
    "* Run the provided program. Note that nothing forces you to write the name properly in title case&mdash;for example, as \"Jane\" instead of \"jAnE\". You will use list comprehensions to fix this.\n",
    "  * First, use list comprehensions to create a new list that contains the lowercase version of each of the names your user provided.\n",
    "  * Then, use list comprehensions to create a new list that contains the title-case versions of each of the names in your lowercase list.\n",
    "## Hint\n",
    "* Check out the documentation for the [title method](https://docs.python.org/3/library/stdtypes.html#str.title).\n",
    "\n",
    "---"
   ]
  },
  {
   "cell_type": "code",
   "execution_count": 12,
   "metadata": {},
   "outputs": [
    {
     "name": "stdin",
     "output_type": "stream",
     "text": [
      "Please enter the name of someone you know.  hg\n",
      "Please enter the name of someone you know.  jhjh\n",
      "Please enter the name of someone you know.  kjkjkj\n",
      "Please enter the name of someone you know.  jhjg\n",
      "Please enter the name of someone you know.  jhjgj\n"
     ]
    },
    {
     "name": "stdout",
     "output_type": "stream",
     "text": [
      "Dear Hg, please come to the wedding this Saturday!\n",
      "Dear Jhjh, please come to the wedding this Saturday!\n",
      "Dear Kjkjkj, please come to the wedding this Saturday!\n",
      "Dear Jhjg, please come to the wedding this Saturday!\n",
      "Dear Jhjgj, please come to the wedding this Saturday!\n"
     ]
    }
   ],
   "source": [
    "# initialize list of names for user input\n",
    "names = []\n",
    "\n",
    "# Note that the i is unused and could be replaced by an _\n",
    "for i in range(5):\n",
    "    name = input(\"Please enter the name of someone you know. \")\n",
    "    names.append(name)\n",
    "\n",
    "# Use a list comprehension to create a list of lowercased names\n",
    "lowercased = [name.lower() for name in names]\n",
    "\n",
    "# Use a list comprehension to create a list of titlecased names from the\n",
    "# lowercased names. Reference: https://www.tutorialspoint.com/python/string_title.htm\n",
    "titlecased = [name.title() for name in lowercased]\n",
    "\n",
    "# Print the invitations\n",
    "invitations = [f\"Dear {name}, please come to the wedding this Saturday!\" for name in titlecased]\n",
    "for invitation in invitations:\n",
    "    print(invitation)\n"
   ]
  },
  {
   "cell_type": "markdown",
   "metadata": {},
   "source": [
    "# ==============================="
   ]
  },
  {
   "cell_type": "markdown",
   "metadata": {},
   "source": [
    "### 3.06 Instructor Do: Functions (15 min)"
   ]
  },
  {
   "cell_type": "markdown",
   "metadata": {},
   "source": []
  },
  {
   "cell_type": "code",
   "execution_count": 13,
   "metadata": {},
   "outputs": [
    {
     "name": "stdout",
     "output_type": "stream",
     "text": [
      "Hi!\n",
      "Hello, World!\n",
      "Here is a beef quesadilla with guacamole\n",
      "Here is a chicken quesadilla with salsa\n",
      "Here is a sour cream quesadilla with beef\n",
      "Here is a chicken quesadilla with sour cream\n",
      "Here is a beef quesadilla with guacamole\n",
      "4\n",
      "4\n",
      "9\n"
     ]
    }
   ],
   "source": [
    "# Basic Definition\n",
    "def name(parameters):\n",
    "    # code goes here\n",
    "    return\n",
    "\n",
    "\n",
    "# Simple Function with no parameters\n",
    "def show():\n",
    "    print(f\"Hi!\")\n",
    "\n",
    "\n",
    "# you use parentheses to run the code in a function\n",
    "show()\n",
    "\n",
    "\n",
    "# Simple function with one parameter\n",
    "def show(message):\n",
    "    print(message)\n",
    "\n",
    "\n",
    "# Think of the parameter `message` as a variable\n",
    "# You assign the string \"Hello, World!\" when you call the function\n",
    "# This is like saying `message = \"Hello, World!\"`\n",
    "show(\"Hello, World!\")\n",
    "\n",
    "\n",
    "# Functions can have more than one parameter\n",
    "def make_quesadilla(protein, topping):\n",
    "    quesadilla = f\"Here is a {protein} quesadilla with {topping}\"\n",
    "    print(quesadilla)\n",
    "\n",
    "\n",
    "# Supply the arguments (values) when calling the function\n",
    "make_quesadilla(\"beef\", \"guacamole\")\n",
    "make_quesadilla(\"chicken\", \"salsa\")\n",
    "\n",
    "# @NOTE: Order is important when supplying arguments!\n",
    "make_quesadilla(\"sour cream\", \"beef\")\n",
    "\n",
    "\n",
    "# We can also specify default values for parameters\n",
    "def make_quesadilla(protein, topping=\"sour cream\"):\n",
    "    quesadilla = f\"Here is a {protein} quesadilla with {topping}\"\n",
    "    print(quesadilla)\n",
    "\n",
    "\n",
    "# Make a quesadilla using the default topping\n",
    "make_quesadilla(\"chicken\")\n",
    "\n",
    "# Make a quesadilla with a new topping\n",
    "make_quesadilla(\"beef\", \"guacamole\")\n",
    "\n",
    "\n",
    "# Functions can return a value\n",
    "def square(number):\n",
    "    return number * number\n",
    "\n",
    "\n",
    "# You can save the value that is returned\n",
    "squared = square(2)\n",
    "print(squared)\n",
    "\n",
    "# You can also just print the return value of a function\n",
    "print(square(2))\n",
    "print(square(3))\n"
   ]
  },
  {
   "cell_type": "markdown",
   "metadata": {},
   "source": [
    "# ==============================="
   ]
  },
  {
   "cell_type": "markdown",
   "metadata": {},
   "source": [
    "### 3.07 Students Do: Functions (10 min)"
   ]
  },
  {
   "cell_type": "markdown",
   "metadata": {},
   "source": [
    "# Functions\n",
    "In this activity, you will write a function to compute the arithmetic mean (average) for a list of numbers.\n",
    "## Instructions\n",
    "* Write a function called `average` that accepts a list of numbers.\n",
    "  * The function `average` should return the arithmetic [mean](https://en.wikipedia.org/wiki/Arithmetic_mean) (average) for a list of numbers.\n",
    "* Test your function by calling it with different values and printing the results.\n",
    "---"
   ]
  },
  {
   "cell_type": "code",
   "execution_count": 14,
   "metadata": {},
   "outputs": [
    {
     "name": "stdout",
     "output_type": "stream",
     "text": [
      "5.0\n",
      "5.0\n"
     ]
    }
   ],
   "source": [
    "# Write a function that returns the arithmetic average for a list of numbers\n",
    "def average(numbers):\n",
    "    length = len(numbers)\n",
    "    total = 0.0\n",
    "    for number in numbers:\n",
    "        total += number\n",
    "    return total / length\n",
    "\n",
    "\n",
    "# Test your function with the following:\n",
    "print(average([1, 5, 9]))\n",
    "print(average(range(11)))\n"
   ]
  },
  {
   "cell_type": "markdown",
   "metadata": {},
   "source": [
    "# ==============================="
   ]
  },
  {
   "cell_type": "markdown",
   "metadata": {},
   "source": [
    "### 3.08 Everyone Do: Graduating Functions (10 min)"
   ]
  },
  {
   "cell_type": "markdown",
   "metadata": {},
   "source": [
    "# Graduating Functions\n",
    "In this activity, you will create a function that searches a list of students and graduates by state to determine state graduation rates for public, private nonprofit, and private for-profit institutions.\n",
    "## Instructions\n",
    "* Analyze the code and CSV provided, looking specifically for what needs to still be added to the application.\n",
    "* Using the starter code provided, create a function called `print_percentages` which takes in a parameter called `state_data` and does the following:\n",
    "  * Uses the data stored within `state_data` to calculate the estimated graduation rates in each category of Title IV 4-year institutions (public, non-profit private, and for-profit private).\n",
    "  * Prints out the graduation rates for each school type for the state to the terminal.\n",
    "Note: Some states do not have non-profit or for-profit private schools, so data must be checked for zeros\n",
    "## Bonus\n",
    "* Still within the `print_percentages()` function, calculate the overall graduation rate, and create a conditional that checks a state's overall graduation rate and prints either \"Graduation success\" to the screen if the number was greater than fifty or \"State needs improvement\" if the number was less than 50.\n",
    "## References\n",
    "Data Source: U.S. Department of Education, National Center for Education Statistics, IPEDS, Winter 2012-13, Graduation Rates component (final data). [https://nces.ed.gov/datalab/table/library/detail/12572](https://nces.ed.gov/datalab/table/library/detail/12572)\n",
    "---"
   ]
  },
  {
   "cell_type": "code",
   "execution_count": 17,
   "metadata": {},
   "outputs": [
    {
     "name": "stdin",
     "output_type": "stream",
     "text": [
      "What state do you want to look for?  alabama\n"
     ]
    },
    {
     "name": "stdout",
     "output_type": "stream",
     "text": [
      "Stats for Alabama\n",
      "Public School Graduation Rate: 49.309674780118634\n",
      "Private Non-Profit School Graduation Rate: 43.741963137591085\n",
      "Private For-Profit School Graduation Rate: 50.224215246636774\n",
      "Overall Graduation Rate: 48.290546783978144\n",
      "State needs improvement\n"
     ]
    }
   ],
   "source": [
    "import os\n",
    "import csv\n",
    "\n",
    "# Path to collect data from the Resources folder\n",
    "graduation_csv = os.path.join('08-Evr_GraduatingFunctions', 'Resources', 'graduation_data.csv')\n",
    "\n",
    "\n",
    "# Define the function and have it accept the 'state_data' as its sole parameter\n",
    "def print_percentages(state_data):\n",
    "    # For readability, it can help to assign your values to variables with descriptive names\n",
    "    # CSV headers: State or jurisdiction, Adjusted cohort (Public), Completers (Public),\n",
    "    # Adjusted cohort (Nonprofit Private), Completers (Nonprofit Private), \n",
    "    # Adjusted cohort (For-profit Private), Completers (For-profit Private)\n",
    "    state = str(state_data[0])\n",
    "    public_students = int(state_data[1])\n",
    "    public_graduates = int(state_data[2])\n",
    "    nonprofit_students = int(state_data[3])\n",
    "    nonprofit_graduates = int(state_data[4])\n",
    "    forprofit_students = int(state_data[5])\n",
    "    forprofit_graduates = int(state_data[6])\n",
    "\n",
    "    # Total students can be found by adding students of each category together\n",
    "    total_students = public_students + nonprofit_students + forprofit_students\n",
    "    # Total graduates can be found by adding graduates of each category together\n",
    "    total_graduates = public_graduates + nonprofit_graduates + forprofit_graduates\n",
    "\n",
    "    # Public grad rate can be found by dividing the total public graduates by the total public \n",
    "    # students and multiplying by 100\n",
    "    public_grad_rate = (public_graduates / public_students) * 100\n",
    "\n",
    "    # Note that some states do not have nonprofit or forprofit private schools, so data must be checked \n",
    "    # for zeros\n",
    "\n",
    "    # Nonprofit grad rate can be found by dividing the total nonprofit graduates by the total nonprofit \n",
    "    # students and multiplying by 100\n",
    "    if nonprofit_students == 0:\n",
    "        nonprofit_grad_rate = 0\n",
    "    else:\n",
    "        nonprofit_grad_rate = (nonprofit_graduates / nonprofit_students) * 100\n",
    "\n",
    "    # Forprofit grad rate can be found by dividing the total forprofit graduates by the total forprofit \n",
    "    # students and multiplying by 100\n",
    "    if forprofit_students == 0:\n",
    "        forprofit_grad_rate = 0\n",
    "    else:\n",
    "        forprofit_grad_rate = (forprofit_graduates / forprofit_students) * 100\n",
    "\n",
    "    # Calculate the overall graduation rate\n",
    "    overall_grad_rate = (total_graduates / total_students) * 100\n",
    "\n",
    "    # If the overall graduation rate is over 50, message is \"Graduation success\". \n",
    "    # Otherwise it is \"State needs improvement\".\n",
    "    if overall_grad_rate > 50:\n",
    "        message = \"Graduation success\"\n",
    "    else:\n",
    "        message = \"State needs improvement\"\n",
    "\n",
    "    # Print out the state's name and their graduation rates\n",
    "    print(f\"Stats for {state}\")\n",
    "    print(f\"Public School Graduation Rate: {str(public_grad_rate)}\")\n",
    "    print(f\"Private Non-Profit School Graduation Rate: {str(nonprofit_grad_rate)}\")\n",
    "    print(f\"Private For-Profit School Graduation Rate: {str(forprofit_grad_rate)}\")\n",
    "    print(f\"Overall Graduation Rate: {str(overall_grad_rate)}\")\n",
    "    print(f\"{message}\")\n",
    "\n",
    "\n",
    "# Read in the CSV file\n",
    "with open(graduation_csv, 'r') as csvfile:\n",
    "\n",
    "    # Split the data on commas\n",
    "    csvreader = csv.reader(csvfile, delimiter=',')\n",
    "\n",
    "    header = next(csvreader)\n",
    "\n",
    "    # Prompt the user for what state they would like to search for\n",
    "    state_to_check = input(\"What state do you want to look for? \")\n",
    "\n",
    "    # Loop through the data\n",
    "    for row in csvreader:\n",
    "\n",
    "        # If the state's name in a row is equal to that which the user input, run the 'print_percentages()' function\n",
    "        if state_to_check.lower() == row[0].lower():\n",
    "            print_percentages(row)\n"
   ]
  },
  {
   "cell_type": "markdown",
   "metadata": {},
   "source": [
    "# ==============================="
   ]
  },
  {
   "cell_type": "markdown",
   "metadata": {},
   "source": [
    "### BREAK (0:10)"
   ]
  },
  {
   "cell_type": "markdown",
   "metadata": {},
   "source": [
    "# ==============================="
   ]
  },
  {
   "cell_type": "markdown",
   "metadata": {},
   "source": [
    "### 3.09 Instructor Do: Intro to Git (25 min)"
   ]
  },
  {
   "attachments": {
    "48181f96-dc5b-46e5-b363-8ba24e1b36a4.png": {
     "image/png": "[encoded data removed]"
    }
   },
   "cell_type": "markdown",
   "metadata": {},
   "source": [
    "![image.png](attachment:48181f96-dc5b-46e5-b363-8ba24e1b36a4.png)"
   ]
  },
  {
   "attachments": {
    "image.png": {
     "image/png": "[encoded data removed]"
    }
   },
   "cell_type": "markdown",
   "metadata": {},
   "source": [
    "![image.png](attachment:image.png)"
   ]
  },
  {
   "cell_type": "markdown",
   "metadata": {},
   "source": [
    "# ==============================="
   ]
  },
  {
   "cell_type": "markdown",
   "metadata": {},
   "source": [
    "### 3.10 Everyone Do: Adding Files from the Command Line (10 min)"
   ]
  },
  {
   "cell_type": "markdown",
   "metadata": {},
   "source": [
    "# Adding More to the Repo\n",
    "\n",
    "In this activity, you will create a new repository, clone it, and add files via command line\n",
    "\n",
    "## Instructions\n",
    "\n",
    "* Using the repo that we just created, make or add the following changes:\n",
    "\n",
    "\n",
    "* Add new lines of code to one of the Python files.\n",
    "* Create a new folder.\n",
    "* Add a file to the newly created folder.\n",
    "* Add, commit, and push the changes.\n",
    "* Delete the new folder.\n",
    "* Add, commit, and push the changes again.\n",
    "\n",
    "---"
   ]
  },
  {
   "cell_type": "markdown",
   "metadata": {},
   "source": [
    "```bash\n",
    "  # Displays that status of files in the folder\n",
    "  git status\n",
    "\n",
    "  # Adds all the files into a staging area\n",
    "  git add .\n",
    "\n",
    "  # Check that thr files were added correctly\n",
    "  git status\n",
    "\n",
    "  # Commits all the files to your repo and adds a message\n",
    "  git commit -m <add commit message here>\n",
    "\n",
    "  # Pushes the changes up to GitHub\n",
    "  git push origin main\n",
    "  ```\n"
   ]
  },
  {
   "cell_type": "markdown",
   "metadata": {},
   "source": [
    "# ==============================="
   ]
  },
  {
   "cell_type": "markdown",
   "metadata": {},
   "source": [
    "### Rating Class Objectives\n",
    "\n",
    "* rate your understanding using 1-5 method in each objective"
   ]
  },
  {
   "cell_type": "code",
   "execution_count": null,
   "metadata": {},
   "outputs": [],
   "source": [
    "title = \"03.3-Python-A Deeper Dive Into Python\"\n",
    "objectives = [\n",
    "    \"Create and use Python dictionaries\",\n",
    "    \"Read in data from a dictionary\",\n",
    "    \"Use list comprehensions\",\n",
    "    \"Write and reuse Python functions\",\n",
    "    \"Use coding logic and reasoning\",\n",
    "    \"Add, commit, and push code to GitHub from the command line\",\n",
    "]\n",
    "rating = []\n",
    "total = 0\n",
    "for i in range(len(objectives)):\n",
    "    rate = input(objectives[i]+\"? \")\n",
    "    total += int(rate)\n",
    "    rating.append(objectives[i] + \". (\" + rate + \"/5)\")\n",
    "print(\"=\"*96)\n",
    "print(f\"Self Evaluation for: {title}\")\n",
    "print(\"-\"*24)\n",
    "for i in rating:\n",
    "    print(i)\n",
    "print(\"-\"*64)\n",
    "print(\"Average: \" + str(total/len(objectives)))"
   ]
  }
 ],
 "metadata": {
  "kernelspec": {
   "display_name": "Python 3 (ipykernel)",
   "language": "python",
   "name": "python3"
  },
  "language_info": {
   "codemirror_mode": {
    "name": "ipython",
    "version": 3
   },
   "file_extension": ".py",
   "mimetype": "text/x-python",
   "name": "python",
   "nbconvert_exporter": "python",
   "pygments_lexer": "ipython3",
   "version": "3.9.13"
  }
 },
 "nbformat": 4,
 "nbformat_minor": 4
}

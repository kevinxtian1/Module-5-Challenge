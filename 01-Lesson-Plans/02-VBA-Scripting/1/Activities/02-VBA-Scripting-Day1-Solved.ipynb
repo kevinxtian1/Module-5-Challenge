{
 "cells": [
  {
   "cell_type": "markdown",
   "metadata": {},
   "source": [
    "@channel **Hi Everyone,**\n",
    "\n",
    "**2023-08-05 `02.1-VBA-Scripting-Fundamentals of Programming with VBA`**\n",
    "\n",
    "So we are through Excel... or are we? VBA allows us to continue our trip into coding.\n",
    "\n",
    "VBA (Visual Basic for Applications) is a scripting language we can use to manipulate Excel (or any office product).\n",
    "\n",
    "This is where we begin doing some real scripting and making the magic happen. \n",
    "\n",
    "Looking forward to starting this new section!!\n",
    "\n",
    "**Objectives**\n",
    "\n",
    "* Define building blocks of all programming languages: variables, arrays, conditionals, loops, and functions.\n",
    "* Create simple VBA macros to trigger pop-ups and change cell values.\n",
    "* Write VBA subroutines that use variables and conditionals.\n",
    "* Develop essential coding skills including syntax recollection, pattern recognition, problem decomposition, and debugging.\n",
    "\n",
    "**Presentation**\n",
    "* [02.1-VBA-Scripting-Fundamentals of Programming with VBA](https://git.bootcampcontent.com/University-of-California---Berkeley/UCB-VIRT-DATA-PT-08-2023-U-LOLC/-/blob/main/Slides/Data-02.1-Fundamentals_of_Programming_with_VBA.pdf)\n",
    "\n",
    "**Resources**\n",
    "* [VBA Overview](https://www.tutorialspoint.com/vba/vba_overview.htm)\n",
    "* [VBA Variables](https://www.guru99.com/vba-data-types-variables-constant.html)\n",
    "* [VBA Data Types Summary](https://learn.microsoft.com/en-us/office/vba/language/reference/user-interface-help/data-type-summary)\n",
    "\n",
    "**Best wishes.**"
   ]
  },
  {
   "cell_type": "markdown",
   "metadata": {},
   "source": [
    "# =========================================="
   ]
  },
  {
   "cell_type": "markdown",
   "metadata": {},
   "source": [
    "### 1.01 Instructor Do: Hello, World (10 min)"
   ]
  },
  {
   "cell_type": "markdown",
   "metadata": {},
   "source": [
    "![](../Images/developer.png)\n",
    "\n",
    "![](../Images/01-HelloWorld_2.png)\n"
   ]
  },
  {
   "cell_type": "markdown",
   "metadata": {},
   "source": [
    "### Code\n",
    "\n",
    "```vb\n",
    "Sub HelloWorld():\n",
    "  MsgBox(\"Hello World\")\n",
    "End Sub\n",
    "\n",
    "```"
   ]
  },
  {
   "cell_type": "markdown",
   "metadata": {},
   "source": [
    "# =========================================="
   ]
  },
  {
   "cell_type": "markdown",
   "metadata": {},
   "source": [
    "### 1.02 Students Do: Hello, VBA (10 min)"
   ]
  },
  {
   "cell_type": "markdown",
   "metadata": {},
   "source": [
    "![](../Images/macro.png)\n",
    "\n"
   ]
  },
  {
   "cell_type": "markdown",
   "metadata": {},
   "source": [
    "### Code\n",
    "```vb\n",
    "Sub HelloVBA():\n",
    "  MsgBox (\"Hello VBA!\")\n",
    "  MsgBox (\"I have come to master your vicissitudes.\")\n",
    "  MsgBox (\"And benefit from your automation.\")\n",
    "End Sub\n",
    "```"
   ]
  },
  {
   "cell_type": "markdown",
   "metadata": {},
   "source": [
    "# =========================================="
   ]
  },
  {
   "cell_type": "markdown",
   "metadata": {},
   "source": [
    "### 1.03 Instructor Do: Button Clicks (5 min)"
   ]
  },
  {
   "cell_type": "markdown",
   "metadata": {},
   "source": [
    "![](../Images/03-ButtonClicks_2.png)\n",
    "\n",
    "![](../Images/03-ButtonClicks_3.png)\n",
    "\n",
    "![](../Images/03-ButtonClicks_4.png)\n"
   ]
  },
  {
   "cell_type": "markdown",
   "metadata": {},
   "source": [
    "### Code\n",
    "```vb\n",
    "Sub Button3_Click()\n",
    "    MsgBox (\"You clicked me!\")\n",
    "End Sub\n",
    "```"
   ]
  },
  {
   "cell_type": "markdown",
   "metadata": {},
   "source": [
    "# =========================================="
   ]
  },
  {
   "cell_type": "markdown",
   "metadata": {},
   "source": [
    "### 1.04 Students Do: Choose Your Button - Subroutines (10 min)"
   ]
  },
  {
   "cell_type": "markdown",
   "metadata": {},
   "source": [
    "### Code\n",
    "```vb\n",
    "' Subroutine for Button 1\n",
    "Sub Button1_Click()\n",
    "    MsgBox (\"You clicked Button 1!\")\n",
    "End Sub\n",
    "\n",
    "' Subroutine for Button 2\n",
    "Sub Button2_Click()\n",
    "    MsgBox (\"You clicked Button 2!\")\n",
    "End Sub\n",
    "```"
   ]
  },
  {
   "cell_type": "markdown",
   "metadata": {},
   "source": [
    "# =========================================="
   ]
  },
  {
   "cell_type": "markdown",
   "metadata": {},
   "source": [
    "### 1.05 Instructor Do: Cells And Ranges (5 min)"
   ]
  },
  {
   "cell_type": "markdown",
   "metadata": {},
   "source": [
    "### Code\n",
    "\n",
    "```vb\n",
    "Sub CellsAndRanges():\n",
    "    \n",
    "    ' Inserting Data Via Cells\n",
    "    Cells(2, 1).Value = \"Cat\"\n",
    "    Cells(2, 2).Value = \"In\"\n",
    "    Cells(2, 3).Value = \"The\"\n",
    "    Cells(2, 4).Value = \"Hat\"\n",
    "\n",
    "    ' Inserting Data Via Ranges\n",
    "    Range(\"F1\").Value = \"I\"\n",
    "    Range(\"F2\").Value = \"Am\"\n",
    "    Range(\"F3\").Value = \"Sam\"\n",
    "\n",
    "    ' Inserting Data Across Ranges\n",
    "    Range(\"F5:F7\").Value = 5\n",
    "\n",
    "End Sub\n",
    "```"
   ]
  },
  {
   "cell_type": "markdown",
   "metadata": {},
   "source": [
    "# =========================================="
   ]
  },
  {
   "cell_type": "markdown",
   "metadata": {},
   "source": [
    "### 1.06 Students Do: Chess Board (15 min)"
   ]
  },
  {
   "cell_type": "markdown",
   "metadata": {},
   "source": [
    "![](../Images/06-ChessBoard_1.png)\n",
    "\n"
   ]
  },
  {
   "cell_type": "markdown",
   "metadata": {},
   "source": [
    "### Code\n",
    "\n",
    "```vb\n",
    "Sub ChessBoard()\n",
    "\n",
    "  ' Using Ranges\n",
    "  ' ---------------------------------------\n",
    "\n",
    "  ' Insert Pawns\n",
    "  Range(\"A2:H2\").value = \"Pawn\"\n",
    "\n",
    "  ' Insert Rooks\n",
    "  Range(\"A1, H1\").value = \"Rook\"\n",
    "\n",
    "  ' Insert Knights\n",
    "  Range(\"B1, G1\").value = \"Knight\"\n",
    "\n",
    "  ' Insert Bishops\n",
    "  Range(\"C1, F1\").value = \"Bishop\"\n",
    "\n",
    "  ' Insert Queen\n",
    "  Range(\"D1\").value = \"Queen\"\n",
    "\n",
    "  ' Insert King\n",
    "  Range(\"E1\").value = \"King\"\n",
    "\n",
    "  ' Using Cells\n",
    "  ' ---------------------------------------\n",
    "\n",
    "  ' Insert Pawns\n",
    "  Cells(7, 1).value = \"Pawn\"\n",
    "  Cells(7, 2).value = \"Pawn\"\n",
    "  Cells(7, 3).value = \"Pawn\"\n",
    "  Cells(7, 4).value = \"Pawn\"\n",
    "  Cells(7, 5).value = \"Pawn\"\n",
    "  Cells(7, 6).value = \"Pawn\"\n",
    "  Cells(7, 7).value = \"Pawn\"\n",
    "  Cells(7, 8).value = \"Pawn\"\n",
    "\n",
    "  ' Insert Rooks\n",
    "  Cells(8, 1).value = \"Rook\"\n",
    "  Cells(8, 8).value = \"Rook\"\n",
    "\n",
    "  ' Insert Knights\n",
    "  Cells(8, 2).value = \"Knight\"\n",
    "  Cells(8, 7).value = \"Knight\"\n",
    "\n",
    "  ' Insert Bishops\n",
    "  Cells(8, 3).value = \"Bishop\"\n",
    "  Cells(8, 6).value = \"Bishop\"\n",
    "\n",
    "  ' Insert Queen\n",
    "  Cells(8, 4).value = \"Queen\"\n",
    "\n",
    "  ' Insert King\n",
    "  Cells(8, 5).value = \"King\"\n",
    "\n",
    "End Sub\n",
    "\n",
    "```"
   ]
  },
  {
   "cell_type": "markdown",
   "metadata": {},
   "source": [
    "# =========================================="
   ]
  },
  {
   "cell_type": "markdown",
   "metadata": {},
   "source": [
    "### BREAK (0:10)"
   ]
  },
  {
   "cell_type": "markdown",
   "metadata": {},
   "source": [
    "# =========================================="
   ]
  },
  {
   "cell_type": "markdown",
   "metadata": {},
   "source": [
    "### 1.07 Instructor Do: Variables (5 min)"
   ]
  },
  {
   "cell_type": "markdown",
   "metadata": {},
   "source": [
    "### Code\n",
    "\n",
    "```vb\n",
    "Sub Variables():\n",
    "\n",
    "    ' Basic String Variable\n",
    "    ' ----------------------------------------\n",
    "    Dim name As String\n",
    "    name = \"Gandalf\"\n",
    "\n",
    "    MsgBox (name)\n",
    "\n",
    "    ' Basic String Concatenation (Combination)\n",
    "    ' ----------------------------------------\n",
    "    Dim title As String\n",
    "    title = \"The Great\"\n",
    "\n",
    "    Dim fullname As String\n",
    "    fullname = name + \" \" + title\n",
    "\n",
    "    MsgBox (fullname)\n",
    "\n",
    "    ' Basic Integer, Double, Long Variables\n",
    "    ' ----------------------------------------\n",
    "    Dim age1 As Integer\n",
    "    Dim age2 As Integer\n",
    "    age1 = 5\n",
    "    age2 = 10\n",
    "\n",
    "    Dim price As Double\n",
    "    Dim tax As Double\n",
    "    price = 19.99\n",
    "    tax = 0.05\n",
    "\n",
    "    Dim lightspeed As Long\n",
    "    lightspeed = 299792458\n",
    "\n",
    "    ' Basic Numeric manipulation\n",
    "    ' ----------------------------------------\n",
    "    MsgBox (age1 + age2)\n",
    "    Cells(1, 1).Value = price * (1 + tax)\n",
    "\n",
    "    ' String, Numeric Combination (Casting)\n",
    "    ' ----------------------------------------\n",
    "    MsgBox (\"I am \" + Str(age1) + \" years old.\")\n",
    "\n",
    "    ' Booleans\n",
    "    ' ----------------------------------------\n",
    "    Dim money_grows_on_trees As Boolean\n",
    "    money_grows_on_trees = False\n",
    "\n",
    "End Sub\n",
    "\n",
    "```"
   ]
  },
  {
   "cell_type": "markdown",
   "metadata": {},
   "source": [
    "# =========================================="
   ]
  },
  {
   "cell_type": "markdown",
   "metadata": {},
   "source": [
    "### 1.08 Students Do: Total Calculator (10 min)"
   ]
  },
  {
   "cell_type": "markdown",
   "metadata": {},
   "source": [
    "### Code\n",
    "\n",
    "```vb\n",
    "Sub VariableSetting():\n",
    "\n",
    "    ' Create variables for the Price, Tax, Quantity, and Total\n",
    "    Dim Price As Double\n",
    "    Dim Tax As Double\n",
    "    Dim Quantity As Double\n",
    "    Dim Total As Double\n",
    "\n",
    "    ' Retrieve and store the data values in each variable\n",
    "    Price = Range(\"B2\").Value\n",
    "    Tax = Range(\"C2\").Value\n",
    "    Quantity = Range(\"D2\").Value\n",
    "\n",
    "    ' Calculate the total by using each of the variables\n",
    "    Total = Price * (1 + Tax) * Quantity\n",
    "\n",
    "    ' Create a Message Box for the Total and insert into cell\n",
    "    MsgBox (\"Your total is $\" + Str(Total))\n",
    "    Range(\"E2\").Value = Total\n",
    "\n",
    "End Sub\n",
    "\n",
    "```"
   ]
  },
  {
   "cell_type": "markdown",
   "metadata": {},
   "source": [
    "# =========================================="
   ]
  },
  {
   "cell_type": "markdown",
   "metadata": {},
   "source": [
    "### 1.09 Instructor Do: Arrays (5 min)"
   ]
  },
  {
   "cell_type": "markdown",
   "metadata": {},
   "source": [
    "### Code\n",
    "\n",
    "```vb\n",
    "Sub SimpleArrays():\n",
    "    \n",
    "    ' Basic Array Example\n",
    "    ' ------------------------------------------\n",
    "    ' Create the Ingredients Array\n",
    "    Dim Ingredients(5) as String\n",
    "\n",
    "    ' Add Ingredients to the Array \n",
    "    Ingredients(0) = \"Chocolate Bar\"\n",
    "    Ingredients(1) = \"Peanut Butter\"\n",
    "    Ingredients(2) = \"Jelly\"\n",
    "    Ingredients(3) = \"Macaroni\"\n",
    "    Ingredients(4) = \"Potato Salad\"\n",
    "    Ingredients(5) = \"Dragonfruit\"\n",
    "\n",
    "    ' Retrieve specific elements of the array\n",
    "    MsgBox(Ingredients(4))\n",
    "    MsgBox(Ingredients(0))\n",
    "\n",
    "End Sub\n",
    "```"
   ]
  },
  {
   "cell_type": "markdown",
   "metadata": {},
   "source": [
    "# =========================================="
   ]
  },
  {
   "cell_type": "markdown",
   "metadata": {},
   "source": [
    "### 1.10 Instructor Do: Splitting Strings (5 min)"
   ]
  },
  {
   "cell_type": "markdown",
   "metadata": {},
   "source": [
    "### Code\n",
    "\n",
    "```vb\n",
    "Sub SimpleArrays():\n",
    "    \n",
    "    ' String Splitting Example\n",
    "    ' ------------------------------------------\n",
    "    Dim Words() As String\n",
    "    Dim Shakespeare As String\n",
    "    Shakespeare = \"To be or not to be. That is the question\"\n",
    "\n",
    "    ' Break apart the Shakespeare quote into individual words\n",
    "    Words = Split(Shakespeare, \" \")\n",
    "\n",
    "    ' Print individual word\n",
    "    MsgBox (Words(5))\n",
    "\n",
    "End Sub\n",
    "\n",
    "```"
   ]
  },
  {
   "cell_type": "markdown",
   "metadata": {},
   "source": [
    "# =========================================="
   ]
  },
  {
   "cell_type": "markdown",
   "metadata": {},
   "source": [
    "### 1.11 Students Do: Sentence Breaker (20 min)"
   ]
  },
  {
   "cell_type": "markdown",
   "metadata": {},
   "source": [
    "### Code\n",
    "\n",
    "```vb\n",
    "Sub SentenceBreaker()\n",
    "\n",
    "    ' Retrieve the user sentence and store in variable\n",
    "    Dim Sentence As String\n",
    "    Sentence = Cells(1, 2).Value\n",
    "    MsgBox (Sentence)\n",
    "\n",
    "    ' Retrieve the user word numbers and store in variables\n",
    "    Dim num1 As Integer\n",
    "    Dim num2 As Integer\n",
    "    Dim num3 As Integer\n",
    "\n",
    "    num1 = Cells(4, 1).Value\n",
    "    num2 = Cells(5, 1).Value\n",
    "    num3 = Cells(6, 1).Value\n",
    "\n",
    "    MsgBox (num1)\n",
    "    MsgBox (num2)\n",
    "    MsgBox (num3)\n",
    "\n",
    "    ' Split the user's sentence into words\n",
    "    Dim SentenceArray() As String\n",
    "    SentenceArray = Split(Sentence, \" \")\n",
    "\n",
    "    ' Use the word numbers to retrieve the specific words in the sentence\n",
    "    ' Remember to offset by the 0 index\n",
    "    Cells(4, 2).Value = SentenceArray(num1 - 1)\n",
    "    Cells(5, 2).Value = SentenceArray(num2 - 1)\n",
    "    Cells(6, 2).Value = SentenceArray(num3 - 1)\n",
    "    \n",
    "\n",
    "End Sub\n",
    "\n",
    "```"
   ]
  },
  {
   "cell_type": "markdown",
   "metadata": {},
   "source": [
    "# =========================================="
   ]
  },
  {
   "cell_type": "markdown",
   "metadata": {},
   "source": [
    "### 1.12 Instructor Do: Conditionals (5 min)"
   ]
  },
  {
   "cell_type": "markdown",
   "metadata": {},
   "source": [
    "### Code\n",
    "\n",
    "```vb\n",
    "Sub Conditionals():\n",
    "\n",
    "    ' Simple Conditional Example\n",
    "    ' ------------------------------------------\n",
    "    If Range(\"A2\").Value > Range(\"B2\").Value Then\n",
    "        MsgBox (\"Num 1 is greater than Num 2\")\n",
    "    End If\n",
    "\n",
    "    ' Simple Conditional with If, Else, and Elseif\n",
    "    ' ------------------------------------------\n",
    "    If Range(\"A5\").Value > Range(\"B5\").Value Then\n",
    "        MsgBox (\"Num 3 is greater than Num 4\")\n",
    "\n",
    "    Elseif Range(\"A5\").Value < Range(\"B5\").Value Then\n",
    "        MsgBox(\"Num 4 is greater than Num 3\")\n",
    "\n",
    "    Else\n",
    "        MsgBox(\"Num 3 and Num 4 are equal\")\n",
    "\n",
    "    End If\n",
    "\n",
    "    ' Conditional with Operators (And)\n",
    "    ' ------------------------------------------\n",
    "    If (Range(\"A8\").Value > Range(\"C8\").Value And Range(\"B8\").Value > Range(\"C8\").Value) Then\n",
    "        MsgBox (\"Both Num 5 and Num 6 are greater than Num 7\")\n",
    "    End If\n",
    "\n",
    "    ' Conditional with Operators (OR)\n",
    "    ' ------------------------------------------\n",
    "    If (Range(\"A8\").Value > Range(\"C8\").Value Or Range(\"B8\").Value > Range(\"C8\").Value) Then\n",
    "        MsgBox (\"Either Num 5 and/or Num 6 is greater than Num 7\")\n",
    "    End If\n",
    "\n",
    "End Sub\n",
    "\n",
    "```"
   ]
  },
  {
   "cell_type": "markdown",
   "metadata": {},
   "source": [
    "# =========================================="
   ]
  },
  {
   "cell_type": "markdown",
   "metadata": {},
   "source": [
    "### 1.13 Students Do: Choose Your Story - Conditionals (5 min)"
   ]
  },
  {
   "cell_type": "markdown",
   "metadata": {},
   "source": [
    "### Code\n",
    "\n",
    "```vb\n",
    "Sub Begin_Journey()\n",
    "    \n",
    "    ' Use conditionals to change message box based on user input\n",
    "    If (Range(\"B1\").Value = 1) Then\n",
    "        MsgBox (\"You choose to enter the wooded forest of doom!\")\n",
    "\n",
    "    ElseIf (Range(\"B1\").Value = 2) Then\n",
    "        MsgBox (\"You choose to enter the fiery volcano of doom!\")\n",
    "\n",
    "    ElseIf (Range(\"B1\").Value = 3) Then\n",
    "        MsgBox (\"You choose to enter the terrifying jungle of doom!\")\n",
    "\n",
    "   ElseIf (Range(\"B1\").Value = 4) Then\n",
    "        MsgBox (\"You choose to enter the bathroom\")\n",
    "\n",
    "    Else\n",
    "        MsgBox (\"You decide to stay home instead.\")\n",
    "\n",
    "    End If\n",
    "End Sub\n",
    "\n",
    "```"
   ]
  },
  {
   "cell_type": "markdown",
   "metadata": {},
   "source": [
    "# =========================================="
   ]
  },
  {
   "cell_type": "markdown",
   "metadata": {},
   "source": [
    "### Rating Class Objectives\n",
    "\n",
    "* rate your understanding using 1-5 method in each objective"
   ]
  },
  {
   "cell_type": "code",
   "execution_count": null,
   "metadata": {},
   "outputs": [],
   "source": [
    "title = \"02.1-VBA-Scripting-Fundamentals of Programming with VBA\"\n",
    "objectives = [\n",
    "    \"Define building blocks of all programming languages: variables, arrays, conditionals, loops, and functions\",\n",
    "    \"Create simple VBA macros to trigger pop-ups and change cell values\",\n",
    "    \"Write VBA subroutines that use variables and conditionals\",\n",
    "    \"Develop essential coding skills including syntax recollection, pattern recognition, problem decomposition, and debugging\",\n",
    "]\n",
    "rating = []\n",
    "total = 0\n",
    "for i in range(len(objectives)):\n",
    "    rate = input(objectives[i]+\"? \")\n",
    "    total += int(rate)\n",
    "    rating.append(objectives[i] + \". (\" + rate + \"/5)\")\n",
    "print(\"=\"*96)\n",
    "print(f\"Self Evaluation for: {title}\")\n",
    "print(\"-\"*24)\n",
    "for i in rating:\n",
    "    print(i)\n",
    "print(\"-\"*64)\n",
    "print(\"Average: \" + str(total/len(objectives)))"
   ]
  },
  {
   "cell_type": "code",
   "execution_count": null,
   "metadata": {},
   "outputs": [],
   "source": []
  },
  {
   "cell_type": "code",
   "execution_count": null,
   "metadata": {},
   "outputs": [],
   "source": []
  }
 ],
 "metadata": {
  "kernelspec": {
   "display_name": "Python 3 (ipykernel)",
   "language": "python",
   "name": "python3"
  },
  "language_info": {
   "codemirror_mode": {
    "name": "ipython",
    "version": 3
   },
   "file_extension": ".py",
   "mimetype": "text/x-python",
   "name": "python",
   "nbconvert_exporter": "python",
   "pygments_lexer": "ipython3",
   "version": "3.9.13"
  }
 },
 "nbformat": 4,
 "nbformat_minor": 4
}

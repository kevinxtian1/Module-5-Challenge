{
 "cells": [
  {
   "cell_type": "markdown",
   "metadata": {},
   "source": [
    "@channel **Hi Everyone,**\n",
    "\n",
    "**2023-10-03 `06.1-Python-APIs-APIs`**"
   ]
  },
  {
   "cell_type": "markdown",
   "metadata": {},
   "source": [
    "Being able to get data from other organizations is absolutely necessary for a solid data professional.\n",
    "\n",
    "Today we are going to take a look at one of the most common ways to get data from other organizations."
   ]
  },
  {
   "cell_type": "markdown",
   "metadata": {},
   "source": [
    "**Objectives**\n",
    "\n",
    "* Make `get` requests with the `Request` library.\n",
    "* Convert `JSON` into a Python `dictionary`.\n",
    "* Read and apply `API` documentation.\n",
    "* Sign up for and use an `API key`."
   ]
  },
  {
   "cell_type": "markdown",
   "metadata": {},
   "source": [
    "**Presentation**\n",
    "* [06.1-Python-APIs-APIs](https://git.bootcampcontent.com/University-of-California---Berkeley/UCB-VIRT-DATA-PT-08-2023-U-LOLC/-/blob/main/Slides/Data-06.1-APIs.pdf)"
   ]
  },
  {
   "cell_type": "markdown",
   "metadata": {},
   "source": [
    "**Resources**\n",
    "* [Absolute beginners guide to slaying APIs using Python](https://medium.com/quick-code/absolute-beginners-guide-to-slaying-apis-using-python-7b380dc82236)"
   ]
  },
  {
   "cell_type": "markdown",
   "metadata": {},
   "source": [
    "**Install**\n",
    "* [Json Formatter for Chrome](https://chrome.google.com/webstore/search/json%20formatter)\n",
    "* `pip install python-dotenv`"
   ]
  },
  {
   "cell_type": "markdown",
   "metadata": {},
   "source": [
    "**API Keys**\n",
    "* Request free API Key from `OMDBAPI` [Here](https://www.omdbapi.com/apikey.aspx)\n",
    "* Create an account with NYT by filling out this [form](https://developer.nytimes.com/accounts/create).\n",
    "\n",
    "**Best wishes.**"
   ]
  },
  {
   "cell_type": "markdown",
   "metadata": {},
   "source": [
    "# =========================================="
   ]
  },
  {
   "cell_type": "markdown",
   "metadata": {},
   "source": [
    "![](../Images/01-APIIntro_Diagram.png)"
   ]
  },
  {
   "cell_type": "markdown",
   "metadata": {},
   "source": [
    "# =========================================="
   ]
  },
  {
   "cell_type": "markdown",
   "metadata": {},
   "source": [
    "### 1.01 Instructor Do: Intro to Requests (5 min)"
   ]
  },
  {
   "cell_type": "markdown",
   "metadata": {},
   "source": [
    "[https://jsonplaceholder.typicode.com/posts/](https://jsonplaceholder.typicode.com/posts/)"
   ]
  },
  {
   "cell_type": "code",
   "execution_count": 65,
   "metadata": {},
   "outputs": [],
   "source": [
    "import requests"
   ]
  },
  {
   "cell_type": "code",
   "execution_count": 90,
   "metadata": {},
   "outputs": [],
   "source": [
    "url = \"https://jsonplaceholder.typicode.com/posts/\""
   ]
  },
  {
   "cell_type": "code",
   "execution_count": 95,
   "metadata": {},
   "outputs": [],
   "source": [
    "res = requests.get(url).json()"
   ]
  },
  {
   "cell_type": "code",
   "execution_count": 96,
   "metadata": {},
   "outputs": [
    {
     "data": {
      "text/plain": [
       "(list, 100)"
      ]
     },
     "execution_count": 96,
     "metadata": {},
     "output_type": "execute_result"
    }
   ],
   "source": [
    "type(res), len(res)"
   ]
  },
  {
   "cell_type": "code",
   "execution_count": 97,
   "metadata": {
    "tags": []
   },
   "outputs": [
    {
     "name": "stdout",
     "output_type": "stream",
     "text": [
      "[{'userId': 1, 'id': 1, 'title': 'sunt aut facere repellat provident occaecati excepturi optio reprehenderit', 'body': 'quia et suscipit\\nsuscipit recusandae consequuntur expedita et cum\\nreprehenderit molestiae ut ut quas totam\\nnostrum rerum est autem sunt rem eveniet architecto'}, {'userId': 1, 'id': 2, 'title': 'qui est esse', 'body': 'est rerum tempore vitae\\nsequi sint nihil reprehenderit dolor beatae ea dolores neque\\nfugiat blanditiis voluptate porro vel nihil molestiae ut reiciendis\\nqui aperiam non debitis possimus qui neque nisi nulla'}, {'userId': 1, 'id': 3, 'title': 'ea molestias quasi exercitationem repellat qui ipsa sit aut', 'body': 'et iusto sed quo iure\\nvoluptatem occaecati omnis eligendi aut ad\\nvoluptatem doloribus vel accusantium quis pariatur\\nmolestiae porro eius odio et labore et velit aut'}, {'userId': 1, 'id': 4, 'title': 'eum et est occaecati', 'body': 'ullam et saepe reiciendis voluptatem adipisci\\nsit amet autem assumenda provident rerum culpa\\nquis hic commodi nesciunt rem tenetur doloremque ipsam iure\\nquis sunt voluptatem rerum illo velit'}, {'userId': 1, 'id': 5, 'title': 'nesciunt quas odio', 'body': 'repudiandae veniam quaerat sunt sed\\nalias aut fugiat sit autem sed est\\nvoluptatem omnis possimus esse voluptatibus quis\\nest aut tenetur dolor neque'}, {'userId': 1, 'id': 6, 'title': 'dolorem eum magni eos aperiam quia', 'body': 'ut aspernatur corporis harum nihil quis provident sequi\\nmollitia nobis aliquid molestiae\\nperspiciatis et ea nemo ab reprehenderit accusantium quas\\nvoluptate dolores velit et doloremque molestiae'}, {'userId': 1, 'id': 7, 'title': 'magnam facilis autem', 'body': 'dolore placeat quibusdam ea quo vitae\\nmagni quis enim qui quis quo nemo aut saepe\\nquidem repellat excepturi ut quia\\nsunt ut sequi eos ea sed quas'}, {'userId': 1, 'id': 8, 'title': 'dolorem dolore est ipsam', 'body': 'dignissimos aperiam dolorem qui eum\\nfacilis quibusdam animi sint suscipit qui sint possimus cum\\nquaerat magni maiores excepturi\\nipsam ut commodi dolor voluptatum modi aut vitae'}, {'userId': 1, 'id': 9, 'title': 'nesciunt iure omnis dolorem tempora et accusantium', 'body': 'consectetur animi nesciunt iure dolore\\nenim quia ad\\nveniam autem ut quam aut nobis\\net est aut quod aut provident voluptas autem voluptas'}, {'userId': 1, 'id': 10, 'title': 'optio molestias id quia eum', 'body': 'quo et expedita modi cum officia vel magni\\ndoloribus qui repudiandae\\nvero nisi sit\\nquos veniam quod sed accusamus veritatis error'}, {'userId': 2, 'id': 11, 'title': 'et ea vero quia laudantium autem', 'body': 'delectus reiciendis molestiae occaecati non minima eveniet qui voluptatibus\\naccusamus in eum beatae sit\\nvel qui neque voluptates ut commodi qui incidunt\\nut animi commodi'}, {'userId': 2, 'id': 12, 'title': 'in quibusdam tempore odit est dolorem', 'body': 'itaque id aut magnam\\npraesentium quia et ea odit et ea voluptas et\\nsapiente quia nihil amet occaecati quia id voluptatem\\nincidunt ea est distinctio odio'}, {'userId': 2, 'id': 13, 'title': 'dolorum ut in voluptas mollitia et saepe quo animi', 'body': 'aut dicta possimus sint mollitia voluptas commodi quo doloremque\\niste corrupti reiciendis voluptatem eius rerum\\nsit cumque quod eligendi laborum minima\\nperferendis recusandae assumenda consectetur porro architecto ipsum ipsam'}, {'userId': 2, 'id': 14, 'title': 'voluptatem eligendi optio', 'body': 'fuga et accusamus dolorum perferendis illo voluptas\\nnon doloremque neque facere\\nad qui dolorum molestiae beatae\\nsed aut voluptas totam sit illum'}, {'userId': 2, 'id': 15, 'title': 'eveniet quod temporibus', 'body': 'reprehenderit quos placeat\\nvelit minima officia dolores impedit repudiandae molestiae nam\\nvoluptas recusandae quis delectus\\nofficiis harum fugiat vitae'}, {'userId': 2, 'id': 16, 'title': 'sint suscipit perspiciatis velit dolorum rerum ipsa laboriosam odio', 'body': 'suscipit nam nisi quo aperiam aut\\nasperiores eos fugit maiores voluptatibus quia\\nvoluptatem quis ullam qui in alias quia est\\nconsequatur magni mollitia accusamus ea nisi voluptate dicta'}, {'userId': 2, 'id': 17, 'title': 'fugit voluptas sed molestias voluptatem provident', 'body': 'eos voluptas et aut odit natus earum\\naspernatur fuga molestiae ullam\\ndeserunt ratione qui eos\\nqui nihil ratione nemo velit ut aut id quo'}, {'userId': 2, 'id': 18, 'title': 'voluptate et itaque vero tempora molestiae', 'body': 'eveniet quo quis\\nlaborum totam consequatur non dolor\\nut et est repudiandae\\nest voluptatem vel debitis et magnam'}, {'userId': 2, 'id': 19, 'title': 'adipisci placeat illum aut reiciendis qui', 'body': 'illum quis cupiditate provident sit magnam\\nea sed aut omnis\\nveniam maiores ullam consequatur atque\\nadipisci quo iste expedita sit quos voluptas'}, {'userId': 2, 'id': 20, 'title': 'doloribus ad provident suscipit at', 'body': 'qui consequuntur ducimus possimus quisquam amet similique\\nsuscipit porro ipsam amet\\neos veritatis officiis exercitationem vel fugit aut necessitatibus totam\\nomnis rerum consequatur expedita quidem cumque explicabo'}, {'userId': 3, 'id': 21, 'title': 'asperiores ea ipsam voluptatibus modi minima quia sint', 'body': 'repellat aliquid praesentium dolorem quo\\nsed totam minus non itaque\\nnihil labore molestiae sunt dolor eveniet hic recusandae veniam\\ntempora et tenetur expedita sunt'}, {'userId': 3, 'id': 22, 'title': 'dolor sint quo a velit explicabo quia nam', 'body': 'eos qui et ipsum ipsam suscipit aut\\nsed omnis non odio\\nexpedita earum mollitia molestiae aut atque rem suscipit\\nnam impedit esse'}, {'userId': 3, 'id': 23, 'title': 'maxime id vitae nihil numquam', 'body': 'veritatis unde neque eligendi\\nquae quod architecto quo neque vitae\\nest illo sit tempora doloremque fugit quod\\net et vel beatae sequi ullam sed tenetur perspiciatis'}, {'userId': 3, 'id': 24, 'title': 'autem hic labore sunt dolores incidunt', 'body': 'enim et ex nulla\\nomnis voluptas quia qui\\nvoluptatem consequatur numquam aliquam sunt\\ntotam recusandae id dignissimos aut sed asperiores deserunt'}, {'userId': 3, 'id': 25, 'title': 'rem alias distinctio quo quis', 'body': 'ullam consequatur ut\\nomnis quis sit vel consequuntur\\nipsa eligendi ipsum molestiae et omnis error nostrum\\nmolestiae illo tempore quia et distinctio'}, {'userId': 3, 'id': 26, 'title': 'est et quae odit qui non', 'body': 'similique esse doloribus nihil accusamus\\nomnis dolorem fuga consequuntur reprehenderit fugit recusandae temporibus\\nperspiciatis cum ut laudantium\\nomnis aut molestiae vel vero'}, {'userId': 3, 'id': 27, 'title': 'quasi id et eos tenetur aut quo autem', 'body': 'eum sed dolores ipsam sint possimus debitis occaecati\\ndebitis qui qui et\\nut placeat enim earum aut odit facilis\\nconsequatur suscipit necessitatibus rerum sed inventore temporibus consequatur'}, {'userId': 3, 'id': 28, 'title': 'delectus ullam et corporis nulla voluptas sequi', 'body': 'non et quaerat ex quae ad maiores\\nmaiores recusandae totam aut blanditiis mollitia quas illo\\nut voluptatibus voluptatem\\nsimilique nostrum eum'}, {'userId': 3, 'id': 29, 'title': 'iusto eius quod necessitatibus culpa ea', 'body': 'odit magnam ut saepe sed non qui\\ntempora atque nihil\\naccusamus illum doloribus illo dolor\\neligendi repudiandae odit magni similique sed cum maiores'}, {'userId': 3, 'id': 30, 'title': 'a quo magni similique perferendis', 'body': 'alias dolor cumque\\nimpedit blanditiis non eveniet odio maxime\\nblanditiis amet eius quis tempora quia autem rem\\na provident perspiciatis quia'}, {'userId': 4, 'id': 31, 'title': 'ullam ut quidem id aut vel consequuntur', 'body': 'debitis eius sed quibusdam non quis consectetur vitae\\nimpedit ut qui consequatur sed aut in\\nquidem sit nostrum et maiores adipisci atque\\nquaerat voluptatem adipisci repudiandae'}, {'userId': 4, 'id': 32, 'title': 'doloremque illum aliquid sunt', 'body': 'deserunt eos nobis asperiores et hic\\nest debitis repellat molestiae optio\\nnihil ratione ut eos beatae quibusdam distinctio maiores\\nearum voluptates et aut adipisci ea maiores voluptas maxime'}, {'userId': 4, 'id': 33, 'title': 'qui explicabo molestiae dolorem', 'body': 'rerum ut et numquam laborum odit est sit\\nid qui sint in\\nquasi tenetur tempore aperiam et quaerat qui in\\nrerum officiis sequi cumque quod'}, {'userId': 4, 'id': 34, 'title': 'magnam ut rerum iure', 'body': 'ea velit perferendis earum ut voluptatem voluptate itaque iusto\\ntotam pariatur in\\nnemo voluptatem voluptatem autem magni tempora minima in\\nest distinctio qui assumenda accusamus dignissimos officia nesciunt nobis'}, {'userId': 4, 'id': 35, 'title': 'id nihil consequatur molestias animi provident', 'body': 'nisi error delectus possimus ut eligendi vitae\\nplaceat eos harum cupiditate facilis reprehenderit voluptatem beatae\\nmodi ducimus quo illum voluptas eligendi\\net nobis quia fugit'}, {'userId': 4, 'id': 36, 'title': 'fuga nam accusamus voluptas reiciendis itaque', 'body': 'ad mollitia et omnis minus architecto odit\\nvoluptas doloremque maxime aut non ipsa qui alias veniam\\nblanditiis culpa aut quia nihil cumque facere et occaecati\\nqui aspernatur quia eaque ut aperiam inventore'}, {'userId': 4, 'id': 37, 'title': 'provident vel ut sit ratione est', 'body': 'debitis et eaque non officia sed nesciunt pariatur vel\\nvoluptatem iste vero et ea\\nnumquam aut expedita ipsum nulla in\\nvoluptates omnis consequatur aut enim officiis in quam qui'}, {'userId': 4, 'id': 38, 'title': 'explicabo et eos deleniti nostrum ab id repellendus', 'body': 'animi esse sit aut sit nesciunt assumenda eum voluptas\\nquia voluptatibus provident quia necessitatibus ea\\nrerum repudiandae quia voluptatem delectus fugit aut id quia\\nratione optio eos iusto veniam iure'}, {'userId': 4, 'id': 39, 'title': 'eos dolorem iste accusantium est eaque quam', 'body': 'corporis rerum ducimus vel eum accusantium\\nmaxime aspernatur a porro possimus iste omnis\\nest in deleniti asperiores fuga aut\\nvoluptas sapiente vel dolore minus voluptatem incidunt ex'}, {'userId': 4, 'id': 40, 'title': 'enim quo cumque', 'body': 'ut voluptatum aliquid illo tenetur nemo sequi quo facilis\\nipsum rem optio mollitia quas\\nvoluptatem eum voluptas qui\\nunde omnis voluptatem iure quasi maxime voluptas nam'}, {'userId': 5, 'id': 41, 'title': 'non est facere', 'body': 'molestias id nostrum\\nexcepturi molestiae dolore omnis repellendus quaerat saepe\\nconsectetur iste quaerat tenetur asperiores accusamus ex ut\\nnam quidem est ducimus sunt debitis saepe'}, {'userId': 5, 'id': 42, 'title': 'commodi ullam sint et excepturi error explicabo praesentium voluptas', 'body': 'odio fugit voluptatum ducimus earum autem est incidunt voluptatem\\nodit reiciendis aliquam sunt sequi nulla dolorem\\nnon facere repellendus voluptates quia\\nratione harum vitae ut'}, {'userId': 5, 'id': 43, 'title': 'eligendi iste nostrum consequuntur adipisci praesentium sit beatae perferendis', 'body': 'similique fugit est\\nillum et dolorum harum et voluptate eaque quidem\\nexercitationem quos nam commodi possimus cum odio nihil nulla\\ndolorum exercitationem magnam ex et a et distinctio debitis'}, {'userId': 5, 'id': 44, 'title': 'optio dolor molestias sit', 'body': 'temporibus est consectetur dolore\\net libero debitis vel velit laboriosam quia\\nipsum quibusdam qui itaque fuga rem aut\\nea et iure quam sed maxime ut distinctio quae'}, {'userId': 5, 'id': 45, 'title': 'ut numquam possimus omnis eius suscipit laudantium iure', 'body': 'est natus reiciendis nihil possimus aut provident\\nex et dolor\\nrepellat pariatur est\\nnobis rerum repellendus dolorem autem'}, {'userId': 5, 'id': 46, 'title': 'aut quo modi neque nostrum ducimus', 'body': 'voluptatem quisquam iste\\nvoluptatibus natus officiis facilis dolorem\\nquis quas ipsam\\nvel et voluptatum in aliquid'}, {'userId': 5, 'id': 47, 'title': 'quibusdam cumque rem aut deserunt', 'body': 'voluptatem assumenda ut qui ut cupiditate aut impedit veniam\\noccaecati nemo illum voluptatem laudantium\\nmolestiae beatae rerum ea iure soluta nostrum\\neligendi et voluptate'}, {'userId': 5, 'id': 48, 'title': 'ut voluptatem illum ea doloribus itaque eos', 'body': 'voluptates quo voluptatem facilis iure occaecati\\nvel assumenda rerum officia et\\nillum perspiciatis ab deleniti\\nlaudantium repellat ad ut et autem reprehenderit'}, {'userId': 5, 'id': 49, 'title': 'laborum non sunt aut ut assumenda perspiciatis voluptas', 'body': 'inventore ab sint\\nnatus fugit id nulla sequi architecto nihil quaerat\\neos tenetur in in eum veritatis non\\nquibusdam officiis aspernatur cumque aut commodi aut'}, {'userId': 5, 'id': 50, 'title': 'repellendus qui recusandae incidunt voluptates tenetur qui omnis exercitationem', 'body': 'error suscipit maxime adipisci consequuntur recusandae\\nvoluptas eligendi et est et voluptates\\nquia distinctio ab amet quaerat molestiae et vitae\\nadipisci impedit sequi nesciunt quis consectetur'}, {'userId': 6, 'id': 51, 'title': 'soluta aliquam aperiam consequatur illo quis voluptas', 'body': 'sunt dolores aut doloribus\\ndolore doloribus voluptates tempora et\\ndoloremque et quo\\ncum asperiores sit consectetur dolorem'}, {'userId': 6, 'id': 52, 'title': 'qui enim et consequuntur quia animi quis voluptate quibusdam', 'body': 'iusto est quibusdam fuga quas quaerat molestias\\na enim ut sit accusamus enim\\ntemporibus iusto accusantium provident architecto\\nsoluta esse reprehenderit qui laborum'}, {'userId': 6, 'id': 53, 'title': 'ut quo aut ducimus alias', 'body': 'minima harum praesentium eum rerum illo dolore\\nquasi exercitationem rerum nam\\nporro quis neque quo\\nconsequatur minus dolor quidem veritatis sunt non explicabo similique'}, {'userId': 6, 'id': 54, 'title': 'sit asperiores ipsam eveniet odio non quia', 'body': 'totam corporis dignissimos\\nvitae dolorem ut occaecati accusamus\\nex velit deserunt\\net exercitationem vero incidunt corrupti mollitia'}, {'userId': 6, 'id': 55, 'title': 'sit vel voluptatem et non libero', 'body': 'debitis excepturi ea perferendis harum libero optio\\neos accusamus cum fuga ut sapiente repudiandae\\net ut incidunt omnis molestiae\\nnihil ut eum odit'}, {'userId': 6, 'id': 56, 'title': 'qui et at rerum necessitatibus', 'body': 'aut est omnis dolores\\nneque rerum quod ea rerum velit pariatur beatae excepturi\\net provident voluptas corrupti\\ncorporis harum reprehenderit dolores eligendi'}, {'userId': 6, 'id': 57, 'title': 'sed ab est est', 'body': 'at pariatur consequuntur earum quidem\\nquo est laudantium soluta voluptatem\\nqui ullam et est\\net cum voluptas voluptatum repellat est'}, {'userId': 6, 'id': 58, 'title': 'voluptatum itaque dolores nisi et quasi', 'body': 'veniam voluptatum quae adipisci id\\net id quia eos ad et dolorem\\naliquam quo nisi sunt eos impedit error\\nad similique veniam'}, {'userId': 6, 'id': 59, 'title': 'qui commodi dolor at maiores et quis id accusantium', 'body': 'perspiciatis et quam ea autem temporibus non voluptatibus qui\\nbeatae a earum officia nesciunt dolores suscipit voluptas et\\nanimi doloribus cum rerum quas et magni\\net hic ut ut commodi expedita sunt'}, {'userId': 6, 'id': 60, 'title': 'consequatur placeat omnis quisquam quia reprehenderit fugit veritatis facere', 'body': 'asperiores sunt ab assumenda cumque modi velit\\nqui esse omnis\\nvoluptate et fuga perferendis voluptas\\nillo ratione amet aut et omnis'}, {'userId': 7, 'id': 61, 'title': 'voluptatem doloribus consectetur est ut ducimus', 'body': 'ab nemo optio odio\\ndelectus tenetur corporis similique nobis repellendus rerum omnis facilis\\nvero blanditiis debitis in nesciunt doloribus dicta dolores\\nmagnam minus velit'}, {'userId': 7, 'id': 62, 'title': 'beatae enim quia vel', 'body': 'enim aspernatur illo distinctio quae praesentium\\nbeatae alias amet delectus qui voluptate distinctio\\nodit sint accusantium autem omnis\\nquo molestiae omnis ea eveniet optio'}, {'userId': 7, 'id': 63, 'title': 'voluptas blanditiis repellendus animi ducimus error sapiente et suscipit', 'body': 'enim adipisci aspernatur nemo\\nnumquam omnis facere dolorem dolor ex quis temporibus incidunt\\nab delectus culpa quo reprehenderit blanditiis asperiores\\naccusantium ut quam in voluptatibus voluptas ipsam dicta'}, {'userId': 7, 'id': 64, 'title': 'et fugit quas eum in in aperiam quod', 'body': 'id velit blanditiis\\neum ea voluptatem\\nmolestiae sint occaecati est eos perspiciatis\\nincidunt a error provident eaque aut aut qui'}, {'userId': 7, 'id': 65, 'title': 'consequatur id enim sunt et et', 'body': 'voluptatibus ex esse\\nsint explicabo est aliquid cumque adipisci fuga repellat labore\\nmolestiae corrupti ex saepe at asperiores et perferendis\\nnatus id esse incidunt pariatur'}, {'userId': 7, 'id': 66, 'title': 'repudiandae ea animi iusto', 'body': 'officia veritatis tenetur vero qui itaque\\nsint non ratione\\nsed et ut asperiores iusto eos molestiae nostrum\\nveritatis quibusdam et nemo iusto saepe'}, {'userId': 7, 'id': 67, 'title': 'aliquid eos sed fuga est maxime repellendus', 'body': 'reprehenderit id nostrum\\nvoluptas doloremque pariatur sint et accusantium quia quod aspernatur\\net fugiat amet\\nnon sapiente et consequatur necessitatibus molestiae'}, {'userId': 7, 'id': 68, 'title': 'odio quis facere architecto reiciendis optio', 'body': 'magnam molestiae perferendis quisquam\\nqui cum reiciendis\\nquaerat animi amet hic inventore\\nea quia deleniti quidem saepe porro velit'}, {'userId': 7, 'id': 69, 'title': 'fugiat quod pariatur odit minima', 'body': 'officiis error culpa consequatur modi asperiores et\\ndolorum assumenda voluptas et vel qui aut vel rerum\\nvoluptatum quisquam perspiciatis quia rerum consequatur totam quas\\nsequi commodi repudiandae asperiores et saepe a'}, {'userId': 7, 'id': 70, 'title': 'voluptatem laborum magni', 'body': 'sunt repellendus quae\\nest asperiores aut deleniti esse accusamus repellendus quia aut\\nquia dolorem unde\\neum tempora esse dolore'}, {'userId': 8, 'id': 71, 'title': 'et iusto veniam et illum aut fuga', 'body': 'occaecati a doloribus\\niste saepe consectetur placeat eum voluptate dolorem et\\nqui quo quia voluptas\\nrerum ut id enim velit est perferendis'}, {'userId': 8, 'id': 72, 'title': 'sint hic doloribus consequatur eos non id', 'body': 'quam occaecati qui deleniti consectetur\\nconsequatur aut facere quas exercitationem aliquam hic voluptas\\nneque id sunt ut aut accusamus\\nsunt consectetur expedita inventore velit'}, {'userId': 8, 'id': 73, 'title': 'consequuntur deleniti eos quia temporibus ab aliquid at', 'body': 'voluptatem cumque tenetur consequatur expedita ipsum nemo quia explicabo\\naut eum minima consequatur\\ntempore cumque quae est et\\net in consequuntur voluptatem voluptates aut'}, {'userId': 8, 'id': 74, 'title': 'enim unde ratione doloribus quas enim ut sit sapiente', 'body': 'odit qui et et necessitatibus sint veniam\\nmollitia amet doloremque molestiae commodi similique magnam et quam\\nblanditiis est itaque\\nquo et tenetur ratione occaecati molestiae tempora'}, {'userId': 8, 'id': 75, 'title': 'dignissimos eum dolor ut enim et delectus in', 'body': 'commodi non non omnis et voluptas sit\\nautem aut nobis magnam et sapiente voluptatem\\net laborum repellat qui delectus facilis temporibus\\nrerum amet et nemo voluptate expedita adipisci error dolorem'}, {'userId': 8, 'id': 76, 'title': 'doloremque officiis ad et non perferendis', 'body': 'ut animi facere\\ntotam iusto tempore\\nmolestiae eum aut et dolorem aperiam\\nquaerat recusandae totam odio'}, {'userId': 8, 'id': 77, 'title': 'necessitatibus quasi exercitationem odio', 'body': 'modi ut in nulla repudiandae dolorum nostrum eos\\naut consequatur omnis\\nut incidunt est omnis iste et quam\\nvoluptates sapiente aliquam asperiores nobis amet corrupti repudiandae provident'}, {'userId': 8, 'id': 78, 'title': 'quam voluptatibus rerum veritatis', 'body': 'nobis facilis odit tempore cupiditate quia\\nassumenda doloribus rerum qui ea\\nillum et qui totam\\naut veniam repellendus'}, {'userId': 8, 'id': 79, 'title': 'pariatur consequatur quia magnam autem omnis non amet', 'body': 'libero accusantium et et facere incidunt sit dolorem\\nnon excepturi qui quia sed laudantium\\nquisquam molestiae ducimus est\\nofficiis esse molestiae iste et quos'}, {'userId': 8, 'id': 80, 'title': 'labore in ex et explicabo corporis aut quas', 'body': 'ex quod dolorem ea eum iure qui provident amet\\nquia qui facere excepturi et repudiandae\\nasperiores molestias provident\\nminus incidunt vero fugit rerum sint sunt excepturi provident'}, {'userId': 9, 'id': 81, 'title': 'tempora rem veritatis voluptas quo dolores vero', 'body': 'facere qui nesciunt est voluptatum voluptatem nisi\\nsequi eligendi necessitatibus ea at rerum itaque\\nharum non ratione velit laboriosam quis consequuntur\\nex officiis minima doloremque voluptas ut aut'}, {'userId': 9, 'id': 82, 'title': 'laudantium voluptate suscipit sunt enim enim', 'body': 'ut libero sit aut totam inventore sunt\\nporro sint qui sunt molestiae\\nconsequatur cupiditate qui iste ducimus adipisci\\ndolor enim assumenda soluta laboriosam amet iste delectus hic'}, {'userId': 9, 'id': 83, 'title': 'odit et voluptates doloribus alias odio et', 'body': 'est molestiae facilis quis tempora numquam nihil qui\\nvoluptate sapiente consequatur est qui\\nnecessitatibus autem aut ipsa aperiam modi dolore numquam\\nreprehenderit eius rem quibusdam'}, {'userId': 9, 'id': 84, 'title': 'optio ipsam molestias necessitatibus occaecati facilis veritatis dolores aut', 'body': 'sint molestiae magni a et quos\\neaque et quasi\\nut rerum debitis similique veniam\\nrecusandae dignissimos dolor incidunt consequatur odio'}, {'userId': 9, 'id': 85, 'title': 'dolore veritatis porro provident adipisci blanditiis et sunt', 'body': 'similique sed nisi voluptas iusto omnis\\nmollitia et quo\\nassumenda suscipit officia magnam sint sed tempora\\nenim provident pariatur praesentium atque animi amet ratione'}, {'userId': 9, 'id': 86, 'title': 'placeat quia et porro iste', 'body': 'quasi excepturi consequatur iste autem temporibus sed molestiae beatae\\net quaerat et esse ut\\nvoluptatem occaecati et vel explicabo autem\\nasperiores pariatur deserunt optio'}, {'userId': 9, 'id': 87, 'title': 'nostrum quis quasi placeat', 'body': 'eos et molestiae\\nnesciunt ut a\\ndolores perspiciatis repellendus repellat aliquid\\nmagnam sint rem ipsum est'}, {'userId': 9, 'id': 88, 'title': 'sapiente omnis fugit eos', 'body': 'consequatur omnis est praesentium\\nducimus non iste\\nneque hic deserunt\\nvoluptatibus veniam cum et rerum sed'}, {'userId': 9, 'id': 89, 'title': 'sint soluta et vel magnam aut ut sed qui', 'body': 'repellat aut aperiam totam temporibus autem et\\narchitecto magnam ut\\nconsequatur qui cupiditate rerum quia soluta dignissimos nihil iure\\ntempore quas est'}, {'userId': 9, 'id': 90, 'title': 'ad iusto omnis odit dolor voluptatibus', 'body': 'minus omnis soluta quia\\nqui sed adipisci voluptates illum ipsam voluptatem\\neligendi officia ut in\\neos soluta similique molestias praesentium blanditiis'}, {'userId': 10, 'id': 91, 'title': 'aut amet sed', 'body': 'libero voluptate eveniet aperiam sed\\nsunt placeat suscipit molestias\\nsimilique fugit nam natus\\nexpedita consequatur consequatur dolores quia eos et placeat'}, {'userId': 10, 'id': 92, 'title': 'ratione ex tenetur perferendis', 'body': 'aut et excepturi dicta laudantium sint rerum nihil\\nlaudantium et at\\na neque minima officia et similique libero et\\ncommodi voluptate qui'}, {'userId': 10, 'id': 93, 'title': 'beatae soluta recusandae', 'body': 'dolorem quibusdam ducimus consequuntur dicta aut quo laboriosam\\nvoluptatem quis enim recusandae ut sed sunt\\nnostrum est odit totam\\nsit error sed sunt eveniet provident qui nulla'}, {'userId': 10, 'id': 94, 'title': 'qui qui voluptates illo iste minima', 'body': 'aspernatur expedita soluta quo ab ut similique\\nexpedita dolores amet\\nsed temporibus distinctio magnam saepe deleniti\\nomnis facilis nam ipsum natus sint similique omnis'}, {'userId': 10, 'id': 95, 'title': 'id minus libero illum nam ad officiis', 'body': 'earum voluptatem facere provident blanditiis velit laboriosam\\npariatur accusamus odio saepe\\ncumque dolor qui a dicta ab doloribus consequatur omnis\\ncorporis cupiditate eaque assumenda ad nesciunt'}, {'userId': 10, 'id': 96, 'title': 'quaerat velit veniam amet cupiditate aut numquam ut sequi', 'body': 'in non odio excepturi sint eum\\nlabore voluptates vitae quia qui et\\ninventore itaque rerum\\nveniam non exercitationem delectus aut'}, {'userId': 10, 'id': 97, 'title': 'quas fugiat ut perspiciatis vero provident', 'body': 'eum non blanditiis soluta porro quibusdam voluptas\\nvel voluptatem qui placeat dolores qui velit aut\\nvel inventore aut cumque culpa explicabo aliquid at\\nperspiciatis est et voluptatem dignissimos dolor itaque sit nam'}, {'userId': 10, 'id': 98, 'title': 'laboriosam dolor voluptates', 'body': 'doloremque ex facilis sit sint culpa\\nsoluta assumenda eligendi non ut eius\\nsequi ducimus vel quasi\\nveritatis est dolores'}, {'userId': 10, 'id': 99, 'title': 'temporibus sit alias delectus eligendi possimus magni', 'body': 'quo deleniti praesentium dicta non quod\\naut est molestias\\nmolestias et officia quis nihil\\nitaque dolorem quia'}, {'userId': 10, 'id': 100, 'title': 'at nam consequatur ea labore ea harum', 'body': 'cupiditate quo est a modi nesciunt soluta\\nipsa voluptas error itaque dicta in\\nautem qui minus magnam et distinctio eum\\naccusamus ratione error aut'}]\n"
     ]
    }
   ],
   "source": [
    "print(res)"
   ]
  },
  {
   "cell_type": "code",
   "execution_count": 98,
   "metadata": {},
   "outputs": [
    {
     "data": {
      "text/plain": [
       "{'userId': 1,\n",
       " 'id': 1,\n",
       " 'title': 'sunt aut facere repellat provident occaecati excepturi optio reprehenderit',\n",
       " 'body': 'quia et suscipit\\nsuscipit recusandae consequuntur expedita et cum\\nreprehenderit molestiae ut ut quas totam\\nnostrum rerum est autem sunt rem eveniet architecto'}"
      ]
     },
     "execution_count": 98,
     "metadata": {},
     "output_type": "execute_result"
    }
   ],
   "source": [
    "res[0]"
   ]
  },
  {
   "cell_type": "code",
   "execution_count": 99,
   "metadata": {
    "tags": []
   },
   "outputs": [
    {
     "name": "stdout",
     "output_type": "stream",
     "text": [
      "sunt aut facere repellat provident occaecati excepturi optio reprehenderit\n",
      "qui est esse\n",
      "ea molestias quasi exercitationem repellat qui ipsa sit aut\n",
      "eum et est occaecati\n",
      "nesciunt quas odio\n",
      "dolorem eum magni eos aperiam quia\n",
      "magnam facilis autem\n",
      "dolorem dolore est ipsam\n",
      "nesciunt iure omnis dolorem tempora et accusantium\n",
      "optio molestias id quia eum\n",
      "et ea vero quia laudantium autem\n",
      "in quibusdam tempore odit est dolorem\n",
      "dolorum ut in voluptas mollitia et saepe quo animi\n",
      "voluptatem eligendi optio\n",
      "eveniet quod temporibus\n",
      "sint suscipit perspiciatis velit dolorum rerum ipsa laboriosam odio\n",
      "fugit voluptas sed molestias voluptatem provident\n",
      "voluptate et itaque vero tempora molestiae\n",
      "adipisci placeat illum aut reiciendis qui\n",
      "doloribus ad provident suscipit at\n",
      "asperiores ea ipsam voluptatibus modi minima quia sint\n",
      "dolor sint quo a velit explicabo quia nam\n",
      "maxime id vitae nihil numquam\n",
      "autem hic labore sunt dolores incidunt\n",
      "rem alias distinctio quo quis\n",
      "est et quae odit qui non\n",
      "quasi id et eos tenetur aut quo autem\n",
      "delectus ullam et corporis nulla voluptas sequi\n",
      "iusto eius quod necessitatibus culpa ea\n",
      "a quo magni similique perferendis\n",
      "ullam ut quidem id aut vel consequuntur\n",
      "doloremque illum aliquid sunt\n",
      "qui explicabo molestiae dolorem\n",
      "magnam ut rerum iure\n",
      "id nihil consequatur molestias animi provident\n",
      "fuga nam accusamus voluptas reiciendis itaque\n",
      "provident vel ut sit ratione est\n",
      "explicabo et eos deleniti nostrum ab id repellendus\n",
      "eos dolorem iste accusantium est eaque quam\n",
      "enim quo cumque\n",
      "non est facere\n",
      "commodi ullam sint et excepturi error explicabo praesentium voluptas\n",
      "eligendi iste nostrum consequuntur adipisci praesentium sit beatae perferendis\n",
      "optio dolor molestias sit\n",
      "ut numquam possimus omnis eius suscipit laudantium iure\n",
      "aut quo modi neque nostrum ducimus\n",
      "quibusdam cumque rem aut deserunt\n",
      "ut voluptatem illum ea doloribus itaque eos\n",
      "laborum non sunt aut ut assumenda perspiciatis voluptas\n",
      "repellendus qui recusandae incidunt voluptates tenetur qui omnis exercitationem\n",
      "soluta aliquam aperiam consequatur illo quis voluptas\n",
      "qui enim et consequuntur quia animi quis voluptate quibusdam\n",
      "ut quo aut ducimus alias\n",
      "sit asperiores ipsam eveniet odio non quia\n",
      "sit vel voluptatem et non libero\n",
      "qui et at rerum necessitatibus\n",
      "sed ab est est\n",
      "voluptatum itaque dolores nisi et quasi\n",
      "qui commodi dolor at maiores et quis id accusantium\n",
      "consequatur placeat omnis quisquam quia reprehenderit fugit veritatis facere\n",
      "voluptatem doloribus consectetur est ut ducimus\n",
      "beatae enim quia vel\n",
      "voluptas blanditiis repellendus animi ducimus error sapiente et suscipit\n",
      "et fugit quas eum in in aperiam quod\n",
      "consequatur id enim sunt et et\n",
      "repudiandae ea animi iusto\n",
      "aliquid eos sed fuga est maxime repellendus\n",
      "odio quis facere architecto reiciendis optio\n",
      "fugiat quod pariatur odit minima\n",
      "voluptatem laborum magni\n",
      "et iusto veniam et illum aut fuga\n",
      "sint hic doloribus consequatur eos non id\n",
      "consequuntur deleniti eos quia temporibus ab aliquid at\n",
      "enim unde ratione doloribus quas enim ut sit sapiente\n",
      "dignissimos eum dolor ut enim et delectus in\n",
      "doloremque officiis ad et non perferendis\n",
      "necessitatibus quasi exercitationem odio\n",
      "quam voluptatibus rerum veritatis\n",
      "pariatur consequatur quia magnam autem omnis non amet\n",
      "labore in ex et explicabo corporis aut quas\n",
      "tempora rem veritatis voluptas quo dolores vero\n",
      "laudantium voluptate suscipit sunt enim enim\n",
      "odit et voluptates doloribus alias odio et\n",
      "optio ipsam molestias necessitatibus occaecati facilis veritatis dolores aut\n",
      "dolore veritatis porro provident adipisci blanditiis et sunt\n",
      "placeat quia et porro iste\n",
      "nostrum quis quasi placeat\n",
      "sapiente omnis fugit eos\n",
      "sint soluta et vel magnam aut ut sed qui\n",
      "ad iusto omnis odit dolor voluptatibus\n",
      "aut amet sed\n",
      "ratione ex tenetur perferendis\n",
      "beatae soluta recusandae\n",
      "qui qui voluptates illo iste minima\n",
      "id minus libero illum nam ad officiis\n",
      "quaerat velit veniam amet cupiditate aut numquam ut sequi\n",
      "quas fugiat ut perspiciatis vero provident\n",
      "laboriosam dolor voluptates\n",
      "temporibus sit alias delectus eligendi possimus magni\n",
      "at nam consequatur ea labore ea harum\n"
     ]
    }
   ],
   "source": [
    "for x in res:\n",
    "    print(x[\"title\"])"
   ]
  },
  {
   "cell_type": "code",
   "execution_count": null,
   "metadata": {},
   "outputs": [],
   "source": []
  },
  {
   "cell_type": "code",
   "execution_count": null,
   "metadata": {},
   "outputs": [],
   "source": []
  },
  {
   "cell_type": "code",
   "execution_count": null,
   "metadata": {},
   "outputs": [],
   "source": []
  },
  {
   "cell_type": "code",
   "execution_count": null,
   "metadata": {},
   "outputs": [],
   "source": []
  },
  {
   "cell_type": "code",
   "execution_count": null,
   "metadata": {},
   "outputs": [],
   "source": []
  },
  {
   "cell_type": "code",
   "execution_count": null,
   "metadata": {},
   "outputs": [],
   "source": []
  },
  {
   "cell_type": "code",
   "execution_count": null,
   "metadata": {},
   "outputs": [],
   "source": []
  },
  {
   "cell_type": "code",
   "execution_count": null,
   "metadata": {},
   "outputs": [],
   "source": []
  },
  {
   "cell_type": "code",
   "execution_count": 101,
   "metadata": {},
   "outputs": [],
   "source": [
    "# Dependencies\n",
    "import requests\n",
    "import json"
   ]
  },
  {
   "cell_type": "code",
   "execution_count": 104,
   "metadata": {},
   "outputs": [],
   "source": [
    "# URL for GET requests to retrieve vehicle data\n",
    "url = \"https://api.spacexdata.com/v4/launchpads\""
   ]
  },
  {
   "cell_type": "code",
   "execution_count": 105,
   "metadata": {},
   "outputs": [
    {
     "name": "stdout",
     "output_type": "stream",
     "text": [
      "<Response [200]>\n"
     ]
    }
   ],
   "source": [
    "# Print the response object to the console\n",
    "print(requests.get(url))"
   ]
  },
  {
   "cell_type": "code",
   "execution_count": 106,
   "metadata": {
    "collapsed": true,
    "jupyter": {
     "outputs_hidden": true
    },
    "tags": []
   },
   "outputs": [
    {
     "name": "stdout",
     "output_type": "stream",
     "text": [
      "[{'images': {'large': ['https://i.imgur.com/7uXe1Kv.png']}, 'name': 'VAFB SLC 3W', 'full_name': 'Vandenberg Space Force Base Space Launch Complex 3W', 'locality': 'Vandenberg Space Force Base', 'region': 'California', 'latitude': 34.6440904, 'longitude': -120.5931438, 'launch_attempts': 0, 'launch_successes': 0, 'rockets': ['5e9d0d95eda69955f709d1eb'], 'timezone': 'America/Los_Angeles', 'launches': [], 'status': 'retired', 'details': \"SpaceX's original west coast launch pad for Falcon 1. It was used in a static fire test but was never employed for a launch, and was abandoned due to range scheduling conflicts arising from overflying other active pads.\", 'id': '5e9e4501f5090910d4566f83'}, {'images': {'large': ['https://i.imgur.com/9oEMXwa.png']}, 'name': 'CCSFS SLC 40', 'full_name': 'Cape Canaveral Space Force Station Space Launch Complex 40', 'locality': 'Cape Canaveral', 'region': 'Florida', 'latitude': 28.5618571, 'longitude': -80.577366, 'launch_attempts': 99, 'launch_successes': 97, 'rockets': ['5e9d0d95eda69973a809d1ec'], 'timezone': 'America/New_York', 'launches': ['5eb87cddffd86e000604b32f', '5eb87cdeffd86e000604b330', '5eb87cdfffd86e000604b331', '5eb87ce0ffd86e000604b332', '5eb87ce1ffd86e000604b333', '5eb87ce2ffd86e000604b335', '5eb87ce3ffd86e000604b336', '5eb87ce4ffd86e000604b337', '5eb87ce4ffd86e000604b338', '5eb87ce5ffd86e000604b339', '5eb87ce6ffd86e000604b33a', '5eb87ce7ffd86e000604b33b', '5eb87ce8ffd86e000604b33c', '5eb87ceaffd86e000604b33d', '5eb87ceaffd86e000604b33e', '5eb87cecffd86e000604b33f', '5eb87cedffd86e000604b340', '5eb87ceeffd86e000604b341', '5eb87cefffd86e000604b342', '5eb87cf2ffd86e000604b344', '5eb87cf3ffd86e000604b345', '5eb87cf5ffd86e000604b346', '5eb87cf6ffd86e000604b347', '5eb87cf8ffd86e000604b348', '5eb87cf9ffd86e000604b349', '5eb87cfaffd86e000604b34a', '5eb87cfbffd86e000604b34b', '5eb87d0effd86e000604b35c', '5eb87d10ffd86e000604b35e', '5eb87d11ffd86e000604b35f', '5eb87d15ffd86e000604b362', '5eb87d16ffd86e000604b364', '5eb87d18ffd86e000604b365', '5eb87d1bffd86e000604b368', '5eb87d1cffd86e000604b369', '5eb87d1effd86e000604b36a', '5eb87d20ffd86e000604b36c', '5eb87d22ffd86e000604b36d', '5eb87d26ffd86e000604b371', '5eb87d27ffd86e000604b372', '5eb87d2affd86e000604b374', '5eb87d2effd86e000604b377', '5eb87d30ffd86e000604b378', '5eb87d36ffd86e000604b37b', '5eb87d37ffd86e000604b37c', '5eb87d39ffd86e000604b37d', '5eb87d39ffd86e000604b37e', '5eb87d3bffd86e000604b37f', '5eb87d3cffd86e000604b380', '5eb87d3fffd86e000604b382', '5eb87d41ffd86e000604b383', '5eb87d42ffd86e000604b384', '5eb87d45ffd86e000604b387', '5eb87d46ffd86e000604b389', '5eb87d4affd86e000604b38b', '5eb87d50ffd86e000604b394', '5ed981d91f30554030d45c2a', '5eb87d47ffd86e000604b38a', '5ef6a2e70059c33cee4a8293', '5eb87d4cffd86e000604b38d', '5fb95b3f3a88ae63c954603c', '5eb87d4bffd86e000604b38c', '5eb87d4fffd86e000604b393', '5fd386aa7faea57d297c86c1', '5ff6554f9257f579ee3a6c5f', '600f9a5e8f798e2a4d5f979c', '600f9a718f798e2a4d5f979d', '60428aafc041c16716f73cd7', '60428ac4c041c16716f73cd8', '605b4b6aaa5433645e37d03f', '6079bd1c9a06446e8c61bf76', '6079bd399a06446e8c61bf77', '5fe3af6db3467846b3242160', '5eb87d4effd86e000604b390', '600f9b6d8f798e2a4d5f979f', '618faad2563d69573ed8ca9d', '6161c94c6db1a92bfba85349', '5fe3afc1b3467846b3242164', '61bf3e31cd5ab50b0d936345', '6161d32d6db1a92bfba85359', '61fc01dae0dc5662b76489a7', '61fc0243e0dc5662b76489ae', '6234908cf051102e1fcedac4', '6243ad8baf52800c6e919252', '6243ada6af52800c6e919253', '62582a6f5988f159024b964b', '625828f25988f159024b9643', '6243ae24af52800c6e919258', '6243ae0aaf52800c6e919257', '62a9f08b20413d2695d88711', '6243aea5af52800c6e91925c', '62a9f0c920413d2695d88712', '62a9f0f820413d2695d88714', '62a9f12820413d2695d88716', '62a9f86420413d2695d88719', '62f3b5200f55c50e192a4e6c', '62f3b5330f55c50e192a4e6e', '63161329ffc78f3b8567070b', '63161339ffc78f3b8567070c'], 'status': 'active', 'details': \"SpaceX's primary Falcon 9 pad, where all east coast Falcon 9s launched prior to the AMOS-6 anomaly. Previously used alongside SLC-41 to launch Titan rockets for the US Air Force, the pad was heavily damaged by the AMOS-6 anomaly in September 2016. It returned to flight with CRS-13 on December 15, 2017, boasting an upgraded throwback-style Transporter-Erector modeled after that at LC-39A.\", 'id': '5e9e4501f509094ba4566f84'}, {'images': {'large': ['https://i.imgur.com/ZzTTC5p.png']}, 'name': 'STLS', 'full_name': 'SpaceX South Texas Launch Site', 'locality': 'Boca Chica Village', 'region': 'Texas', 'latitude': 25.9972641, 'longitude': -97.1560845, 'launch_attempts': 0, 'launch_successes': 0, 'rockets': [], 'timezone': 'America/Chicago', 'launches': [], 'status': 'under construction', 'details': \"SpaceX's new private launch site currently under construction for suborbital test flights of Starship, and potentially orbital flights of the full super heavy stack (previously referred to as BFR) in the future. Currently planned to enter use with static fires and test hops of the Starhopper, with the first tethered hop successfully occurring in March 2019. It was previously going to be used for Falcon 9 and Falcon Heavy flights, but this no longer appears to be likely due to its construction timeline and existing launch sites being sufficient to handle present demand. Due to the Caribbean islands and off-shore oil wells, it will be limited to very few possible launch trajectories, and current Texas law only allows a limited number of beach closures per year for orbital launches.\", 'id': '5e9e4502f5090927f8566f85'}, {'images': {'large': ['https://i.imgur.com/GGPgsVs.png']}, 'name': 'Kwajalein Atoll', 'full_name': 'Kwajalein Atoll Omelek Island', 'locality': 'Omelek Island', 'region': 'Marshall Islands', 'latitude': 9.0477206, 'longitude': 167.7431292, 'launch_attempts': 5, 'launch_successes': 2, 'rockets': ['5e9d0d95eda69955f709d1eb'], 'timezone': 'Pacific/Kwajalein', 'launches': ['5eb87cd9ffd86e000604b32a', '5eb87cdaffd86e000604b32b', '5eb87cdbffd86e000604b32c', '5eb87cdbffd86e000604b32d', '5eb87cdcffd86e000604b32e'], 'status': 'retired', 'details': \"SpaceX's original pad, where all of the Falcon 1 flights occurred (from 2006 to 2009). It would have also been the launch site of the Falcon 1e and the Falcon 9, but it was abandoned as SpaceX ended the Falcon 1 program and decided against upgrading it to support Falcon 9, likely due to its remote location and ensuing logistics complexities.\", 'id': '5e9e4502f5090995de566f86'}, {'images': {'large': ['https://i.imgur.com/asp5L08.png']}, 'name': 'VAFB SLC 4E', 'full_name': 'Vandenberg Space Force Base Space Launch Complex 4E', 'locality': 'Vandenberg Space Force Base', 'region': 'California', 'latitude': 34.632093, 'longitude': -120.610829, 'launch_attempts': 28, 'launch_successes': 27, 'rockets': ['5e9d0d95eda69973a809d1ec'], 'timezone': 'America/Los_Angeles', 'launches': ['5eb87ce1ffd86e000604b334', '5eb87cf0ffd86e000604b343', '5eb87cfdffd86e000604b34c', '5eb87d05ffd86e000604b354', '5eb87d08ffd86e000604b357', '5eb87d0affd86e000604b359', '5eb87d0fffd86e000604b35d', '5eb87d14ffd86e000604b361', '5eb87d16ffd86e000604b363', '5eb87d1affd86e000604b367', '5eb87d1fffd86e000604b36b', '5eb87d23ffd86e000604b36e', '5eb87d25ffd86e000604b370', '5eb87d28ffd86e000604b373', '5eb87d31ffd86e000604b379', '5ed983aa1f30554030d45c31', '60e3bf0d73359e1e20335c37', '5fe3b107b3467846b324216b', '61bba806437241381bf7061e', '607a34e35a906a44023e085e', '61fc0203e0dc5662b76489a8', '6243adcaaf52800c6e919254', '6258290d5988f159024b9644', '5fe3af43b3467846b324215e', '62a9f0e320413d2695d88713', '62a9f10b20413d2695d88715', '62f3b4ff0f55c50e192a4e6b', '62f3b53a0f55c50e192a4e6f'], 'status': 'active', 'details': \"SpaceX's primary west coast launch pad for polar orbits and sun-synchronous orbits, primarily used for Iridium NEXT and scientific satellite launches. The pad was used for the debut of Falcon 9 v1.1 in the rocket's first ever non-dragon mission, CASSIOPE, in September 2013. It is SpaceX's only remaining pad with the old-style transporter/erector, which reclines prior to launch instead of using a throwback procedure. It is also capable of launching Falcon Heavy (although some pad modifications would be needed, but no west coast Falcon Heavy missions are currently planned).\", 'id': '5e9e4502f509092b78566f87'}, {'images': {'large': ['https://i.imgur.com/1jwU0Pk.png']}, 'name': 'KSC LC 39A', 'full_name': 'Kennedy Space Center Historic Launch Complex 39A', 'locality': 'Cape Canaveral', 'region': 'Florida', 'latitude': 28.6080585, 'longitude': -80.6039558, 'launch_attempts': 55, 'launch_successes': 55, 'rockets': ['5e9d0d95eda69973a809d1ec', '5e9d0d95eda69974db09d1ed'], 'timezone': 'America/New_York', 'launches': ['5eb87cfeffd86e000604b34d', '5eb87cfeffd86e000604b34e', '5eb87d00ffd86e000604b34f', '5eb87d01ffd86e000604b350', '5eb87d01ffd86e000604b351', '5eb87d03ffd86e000604b352', '5eb87d04ffd86e000604b353', '5eb87d06ffd86e000604b355', '5eb87d07ffd86e000604b356', '5eb87d09ffd86e000604b358', '5eb87d0cffd86e000604b35a', '5eb87d0dffd86e000604b35b', '5eb87d13ffd86e000604b360', '5eb87d19ffd86e000604b366', '5eb87d24ffd86e000604b36f', '5eb87d2bffd86e000604b375', '5eb87d2dffd86e000604b376', '5eb87d35ffd86e000604b37a', '5eb87d3dffd86e000604b381', '5eb87d43ffd86e000604b385', '5eb87d44ffd86e000604b386', '5eb87d46ffd86e000604b388', '5ed9819a1f30554030d45c29', '5ef6a1e90059c33cee4a828a', '5ef6a2090059c33cee4a828b', '5ef6a2bf0059c33cee4a828c', '5eb87d4dffd86e000604b38e', '5eb87d4effd86e000604b391', '5f8399fb818d8b59f5740d43', '5fbfecce54ceb10a5664c80a', '5fbfecfe54ceb10a5664c80b', '600f9a8d8f798e2a4d5f979e', '5fe3af58b3467846b324215f', '605b4b7daa5433645e37d040', '605b4b95aa5433645e37d041', '5fe3af84b3467846b3242161', '5fe3b11eb3467846b324216c', '607a37565a906a44023e0866', '5fe3b15eb3467846b324216d', '6161c88d6db1a92bfba85348', '6161d2006db1a92bfba85356', '61d5eca1f88e4c5fc91f1eb7', '61e048bbbe8d8b66799018d0', '61e048ffbe8d8b66799018d1', '61fc0224e0dc5662b76489ab', '61eefaa89eb1064137a1bd73', '6243ade2af52800c6e919255', '62582a855988f159024b964c', '62615ebc0ec008379be596fa', '6278481757b51b752c5c5a5f', '6243ae40af52800c6e919259', '62a9f8b320413d2695d8871b', '62f3b5290f55c50e192a4e6d', '62a9f89a20413d2695d8871a', '62dd70d5202306255024d139'], 'status': 'active', 'details': \"NASA's historic pad that launched most of the Saturn V and Space Shuttle missions, including Apollo 11. SpaceX initially leased solely for Falcon Heavy and Crew Dragon launches, but the company has also used it for others as well following the damage to SLC-40 in the AMOS-6 explosion. After completing the necessary modifications, the first launch SpaceX performed on the pad was CRS-10 in February 2017. After SLC-40 was back online, 39A was upgraded to support Falcon Heavy and complete the removal of the shuttle-era Rotating Service Structure. More recently, a crew access arm and other safety equipment has been installed in order to launch commercial crew missions. 39A also occasionally launches other Falcon 9 missions between Falcon Heavy and Crew Dragon launches, depending on pad scheduling. The pad may also potentially be upgraded in the future for use with the BFR.\", 'id': '5e9e4502f509094188566f88'}]\n"
     ]
    }
   ],
   "source": [
    "# Retrieving data and converting it into JSON\n",
    "print(requests.get(url).json())"
   ]
  },
  {
   "cell_type": "code",
   "execution_count": 108,
   "metadata": {},
   "outputs": [
    {
     "data": {
      "text/plain": [
       "\"SpaceX's original west coast launch pad for Falcon 1. It was used in a static fire test but was never employed for a launch, and was abandoned due to range scheduling conflicts arising from overflying other active pads.\""
      ]
     },
     "execution_count": 108,
     "metadata": {},
     "output_type": "execute_result"
    }
   ],
   "source": [
    "response[0][\"details\"]"
   ]
  },
  {
   "cell_type": "code",
   "execution_count": 107,
   "metadata": {
    "collapsed": true,
    "jupyter": {
     "outputs_hidden": true
    },
    "tags": []
   },
   "outputs": [
    {
     "name": "stdout",
     "output_type": "stream",
     "text": [
      "[\n",
      "    {\n",
      "        \"details\": \"SpaceX's original west coast launch pad for Falcon 1. It was used in a static fire test but was never employed for a launch, and was abandoned due to range scheduling conflicts arising from overflying other active pads.\",\n",
      "        \"full_name\": \"Vandenberg Space Force Base Space Launch Complex 3W\",\n",
      "        \"id\": \"5e9e4501f5090910d4566f83\",\n",
      "        \"images\": {\n",
      "            \"large\": [\n",
      "                \"https://i.imgur.com/7uXe1Kv.png\"\n",
      "            ]\n",
      "        },\n",
      "        \"latitude\": 34.6440904,\n",
      "        \"launch_attempts\": 0,\n",
      "        \"launch_successes\": 0,\n",
      "        \"launches\": [],\n",
      "        \"locality\": \"Vandenberg Space Force Base\",\n",
      "        \"longitude\": -120.5931438,\n",
      "        \"name\": \"VAFB SLC 3W\",\n",
      "        \"region\": \"California\",\n",
      "        \"rockets\": [\n",
      "            \"5e9d0d95eda69955f709d1eb\"\n",
      "        ],\n",
      "        \"status\": \"retired\",\n",
      "        \"timezone\": \"America/Los_Angeles\"\n",
      "    },\n",
      "    {\n",
      "        \"details\": \"SpaceX's primary Falcon 9 pad, where all east coast Falcon 9s launched prior to the AMOS-6 anomaly. Previously used alongside SLC-41 to launch Titan rockets for the US Air Force, the pad was heavily damaged by the AMOS-6 anomaly in September 2016. It returned to flight with CRS-13 on December 15, 2017, boasting an upgraded throwback-style Transporter-Erector modeled after that at LC-39A.\",\n",
      "        \"full_name\": \"Cape Canaveral Space Force Station Space Launch Complex 40\",\n",
      "        \"id\": \"5e9e4501f509094ba4566f84\",\n",
      "        \"images\": {\n",
      "            \"large\": [\n",
      "                \"https://i.imgur.com/9oEMXwa.png\"\n",
      "            ]\n",
      "        },\n",
      "        \"latitude\": 28.5618571,\n",
      "        \"launch_attempts\": 99,\n",
      "        \"launch_successes\": 97,\n",
      "        \"launches\": [\n",
      "            \"5eb87cddffd86e000604b32f\",\n",
      "            \"5eb87cdeffd86e000604b330\",\n",
      "            \"5eb87cdfffd86e000604b331\",\n",
      "            \"5eb87ce0ffd86e000604b332\",\n",
      "            \"5eb87ce1ffd86e000604b333\",\n",
      "            \"5eb87ce2ffd86e000604b335\",\n",
      "            \"5eb87ce3ffd86e000604b336\",\n",
      "            \"5eb87ce4ffd86e000604b337\",\n",
      "            \"5eb87ce4ffd86e000604b338\",\n",
      "            \"5eb87ce5ffd86e000604b339\",\n",
      "            \"5eb87ce6ffd86e000604b33a\",\n",
      "            \"5eb87ce7ffd86e000604b33b\",\n",
      "            \"5eb87ce8ffd86e000604b33c\",\n",
      "            \"5eb87ceaffd86e000604b33d\",\n",
      "            \"5eb87ceaffd86e000604b33e\",\n",
      "            \"5eb87cecffd86e000604b33f\",\n",
      "            \"5eb87cedffd86e000604b340\",\n",
      "            \"5eb87ceeffd86e000604b341\",\n",
      "            \"5eb87cefffd86e000604b342\",\n",
      "            \"5eb87cf2ffd86e000604b344\",\n",
      "            \"5eb87cf3ffd86e000604b345\",\n",
      "            \"5eb87cf5ffd86e000604b346\",\n",
      "            \"5eb87cf6ffd86e000604b347\",\n",
      "            \"5eb87cf8ffd86e000604b348\",\n",
      "            \"5eb87cf9ffd86e000604b349\",\n",
      "            \"5eb87cfaffd86e000604b34a\",\n",
      "            \"5eb87cfbffd86e000604b34b\",\n",
      "            \"5eb87d0effd86e000604b35c\",\n",
      "            \"5eb87d10ffd86e000604b35e\",\n",
      "            \"5eb87d11ffd86e000604b35f\",\n",
      "            \"5eb87d15ffd86e000604b362\",\n",
      "            \"5eb87d16ffd86e000604b364\",\n",
      "            \"5eb87d18ffd86e000604b365\",\n",
      "            \"5eb87d1bffd86e000604b368\",\n",
      "            \"5eb87d1cffd86e000604b369\",\n",
      "            \"5eb87d1effd86e000604b36a\",\n",
      "            \"5eb87d20ffd86e000604b36c\",\n",
      "            \"5eb87d22ffd86e000604b36d\",\n",
      "            \"5eb87d26ffd86e000604b371\",\n",
      "            \"5eb87d27ffd86e000604b372\",\n",
      "            \"5eb87d2affd86e000604b374\",\n",
      "            \"5eb87d2effd86e000604b377\",\n",
      "            \"5eb87d30ffd86e000604b378\",\n",
      "            \"5eb87d36ffd86e000604b37b\",\n",
      "            \"5eb87d37ffd86e000604b37c\",\n",
      "            \"5eb87d39ffd86e000604b37d\",\n",
      "            \"5eb87d39ffd86e000604b37e\",\n",
      "            \"5eb87d3bffd86e000604b37f\",\n",
      "            \"5eb87d3cffd86e000604b380\",\n",
      "            \"5eb87d3fffd86e000604b382\",\n",
      "            \"5eb87d41ffd86e000604b383\",\n",
      "            \"5eb87d42ffd86e000604b384\",\n",
      "            \"5eb87d45ffd86e000604b387\",\n",
      "            \"5eb87d46ffd86e000604b389\",\n",
      "            \"5eb87d4affd86e000604b38b\",\n",
      "            \"5eb87d50ffd86e000604b394\",\n",
      "            \"5ed981d91f30554030d45c2a\",\n",
      "            \"5eb87d47ffd86e000604b38a\",\n",
      "            \"5ef6a2e70059c33cee4a8293\",\n",
      "            \"5eb87d4cffd86e000604b38d\",\n",
      "            \"5fb95b3f3a88ae63c954603c\",\n",
      "            \"5eb87d4bffd86e000604b38c\",\n",
      "            \"5eb87d4fffd86e000604b393\",\n",
      "            \"5fd386aa7faea57d297c86c1\",\n",
      "            \"5ff6554f9257f579ee3a6c5f\",\n",
      "            \"600f9a5e8f798e2a4d5f979c\",\n",
      "            \"600f9a718f798e2a4d5f979d\",\n",
      "            \"60428aafc041c16716f73cd7\",\n",
      "            \"60428ac4c041c16716f73cd8\",\n",
      "            \"605b4b6aaa5433645e37d03f\",\n",
      "            \"6079bd1c9a06446e8c61bf76\",\n",
      "            \"6079bd399a06446e8c61bf77\",\n",
      "            \"5fe3af6db3467846b3242160\",\n",
      "            \"5eb87d4effd86e000604b390\",\n",
      "            \"600f9b6d8f798e2a4d5f979f\",\n",
      "            \"618faad2563d69573ed8ca9d\",\n",
      "            \"6161c94c6db1a92bfba85349\",\n",
      "            \"5fe3afc1b3467846b3242164\",\n",
      "            \"61bf3e31cd5ab50b0d936345\",\n",
      "            \"6161d32d6db1a92bfba85359\",\n",
      "            \"61fc01dae0dc5662b76489a7\",\n",
      "            \"61fc0243e0dc5662b76489ae\",\n",
      "            \"6234908cf051102e1fcedac4\",\n",
      "            \"6243ad8baf52800c6e919252\",\n",
      "            \"6243ada6af52800c6e919253\",\n",
      "            \"62582a6f5988f159024b964b\",\n",
      "            \"625828f25988f159024b9643\",\n",
      "            \"6243ae24af52800c6e919258\",\n",
      "            \"6243ae0aaf52800c6e919257\",\n",
      "            \"62a9f08b20413d2695d88711\",\n",
      "            \"6243aea5af52800c6e91925c\",\n",
      "            \"62a9f0c920413d2695d88712\",\n",
      "            \"62a9f0f820413d2695d88714\",\n",
      "            \"62a9f12820413d2695d88716\",\n",
      "            \"62a9f86420413d2695d88719\",\n",
      "            \"62f3b5200f55c50e192a4e6c\",\n",
      "            \"62f3b5330f55c50e192a4e6e\",\n",
      "            \"63161329ffc78f3b8567070b\",\n",
      "            \"63161339ffc78f3b8567070c\"\n",
      "        ],\n",
      "        \"locality\": \"Cape Canaveral\",\n",
      "        \"longitude\": -80.577366,\n",
      "        \"name\": \"CCSFS SLC 40\",\n",
      "        \"region\": \"Florida\",\n",
      "        \"rockets\": [\n",
      "            \"5e9d0d95eda69973a809d1ec\"\n",
      "        ],\n",
      "        \"status\": \"active\",\n",
      "        \"timezone\": \"America/New_York\"\n",
      "    },\n",
      "    {\n",
      "        \"details\": \"SpaceX's new private launch site currently under construction for suborbital test flights of Starship, and potentially orbital flights of the full super heavy stack (previously referred to as BFR) in the future. Currently planned to enter use with static fires and test hops of the Starhopper, with the first tethered hop successfully occurring in March 2019. It was previously going to be used for Falcon 9 and Falcon Heavy flights, but this no longer appears to be likely due to its construction timeline and existing launch sites being sufficient to handle present demand. Due to the Caribbean islands and off-shore oil wells, it will be limited to very few possible launch trajectories, and current Texas law only allows a limited number of beach closures per year for orbital launches.\",\n",
      "        \"full_name\": \"SpaceX South Texas Launch Site\",\n",
      "        \"id\": \"5e9e4502f5090927f8566f85\",\n",
      "        \"images\": {\n",
      "            \"large\": [\n",
      "                \"https://i.imgur.com/ZzTTC5p.png\"\n",
      "            ]\n",
      "        },\n",
      "        \"latitude\": 25.9972641,\n",
      "        \"launch_attempts\": 0,\n",
      "        \"launch_successes\": 0,\n",
      "        \"launches\": [],\n",
      "        \"locality\": \"Boca Chica Village\",\n",
      "        \"longitude\": -97.1560845,\n",
      "        \"name\": \"STLS\",\n",
      "        \"region\": \"Texas\",\n",
      "        \"rockets\": [],\n",
      "        \"status\": \"under construction\",\n",
      "        \"timezone\": \"America/Chicago\"\n",
      "    },\n",
      "    {\n",
      "        \"details\": \"SpaceX's original pad, where all of the Falcon 1 flights occurred (from 2006 to 2009). It would have also been the launch site of the Falcon 1e and the Falcon 9, but it was abandoned as SpaceX ended the Falcon 1 program and decided against upgrading it to support Falcon 9, likely due to its remote location and ensuing logistics complexities.\",\n",
      "        \"full_name\": \"Kwajalein Atoll Omelek Island\",\n",
      "        \"id\": \"5e9e4502f5090995de566f86\",\n",
      "        \"images\": {\n",
      "            \"large\": [\n",
      "                \"https://i.imgur.com/GGPgsVs.png\"\n",
      "            ]\n",
      "        },\n",
      "        \"latitude\": 9.0477206,\n",
      "        \"launch_attempts\": 5,\n",
      "        \"launch_successes\": 2,\n",
      "        \"launches\": [\n",
      "            \"5eb87cd9ffd86e000604b32a\",\n",
      "            \"5eb87cdaffd86e000604b32b\",\n",
      "            \"5eb87cdbffd86e000604b32c\",\n",
      "            \"5eb87cdbffd86e000604b32d\",\n",
      "            \"5eb87cdcffd86e000604b32e\"\n",
      "        ],\n",
      "        \"locality\": \"Omelek Island\",\n",
      "        \"longitude\": 167.7431292,\n",
      "        \"name\": \"Kwajalein Atoll\",\n",
      "        \"region\": \"Marshall Islands\",\n",
      "        \"rockets\": [\n",
      "            \"5e9d0d95eda69955f709d1eb\"\n",
      "        ],\n",
      "        \"status\": \"retired\",\n",
      "        \"timezone\": \"Pacific/Kwajalein\"\n",
      "    },\n",
      "    {\n",
      "        \"details\": \"SpaceX's primary west coast launch pad for polar orbits and sun-synchronous orbits, primarily used for Iridium NEXT and scientific satellite launches. The pad was used for the debut of Falcon 9 v1.1 in the rocket's first ever non-dragon mission, CASSIOPE, in September 2013. It is SpaceX's only remaining pad with the old-style transporter/erector, which reclines prior to launch instead of using a throwback procedure. It is also capable of launching Falcon Heavy (although some pad modifications would be needed, but no west coast Falcon Heavy missions are currently planned).\",\n",
      "        \"full_name\": \"Vandenberg Space Force Base Space Launch Complex 4E\",\n",
      "        \"id\": \"5e9e4502f509092b78566f87\",\n",
      "        \"images\": {\n",
      "            \"large\": [\n",
      "                \"https://i.imgur.com/asp5L08.png\"\n",
      "            ]\n",
      "        },\n",
      "        \"latitude\": 34.632093,\n",
      "        \"launch_attempts\": 28,\n",
      "        \"launch_successes\": 27,\n",
      "        \"launches\": [\n",
      "            \"5eb87ce1ffd86e000604b334\",\n",
      "            \"5eb87cf0ffd86e000604b343\",\n",
      "            \"5eb87cfdffd86e000604b34c\",\n",
      "            \"5eb87d05ffd86e000604b354\",\n",
      "            \"5eb87d08ffd86e000604b357\",\n",
      "            \"5eb87d0affd86e000604b359\",\n",
      "            \"5eb87d0fffd86e000604b35d\",\n",
      "            \"5eb87d14ffd86e000604b361\",\n",
      "            \"5eb87d16ffd86e000604b363\",\n",
      "            \"5eb87d1affd86e000604b367\",\n",
      "            \"5eb87d1fffd86e000604b36b\",\n",
      "            \"5eb87d23ffd86e000604b36e\",\n",
      "            \"5eb87d25ffd86e000604b370\",\n",
      "            \"5eb87d28ffd86e000604b373\",\n",
      "            \"5eb87d31ffd86e000604b379\",\n",
      "            \"5ed983aa1f30554030d45c31\",\n",
      "            \"60e3bf0d73359e1e20335c37\",\n",
      "            \"5fe3b107b3467846b324216b\",\n",
      "            \"61bba806437241381bf7061e\",\n",
      "            \"607a34e35a906a44023e085e\",\n",
      "            \"61fc0203e0dc5662b76489a8\",\n",
      "            \"6243adcaaf52800c6e919254\",\n",
      "            \"6258290d5988f159024b9644\",\n",
      "            \"5fe3af43b3467846b324215e\",\n",
      "            \"62a9f0e320413d2695d88713\",\n",
      "            \"62a9f10b20413d2695d88715\",\n",
      "            \"62f3b4ff0f55c50e192a4e6b\",\n",
      "            \"62f3b53a0f55c50e192a4e6f\"\n",
      "        ],\n",
      "        \"locality\": \"Vandenberg Space Force Base\",\n",
      "        \"longitude\": -120.610829,\n",
      "        \"name\": \"VAFB SLC 4E\",\n",
      "        \"region\": \"California\",\n",
      "        \"rockets\": [\n",
      "            \"5e9d0d95eda69973a809d1ec\"\n",
      "        ],\n",
      "        \"status\": \"active\",\n",
      "        \"timezone\": \"America/Los_Angeles\"\n",
      "    },\n",
      "    {\n",
      "        \"details\": \"NASA's historic pad that launched most of the Saturn V and Space Shuttle missions, including Apollo 11. SpaceX initially leased solely for Falcon Heavy and Crew Dragon launches, but the company has also used it for others as well following the damage to SLC-40 in the AMOS-6 explosion. After completing the necessary modifications, the first launch SpaceX performed on the pad was CRS-10 in February 2017. After SLC-40 was back online, 39A was upgraded to support Falcon Heavy and complete the removal of the shuttle-era Rotating Service Structure. More recently, a crew access arm and other safety equipment has been installed in order to launch commercial crew missions. 39A also occasionally launches other Falcon 9 missions between Falcon Heavy and Crew Dragon launches, depending on pad scheduling. The pad may also potentially be upgraded in the future for use with the BFR.\",\n",
      "        \"full_name\": \"Kennedy Space Center Historic Launch Complex 39A\",\n",
      "        \"id\": \"5e9e4502f509094188566f88\",\n",
      "        \"images\": {\n",
      "            \"large\": [\n",
      "                \"https://i.imgur.com/1jwU0Pk.png\"\n",
      "            ]\n",
      "        },\n",
      "        \"latitude\": 28.6080585,\n",
      "        \"launch_attempts\": 55,\n",
      "        \"launch_successes\": 55,\n",
      "        \"launches\": [\n",
      "            \"5eb87cfeffd86e000604b34d\",\n",
      "            \"5eb87cfeffd86e000604b34e\",\n",
      "            \"5eb87d00ffd86e000604b34f\",\n",
      "            \"5eb87d01ffd86e000604b350\",\n",
      "            \"5eb87d01ffd86e000604b351\",\n",
      "            \"5eb87d03ffd86e000604b352\",\n",
      "            \"5eb87d04ffd86e000604b353\",\n",
      "            \"5eb87d06ffd86e000604b355\",\n",
      "            \"5eb87d07ffd86e000604b356\",\n",
      "            \"5eb87d09ffd86e000604b358\",\n",
      "            \"5eb87d0cffd86e000604b35a\",\n",
      "            \"5eb87d0dffd86e000604b35b\",\n",
      "            \"5eb87d13ffd86e000604b360\",\n",
      "            \"5eb87d19ffd86e000604b366\",\n",
      "            \"5eb87d24ffd86e000604b36f\",\n",
      "            \"5eb87d2bffd86e000604b375\",\n",
      "            \"5eb87d2dffd86e000604b376\",\n",
      "            \"5eb87d35ffd86e000604b37a\",\n",
      "            \"5eb87d3dffd86e000604b381\",\n",
      "            \"5eb87d43ffd86e000604b385\",\n",
      "            \"5eb87d44ffd86e000604b386\",\n",
      "            \"5eb87d46ffd86e000604b388\",\n",
      "            \"5ed9819a1f30554030d45c29\",\n",
      "            \"5ef6a1e90059c33cee4a828a\",\n",
      "            \"5ef6a2090059c33cee4a828b\",\n",
      "            \"5ef6a2bf0059c33cee4a828c\",\n",
      "            \"5eb87d4dffd86e000604b38e\",\n",
      "            \"5eb87d4effd86e000604b391\",\n",
      "            \"5f8399fb818d8b59f5740d43\",\n",
      "            \"5fbfecce54ceb10a5664c80a\",\n",
      "            \"5fbfecfe54ceb10a5664c80b\",\n",
      "            \"600f9a8d8f798e2a4d5f979e\",\n",
      "            \"5fe3af58b3467846b324215f\",\n",
      "            \"605b4b7daa5433645e37d040\",\n",
      "            \"605b4b95aa5433645e37d041\",\n",
      "            \"5fe3af84b3467846b3242161\",\n",
      "            \"5fe3b11eb3467846b324216c\",\n",
      "            \"607a37565a906a44023e0866\",\n",
      "            \"5fe3b15eb3467846b324216d\",\n",
      "            \"6161c88d6db1a92bfba85348\",\n",
      "            \"6161d2006db1a92bfba85356\",\n",
      "            \"61d5eca1f88e4c5fc91f1eb7\",\n",
      "            \"61e048bbbe8d8b66799018d0\",\n",
      "            \"61e048ffbe8d8b66799018d1\",\n",
      "            \"61fc0224e0dc5662b76489ab\",\n",
      "            \"61eefaa89eb1064137a1bd73\",\n",
      "            \"6243ade2af52800c6e919255\",\n",
      "            \"62582a855988f159024b964c\",\n",
      "            \"62615ebc0ec008379be596fa\",\n",
      "            \"6278481757b51b752c5c5a5f\",\n",
      "            \"6243ae40af52800c6e919259\",\n",
      "            \"62a9f8b320413d2695d8871b\",\n",
      "            \"62f3b5290f55c50e192a4e6d\",\n",
      "            \"62a9f89a20413d2695d8871a\",\n",
      "            \"62dd70d5202306255024d139\"\n",
      "        ],\n",
      "        \"locality\": \"Cape Canaveral\",\n",
      "        \"longitude\": -80.6039558,\n",
      "        \"name\": \"KSC LC 39A\",\n",
      "        \"region\": \"Florida\",\n",
      "        \"rockets\": [\n",
      "            \"5e9d0d95eda69973a809d1ec\",\n",
      "            \"5e9d0d95eda69974db09d1ed\"\n",
      "        ],\n",
      "        \"status\": \"active\",\n",
      "        \"timezone\": \"America/New_York\"\n",
      "    }\n",
      "]\n"
     ]
    }
   ],
   "source": [
    "# Pretty Print the output of the JSON\n",
    "response = requests.get(url).json()\n",
    "print(json.dumps(response, indent=4, sort_keys=True))"
   ]
  },
  {
   "cell_type": "markdown",
   "metadata": {},
   "source": [
    "# =========================================="
   ]
  },
  {
   "cell_type": "markdown",
   "metadata": {},
   "source": [
    "### 1.02 Students Do: Requesting SpaceX (10 min)"
   ]
  },
  {
   "cell_type": "markdown",
   "metadata": {},
   "source": [
    "# Requesting SpaceX\n",
    "\n",
    "In this activity, you will dig into a simple, well-documented API&mdash;The SpaceX API&mdash;and make calls to the API using the Requests library.\n",
    "\n",
    "## Instructions\n",
    "\n",
    "* Take a few minutes to explore the SpaceX V3 API:\n",
    "\n",
    "  * [GitHub](https://github.com/r-spacex/SpaceX-API)\n",
    "\n",
    "  * [API Documentation](https://github.com/r-spacex/SpaceX-API/tree/master/docs#rspacex-api-docs)\n",
    "\n",
    "* Once you understand the structure of the API and its endpoint, choose one of the endpoints and do the following:\n",
    "\n",
    "  * Retrieve and print the JSON for _all_ of the records from your chosen endpoint.\n",
    "\n",
    "  * Retrieve and print the JSON for the a _specific_ record from your chosen endpoint.\n",
    "\n",
    "---"
   ]
  },
  {
   "cell_type": "code",
   "execution_count": 111,
   "metadata": {},
   "outputs": [],
   "source": [
    "# Dependencies\n",
    "import requests\n",
    "import json"
   ]
  },
  {
   "cell_type": "code",
   "execution_count": 137,
   "metadata": {},
   "outputs": [],
   "source": [
    "# URL for GET requests to retrieve vehicle data\n",
    "url = \"https://api.spacexdata.com/v4/launchpads\""
   ]
  },
  {
   "cell_type": "code",
   "execution_count": 138,
   "metadata": {
    "collapsed": true,
    "jupyter": {
     "outputs_hidden": true
    },
    "tags": []
   },
   "outputs": [
    {
     "name": "stdout",
     "output_type": "stream",
     "text": [
      "[\n",
      "    {\n",
      "        \"details\": \"SpaceX's original west coast launch pad for Falcon 1. It was used in a static fire test but was never employed for a launch, and was abandoned due to range scheduling conflicts arising from overflying other active pads.\",\n",
      "        \"full_name\": \"Vandenberg Space Force Base Space Launch Complex 3W\",\n",
      "        \"id\": \"5e9e4501f5090910d4566f83\",\n",
      "        \"images\": {\n",
      "            \"large\": [\n",
      "                \"https://i.imgur.com/7uXe1Kv.png\"\n",
      "            ]\n",
      "        },\n",
      "        \"latitude\": 34.6440904,\n",
      "        \"launch_attempts\": 0,\n",
      "        \"launch_successes\": 0,\n",
      "        \"launches\": [],\n",
      "        \"locality\": \"Vandenberg Space Force Base\",\n",
      "        \"longitude\": -120.5931438,\n",
      "        \"name\": \"VAFB SLC 3W\",\n",
      "        \"region\": \"California\",\n",
      "        \"rockets\": [\n",
      "            \"5e9d0d95eda69955f709d1eb\"\n",
      "        ],\n",
      "        \"status\": \"retired\",\n",
      "        \"timezone\": \"America/Los_Angeles\"\n",
      "    },\n",
      "    {\n",
      "        \"details\": \"SpaceX's primary Falcon 9 pad, where all east coast Falcon 9s launched prior to the AMOS-6 anomaly. Previously used alongside SLC-41 to launch Titan rockets for the US Air Force, the pad was heavily damaged by the AMOS-6 anomaly in September 2016. It returned to flight with CRS-13 on December 15, 2017, boasting an upgraded throwback-style Transporter-Erector modeled after that at LC-39A.\",\n",
      "        \"full_name\": \"Cape Canaveral Space Force Station Space Launch Complex 40\",\n",
      "        \"id\": \"5e9e4501f509094ba4566f84\",\n",
      "        \"images\": {\n",
      "            \"large\": [\n",
      "                \"https://i.imgur.com/9oEMXwa.png\"\n",
      "            ]\n",
      "        },\n",
      "        \"latitude\": 28.5618571,\n",
      "        \"launch_attempts\": 99,\n",
      "        \"launch_successes\": 97,\n",
      "        \"launches\": [\n",
      "            \"5eb87cddffd86e000604b32f\",\n",
      "            \"5eb87cdeffd86e000604b330\",\n",
      "            \"5eb87cdfffd86e000604b331\",\n",
      "            \"5eb87ce0ffd86e000604b332\",\n",
      "            \"5eb87ce1ffd86e000604b333\",\n",
      "            \"5eb87ce2ffd86e000604b335\",\n",
      "            \"5eb87ce3ffd86e000604b336\",\n",
      "            \"5eb87ce4ffd86e000604b337\",\n",
      "            \"5eb87ce4ffd86e000604b338\",\n",
      "            \"5eb87ce5ffd86e000604b339\",\n",
      "            \"5eb87ce6ffd86e000604b33a\",\n",
      "            \"5eb87ce7ffd86e000604b33b\",\n",
      "            \"5eb87ce8ffd86e000604b33c\",\n",
      "            \"5eb87ceaffd86e000604b33d\",\n",
      "            \"5eb87ceaffd86e000604b33e\",\n",
      "            \"5eb87cecffd86e000604b33f\",\n",
      "            \"5eb87cedffd86e000604b340\",\n",
      "            \"5eb87ceeffd86e000604b341\",\n",
      "            \"5eb87cefffd86e000604b342\",\n",
      "            \"5eb87cf2ffd86e000604b344\",\n",
      "            \"5eb87cf3ffd86e000604b345\",\n",
      "            \"5eb87cf5ffd86e000604b346\",\n",
      "            \"5eb87cf6ffd86e000604b347\",\n",
      "            \"5eb87cf8ffd86e000604b348\",\n",
      "            \"5eb87cf9ffd86e000604b349\",\n",
      "            \"5eb87cfaffd86e000604b34a\",\n",
      "            \"5eb87cfbffd86e000604b34b\",\n",
      "            \"5eb87d0effd86e000604b35c\",\n",
      "            \"5eb87d10ffd86e000604b35e\",\n",
      "            \"5eb87d11ffd86e000604b35f\",\n",
      "            \"5eb87d15ffd86e000604b362\",\n",
      "            \"5eb87d16ffd86e000604b364\",\n",
      "            \"5eb87d18ffd86e000604b365\",\n",
      "            \"5eb87d1bffd86e000604b368\",\n",
      "            \"5eb87d1cffd86e000604b369\",\n",
      "            \"5eb87d1effd86e000604b36a\",\n",
      "            \"5eb87d20ffd86e000604b36c\",\n",
      "            \"5eb87d22ffd86e000604b36d\",\n",
      "            \"5eb87d26ffd86e000604b371\",\n",
      "            \"5eb87d27ffd86e000604b372\",\n",
      "            \"5eb87d2affd86e000604b374\",\n",
      "            \"5eb87d2effd86e000604b377\",\n",
      "            \"5eb87d30ffd86e000604b378\",\n",
      "            \"5eb87d36ffd86e000604b37b\",\n",
      "            \"5eb87d37ffd86e000604b37c\",\n",
      "            \"5eb87d39ffd86e000604b37d\",\n",
      "            \"5eb87d39ffd86e000604b37e\",\n",
      "            \"5eb87d3bffd86e000604b37f\",\n",
      "            \"5eb87d3cffd86e000604b380\",\n",
      "            \"5eb87d3fffd86e000604b382\",\n",
      "            \"5eb87d41ffd86e000604b383\",\n",
      "            \"5eb87d42ffd86e000604b384\",\n",
      "            \"5eb87d45ffd86e000604b387\",\n",
      "            \"5eb87d46ffd86e000604b389\",\n",
      "            \"5eb87d4affd86e000604b38b\",\n",
      "            \"5eb87d50ffd86e000604b394\",\n",
      "            \"5ed981d91f30554030d45c2a\",\n",
      "            \"5eb87d47ffd86e000604b38a\",\n",
      "            \"5ef6a2e70059c33cee4a8293\",\n",
      "            \"5eb87d4cffd86e000604b38d\",\n",
      "            \"5fb95b3f3a88ae63c954603c\",\n",
      "            \"5eb87d4bffd86e000604b38c\",\n",
      "            \"5eb87d4fffd86e000604b393\",\n",
      "            \"5fd386aa7faea57d297c86c1\",\n",
      "            \"5ff6554f9257f579ee3a6c5f\",\n",
      "            \"600f9a5e8f798e2a4d5f979c\",\n",
      "            \"600f9a718f798e2a4d5f979d\",\n",
      "            \"60428aafc041c16716f73cd7\",\n",
      "            \"60428ac4c041c16716f73cd8\",\n",
      "            \"605b4b6aaa5433645e37d03f\",\n",
      "            \"6079bd1c9a06446e8c61bf76\",\n",
      "            \"6079bd399a06446e8c61bf77\",\n",
      "            \"5fe3af6db3467846b3242160\",\n",
      "            \"5eb87d4effd86e000604b390\",\n",
      "            \"600f9b6d8f798e2a4d5f979f\",\n",
      "            \"618faad2563d69573ed8ca9d\",\n",
      "            \"6161c94c6db1a92bfba85349\",\n",
      "            \"5fe3afc1b3467846b3242164\",\n",
      "            \"61bf3e31cd5ab50b0d936345\",\n",
      "            \"6161d32d6db1a92bfba85359\",\n",
      "            \"61fc01dae0dc5662b76489a7\",\n",
      "            \"61fc0243e0dc5662b76489ae\",\n",
      "            \"6234908cf051102e1fcedac4\",\n",
      "            \"6243ad8baf52800c6e919252\",\n",
      "            \"6243ada6af52800c6e919253\",\n",
      "            \"62582a6f5988f159024b964b\",\n",
      "            \"625828f25988f159024b9643\",\n",
      "            \"6243ae24af52800c6e919258\",\n",
      "            \"6243ae0aaf52800c6e919257\",\n",
      "            \"62a9f08b20413d2695d88711\",\n",
      "            \"6243aea5af52800c6e91925c\",\n",
      "            \"62a9f0c920413d2695d88712\",\n",
      "            \"62a9f0f820413d2695d88714\",\n",
      "            \"62a9f12820413d2695d88716\",\n",
      "            \"62a9f86420413d2695d88719\",\n",
      "            \"62f3b5200f55c50e192a4e6c\",\n",
      "            \"62f3b5330f55c50e192a4e6e\",\n",
      "            \"63161329ffc78f3b8567070b\",\n",
      "            \"63161339ffc78f3b8567070c\"\n",
      "        ],\n",
      "        \"locality\": \"Cape Canaveral\",\n",
      "        \"longitude\": -80.577366,\n",
      "        \"name\": \"CCSFS SLC 40\",\n",
      "        \"region\": \"Florida\",\n",
      "        \"rockets\": [\n",
      "            \"5e9d0d95eda69973a809d1ec\"\n",
      "        ],\n",
      "        \"status\": \"active\",\n",
      "        \"timezone\": \"America/New_York\"\n",
      "    },\n",
      "    {\n",
      "        \"details\": \"SpaceX's new private launch site currently under construction for suborbital test flights of Starship, and potentially orbital flights of the full super heavy stack (previously referred to as BFR) in the future. Currently planned to enter use with static fires and test hops of the Starhopper, with the first tethered hop successfully occurring in March 2019. It was previously going to be used for Falcon 9 and Falcon Heavy flights, but this no longer appears to be likely due to its construction timeline and existing launch sites being sufficient to handle present demand. Due to the Caribbean islands and off-shore oil wells, it will be limited to very few possible launch trajectories, and current Texas law only allows a limited number of beach closures per year for orbital launches.\",\n",
      "        \"full_name\": \"SpaceX South Texas Launch Site\",\n",
      "        \"id\": \"5e9e4502f5090927f8566f85\",\n",
      "        \"images\": {\n",
      "            \"large\": [\n",
      "                \"https://i.imgur.com/ZzTTC5p.png\"\n",
      "            ]\n",
      "        },\n",
      "        \"latitude\": 25.9972641,\n",
      "        \"launch_attempts\": 0,\n",
      "        \"launch_successes\": 0,\n",
      "        \"launches\": [],\n",
      "        \"locality\": \"Boca Chica Village\",\n",
      "        \"longitude\": -97.1560845,\n",
      "        \"name\": \"STLS\",\n",
      "        \"region\": \"Texas\",\n",
      "        \"rockets\": [],\n",
      "        \"status\": \"under construction\",\n",
      "        \"timezone\": \"America/Chicago\"\n",
      "    },\n",
      "    {\n",
      "        \"details\": \"SpaceX's original pad, where all of the Falcon 1 flights occurred (from 2006 to 2009). It would have also been the launch site of the Falcon 1e and the Falcon 9, but it was abandoned as SpaceX ended the Falcon 1 program and decided against upgrading it to support Falcon 9, likely due to its remote location and ensuing logistics complexities.\",\n",
      "        \"full_name\": \"Kwajalein Atoll Omelek Island\",\n",
      "        \"id\": \"5e9e4502f5090995de566f86\",\n",
      "        \"images\": {\n",
      "            \"large\": [\n",
      "                \"https://i.imgur.com/GGPgsVs.png\"\n",
      "            ]\n",
      "        },\n",
      "        \"latitude\": 9.0477206,\n",
      "        \"launch_attempts\": 5,\n",
      "        \"launch_successes\": 2,\n",
      "        \"launches\": [\n",
      "            \"5eb87cd9ffd86e000604b32a\",\n",
      "            \"5eb87cdaffd86e000604b32b\",\n",
      "            \"5eb87cdbffd86e000604b32c\",\n",
      "            \"5eb87cdbffd86e000604b32d\",\n",
      "            \"5eb87cdcffd86e000604b32e\"\n",
      "        ],\n",
      "        \"locality\": \"Omelek Island\",\n",
      "        \"longitude\": 167.7431292,\n",
      "        \"name\": \"Kwajalein Atoll\",\n",
      "        \"region\": \"Marshall Islands\",\n",
      "        \"rockets\": [\n",
      "            \"5e9d0d95eda69955f709d1eb\"\n",
      "        ],\n",
      "        \"status\": \"retired\",\n",
      "        \"timezone\": \"Pacific/Kwajalein\"\n",
      "    },\n",
      "    {\n",
      "        \"details\": \"SpaceX's primary west coast launch pad for polar orbits and sun-synchronous orbits, primarily used for Iridium NEXT and scientific satellite launches. The pad was used for the debut of Falcon 9 v1.1 in the rocket's first ever non-dragon mission, CASSIOPE, in September 2013. It is SpaceX's only remaining pad with the old-style transporter/erector, which reclines prior to launch instead of using a throwback procedure. It is also capable of launching Falcon Heavy (although some pad modifications would be needed, but no west coast Falcon Heavy missions are currently planned).\",\n",
      "        \"full_name\": \"Vandenberg Space Force Base Space Launch Complex 4E\",\n",
      "        \"id\": \"5e9e4502f509092b78566f87\",\n",
      "        \"images\": {\n",
      "            \"large\": [\n",
      "                \"https://i.imgur.com/asp5L08.png\"\n",
      "            ]\n",
      "        },\n",
      "        \"latitude\": 34.632093,\n",
      "        \"launch_attempts\": 28,\n",
      "        \"launch_successes\": 27,\n",
      "        \"launches\": [\n",
      "            \"5eb87ce1ffd86e000604b334\",\n",
      "            \"5eb87cf0ffd86e000604b343\",\n",
      "            \"5eb87cfdffd86e000604b34c\",\n",
      "            \"5eb87d05ffd86e000604b354\",\n",
      "            \"5eb87d08ffd86e000604b357\",\n",
      "            \"5eb87d0affd86e000604b359\",\n",
      "            \"5eb87d0fffd86e000604b35d\",\n",
      "            \"5eb87d14ffd86e000604b361\",\n",
      "            \"5eb87d16ffd86e000604b363\",\n",
      "            \"5eb87d1affd86e000604b367\",\n",
      "            \"5eb87d1fffd86e000604b36b\",\n",
      "            \"5eb87d23ffd86e000604b36e\",\n",
      "            \"5eb87d25ffd86e000604b370\",\n",
      "            \"5eb87d28ffd86e000604b373\",\n",
      "            \"5eb87d31ffd86e000604b379\",\n",
      "            \"5ed983aa1f30554030d45c31\",\n",
      "            \"60e3bf0d73359e1e20335c37\",\n",
      "            \"5fe3b107b3467846b324216b\",\n",
      "            \"61bba806437241381bf7061e\",\n",
      "            \"607a34e35a906a44023e085e\",\n",
      "            \"61fc0203e0dc5662b76489a8\",\n",
      "            \"6243adcaaf52800c6e919254\",\n",
      "            \"6258290d5988f159024b9644\",\n",
      "            \"5fe3af43b3467846b324215e\",\n",
      "            \"62a9f0e320413d2695d88713\",\n",
      "            \"62a9f10b20413d2695d88715\",\n",
      "            \"62f3b4ff0f55c50e192a4e6b\",\n",
      "            \"62f3b53a0f55c50e192a4e6f\"\n",
      "        ],\n",
      "        \"locality\": \"Vandenberg Space Force Base\",\n",
      "        \"longitude\": -120.610829,\n",
      "        \"name\": \"VAFB SLC 4E\",\n",
      "        \"region\": \"California\",\n",
      "        \"rockets\": [\n",
      "            \"5e9d0d95eda69973a809d1ec\"\n",
      "        ],\n",
      "        \"status\": \"active\",\n",
      "        \"timezone\": \"America/Los_Angeles\"\n",
      "    },\n",
      "    {\n",
      "        \"details\": \"NASA's historic pad that launched most of the Saturn V and Space Shuttle missions, including Apollo 11. SpaceX initially leased solely for Falcon Heavy and Crew Dragon launches, but the company has also used it for others as well following the damage to SLC-40 in the AMOS-6 explosion. After completing the necessary modifications, the first launch SpaceX performed on the pad was CRS-10 in February 2017. After SLC-40 was back online, 39A was upgraded to support Falcon Heavy and complete the removal of the shuttle-era Rotating Service Structure. More recently, a crew access arm and other safety equipment has been installed in order to launch commercial crew missions. 39A also occasionally launches other Falcon 9 missions between Falcon Heavy and Crew Dragon launches, depending on pad scheduling. The pad may also potentially be upgraded in the future for use with the BFR.\",\n",
      "        \"full_name\": \"Kennedy Space Center Historic Launch Complex 39A\",\n",
      "        \"id\": \"5e9e4502f509094188566f88\",\n",
      "        \"images\": {\n",
      "            \"large\": [\n",
      "                \"https://i.imgur.com/1jwU0Pk.png\"\n",
      "            ]\n",
      "        },\n",
      "        \"latitude\": 28.6080585,\n",
      "        \"launch_attempts\": 55,\n",
      "        \"launch_successes\": 55,\n",
      "        \"launches\": [\n",
      "            \"5eb87cfeffd86e000604b34d\",\n",
      "            \"5eb87cfeffd86e000604b34e\",\n",
      "            \"5eb87d00ffd86e000604b34f\",\n",
      "            \"5eb87d01ffd86e000604b350\",\n",
      "            \"5eb87d01ffd86e000604b351\",\n",
      "            \"5eb87d03ffd86e000604b352\",\n",
      "            \"5eb87d04ffd86e000604b353\",\n",
      "            \"5eb87d06ffd86e000604b355\",\n",
      "            \"5eb87d07ffd86e000604b356\",\n",
      "            \"5eb87d09ffd86e000604b358\",\n",
      "            \"5eb87d0cffd86e000604b35a\",\n",
      "            \"5eb87d0dffd86e000604b35b\",\n",
      "            \"5eb87d13ffd86e000604b360\",\n",
      "            \"5eb87d19ffd86e000604b366\",\n",
      "            \"5eb87d24ffd86e000604b36f\",\n",
      "            \"5eb87d2bffd86e000604b375\",\n",
      "            \"5eb87d2dffd86e000604b376\",\n",
      "            \"5eb87d35ffd86e000604b37a\",\n",
      "            \"5eb87d3dffd86e000604b381\",\n",
      "            \"5eb87d43ffd86e000604b385\",\n",
      "            \"5eb87d44ffd86e000604b386\",\n",
      "            \"5eb87d46ffd86e000604b388\",\n",
      "            \"5ed9819a1f30554030d45c29\",\n",
      "            \"5ef6a1e90059c33cee4a828a\",\n",
      "            \"5ef6a2090059c33cee4a828b\",\n",
      "            \"5ef6a2bf0059c33cee4a828c\",\n",
      "            \"5eb87d4dffd86e000604b38e\",\n",
      "            \"5eb87d4effd86e000604b391\",\n",
      "            \"5f8399fb818d8b59f5740d43\",\n",
      "            \"5fbfecce54ceb10a5664c80a\",\n",
      "            \"5fbfecfe54ceb10a5664c80b\",\n",
      "            \"600f9a8d8f798e2a4d5f979e\",\n",
      "            \"5fe3af58b3467846b324215f\",\n",
      "            \"605b4b7daa5433645e37d040\",\n",
      "            \"605b4b95aa5433645e37d041\",\n",
      "            \"5fe3af84b3467846b3242161\",\n",
      "            \"5fe3b11eb3467846b324216c\",\n",
      "            \"607a37565a906a44023e0866\",\n",
      "            \"5fe3b15eb3467846b324216d\",\n",
      "            \"6161c88d6db1a92bfba85348\",\n",
      "            \"6161d2006db1a92bfba85356\",\n",
      "            \"61d5eca1f88e4c5fc91f1eb7\",\n",
      "            \"61e048bbbe8d8b66799018d0\",\n",
      "            \"61e048ffbe8d8b66799018d1\",\n",
      "            \"61fc0224e0dc5662b76489ab\",\n",
      "            \"61eefaa89eb1064137a1bd73\",\n",
      "            \"6243ade2af52800c6e919255\",\n",
      "            \"62582a855988f159024b964c\",\n",
      "            \"62615ebc0ec008379be596fa\",\n",
      "            \"6278481757b51b752c5c5a5f\",\n",
      "            \"6243ae40af52800c6e919259\",\n",
      "            \"62a9f8b320413d2695d8871b\",\n",
      "            \"62f3b5290f55c50e192a4e6d\",\n",
      "            \"62a9f89a20413d2695d8871a\",\n",
      "            \"62dd70d5202306255024d139\"\n",
      "        ],\n",
      "        \"locality\": \"Cape Canaveral\",\n",
      "        \"longitude\": -80.6039558,\n",
      "        \"name\": \"KSC LC 39A\",\n",
      "        \"region\": \"Florida\",\n",
      "        \"rockets\": [\n",
      "            \"5e9d0d95eda69973a809d1ec\",\n",
      "            \"5e9d0d95eda69974db09d1ed\"\n",
      "        ],\n",
      "        \"status\": \"active\",\n",
      "        \"timezone\": \"America/New_York\"\n",
      "    }\n",
      "]\n"
     ]
    }
   ],
   "source": [
    "# Pretty print JSON for all launchpads\n",
    "response = requests.get(url).json()\n",
    "print(json.dumps(response, indent=4, sort_keys=True))"
   ]
  },
  {
   "cell_type": "code",
   "execution_count": 139,
   "metadata": {},
   "outputs": [],
   "source": [
    "launchpad = response[1][\"id\"]"
   ]
  },
  {
   "cell_type": "code",
   "execution_count": 140,
   "metadata": {},
   "outputs": [
    {
     "data": {
      "text/plain": [
       "'5e9e4501f509094ba4566f84'"
      ]
     },
     "execution_count": 140,
     "metadata": {},
     "output_type": "execute_result"
    }
   ],
   "source": [
    "launchpad"
   ]
  },
  {
   "cell_type": "code",
   "execution_count": 141,
   "metadata": {
    "collapsed": true,
    "jupyter": {
     "outputs_hidden": true
    },
    "tags": []
   },
   "outputs": [
    {
     "name": "stdout",
     "output_type": "stream",
     "text": [
      "{\n",
      "    \"details\": \"SpaceX's primary Falcon 9 pad, where all east coast Falcon 9s launched prior to the AMOS-6 anomaly. Previously used alongside SLC-41 to launch Titan rockets for the US Air Force, the pad was heavily damaged by the AMOS-6 anomaly in September 2016. It returned to flight with CRS-13 on December 15, 2017, boasting an upgraded throwback-style Transporter-Erector modeled after that at LC-39A.\",\n",
      "    \"full_name\": \"Cape Canaveral Space Force Station Space Launch Complex 40\",\n",
      "    \"id\": \"5e9e4501f509094ba4566f84\",\n",
      "    \"images\": {\n",
      "        \"large\": [\n",
      "            \"https://i.imgur.com/9oEMXwa.png\"\n",
      "        ]\n",
      "    },\n",
      "    \"latitude\": 28.5618571,\n",
      "    \"launch_attempts\": 99,\n",
      "    \"launch_successes\": 97,\n",
      "    \"launches\": [\n",
      "        \"5eb87cddffd86e000604b32f\",\n",
      "        \"5eb87cdeffd86e000604b330\",\n",
      "        \"5eb87cdfffd86e000604b331\",\n",
      "        \"5eb87ce0ffd86e000604b332\",\n",
      "        \"5eb87ce1ffd86e000604b333\",\n",
      "        \"5eb87ce2ffd86e000604b335\",\n",
      "        \"5eb87ce3ffd86e000604b336\",\n",
      "        \"5eb87ce4ffd86e000604b337\",\n",
      "        \"5eb87ce4ffd86e000604b338\",\n",
      "        \"5eb87ce5ffd86e000604b339\",\n",
      "        \"5eb87ce6ffd86e000604b33a\",\n",
      "        \"5eb87ce7ffd86e000604b33b\",\n",
      "        \"5eb87ce8ffd86e000604b33c\",\n",
      "        \"5eb87ceaffd86e000604b33d\",\n",
      "        \"5eb87ceaffd86e000604b33e\",\n",
      "        \"5eb87cecffd86e000604b33f\",\n",
      "        \"5eb87cedffd86e000604b340\",\n",
      "        \"5eb87ceeffd86e000604b341\",\n",
      "        \"5eb87cefffd86e000604b342\",\n",
      "        \"5eb87cf2ffd86e000604b344\",\n",
      "        \"5eb87cf3ffd86e000604b345\",\n",
      "        \"5eb87cf5ffd86e000604b346\",\n",
      "        \"5eb87cf6ffd86e000604b347\",\n",
      "        \"5eb87cf8ffd86e000604b348\",\n",
      "        \"5eb87cf9ffd86e000604b349\",\n",
      "        \"5eb87cfaffd86e000604b34a\",\n",
      "        \"5eb87cfbffd86e000604b34b\",\n",
      "        \"5eb87d0effd86e000604b35c\",\n",
      "        \"5eb87d10ffd86e000604b35e\",\n",
      "        \"5eb87d11ffd86e000604b35f\",\n",
      "        \"5eb87d15ffd86e000604b362\",\n",
      "        \"5eb87d16ffd86e000604b364\",\n",
      "        \"5eb87d18ffd86e000604b365\",\n",
      "        \"5eb87d1bffd86e000604b368\",\n",
      "        \"5eb87d1cffd86e000604b369\",\n",
      "        \"5eb87d1effd86e000604b36a\",\n",
      "        \"5eb87d20ffd86e000604b36c\",\n",
      "        \"5eb87d22ffd86e000604b36d\",\n",
      "        \"5eb87d26ffd86e000604b371\",\n",
      "        \"5eb87d27ffd86e000604b372\",\n",
      "        \"5eb87d2affd86e000604b374\",\n",
      "        \"5eb87d2effd86e000604b377\",\n",
      "        \"5eb87d30ffd86e000604b378\",\n",
      "        \"5eb87d36ffd86e000604b37b\",\n",
      "        \"5eb87d37ffd86e000604b37c\",\n",
      "        \"5eb87d39ffd86e000604b37d\",\n",
      "        \"5eb87d39ffd86e000604b37e\",\n",
      "        \"5eb87d3bffd86e000604b37f\",\n",
      "        \"5eb87d3cffd86e000604b380\",\n",
      "        \"5eb87d3fffd86e000604b382\",\n",
      "        \"5eb87d41ffd86e000604b383\",\n",
      "        \"5eb87d42ffd86e000604b384\",\n",
      "        \"5eb87d45ffd86e000604b387\",\n",
      "        \"5eb87d46ffd86e000604b389\",\n",
      "        \"5eb87d4affd86e000604b38b\",\n",
      "        \"5eb87d50ffd86e000604b394\",\n",
      "        \"5ed981d91f30554030d45c2a\",\n",
      "        \"5eb87d47ffd86e000604b38a\",\n",
      "        \"5ef6a2e70059c33cee4a8293\",\n",
      "        \"5eb87d4cffd86e000604b38d\",\n",
      "        \"5fb95b3f3a88ae63c954603c\",\n",
      "        \"5eb87d4bffd86e000604b38c\",\n",
      "        \"5eb87d4fffd86e000604b393\",\n",
      "        \"5fd386aa7faea57d297c86c1\",\n",
      "        \"5ff6554f9257f579ee3a6c5f\",\n",
      "        \"600f9a5e8f798e2a4d5f979c\",\n",
      "        \"600f9a718f798e2a4d5f979d\",\n",
      "        \"60428aafc041c16716f73cd7\",\n",
      "        \"60428ac4c041c16716f73cd8\",\n",
      "        \"605b4b6aaa5433645e37d03f\",\n",
      "        \"6079bd1c9a06446e8c61bf76\",\n",
      "        \"6079bd399a06446e8c61bf77\",\n",
      "        \"5fe3af6db3467846b3242160\",\n",
      "        \"5eb87d4effd86e000604b390\",\n",
      "        \"600f9b6d8f798e2a4d5f979f\",\n",
      "        \"618faad2563d69573ed8ca9d\",\n",
      "        \"6161c94c6db1a92bfba85349\",\n",
      "        \"5fe3afc1b3467846b3242164\",\n",
      "        \"61bf3e31cd5ab50b0d936345\",\n",
      "        \"6161d32d6db1a92bfba85359\",\n",
      "        \"61fc01dae0dc5662b76489a7\",\n",
      "        \"61fc0243e0dc5662b76489ae\",\n",
      "        \"6234908cf051102e1fcedac4\",\n",
      "        \"6243ad8baf52800c6e919252\",\n",
      "        \"6243ada6af52800c6e919253\",\n",
      "        \"62582a6f5988f159024b964b\",\n",
      "        \"625828f25988f159024b9643\",\n",
      "        \"6243ae24af52800c6e919258\",\n",
      "        \"6243ae0aaf52800c6e919257\",\n",
      "        \"62a9f08b20413d2695d88711\",\n",
      "        \"6243aea5af52800c6e91925c\",\n",
      "        \"62a9f0c920413d2695d88712\",\n",
      "        \"62a9f0f820413d2695d88714\",\n",
      "        \"62a9f12820413d2695d88716\",\n",
      "        \"62a9f86420413d2695d88719\",\n",
      "        \"62f3b5200f55c50e192a4e6c\",\n",
      "        \"62f3b5330f55c50e192a4e6e\",\n",
      "        \"63161329ffc78f3b8567070b\",\n",
      "        \"63161339ffc78f3b8567070c\"\n",
      "    ],\n",
      "    \"locality\": \"Cape Canaveral\",\n",
      "    \"longitude\": -80.577366,\n",
      "    \"name\": \"CCSFS SLC 40\",\n",
      "    \"region\": \"Florida\",\n",
      "    \"rockets\": [\n",
      "        \"5e9d0d95eda69973a809d1ec\"\n",
      "    ],\n",
      "    \"status\": \"active\",\n",
      "    \"timezone\": \"America/New_York\"\n",
      "}\n"
     ]
    }
   ],
   "source": [
    "# Pretty print JSON for a specific launchpad\n",
    "response = requests.get(f\"{url}/{launchpad}\").json()\n",
    "print(json.dumps(response, indent=4, sort_keys=True))"
   ]
  },
  {
   "cell_type": "markdown",
   "metadata": {},
   "source": [
    "# =========================================="
   ]
  },
  {
   "cell_type": "markdown",
   "metadata": {},
   "source": [
    "### 1.03 Instructor Do: Manipulating Responses (5 min)"
   ]
  },
  {
   "cell_type": "markdown",
   "metadata": {},
   "source": []
  },
  {
   "cell_type": "code",
   "execution_count": 10,
   "metadata": {},
   "outputs": [],
   "source": [
    "# Dependencies\n",
    "import requests\n",
    "import json"
   ]
  },
  {
   "cell_type": "code",
   "execution_count": 131,
   "metadata": {
    "tags": []
   },
   "outputs": [
    {
     "name": "stdout",
     "output_type": "stream",
     "text": [
      "{\n",
      "    \"active\": true,\n",
      "    \"boosters\": 0,\n",
      "    \"company\": \"SpaceX\",\n",
      "    \"cost_per_launch\": 50000000,\n",
      "    \"country\": \"United States\",\n",
      "    \"description\": \"Falcon 9 is a two-stage rocket designed and manufactured by SpaceX for the reliable and safe transport of satellites and the Dragon spacecraft into orbit.\",\n",
      "    \"diameter\": {\n",
      "        \"feet\": 12,\n",
      "        \"meters\": 3.7\n",
      "    },\n",
      "    \"engines\": {\n",
      "        \"engine_loss_max\": 2,\n",
      "        \"isp\": {\n",
      "            \"sea_level\": 288,\n",
      "            \"vacuum\": 312\n",
      "        },\n",
      "        \"layout\": \"octaweb\",\n",
      "        \"number\": 9,\n",
      "        \"propellant_1\": \"liquid oxygen\",\n",
      "        \"propellant_2\": \"RP-1 kerosene\",\n",
      "        \"thrust_sea_level\": {\n",
      "            \"kN\": 845,\n",
      "            \"lbf\": 190000\n",
      "        },\n",
      "        \"thrust_to_weight\": 180.1,\n",
      "        \"thrust_vacuum\": {\n",
      "            \"kN\": 914,\n",
      "            \"lbf\": 205500\n",
      "        },\n",
      "        \"type\": \"merlin\",\n",
      "        \"version\": \"1D+\"\n",
      "    },\n",
      "    \"first_flight\": \"2010-06-04\",\n",
      "    \"first_stage\": {\n",
      "        \"burn_time_sec\": 162,\n",
      "        \"engines\": 9,\n",
      "        \"fuel_amount_tons\": 385,\n",
      "        \"reusable\": true,\n",
      "        \"thrust_sea_level\": {\n",
      "            \"kN\": 7607,\n",
      "            \"lbf\": 1710000\n",
      "        },\n",
      "        \"thrust_vacuum\": {\n",
      "            \"kN\": 8227,\n",
      "            \"lbf\": 1849500\n",
      "        }\n",
      "    },\n",
      "    \"flickr_images\": [\n",
      "        \"https://farm1.staticflickr.com/929/28787338307_3453a11a77_b.jpg\",\n",
      "        \"https://farm4.staticflickr.com/3955/32915197674_eee74d81bb_b.jpg\",\n",
      "        \"https://farm1.staticflickr.com/293/32312415025_6841e30bf1_b.jpg\",\n",
      "        \"https://farm1.staticflickr.com/623/23660653516_5b6cb301d1_b.jpg\",\n",
      "        \"https://farm6.staticflickr.com/5518/31579784413_d853331601_b.jpg\",\n",
      "        \"https://farm1.staticflickr.com/745/32394687645_a9c54a34ef_b.jpg\"\n",
      "    ],\n",
      "    \"height\": {\n",
      "        \"feet\": 229.6,\n",
      "        \"meters\": 70\n",
      "    },\n",
      "    \"id\": \"falcon9\",\n",
      "    \"landing_legs\": {\n",
      "        \"material\": \"carbon fiber\",\n",
      "        \"number\": 4\n",
      "    },\n",
      "    \"mass\": {\n",
      "        \"kg\": 549054,\n",
      "        \"lb\": 1207920\n",
      "    },\n",
      "    \"name\": \"Falcon 9\",\n",
      "    \"payload_weights\": [\n",
      "        {\n",
      "            \"id\": \"leo\",\n",
      "            \"kg\": 22800,\n",
      "            \"lb\": 50265,\n",
      "            \"name\": \"Low Earth Orbit\"\n",
      "        },\n",
      "        {\n",
      "            \"id\": \"gto\",\n",
      "            \"kg\": 8300,\n",
      "            \"lb\": 18300,\n",
      "            \"name\": \"Geosynchronous Transfer Orbit\"\n",
      "        },\n",
      "        {\n",
      "            \"id\": \"mars\",\n",
      "            \"kg\": 4020,\n",
      "            \"lb\": 8860,\n",
      "            \"name\": \"Mars Orbit\"\n",
      "        }\n",
      "    ],\n",
      "    \"rocketid\": 2,\n",
      "    \"second_stage\": {\n",
      "        \"burn_time_sec\": 397,\n",
      "        \"engines\": 1,\n",
      "        \"fuel_amount_tons\": 90,\n",
      "        \"payloads\": {\n",
      "            \"composite_fairing\": {\n",
      "                \"diameter\": {\n",
      "                    \"feet\": 17.1,\n",
      "                    \"meters\": 5.2\n",
      "                },\n",
      "                \"height\": {\n",
      "                    \"feet\": 43,\n",
      "                    \"meters\": 13.1\n",
      "                }\n",
      "            },\n",
      "            \"option_1\": \"dragon\",\n",
      "            \"option_2\": \"composite fairing\"\n",
      "        },\n",
      "        \"reusable\": false,\n",
      "        \"thrust\": {\n",
      "            \"kN\": 934,\n",
      "            \"lbf\": 210000\n",
      "        }\n",
      "    },\n",
      "    \"stages\": 2,\n",
      "    \"success_rate_pct\": 97,\n",
      "    \"type\": \"rocket\",\n",
      "    \"wikipedia\": \"https://en.wikipedia.org/wiki/Falcon_9\"\n",
      "}\n"
     ]
    }
   ],
   "source": [
    "# Performing a GET Request and saving the \n",
    "# API's response within a variable\n",
    "url = \"https://api.spacexdata.com/v2/rockets/falcon9\"\n",
    "response = requests.get(url)\n",
    "response_json = response.json()\n",
    "print(json.dumps(response_json, indent=4, sort_keys=True))"
   ]
  },
  {
   "cell_type": "code",
   "execution_count": 132,
   "metadata": {},
   "outputs": [
    {
     "data": {
      "text/plain": [
       "dict"
      ]
     },
     "execution_count": 132,
     "metadata": {},
     "output_type": "execute_result"
    }
   ],
   "source": [
    "type(response_json)"
   ]
  },
  {
   "cell_type": "code",
   "execution_count": 133,
   "metadata": {},
   "outputs": [
    {
     "data": {
      "text/plain": [
       "dict_keys(['rocketid', 'id', 'name', 'type', 'active', 'stages', 'boosters', 'cost_per_launch', 'success_rate_pct', 'first_flight', 'country', 'company', 'height', 'diameter', 'mass', 'payload_weights', 'first_stage', 'second_stage', 'engines', 'landing_legs', 'flickr_images', 'wikipedia', 'description'])"
      ]
     },
     "execution_count": 133,
     "metadata": {},
     "output_type": "execute_result"
    }
   ],
   "source": [
    "response_json.keys()"
   ]
  },
  {
   "cell_type": "code",
   "execution_count": 135,
   "metadata": {},
   "outputs": [
    {
     "data": {
      "text/plain": [
       "['https://farm1.staticflickr.com/929/28787338307_3453a11a77_b.jpg',\n",
       " 'https://farm4.staticflickr.com/3955/32915197674_eee74d81bb_b.jpg',\n",
       " 'https://farm1.staticflickr.com/293/32312415025_6841e30bf1_b.jpg',\n",
       " 'https://farm1.staticflickr.com/623/23660653516_5b6cb301d1_b.jpg',\n",
       " 'https://farm6.staticflickr.com/5518/31579784413_d853331601_b.jpg',\n",
       " 'https://farm1.staticflickr.com/745/32394687645_a9c54a34ef_b.jpg']"
      ]
     },
     "execution_count": 135,
     "metadata": {},
     "output_type": "execute_result"
    }
   ],
   "source": [
    "response_json['flickr_images']"
   ]
  },
  {
   "cell_type": "code",
   "execution_count": null,
   "metadata": {},
   "outputs": [],
   "source": []
  },
  {
   "cell_type": "code",
   "execution_count": null,
   "metadata": {},
   "outputs": [],
   "source": []
  },
  {
   "cell_type": "code",
   "execution_count": null,
   "metadata": {},
   "outputs": [],
   "source": []
  },
  {
   "cell_type": "code",
   "execution_count": null,
   "metadata": {},
   "outputs": [],
   "source": []
  },
  {
   "cell_type": "code",
   "execution_count": 143,
   "metadata": {},
   "outputs": [
    {
     "name": "stdout",
     "output_type": "stream",
     "text": [
      "50000000\n"
     ]
    }
   ],
   "source": [
    "# It is possible to grab a specific value \n",
    "# from within the JSON object\n",
    "print(response_json[\"cost_per_launch\"])"
   ]
  },
  {
   "cell_type": "code",
   "execution_count": 144,
   "metadata": {},
   "outputs": [
    {
     "name": "stdout",
     "output_type": "stream",
     "text": [
      "There are 3 payloads.\n"
     ]
    }
   ],
   "source": [
    "# It is also possible to perform some\n",
    "# analyses on values stored within the JSON object\n",
    "number_payloads = len(response_json[\"payload_weights\"])\n",
    "print(f\"There are {number_payloads} payloads.\")"
   ]
  },
  {
   "cell_type": "code",
   "execution_count": 145,
   "metadata": {},
   "outputs": [
    {
     "name": "stdout",
     "output_type": "stream",
     "text": [
      "The first payload weighed 22800 Kilograms\n"
     ]
    }
   ],
   "source": [
    "# Finally, it is possible to reference the\n",
    "# values stored within sub-dictionaries and sub-lists\n",
    "payload_weight = response_json[\"payload_weights\"][0][\"kg\"]\n",
    "print(f\"The first payload weighed {payload_weight} Kilograms\")"
   ]
  },
  {
   "cell_type": "markdown",
   "metadata": {},
   "source": [
    "# =========================================="
   ]
  },
  {
   "cell_type": "markdown",
   "metadata": {},
   "source": [
    "### 1.04 Students Do: Requesting a Galaxy Far, Far Away (10 min)"
   ]
  },
  {
   "cell_type": "markdown",
   "metadata": {},
   "source": [
    "In this activity you will create an application that accesses data from the Star Wars API and prints out values from within it.\n",
    "\n",
    "## Instructions\n",
    "\n",
    "* Using the starter file provided, collect the following pieces of information from the Star Wars API.\n",
    "\n",
    "  * The name of the character\n",
    "\n",
    "  * The number of films they were in\n",
    "\n",
    "  * The name of their first starship\n",
    "\n",
    "* Once the data has been collected, print it out to the console.\n",
    "\n",
    "## Bonus\n",
    "\n",
    "Collect and print out all of the films a character appeared in.\n",
    "\n",
    "## Hint\n",
    "\n",
    "* It would be in your best interest to print out the JSON from the initial request before anything else. This will let you know what keys you should reference.\n",
    "\n",
    "* The \"starship\" values are links to another API call. This means that you will need to create a request based on the values of a previous request.\n",
    "\n",
    "---"
   ]
  },
  {
   "cell_type": "code",
   "execution_count": 146,
   "metadata": {},
   "outputs": [],
   "source": [
    "# Dependencies\n",
    "import requests\n",
    "import json"
   ]
  },
  {
   "cell_type": "code",
   "execution_count": 147,
   "metadata": {},
   "outputs": [],
   "source": [
    "# URL for GET requests to retrieve Star Wars character data\n",
    "base_url = \"https://swapi.dev/api/people/\""
   ]
  },
  {
   "cell_type": "code",
   "execution_count": 165,
   "metadata": {},
   "outputs": [
    {
     "name": "stdout",
     "output_type": "stream",
     "text": [
      "The name of the character is Luke Skywalker\n",
      "    The number of films they were in is 4\n",
      "    The name of their first starship is X-wing\n",
      "The name of the character is C-3PO\n",
      "    The number of films they were in is 6\n",
      "    The name of their first starship is \n",
      "The name of the character is R2-D2\n",
      "    The number of films they were in is 6\n",
      "    The name of their first starship is \n",
      "The name of the character is Darth Vader\n",
      "    The number of films they were in is 4\n",
      "    The name of their first starship is TIE Advanced x1\n",
      "The name of the character is Leia Organa\n",
      "    The number of films they were in is 4\n",
      "    The name of their first starship is \n",
      "The name of the character is Owen Lars\n",
      "    The number of films they were in is 3\n",
      "    The name of their first starship is \n",
      "The name of the character is Beru Whitesun lars\n",
      "    The number of films they were in is 3\n",
      "    The name of their first starship is \n",
      "The name of the character is R5-D4\n",
      "    The number of films they were in is 1\n",
      "    The name of their first starship is \n",
      "The name of the character is Biggs Darklighter\n",
      "    The number of films they were in is 1\n",
      "    The name of their first starship is X-wing\n",
      "The name of the character is Obi-Wan Kenobi\n",
      "    The number of films they were in is 6\n",
      "    The name of their first starship is Jedi starfighter\n"
     ]
    }
   ],
   "source": [
    "res = requests.get(base_url).json()\n",
    "res\n",
    "\n",
    "res.keys()\n",
    "for x in res['results']:\n",
    "    # x.keys()\n",
    "\n",
    "    #     The name of the character\n",
    "    #     The number of films they were in\n",
    "    #     The name of their first starship\n",
    "    name = x['name']\n",
    "    films_nymber = len(x['films'])\n",
    "    first_starship_name = \"\"\n",
    "    if len(x['starships'])>0:\n",
    "        starship = requests.get(x['starships'][0]).json()\n",
    "        first_starship_name = starship[\"name\"]\n",
    "\n",
    "    print(f\"\"\"The name of the character is {name}\n",
    "    The number of films they were in is {films_nymber}\n",
    "    The name of their first starship is {first_starship_name}\"\"\")"
   ]
  },
  {
   "cell_type": "code",
   "execution_count": null,
   "metadata": {},
   "outputs": [],
   "source": []
  },
  {
   "cell_type": "code",
   "execution_count": 168,
   "metadata": {},
   "outputs": [
    {
     "name": "stdout",
     "output_type": "stream",
     "text": [
      "A New Hope\n"
     ]
    }
   ],
   "source": [
    "res = requests.get(base_url).json()\n",
    "res\n",
    "\n",
    "res.keys()\n",
    "\n",
    "res['results'][0].keys()\n",
    "\n",
    "#     The name of the character\n",
    "#     The number of films they were in\n",
    "#     The name of their first starship\n",
    "name = res['results'][0]['name']\n",
    "films_nymber = len(res['results'][0]['films'])\n",
    "\n",
    "starship = requests.get(res['results'][0]['films'][0]).json()\n",
    "print(starship[\"title\"])\n",
    "# first_starship_name = starship[\"name\"]\n",
    "\n",
    "# print(f\"\"\"The name of the character is {name}\n",
    "# The number of films they were in is {films_nymber}\n",
    "# The name of their first starship is {first_starship_name}\"\"\")"
   ]
  },
  {
   "cell_type": "code",
   "execution_count": null,
   "metadata": {},
   "outputs": [],
   "source": []
  },
  {
   "cell_type": "code",
   "execution_count": null,
   "metadata": {},
   "outputs": [],
   "source": []
  },
  {
   "cell_type": "code",
   "execution_count": null,
   "metadata": {},
   "outputs": [],
   "source": []
  },
  {
   "cell_type": "code",
   "execution_count": null,
   "metadata": {},
   "outputs": [],
   "source": []
  },
  {
   "cell_type": "code",
   "execution_count": null,
   "metadata": {},
   "outputs": [],
   "source": []
  },
  {
   "cell_type": "code",
   "execution_count": 162,
   "metadata": {},
   "outputs": [
    {
     "name": "stdout",
     "output_type": "stream",
     "text": [
      "https://swapi.dev/api/people/4\n"
     ]
    }
   ],
   "source": [
    "# Create a url with a specific character id\n",
    "character_id = '4'\n",
    "url = base_url + character_id\n",
    "print(url)"
   ]
  },
  {
   "cell_type": "code",
   "execution_count": 18,
   "metadata": {},
   "outputs": [
    {
     "name": "stdout",
     "output_type": "stream",
     "text": [
      "https://swapi.dev/api/people/4\n"
     ]
    }
   ],
   "source": [
    "# Perform a get request for this character\n",
    "response = requests.get(url)\n",
    "print(response.url)"
   ]
  },
  {
   "cell_type": "code",
   "execution_count": 19,
   "metadata": {},
   "outputs": [
    {
     "name": "stdout",
     "output_type": "stream",
     "text": [
      "{\n",
      "    \"birth_year\": \"41.9BBY\",\n",
      "    \"created\": \"2014-12-10T15:18:20.704000Z\",\n",
      "    \"edited\": \"2014-12-20T21:17:50.313000Z\",\n",
      "    \"eye_color\": \"yellow\",\n",
      "    \"films\": [\n",
      "        \"https://swapi.dev/api/films/1/\",\n",
      "        \"https://swapi.dev/api/films/2/\",\n",
      "        \"https://swapi.dev/api/films/3/\",\n",
      "        \"https://swapi.dev/api/films/6/\"\n",
      "    ],\n",
      "    \"gender\": \"male\",\n",
      "    \"hair_color\": \"none\",\n",
      "    \"height\": \"202\",\n",
      "    \"homeworld\": \"https://swapi.dev/api/planets/1/\",\n",
      "    \"mass\": \"136\",\n",
      "    \"name\": \"Darth Vader\",\n",
      "    \"skin_color\": \"white\",\n",
      "    \"species\": [],\n",
      "    \"starships\": [\n",
      "        \"https://swapi.dev/api/starships/13/\"\n",
      "    ],\n",
      "    \"url\": \"https://swapi.dev/api/people/4/\",\n",
      "    \"vehicles\": []\n",
      "}\n"
     ]
    }
   ],
   "source": [
    "# Storing the JSON response within a variable\n",
    "data = response.json()\n",
    "# Use json.dumps to print the json\n",
    "print(json.dumps(data, indent=4, sort_keys=True))"
   ]
  },
  {
   "cell_type": "code",
   "execution_count": 20,
   "metadata": {},
   "outputs": [
    {
     "name": "stdout",
     "output_type": "stream",
     "text": [
      "Darth Vader\n"
     ]
    }
   ],
   "source": [
    "# Print the name of the character retrieved\n",
    "character_name = data[\"name\"]\n",
    "print(character_name)"
   ]
  },
  {
   "cell_type": "code",
   "execution_count": 21,
   "metadata": {},
   "outputs": [
    {
     "name": "stdout",
     "output_type": "stream",
     "text": [
      "4\n"
     ]
    }
   ],
   "source": [
    "# Print the number of films that they were in (hint: use len())\n",
    "film_number = len(data[\"films\"])\n",
    "print(film_number)"
   ]
  },
  {
   "cell_type": "code",
   "execution_count": 22,
   "metadata": {},
   "outputs": [
    {
     "data": {
      "text/plain": [
       "{'name': 'TIE Advanced x1',\n",
       " 'model': 'Twin Ion Engine Advanced x1',\n",
       " 'manufacturer': 'Sienar Fleet Systems',\n",
       " 'cost_in_credits': 'unknown',\n",
       " 'length': '9.2',\n",
       " 'max_atmosphering_speed': '1200',\n",
       " 'crew': '1',\n",
       " 'passengers': '0',\n",
       " 'cargo_capacity': '150',\n",
       " 'consumables': '5 days',\n",
       " 'hyperdrive_rating': '1.0',\n",
       " 'MGLT': '105',\n",
       " 'starship_class': 'Starfighter',\n",
       " 'pilots': ['https://swapi.dev/api/people/4/'],\n",
       " 'films': ['https://swapi.dev/api/films/1/'],\n",
       " 'created': '2014-12-12T11:21:32.991000Z',\n",
       " 'edited': '2014-12-20T21:23:49.889000Z',\n",
       " 'url': 'https://swapi.dev/api/starships/13/'}"
      ]
     },
     "execution_count": 22,
     "metadata": {},
     "output_type": "execute_result"
    }
   ],
   "source": [
    "# Request the starships URI found in the starships property of the\n",
    "# previously retreived json, then use the response to figure out what this \n",
    "# character's first starship was\n",
    "first_ship_url = data[\"starships\"][0]\n",
    "ship_response = requests.get(first_ship_url).json()\n",
    "ship_response"
   ]
  },
  {
   "cell_type": "code",
   "execution_count": 23,
   "metadata": {},
   "outputs": [
    {
     "name": "stdout",
     "output_type": "stream",
     "text": [
      "Their first ship: TIE Advanced x1\n"
     ]
    }
   ],
   "source": [
    "# Print the name of the character's first starship\n",
    "first_ship = ship_response[\"name\"]\n",
    "print(f\"Their first ship: {first_ship}\")"
   ]
  },
  {
   "cell_type": "code",
   "execution_count": 24,
   "metadata": {},
   "outputs": [
    {
     "name": "stdout",
     "output_type": "stream",
     "text": [
      "Darth Vader was in:\n",
      "['A New Hope', 'The Empire Strikes Back', 'Return of the Jedi', 'Revenge of the Sith']\n"
     ]
    }
   ],
   "source": [
    "# BONUS\n",
    "films = []\n",
    "\n",
    "for film in data['films']:\n",
    "    cur_film = requests.get(film).json()\n",
    "    film_title = cur_film[\"title\"]\n",
    "    films.append(film_title)\n",
    "    \n",
    "print(f\"{character_name} was in:\")\n",
    "print(films)"
   ]
  },
  {
   "cell_type": "markdown",
   "metadata": {},
   "source": [
    "# =========================================="
   ]
  },
  {
   "cell_type": "markdown",
   "metadata": {},
   "source": [
    "### 1.05 Partners Do: Number Facts - API Application (15 min)"
   ]
  },
  {
   "cell_type": "markdown",
   "metadata": {},
   "source": [
    "In this activity, you’ll use Python to create a user-friendly way to get data from an API.\n",
    "\n",
    "## Instructions\n",
    "\n",
    "Using the [Numbers API](http://numbersapi.com), create an application that takes in a user's inputs and returns a number fact based upon it.\n",
    "\n",
    "## Hints\n",
    "\n",
    "* The URL to make your request must have `?json` at its end so that the data format returned is JSON. The default response is pure text.\n",
    "\n",
    "* Make sure to read through the documentation when creating your application. Some types require more or less data than others.\n",
    "\n",
    "- - -"
   ]
  },
  {
   "cell_type": "code",
   "execution_count": 25,
   "metadata": {},
   "outputs": [],
   "source": [
    "# Dependencies\n",
    "import requests\n",
    "import json"
   ]
  },
  {
   "cell_type": "code",
   "execution_count": 26,
   "metadata": {},
   "outputs": [],
   "source": [
    "# Base URL for GET requests to retrieve number/date facts\n",
    "url = \"http://numbersapi.com/\""
   ]
  },
  {
   "cell_type": "code",
   "execution_count": 27,
   "metadata": {},
   "outputs": [
    {
     "name": "stdin",
     "output_type": "stream",
     "text": [
      "What type of data would you like to search for? [Trivia, Math, Date, or Year]  Year\n"
     ]
    }
   ],
   "source": [
    "# Ask the user what kind of data they would like to search for\n",
    "question = (\"What type of data would you like to search for? \"\n",
    "            \"[Trivia, Math, Date, or Year] \")\n",
    "kind_of_search = input(question)"
   ]
  },
  {
   "cell_type": "code",
   "execution_count": 28,
   "metadata": {},
   "outputs": [
    {
     "name": "stdin",
     "output_type": "stream",
     "text": [
      "What number would you like to search for?  1977\n"
     ]
    },
    {
     "name": "stdout",
     "output_type": "stream",
     "text": [
      "1977 is the year that Anita Bryant is famously pied by four gay rights activists during a press conference in Des Moines, Iowa.\n"
     ]
    }
   ],
   "source": [
    "# If the kind of search is \"date\" take in two numbers\n",
    "if(kind_of_search.lower() == \"date\"):\n",
    "\n",
    "  # Collect the month to search for\n",
    "  month = input(\"What month would you like to search for? \")\n",
    "  # Collect the day to search for\n",
    "  day = input(\"What day would you like to search for? \")\n",
    "\n",
    "  # Make an API call to the \"date\" API and convert response object to JSON\n",
    "  response = requests.get(f\"{url}{month}/{day}/{kind_of_search.lower()}?json\").json()\n",
    "  # Print the fact stored within the response\n",
    "  print(response[\"text\"])\n",
    "\n",
    "# If the kind of search is anything but \"date\" then take one number\n",
    "else:\n",
    "\n",
    "  # Collect the number to search for\n",
    "  number = input(\"What number would you like to search for? \")\n",
    "\n",
    "  # Make an API call to the API and convert response object to JSON\n",
    "  response = requests.get(url + number + \"/\" +  kind_of_search.lower()+ \"?json\").json()\n",
    "  # Print the fact stored within the response\n",
    "  print(response[\"text\"])"
   ]
  },
  {
   "cell_type": "markdown",
   "metadata": {},
   "source": [
    "# =========================================="
   ]
  },
  {
   "cell_type": "markdown",
   "metadata": {},
   "source": [
    "### BREAK (0:10)"
   ]
  },
  {
   "cell_type": "markdown",
   "metadata": {},
   "source": [
    "# =========================================="
   ]
  },
  {
   "cell_type": "markdown",
   "metadata": {},
   "source": [
    "### 1.06 Instructor Do: OMDb API (10 min)"
   ]
  },
  {
   "cell_type": "markdown",
   "metadata": {},
   "source": [
    "### API Keys:\n",
    "* Request free API Key from `OMDBAPI` [Here](https://www.omdbapi.com/apikey.aspx)"
   ]
  },
  {
   "cell_type": "code",
   "execution_count": null,
   "metadata": {},
   "outputs": [],
   "source": [
    "# http://numbersapi.com/2000/math?json\n",
    "# http://numbersapi.com/2000/year?json\n",
    "# http://numbersapi.com/1337/trivia?json\n",
    "# http://numbersapi.com/2/29/date?json\n"
   ]
  },
  {
   "cell_type": "markdown",
   "metadata": {},
   "source": [
    "```\n",
    "protocol/Schema = http/https\n",
    "[user:pass@]\n",
    "domain/hostname/ip\n",
    "[:port]\n",
    "path\n",
    "[?(q=a&)]\n",
    "```"
   ]
  },
  {
   "cell_type": "code",
   "execution_count": 169,
   "metadata": {},
   "outputs": [],
   "source": [
    "import requests\n",
    "import json\n",
    "# from config import load_dotenv"
   ]
  },
  {
   "cell_type": "code",
   "execution_count": 30,
   "metadata": {},
   "outputs": [],
   "source": [
    "# pip install python-dotenv\n",
    "import os\n",
    "from dotenv import load_dotenv\n",
    "load_dotenv()\n",
    "omdb_api_key = os.getenv(\"omdb_api_key\")\n"
   ]
  },
  {
   "cell_type": "code",
   "execution_count": 172,
   "metadata": {},
   "outputs": [],
   "source": [
    "# New Dependency! Use this to pretty print the JSON\n",
    "# https://docs.python.org/3/library/pprint.html\n",
    "from pprint import pprint"
   ]
  },
  {
   "cell_type": "code",
   "execution_count": 173,
   "metadata": {},
   "outputs": [],
   "source": [
    "# Note that the ?t= is a query param for the t-itle of the\n",
    "# movie we want to search for.\n",
    "url = \"http://www.omdbapi.com/?t=\"\n",
    "api_key = \"&apikey=\" + omdb_api_key"
   ]
  },
  {
   "cell_type": "code",
   "execution_count": 176,
   "metadata": {},
   "outputs": [],
   "source": [
    "# url + api_key"
   ]
  },
  {
   "cell_type": "code",
   "execution_count": 177,
   "metadata": {},
   "outputs": [],
   "source": [
    "# Performing a GET request similar to the one we executed\n",
    "# earlier\n",
    "response = requests.get(url + \"Aliens\" + api_key)"
   ]
  },
  {
   "cell_type": "code",
   "execution_count": 178,
   "metadata": {},
   "outputs": [
    {
     "name": "stdout",
     "output_type": "stream",
     "text": [
      "{'Actors': 'Sigourney Weaver, Michael Biehn, Carrie Henn',\n",
      " 'Awards': 'Won 2 Oscars. 20 wins & 23 nominations total',\n",
      " 'BoxOffice': '$85,160,248',\n",
      " 'Country': 'United Kingdom, United States',\n",
      " 'DVD': '01 Mar 2013',\n",
      " 'Director': 'James Cameron',\n",
      " 'Genre': 'Action, Adventure, Sci-Fi',\n",
      " 'Language': 'English, Spanish',\n",
      " 'Metascore': '84',\n",
      " 'Plot': 'Decades after surviving the Nostromo incident, Ellen Ripley is sent '\n",
      "         'out to re-establish contact with a terraforming colony but finds '\n",
      "         'herself battling the Alien Queen and her offspring.',\n",
      " 'Poster': 'https://m.media-amazon.com/images/M/MV5BOGJkY2EyOWYtYWRmNy00ZTEzLTllMDAtYzYzYjA0ZjFhZWJjXkEyXkFqcGdeQXVyMTUzMDUzNTI3._V1_SX300.jpg',\n",
      " 'Production': 'N/A',\n",
      " 'Rated': 'R',\n",
      " 'Ratings': [{'Source': 'Internet Movie Database', 'Value': '8.4/10'},\n",
      "             {'Source': 'Rotten Tomatoes', 'Value': '98%'},\n",
      "             {'Source': 'Metacritic', 'Value': '84/100'}],\n",
      " 'Released': '18 Jul 1986',\n",
      " 'Response': 'True',\n",
      " 'Runtime': '137 min',\n",
      " 'Title': 'Aliens',\n",
      " 'Type': 'movie',\n",
      " 'Website': 'N/A',\n",
      " 'Writer': 'James Cameron, David Giler, Walter Hill',\n",
      " 'Year': '1986',\n",
      " 'imdbID': 'tt0090605',\n",
      " 'imdbRating': '8.4',\n",
      " 'imdbVotes': '741,853'}\n"
     ]
    }
   ],
   "source": [
    "# Converting the response to JSON, and printing the result.\n",
    "data = response.json()\n",
    "pprint(data)"
   ]
  },
  {
   "cell_type": "code",
   "execution_count": 180,
   "metadata": {},
   "outputs": [
    {
     "name": "stdout",
     "output_type": "stream",
     "text": [
      "Movie was directed by James Cameron.\n",
      "Movie was released in United Kingdom, United States.\n",
      "Movie Plot Decades after surviving the Nostromo incident, Ellen Ripley is sent out to re-establish contact with a terraforming colony but finds herself battling the Alien Queen and her offspring..\n"
     ]
    }
   ],
   "source": [
    "# Print a few keys from the response JSON.\n",
    "print(f\"Movie was directed by {data['Director']}.\")\n",
    "print(f\"Movie was released in {data['Country']}.\")\n",
    "print(f\"Movie Plot {data['Plot']}.\")"
   ]
  },
  {
   "cell_type": "markdown",
   "metadata": {
    "tags": []
   },
   "source": [
    "# =========================================="
   ]
  },
  {
   "cell_type": "markdown",
   "metadata": {},
   "source": [
    "### 1.07 Students Do: Study the OMDb API (5 min)"
   ]
  },
  {
   "cell_type": "markdown",
   "metadata": {},
   "source": [
    "# OMDb API\n",
    "\n",
    "In this activity, you’ll review the OMDb API documentation, and you’ll practice using the API.\n",
    "\n",
    "## Instructions\n",
    "\n",
    "Read the OMDb [documentation](http://www.omdbapi.com/), and make a few API calls to get some information about your favorite movie.\n",
    "\n",
    "- - -"
   ]
  },
  {
   "cell_type": "markdown",
   "metadata": {},
   "source": [
    "# =========================================="
   ]
  },
  {
   "cell_type": "markdown",
   "metadata": {},
   "source": [
    "### 1.08 Students Do: Movie Questions (15 min)"
   ]
  },
  {
   "cell_type": "markdown",
   "metadata": {},
   "source": [
    "# Movie Questions\n",
    "In this activity, you will test your skills with the OMDb API by collecting data to answer a series of questions.\n",
    "## Instructions\n",
    "Use the OMDb API to retrieve and print answers to the following questions:\n",
    "* Who was the director of the movie *Aliens*?\n",
    "* What was the movie *Gladiator* rated?\n",
    "* What year was *50 First Dates* released?\n",
    "* Who wrote *Moana*?\n",
    "* What was the plot of the movie *Sing*?\n",
    "- - -"
   ]
  },
  {
   "cell_type": "code",
   "execution_count": 182,
   "metadata": {},
   "outputs": [],
   "source": [
    "# Dependencies\n",
    "import requests\n",
    "# from config import api_key\n",
    "\n",
    "url = f\"http://www.omdbapi.com/?apikey={omdb_api_key}&t=\""
   ]
  },
  {
   "cell_type": "code",
   "execution_count": 183,
   "metadata": {},
   "outputs": [
    {
     "name": "stdout",
     "output_type": "stream",
     "text": [
      "The director of Aliens was James Cameron.\n"
     ]
    }
   ],
   "source": [
    "# Who was the director of the movie Aliens?\n",
    "movie = requests.get(url + \"Aliens\").json()\n",
    "print(f'The director of Aliens was {movie[\"Director\"]}.')"
   ]
  },
  {
   "cell_type": "code",
   "execution_count": 184,
   "metadata": {
    "scrolled": true
   },
   "outputs": [
    {
     "name": "stdout",
     "output_type": "stream",
     "text": [
      "The rating of Gladiator was R.\n"
     ]
    }
   ],
   "source": [
    "# What was the movie Gladiator rated?\n",
    "movie = requests.get(url + \"Gladiator\").json()\n",
    "print(f'The rating of Gladiator was {movie[\"Rated\"]}.')"
   ]
  },
  {
   "cell_type": "code",
   "execution_count": 185,
   "metadata": {},
   "outputs": [
    {
     "name": "stdout",
     "output_type": "stream",
     "text": [
      "The movie 50 First Dates was released in 2004.\n"
     ]
    }
   ],
   "source": [
    "# What year was 50 First Dates released?\n",
    "movie = requests.get(url + \"50 First Dates\").json()\n",
    "print(f'The movie 50 First Dates was released in {movie[\"Year\"]}.')"
   ]
  },
  {
   "cell_type": "code",
   "execution_count": 186,
   "metadata": {
    "scrolled": true
   },
   "outputs": [
    {
     "name": "stdout",
     "output_type": "stream",
     "text": [
      "Moana was written by Jared Bush, Ron Clements, John Musker.\n"
     ]
    }
   ],
   "source": [
    "# Who wrote Moana?\n",
    "movie = requests.get(url + \"Moana\").json()\n",
    "print(f'Moana was written by {movie[\"Writer\"]}.')"
   ]
  },
  {
   "cell_type": "code",
   "execution_count": 187,
   "metadata": {
    "scrolled": true
   },
   "outputs": [
    {
     "name": "stdout",
     "output_type": "stream",
     "text": [
      "The plot of Sing was: In a city of humanoid animals, a hustling theater impresario's attempt to save his theater with a singing competition becomes grander than he anticipates even as its finalists find that their lives will never be the same.\n"
     ]
    }
   ],
   "source": [
    "# What was the plot of the movie Sing?\n",
    "movie = requests.get(url + \"Sing\").json()\n",
    "print(f'The plot of Sing was: {movie[\"Plot\"]}')"
   ]
  },
  {
   "cell_type": "markdown",
   "metadata": {},
   "source": [
    "# =========================================="
   ]
  },
  {
   "cell_type": "markdown",
   "metadata": {},
   "source": [
    "### 1.09 Instructor Do: Iterative Requests (5 min)"
   ]
  },
  {
   "cell_type": "code",
   "execution_count": 188,
   "metadata": {},
   "outputs": [],
   "source": [
    "# Dependencies\n",
    "import random\n",
    "import json\n",
    "import requests"
   ]
  },
  {
   "cell_type": "code",
   "execution_count": 189,
   "metadata": {},
   "outputs": [],
   "source": [
    "# Let's get the JSON for 100 posts sequentially.\n",
    "url = \"http://jsonplaceholder.typicode.com/posts/\""
   ]
  },
  {
   "cell_type": "code",
   "execution_count": 190,
   "metadata": {},
   "outputs": [],
   "source": [
    "# Create an empty list to store the responses\n",
    "response_json = []"
   ]
  },
  {
   "cell_type": "code",
   "execution_count": 192,
   "metadata": {},
   "outputs": [
    {
     "data": {
      "text/plain": [
       "[97, 49, 2, 93, 22, 21, 82, 79, 20, 48]"
      ]
     },
     "execution_count": 192,
     "metadata": {},
     "output_type": "execute_result"
    }
   ],
   "source": [
    "# Create random indices representing\n",
    "# a user's choice of posts\n",
    "indices = random.sample(list(range(1, 100)), 10)\n",
    "indices"
   ]
  },
  {
   "cell_type": "code",
   "execution_count": 193,
   "metadata": {},
   "outputs": [
    {
     "name": "stdout",
     "output_type": "stream",
     "text": [
      "Making request number: 0 for ID: 97\n",
      "Making request number: 1 for ID: 49\n",
      "Making request number: 2 for ID: 2\n",
      "Making request number: 3 for ID: 93\n",
      "Making request number: 4 for ID: 22\n",
      "Making request number: 5 for ID: 21\n",
      "Making request number: 6 for ID: 82\n",
      "Making request number: 7 for ID: 79\n",
      "Making request number: 8 for ID: 20\n",
      "Making request number: 9 for ID: 48\n"
     ]
    }
   ],
   "source": [
    "# Make a request for each of the indices\n",
    "for x in range(len(indices)):\n",
    "    print(f\"Making request number: {x} for ID: {indices[x]}\")\n",
    "\n",
    "    # Get one of the posts\n",
    "    post_response = requests.get(url + str(indices[x]))\n",
    "\n",
    "    # Save post's JSON\n",
    "    response_json.append(post_response.json())"
   ]
  },
  {
   "cell_type": "code",
   "execution_count": 194,
   "metadata": {
    "collapsed": true,
    "jupyter": {
     "outputs_hidden": true
    },
    "tags": []
   },
   "outputs": [
    {
     "data": {
      "text/plain": [
       "[{'userId': 10,\n",
       "  'id': 97,\n",
       "  'title': 'quas fugiat ut perspiciatis vero provident',\n",
       "  'body': 'eum non blanditiis soluta porro quibusdam voluptas\\nvel voluptatem qui placeat dolores qui velit aut\\nvel inventore aut cumque culpa explicabo aliquid at\\nperspiciatis est et voluptatem dignissimos dolor itaque sit nam'},\n",
       " {'userId': 5,\n",
       "  'id': 49,\n",
       "  'title': 'laborum non sunt aut ut assumenda perspiciatis voluptas',\n",
       "  'body': 'inventore ab sint\\nnatus fugit id nulla sequi architecto nihil quaerat\\neos tenetur in in eum veritatis non\\nquibusdam officiis aspernatur cumque aut commodi aut'},\n",
       " {'userId': 1,\n",
       "  'id': 2,\n",
       "  'title': 'qui est esse',\n",
       "  'body': 'est rerum tempore vitae\\nsequi sint nihil reprehenderit dolor beatae ea dolores neque\\nfugiat blanditiis voluptate porro vel nihil molestiae ut reiciendis\\nqui aperiam non debitis possimus qui neque nisi nulla'},\n",
       " {'userId': 10,\n",
       "  'id': 93,\n",
       "  'title': 'beatae soluta recusandae',\n",
       "  'body': 'dolorem quibusdam ducimus consequuntur dicta aut quo laboriosam\\nvoluptatem quis enim recusandae ut sed sunt\\nnostrum est odit totam\\nsit error sed sunt eveniet provident qui nulla'},\n",
       " {'userId': 3,\n",
       "  'id': 22,\n",
       "  'title': 'dolor sint quo a velit explicabo quia nam',\n",
       "  'body': 'eos qui et ipsum ipsam suscipit aut\\nsed omnis non odio\\nexpedita earum mollitia molestiae aut atque rem suscipit\\nnam impedit esse'},\n",
       " {'userId': 3,\n",
       "  'id': 21,\n",
       "  'title': 'asperiores ea ipsam voluptatibus modi minima quia sint',\n",
       "  'body': 'repellat aliquid praesentium dolorem quo\\nsed totam minus non itaque\\nnihil labore molestiae sunt dolor eveniet hic recusandae veniam\\ntempora et tenetur expedita sunt'},\n",
       " {'userId': 9,\n",
       "  'id': 82,\n",
       "  'title': 'laudantium voluptate suscipit sunt enim enim',\n",
       "  'body': 'ut libero sit aut totam inventore sunt\\nporro sint qui sunt molestiae\\nconsequatur cupiditate qui iste ducimus adipisci\\ndolor enim assumenda soluta laboriosam amet iste delectus hic'},\n",
       " {'userId': 8,\n",
       "  'id': 79,\n",
       "  'title': 'pariatur consequatur quia magnam autem omnis non amet',\n",
       "  'body': 'libero accusantium et et facere incidunt sit dolorem\\nnon excepturi qui quia sed laudantium\\nquisquam molestiae ducimus est\\nofficiis esse molestiae iste et quos'},\n",
       " {'userId': 2,\n",
       "  'id': 20,\n",
       "  'title': 'doloribus ad provident suscipit at',\n",
       "  'body': 'qui consequuntur ducimus possimus quisquam amet similique\\nsuscipit porro ipsam amet\\neos veritatis officiis exercitationem vel fugit aut necessitatibus totam\\nomnis rerum consequatur expedita quidem cumque explicabo'},\n",
       " {'userId': 5,\n",
       "  'id': 48,\n",
       "  'title': 'ut voluptatem illum ea doloribus itaque eos',\n",
       "  'body': 'voluptates quo voluptatem facilis iure occaecati\\nvel assumenda rerum officia et\\nillum perspiciatis ab deleniti\\nlaudantium repellat ad ut et autem reprehenderit'}]"
      ]
     },
     "execution_count": 194,
     "metadata": {},
     "output_type": "execute_result"
    }
   ],
   "source": [
    "response_json"
   ]
  },
  {
   "cell_type": "code",
   "execution_count": 195,
   "metadata": {},
   "outputs": [
    {
     "name": "stdout",
     "output_type": "stream",
     "text": [
      "We have 10 posts!\n"
     ]
    }
   ],
   "source": [
    "# Now we have 10 post objects, \n",
    "# which we got by making 100 requests to the API.\n",
    "print(f\"We have {len(response_json)} posts!\")"
   ]
  },
  {
   "cell_type": "code",
   "execution_count": 196,
   "metadata": {
    "tags": []
   },
   "outputs": [
    {
     "data": {
      "text/plain": [
       "[{'userId': 10,\n",
       "  'id': 97,\n",
       "  'title': 'quas fugiat ut perspiciatis vero provident',\n",
       "  'body': 'eum non blanditiis soluta porro quibusdam voluptas\\nvel voluptatem qui placeat dolores qui velit aut\\nvel inventore aut cumque culpa explicabo aliquid at\\nperspiciatis est et voluptatem dignissimos dolor itaque sit nam'},\n",
       " {'userId': 5,\n",
       "  'id': 49,\n",
       "  'title': 'laborum non sunt aut ut assumenda perspiciatis voluptas',\n",
       "  'body': 'inventore ab sint\\nnatus fugit id nulla sequi architecto nihil quaerat\\neos tenetur in in eum veritatis non\\nquibusdam officiis aspernatur cumque aut commodi aut'},\n",
       " {'userId': 1,\n",
       "  'id': 2,\n",
       "  'title': 'qui est esse',\n",
       "  'body': 'est rerum tempore vitae\\nsequi sint nihil reprehenderit dolor beatae ea dolores neque\\nfugiat blanditiis voluptate porro vel nihil molestiae ut reiciendis\\nqui aperiam non debitis possimus qui neque nisi nulla'},\n",
       " {'userId': 10,\n",
       "  'id': 93,\n",
       "  'title': 'beatae soluta recusandae',\n",
       "  'body': 'dolorem quibusdam ducimus consequuntur dicta aut quo laboriosam\\nvoluptatem quis enim recusandae ut sed sunt\\nnostrum est odit totam\\nsit error sed sunt eveniet provident qui nulla'},\n",
       " {'userId': 3,\n",
       "  'id': 22,\n",
       "  'title': 'dolor sint quo a velit explicabo quia nam',\n",
       "  'body': 'eos qui et ipsum ipsam suscipit aut\\nsed omnis non odio\\nexpedita earum mollitia molestiae aut atque rem suscipit\\nnam impedit esse'},\n",
       " {'userId': 3,\n",
       "  'id': 21,\n",
       "  'title': 'asperiores ea ipsam voluptatibus modi minima quia sint',\n",
       "  'body': 'repellat aliquid praesentium dolorem quo\\nsed totam minus non itaque\\nnihil labore molestiae sunt dolor eveniet hic recusandae veniam\\ntempora et tenetur expedita sunt'},\n",
       " {'userId': 9,\n",
       "  'id': 82,\n",
       "  'title': 'laudantium voluptate suscipit sunt enim enim',\n",
       "  'body': 'ut libero sit aut totam inventore sunt\\nporro sint qui sunt molestiae\\nconsequatur cupiditate qui iste ducimus adipisci\\ndolor enim assumenda soluta laboriosam amet iste delectus hic'},\n",
       " {'userId': 8,\n",
       "  'id': 79,\n",
       "  'title': 'pariatur consequatur quia magnam autem omnis non amet',\n",
       "  'body': 'libero accusantium et et facere incidunt sit dolorem\\nnon excepturi qui quia sed laudantium\\nquisquam molestiae ducimus est\\nofficiis esse molestiae iste et quos'},\n",
       " {'userId': 2,\n",
       "  'id': 20,\n",
       "  'title': 'doloribus ad provident suscipit at',\n",
       "  'body': 'qui consequuntur ducimus possimus quisquam amet similique\\nsuscipit porro ipsam amet\\neos veritatis officiis exercitationem vel fugit aut necessitatibus totam\\nomnis rerum consequatur expedita quidem cumque explicabo'},\n",
       " {'userId': 5,\n",
       "  'id': 48,\n",
       "  'title': 'ut voluptatem illum ea doloribus itaque eos',\n",
       "  'body': 'voluptates quo voluptatem facilis iure occaecati\\nvel assumenda rerum officia et\\nillum perspiciatis ab deleniti\\nlaudantium repellat ad ut et autem reprehenderit'}]"
      ]
     },
     "execution_count": 196,
     "metadata": {},
     "output_type": "execute_result"
    }
   ],
   "source": [
    "# preview the json\n",
    "response_json"
   ]
  },
  {
   "cell_type": "code",
   "execution_count": 199,
   "metadata": {
    "collapsed": true,
    "jupyter": {
     "outputs_hidden": true
    },
    "tags": []
   },
   "outputs": [
    {
     "name": "stdout",
     "output_type": "stream",
     "text": [
      "[{'body': 'eum non blanditiis soluta porro quibusdam voluptas\\n'\n",
      "          'vel voluptatem qui placeat dolores qui velit aut\\n'\n",
      "          'vel inventore aut cumque culpa explicabo aliquid at\\n'\n",
      "          'perspiciatis est et voluptatem dignissimos dolor itaque sit nam',\n",
      "  'id': 97,\n",
      "  'title': 'quas fugiat ut perspiciatis vero provident',\n",
      "  'userId': 10},\n",
      " {'body': 'inventore ab sint\\n'\n",
      "          'natus fugit id nulla sequi architecto nihil quaerat\\n'\n",
      "          'eos tenetur in in eum veritatis non\\n'\n",
      "          'quibusdam officiis aspernatur cumque aut commodi aut',\n",
      "  'id': 49,\n",
      "  'title': 'laborum non sunt aut ut assumenda perspiciatis voluptas',\n",
      "  'userId': 5},\n",
      " {'body': 'est rerum tempore vitae\\n'\n",
      "          'sequi sint nihil reprehenderit dolor beatae ea dolores neque\\n'\n",
      "          'fugiat blanditiis voluptate porro vel nihil molestiae ut '\n",
      "          'reiciendis\\n'\n",
      "          'qui aperiam non debitis possimus qui neque nisi nulla',\n",
      "  'id': 2,\n",
      "  'title': 'qui est esse',\n",
      "  'userId': 1},\n",
      " {'body': 'dolorem quibusdam ducimus consequuntur dicta aut quo laboriosam\\n'\n",
      "          'voluptatem quis enim recusandae ut sed sunt\\n'\n",
      "          'nostrum est odit totam\\n'\n",
      "          'sit error sed sunt eveniet provident qui nulla',\n",
      "  'id': 93,\n",
      "  'title': 'beatae soluta recusandae',\n",
      "  'userId': 10},\n",
      " {'body': 'eos qui et ipsum ipsam suscipit aut\\n'\n",
      "          'sed omnis non odio\\n'\n",
      "          'expedita earum mollitia molestiae aut atque rem suscipit\\n'\n",
      "          'nam impedit esse',\n",
      "  'id': 22,\n",
      "  'title': 'dolor sint quo a velit explicabo quia nam',\n",
      "  'userId': 3},\n",
      " {'body': 'repellat aliquid praesentium dolorem quo\\n'\n",
      "          'sed totam minus non itaque\\n'\n",
      "          'nihil labore molestiae sunt dolor eveniet hic recusandae veniam\\n'\n",
      "          'tempora et tenetur expedita sunt',\n",
      "  'id': 21,\n",
      "  'title': 'asperiores ea ipsam voluptatibus modi minima quia sint',\n",
      "  'userId': 3},\n",
      " {'body': 'ut libero sit aut totam inventore sunt\\n'\n",
      "          'porro sint qui sunt molestiae\\n'\n",
      "          'consequatur cupiditate qui iste ducimus adipisci\\n'\n",
      "          'dolor enim assumenda soluta laboriosam amet iste delectus hic',\n",
      "  'id': 82,\n",
      "  'title': 'laudantium voluptate suscipit sunt enim enim',\n",
      "  'userId': 9},\n",
      " {'body': 'libero accusantium et et facere incidunt sit dolorem\\n'\n",
      "          'non excepturi qui quia sed laudantium\\n'\n",
      "          'quisquam molestiae ducimus est\\n'\n",
      "          'officiis esse molestiae iste et quos',\n",
      "  'id': 79,\n",
      "  'title': 'pariatur consequatur quia magnam autem omnis non amet',\n",
      "  'userId': 8},\n",
      " {'body': 'qui consequuntur ducimus possimus quisquam amet similique\\n'\n",
      "          'suscipit porro ipsam amet\\n'\n",
      "          'eos veritatis officiis exercitationem vel fugit aut necessitatibus '\n",
      "          'totam\\n'\n",
      "          'omnis rerum consequatur expedita quidem cumque explicabo',\n",
      "  'id': 20,\n",
      "  'title': 'doloribus ad provident suscipit at',\n",
      "  'userId': 2},\n",
      " {'body': 'voluptates quo voluptatem facilis iure occaecati\\n'\n",
      "          'vel assumenda rerum officia et\\n'\n",
      "          'illum perspiciatis ab deleniti\\n'\n",
      "          'laudantium repellat ad ut et autem reprehenderit',\n",
      "  'id': 48,\n",
      "  'title': 'ut voluptatem illum ea doloribus itaque eos',\n",
      "  'userId': 5}]\n"
     ]
    }
   ],
   "source": [
    "pprint(response_json)"
   ]
  },
  {
   "cell_type": "code",
   "execution_count": 197,
   "metadata": {
    "collapsed": true,
    "jupyter": {
     "outputs_hidden": true
    },
    "tags": []
   },
   "outputs": [
    {
     "name": "stdout",
     "output_type": "stream",
     "text": [
      "[\n",
      "    {\n",
      "        \"body\": \"eum non blanditiis soluta porro quibusdam voluptas\\nvel voluptatem qui placeat dolores qui velit aut\\nvel inventore aut cumque culpa explicabo aliquid at\\nperspiciatis est et voluptatem dignissimos dolor itaque sit nam\",\n",
      "        \"id\": 97,\n",
      "        \"title\": \"quas fugiat ut perspiciatis vero provident\",\n",
      "        \"userId\": 10\n",
      "    },\n",
      "    {\n",
      "        \"body\": \"inventore ab sint\\nnatus fugit id nulla sequi architecto nihil quaerat\\neos tenetur in in eum veritatis non\\nquibusdam officiis aspernatur cumque aut commodi aut\",\n",
      "        \"id\": 49,\n",
      "        \"title\": \"laborum non sunt aut ut assumenda perspiciatis voluptas\",\n",
      "        \"userId\": 5\n",
      "    },\n",
      "    {\n",
      "        \"body\": \"est rerum tempore vitae\\nsequi sint nihil reprehenderit dolor beatae ea dolores neque\\nfugiat blanditiis voluptate porro vel nihil molestiae ut reiciendis\\nqui aperiam non debitis possimus qui neque nisi nulla\",\n",
      "        \"id\": 2,\n",
      "        \"title\": \"qui est esse\",\n",
      "        \"userId\": 1\n",
      "    },\n",
      "    {\n",
      "        \"body\": \"dolorem quibusdam ducimus consequuntur dicta aut quo laboriosam\\nvoluptatem quis enim recusandae ut sed sunt\\nnostrum est odit totam\\nsit error sed sunt eveniet provident qui nulla\",\n",
      "        \"id\": 93,\n",
      "        \"title\": \"beatae soluta recusandae\",\n",
      "        \"userId\": 10\n",
      "    },\n",
      "    {\n",
      "        \"body\": \"eos qui et ipsum ipsam suscipit aut\\nsed omnis non odio\\nexpedita earum mollitia molestiae aut atque rem suscipit\\nnam impedit esse\",\n",
      "        \"id\": 22,\n",
      "        \"title\": \"dolor sint quo a velit explicabo quia nam\",\n",
      "        \"userId\": 3\n",
      "    },\n",
      "    {\n",
      "        \"body\": \"repellat aliquid praesentium dolorem quo\\nsed totam minus non itaque\\nnihil labore molestiae sunt dolor eveniet hic recusandae veniam\\ntempora et tenetur expedita sunt\",\n",
      "        \"id\": 21,\n",
      "        \"title\": \"asperiores ea ipsam voluptatibus modi minima quia sint\",\n",
      "        \"userId\": 3\n",
      "    },\n",
      "    {\n",
      "        \"body\": \"ut libero sit aut totam inventore sunt\\nporro sint qui sunt molestiae\\nconsequatur cupiditate qui iste ducimus adipisci\\ndolor enim assumenda soluta laboriosam amet iste delectus hic\",\n",
      "        \"id\": 82,\n",
      "        \"title\": \"laudantium voluptate suscipit sunt enim enim\",\n",
      "        \"userId\": 9\n",
      "    },\n",
      "    {\n",
      "        \"body\": \"libero accusantium et et facere incidunt sit dolorem\\nnon excepturi qui quia sed laudantium\\nquisquam molestiae ducimus est\\nofficiis esse molestiae iste et quos\",\n",
      "        \"id\": 79,\n",
      "        \"title\": \"pariatur consequatur quia magnam autem omnis non amet\",\n",
      "        \"userId\": 8\n",
      "    },\n",
      "    {\n",
      "        \"body\": \"qui consequuntur ducimus possimus quisquam amet similique\\nsuscipit porro ipsam amet\\neos veritatis officiis exercitationem vel fugit aut necessitatibus totam\\nomnis rerum consequatur expedita quidem cumque explicabo\",\n",
      "        \"id\": 20,\n",
      "        \"title\": \"doloribus ad provident suscipit at\",\n",
      "        \"userId\": 2\n",
      "    },\n",
      "    {\n",
      "        \"body\": \"voluptates quo voluptatem facilis iure occaecati\\nvel assumenda rerum officia et\\nillum perspiciatis ab deleniti\\nlaudantium repellat ad ut et autem reprehenderit\",\n",
      "        \"id\": 48,\n",
      "        \"title\": \"ut voluptatem illum ea doloribus itaque eos\",\n",
      "        \"userId\": 5\n",
      "    }\n",
      "]\n"
     ]
    }
   ],
   "source": [
    "print(json.dumps(response_json, indent=4, sort_keys=True))"
   ]
  },
  {
   "cell_type": "markdown",
   "metadata": {},
   "source": [
    "# =========================================="
   ]
  },
  {
   "cell_type": "markdown",
   "metadata": {},
   "source": [
    "### 1.10 Students Do: Movie Iterative Requests (10 min)"
   ]
  },
  {
   "cell_type": "markdown",
   "metadata": {
    "tags": []
   },
   "source": [
    "## Instructions\n",
    "In this activity, you will test your knowledge of iterative requests by looping through a list of movies and collecting data from the OMDB API on each movie.\n",
    "* Consider the following list of movie titles.\n",
    "    ```python\n",
    "    movies = [\"Aliens\", \"Sing\", \"Moana\"]\n",
    "    ```\n",
    "* Make a request to the OMDb API for each movie in the list. Then:\n",
    "  * Print the director of each movie\n",
    "  * Save the responses in another list\n",
    "- - -"
   ]
  },
  {
   "cell_type": "code",
   "execution_count": 52,
   "metadata": {},
   "outputs": [
    {
     "name": "stdout",
     "output_type": "stream",
     "text": [
      "The director of Aliens is James Cameron\n",
      "The director of Sing is Garth Jennings, Christophe Lourdelet\n",
      "The director of Moana is Ron Clements, John Musker, Don Hall\n"
     ]
    }
   ],
   "source": [
    "# Dependencies\n",
    "import requests\n",
    "# from config import omdb_api_key\n",
    "\n",
    "url = \"http://www.omdbapi.com/?apikey=\" + omdb_api_key + \"&t=\"\n",
    "\n",
    "movies = [\"Aliens\", \"Sing\", \"Moana\"]\n",
    "\n",
    "responses = []\n",
    "\n",
    "# Make a request to the OMDb API for each movie in the list.\n",
    "for movie in movies:\n",
    "    movie_data = requests.get(url + movie).json()\n",
    "    # Print the director of each movie\n",
    "    print(f'The director of {movie} is {movie_data[\"Director\"]}')\n",
    "    # Save the responses in another list\n",
    "    responses.append(movie_data)"
   ]
  },
  {
   "cell_type": "code",
   "execution_count": 53,
   "metadata": {
    "tags": []
   },
   "outputs": [
    {
     "data": {
      "text/plain": [
       "[{'Title': 'Aliens',\n",
       "  'Year': '1986',\n",
       "  'Rated': 'R',\n",
       "  'Released': '18 Jul 1986',\n",
       "  'Runtime': '137 min',\n",
       "  'Genre': 'Action, Adventure, Sci-Fi',\n",
       "  'Director': 'James Cameron',\n",
       "  'Writer': 'James Cameron, David Giler, Walter Hill',\n",
       "  'Actors': 'Sigourney Weaver, Michael Biehn, Carrie Henn',\n",
       "  'Plot': 'Decades after surviving the Nostromo incident, Ellen Ripley is sent out to re-establish contact with a terraforming colony but finds herself battling the Alien Queen and her offspring.',\n",
       "  'Language': 'English, Spanish',\n",
       "  'Country': 'United Kingdom, United States',\n",
       "  'Awards': 'Won 2 Oscars. 20 wins & 23 nominations total',\n",
       "  'Poster': 'https://m.media-amazon.com/images/M/MV5BOGJkY2EyOWYtYWRmNy00ZTEzLTllMDAtYzYzYjA0ZjFhZWJjXkEyXkFqcGdeQXVyMTUzMDUzNTI3._V1_SX300.jpg',\n",
       "  'Ratings': [{'Source': 'Internet Movie Database', 'Value': '8.4/10'},\n",
       "   {'Source': 'Rotten Tomatoes', 'Value': '98%'},\n",
       "   {'Source': 'Metacritic', 'Value': '84/100'}],\n",
       "  'Metascore': '84',\n",
       "  'imdbRating': '8.4',\n",
       "  'imdbVotes': '741,853',\n",
       "  'imdbID': 'tt0090605',\n",
       "  'Type': 'movie',\n",
       "  'DVD': '01 Mar 2013',\n",
       "  'BoxOffice': '$85,160,248',\n",
       "  'Production': 'N/A',\n",
       "  'Website': 'N/A',\n",
       "  'Response': 'True'},\n",
       " {'Title': 'Sing',\n",
       "  'Year': '2016',\n",
       "  'Rated': 'PG',\n",
       "  'Released': '21 Dec 2016',\n",
       "  'Runtime': '108 min',\n",
       "  'Genre': 'Animation, Comedy, Family',\n",
       "  'Director': 'Garth Jennings, Christophe Lourdelet',\n",
       "  'Writer': 'Garth Jennings',\n",
       "  'Actors': 'Matthew McConaughey, Reese Witherspoon, Seth MacFarlane',\n",
       "  'Plot': \"In a city of humanoid animals, a hustling theater impresario's attempt to save his theater with a singing competition becomes grander than he anticipates even as its finalists find that their lives will never be the same.\",\n",
       "  'Language': 'English, Japanese',\n",
       "  'Country': 'Japan, United States, France',\n",
       "  'Awards': '3 wins & 25 nominations',\n",
       "  'Poster': 'https://m.media-amazon.com/images/M/MV5BMTYzODYzODU2Ml5BMl5BanBnXkFtZTgwNTc1MTA2NzE@._V1_SX300.jpg',\n",
       "  'Ratings': [{'Source': 'Internet Movie Database', 'Value': '7.1/10'},\n",
       "   {'Source': 'Rotten Tomatoes', 'Value': '71%'},\n",
       "   {'Source': 'Metacritic', 'Value': '59/100'}],\n",
       "  'Metascore': '59',\n",
       "  'imdbRating': '7.1',\n",
       "  'imdbVotes': '182,693',\n",
       "  'imdbID': 'tt3470600',\n",
       "  'Type': 'movie',\n",
       "  'DVD': '08 Mar 2017',\n",
       "  'BoxOffice': '$270,578,425',\n",
       "  'Production': 'N/A',\n",
       "  'Website': 'N/A',\n",
       "  'Response': 'True'},\n",
       " {'Title': 'Moana',\n",
       "  'Year': '2016',\n",
       "  'Rated': 'PG',\n",
       "  'Released': '23 Nov 2016',\n",
       "  'Runtime': '107 min',\n",
       "  'Genre': 'Animation, Adventure, Comedy',\n",
       "  'Director': 'Ron Clements, John Musker, Don Hall',\n",
       "  'Writer': 'Jared Bush, Ron Clements, John Musker',\n",
       "  'Actors': \"Auli'i Cravalho, Dwayne Johnson, Rachel House\",\n",
       "  'Plot': \"In Ancient Polynesia, when a terrible curse incurred by the Demigod Maui reaches Moana's island, she answers the Ocean's call to seek out the Demigod to set things right.\",\n",
       "  'Language': 'English, French',\n",
       "  'Country': 'United States',\n",
       "  'Awards': 'Nominated for 2 Oscars. 22 wins & 90 nominations total',\n",
       "  'Poster': 'https://m.media-amazon.com/images/M/MV5BMjI4MzU5NTExNF5BMl5BanBnXkFtZTgwNzY1MTEwMDI@._V1_SX300.jpg',\n",
       "  'Ratings': [{'Source': 'Internet Movie Database', 'Value': '7.6/10'},\n",
       "   {'Source': 'Rotten Tomatoes', 'Value': '95%'},\n",
       "   {'Source': 'Metacritic', 'Value': '81/100'}],\n",
       "  'Metascore': '81',\n",
       "  'imdbRating': '7.6',\n",
       "  'imdbVotes': '361,266',\n",
       "  'imdbID': 'tt3521164',\n",
       "  'Type': 'movie',\n",
       "  'DVD': '21 Feb 2017',\n",
       "  'BoxOffice': '$248,757,044',\n",
       "  'Production': 'N/A',\n",
       "  'Website': 'N/A',\n",
       "  'Response': 'True'}]"
      ]
     },
     "execution_count": 53,
     "metadata": {},
     "output_type": "execute_result"
    }
   ],
   "source": [
    "# Print the responses\n",
    "responses"
   ]
  },
  {
   "cell_type": "code",
   "execution_count": 54,
   "metadata": {
    "tags": []
   },
   "outputs": [
    {
     "name": "stdout",
     "output_type": "stream",
     "text": [
      "[\n",
      "    {\n",
      "        \"Actors\": \"Sigourney Weaver, Michael Biehn, Carrie Henn\",\n",
      "        \"Awards\": \"Won 2 Oscars. 20 wins & 23 nominations total\",\n",
      "        \"BoxOffice\": \"$85,160,248\",\n",
      "        \"Country\": \"United Kingdom, United States\",\n",
      "        \"DVD\": \"01 Mar 2013\",\n",
      "        \"Director\": \"James Cameron\",\n",
      "        \"Genre\": \"Action, Adventure, Sci-Fi\",\n",
      "        \"Language\": \"English, Spanish\",\n",
      "        \"Metascore\": \"84\",\n",
      "        \"Plot\": \"Decades after surviving the Nostromo incident, Ellen Ripley is sent out to re-establish contact with a terraforming colony but finds herself battling the Alien Queen and her offspring.\",\n",
      "        \"Poster\": \"https://m.media-amazon.com/images/M/MV5BOGJkY2EyOWYtYWRmNy00ZTEzLTllMDAtYzYzYjA0ZjFhZWJjXkEyXkFqcGdeQXVyMTUzMDUzNTI3._V1_SX300.jpg\",\n",
      "        \"Production\": \"N/A\",\n",
      "        \"Rated\": \"R\",\n",
      "        \"Ratings\": [\n",
      "            {\n",
      "                \"Source\": \"Internet Movie Database\",\n",
      "                \"Value\": \"8.4/10\"\n",
      "            },\n",
      "            {\n",
      "                \"Source\": \"Rotten Tomatoes\",\n",
      "                \"Value\": \"98%\"\n",
      "            },\n",
      "            {\n",
      "                \"Source\": \"Metacritic\",\n",
      "                \"Value\": \"84/100\"\n",
      "            }\n",
      "        ],\n",
      "        \"Released\": \"18 Jul 1986\",\n",
      "        \"Response\": \"True\",\n",
      "        \"Runtime\": \"137 min\",\n",
      "        \"Title\": \"Aliens\",\n",
      "        \"Type\": \"movie\",\n",
      "        \"Website\": \"N/A\",\n",
      "        \"Writer\": \"James Cameron, David Giler, Walter Hill\",\n",
      "        \"Year\": \"1986\",\n",
      "        \"imdbID\": \"tt0090605\",\n",
      "        \"imdbRating\": \"8.4\",\n",
      "        \"imdbVotes\": \"741,853\"\n",
      "    },\n",
      "    {\n",
      "        \"Actors\": \"Matthew McConaughey, Reese Witherspoon, Seth MacFarlane\",\n",
      "        \"Awards\": \"3 wins & 25 nominations\",\n",
      "        \"BoxOffice\": \"$270,578,425\",\n",
      "        \"Country\": \"Japan, United States, France\",\n",
      "        \"DVD\": \"08 Mar 2017\",\n",
      "        \"Director\": \"Garth Jennings, Christophe Lourdelet\",\n",
      "        \"Genre\": \"Animation, Comedy, Family\",\n",
      "        \"Language\": \"English, Japanese\",\n",
      "        \"Metascore\": \"59\",\n",
      "        \"Plot\": \"In a city of humanoid animals, a hustling theater impresario's attempt to save his theater with a singing competition becomes grander than he anticipates even as its finalists find that their lives will never be the same.\",\n",
      "        \"Poster\": \"https://m.media-amazon.com/images/M/MV5BMTYzODYzODU2Ml5BMl5BanBnXkFtZTgwNTc1MTA2NzE@._V1_SX300.jpg\",\n",
      "        \"Production\": \"N/A\",\n",
      "        \"Rated\": \"PG\",\n",
      "        \"Ratings\": [\n",
      "            {\n",
      "                \"Source\": \"Internet Movie Database\",\n",
      "                \"Value\": \"7.1/10\"\n",
      "            },\n",
      "            {\n",
      "                \"Source\": \"Rotten Tomatoes\",\n",
      "                \"Value\": \"71%\"\n",
      "            },\n",
      "            {\n",
      "                \"Source\": \"Metacritic\",\n",
      "                \"Value\": \"59/100\"\n",
      "            }\n",
      "        ],\n",
      "        \"Released\": \"21 Dec 2016\",\n",
      "        \"Response\": \"True\",\n",
      "        \"Runtime\": \"108 min\",\n",
      "        \"Title\": \"Sing\",\n",
      "        \"Type\": \"movie\",\n",
      "        \"Website\": \"N/A\",\n",
      "        \"Writer\": \"Garth Jennings\",\n",
      "        \"Year\": \"2016\",\n",
      "        \"imdbID\": \"tt3470600\",\n",
      "        \"imdbRating\": \"7.1\",\n",
      "        \"imdbVotes\": \"182,693\"\n",
      "    },\n",
      "    {\n",
      "        \"Actors\": \"Auli'i Cravalho, Dwayne Johnson, Rachel House\",\n",
      "        \"Awards\": \"Nominated for 2 Oscars. 22 wins & 90 nominations total\",\n",
      "        \"BoxOffice\": \"$248,757,044\",\n",
      "        \"Country\": \"United States\",\n",
      "        \"DVD\": \"21 Feb 2017\",\n",
      "        \"Director\": \"Ron Clements, John Musker, Don Hall\",\n",
      "        \"Genre\": \"Animation, Adventure, Comedy\",\n",
      "        \"Language\": \"English, French\",\n",
      "        \"Metascore\": \"81\",\n",
      "        \"Plot\": \"In Ancient Polynesia, when a terrible curse incurred by the Demigod Maui reaches Moana's island, she answers the Ocean's call to seek out the Demigod to set things right.\",\n",
      "        \"Poster\": \"https://m.media-amazon.com/images/M/MV5BMjI4MzU5NTExNF5BMl5BanBnXkFtZTgwNzY1MTEwMDI@._V1_SX300.jpg\",\n",
      "        \"Production\": \"N/A\",\n",
      "        \"Rated\": \"PG\",\n",
      "        \"Ratings\": [\n",
      "            {\n",
      "                \"Source\": \"Internet Movie Database\",\n",
      "                \"Value\": \"7.6/10\"\n",
      "            },\n",
      "            {\n",
      "                \"Source\": \"Rotten Tomatoes\",\n",
      "                \"Value\": \"95%\"\n",
      "            },\n",
      "            {\n",
      "                \"Source\": \"Metacritic\",\n",
      "                \"Value\": \"81/100\"\n",
      "            }\n",
      "        ],\n",
      "        \"Released\": \"23 Nov 2016\",\n",
      "        \"Response\": \"True\",\n",
      "        \"Runtime\": \"107 min\",\n",
      "        \"Title\": \"Moana\",\n",
      "        \"Type\": \"movie\",\n",
      "        \"Website\": \"N/A\",\n",
      "        \"Writer\": \"Jared Bush, Ron Clements, John Musker\",\n",
      "        \"Year\": \"2016\",\n",
      "        \"imdbID\": \"tt3521164\",\n",
      "        \"imdbRating\": \"7.6\",\n",
      "        \"imdbVotes\": \"361,266\"\n",
      "    }\n",
      "]\n"
     ]
    }
   ],
   "source": [
    "print(json.dumps(responses, indent=4, sort_keys=True))"
   ]
  },
  {
   "cell_type": "markdown",
   "metadata": {},
   "source": [
    "# =========================================="
   ]
  },
  {
   "cell_type": "markdown",
   "metadata": {},
   "source": [
    "### 1.11 Instructor Do: NYT API (5 min)"
   ]
  },
  {
   "cell_type": "markdown",
   "metadata": {},
   "source": [
    "* First create an account with NYT by filling out this [form](https://developer.nytimes.com/accounts/create).\n",
    "\n",
    "  ![NYT Create Account](../Images/11-NYT_account.png)\n",
    "\n",
    "  * Navigate to the index of the email used to sign-up and activate the account.\n",
    "\n",
    "  * **Note:** Make sure to check your spam folder for the email from New York Times article API.\n",
    "  * Navigate back the [sign in page](https://developer.nytimes.com/accounts/login) and login with the newly created account.\n",
    "\n",
    "* Once you have successfully made a NYT account and logged in, it's time to create an app and obtain an API KEY.\n",
    "\n",
    "  * From the drop down on the top right next to your email, click on apps.\n",
    "\n",
    "  ![select apps](../Images/11-select_apps.png)\n",
    "\n",
    "  * Click on **+NEW APP**.\n",
    "\n",
    "  * This will bring you to app creation page. Give the app any name.\n",
    "\n",
    "  ![Name app](../Images/11-NYT_name_app.png)\n",
    "\n",
    "  * Scroll down to the **Article Search API** and select it.\n",
    "\n",
    "  ![Article API](../Images/11-article_api.png)\n",
    "\n",
    "  * Scroll back up to the top and click **CREATE**.\n",
    "\n",
    "* After the app is created, you will be re-directed to the app page, which contains the API key. you will use this key to interact with the NYT API.\n",
    "\n",
    "  ![NYT API Key](../Images/11-NYT_api_key.png)"
   ]
  },
  {
   "cell_type": "code",
   "execution_count": 202,
   "metadata": {},
   "outputs": [
    {
     "data": {
      "text/plain": [
       "'https://api.nytimes.com/svc/search/v2/articlesearch.json?api-key=GhrfvpZ8nZETSK9RZrhGZ2GQxb1xOiqs&q='"
      ]
     },
     "execution_count": 202,
     "metadata": {},
     "output_type": "execute_result"
    }
   ],
   "source": [
    "# Dependencies\n",
    "import requests\n",
    "from pprint import pprint\n",
    "# from config import nyt_api_key\n",
    " \n",
    "url = \"https://api.nytimes.com/svc/search/v2/articlesearch.json?\"\n",
    "url = f\"https://api.nytimes.com/svc/search/v2/articlesearch.json?api-key={nyt_api_key}&q=\"\n",
    "\n",
    "url"
   ]
  },
  {
   "cell_type": "code",
   "execution_count": 56,
   "metadata": {},
   "outputs": [],
   "source": [
    "# pip install python-dotenv\n",
    "import os\n",
    "from dotenv import load_dotenv\n",
    "load_dotenv()\n",
    "nyt_api_key = os.getenv(\"nyt_api_key\")\n",
    "# nyt_api_key"
   ]
  },
  {
   "cell_type": "code",
   "execution_count": 204,
   "metadata": {},
   "outputs": [],
   "source": [
    "# Search for articles that mention granola\n",
    "query = \"election\""
   ]
  },
  {
   "cell_type": "code",
   "execution_count": 206,
   "metadata": {},
   "outputs": [
    {
     "data": {
      "text/plain": [
       "'https://api.nytimes.com/svc/search/v2/articlesearch.json?api-key=GhrfvpZ8nZETSK9RZrhGZ2GQxb1xOiqs&q=election'"
      ]
     },
     "execution_count": 206,
     "metadata": {},
     "output_type": "execute_result"
    }
   ],
   "source": [
    "# Build query URL\n",
    "# query_url = url + \"api-key=\" + nyt_api_key + \"&q=\" + query\n",
    "query_url = url + query\n",
    "query_url"
   ]
  },
  {
   "cell_type": "code",
   "execution_count": 208,
   "metadata": {
    "collapsed": true,
    "jupyter": {
     "outputs_hidden": true
    },
    "tags": []
   },
   "outputs": [
    {
     "name": "stdout",
     "output_type": "stream",
     "text": [
      "{'_id': 'nyt://article/48adac94-6f60-5bd7-89a8-9001914d2ead',\n",
      " 'abstract': 'The West Virginia Democrat could run for re-election to the '\n",
      "             'Senate, make a third-party presidential bid or simply retire '\n",
      "             'from politics. To his party’s consternation, he’s not ready to '\n",
      "             'say which.',\n",
      " 'byline': {'organization': None,\n",
      "            'original': 'By Luke Broadwater and Jonathan Weisman',\n",
      "            'person': [{'firstname': 'Luke',\n",
      "                        'lastname': 'Broadwater',\n",
      "                        'middlename': None,\n",
      "                        'organization': '',\n",
      "                        'qualifier': None,\n",
      "                        'rank': 1,\n",
      "                        'role': 'reported',\n",
      "                        'title': None},\n",
      "                       {'firstname': 'Jonathan',\n",
      "                        'lastname': 'Weisman',\n",
      "                        'middlename': None,\n",
      "                        'organization': '',\n",
      "                        'qualifier': None,\n",
      "                        'rank': 2,\n",
      "                        'role': 'reported',\n",
      "                        'title': None}]},\n",
      " 'document_type': 'article',\n",
      " 'headline': {'content_kicker': None,\n",
      "              'kicker': None,\n",
      "              'main': 'Manchin Mulls His Political Future, Keeping Washington '\n",
      "                      'Guessing',\n",
      "              'name': None,\n",
      "              'print_headline': 'As Manchin Considers the Future, Democrats '\n",
      "                                'Hang on His Every Word',\n",
      "              'seo': None,\n",
      "              'sub': None},\n",
      " 'keywords': [{'major': 'N',\n",
      "               'name': 'persons',\n",
      "               'rank': 1,\n",
      "               'value': 'Manchin, Joe III'},\n",
      "              {'major': 'N',\n",
      "               'name': 'glocations',\n",
      "               'rank': 2,\n",
      "               'value': 'West Virginia'},\n",
      "              {'major': 'N',\n",
      "               'name': 'organizations',\n",
      "               'rank': 3,\n",
      "               'value': 'Democratic Party'},\n",
      "              {'major': 'N',\n",
      "               'name': 'organizations',\n",
      "               'rank': 4,\n",
      "               'value': 'Senate'},\n",
      "              {'major': 'N',\n",
      "               'name': 'subject',\n",
      "               'rank': 5,\n",
      "               'value': 'Elections, Senate'},\n",
      "              {'major': 'N',\n",
      "               'name': 'subject',\n",
      "               'rank': 6,\n",
      "               'value': 'Presidential Election of 2024'},\n",
      "              {'major': 'N',\n",
      "               'name': 'subject',\n",
      "               'rank': 7,\n",
      "               'value': 'United States Politics and Government'},\n",
      "              {'major': 'N',\n",
      "               'name': 'subject',\n",
      "               'rank': 8,\n",
      "               'value': 'Third-Party Politics (US)'},\n",
      "              {'major': 'N',\n",
      "               'name': 'organizations',\n",
      "               'rank': 9,\n",
      "               'value': 'No Labels'},\n",
      "              {'major': 'N',\n",
      "               'name': 'organizations',\n",
      "               'rank': 10,\n",
      "               'value': 'West Virginia University'},\n",
      "              {'major': 'N',\n",
      "               'name': 'persons',\n",
      "               'rank': 11,\n",
      "               'value': 'Justice, James C II'}],\n",
      " 'lead_paragraph': 'Senator Joe Manchin III, the conservative West Virginia '\n",
      "                   'Democrat, was attending an event in his home state last '\n",
      "                   'month when he made a joke that quickly touched off the '\n",
      "                   'latest round of feverish speculation about his political '\n",
      "                   'future.',\n",
      " 'multimedia': [{'caption': None,\n",
      "                 'credit': None,\n",
      "                 'crop_name': 'articleLarge',\n",
      "                 'height': 400,\n",
      "                 'legacy': {'xlarge': 'images/2023/09/08/multimedia/08dc-manchin-01-hfbw/08dc-manchin-01-hfbw-articleLarge.jpg',\n",
      "                            'xlargeheight': 400,\n",
      "                            'xlargewidth': 600},\n",
      "                 'rank': 0,\n",
      "                 'subType': 'xlarge',\n",
      "                 'subtype': 'xlarge',\n",
      "                 'type': 'image',\n",
      "                 'url': 'images/2023/09/08/multimedia/08dc-manchin-01-hfbw/08dc-manchin-01-hfbw-articleLarge.jpg',\n",
      "                 'width': 600},\n",
      "                {'caption': None,\n",
      "                 'credit': None,\n",
      "                 'crop_name': 'popup',\n",
      "                 'height': 433,\n",
      "                 'legacy': {},\n",
      "                 'rank': 0,\n",
      "                 'subType': 'popup',\n",
      "                 'subtype': 'popup',\n",
      "                 'type': 'image',\n",
      "                 'url': 'images/2023/09/08/multimedia/08dc-manchin-01-hfbw/08dc-manchin-01-hfbw-popup.jpg',\n",
      "                 'width': 650},\n",
      "                {'caption': None,\n",
      "                 'credit': None,\n",
      "                 'crop_name': 'blog480',\n",
      "                 'height': 320,\n",
      "                 'legacy': {},\n",
      "                 'rank': 0,\n",
      "                 'subType': 'blog480',\n",
      "                 'subtype': 'blog480',\n",
      "                 'type': 'image',\n",
      "                 'url': 'images/2023/09/08/multimedia/08dc-manchin-01-hfbw/08dc-manchin-01-hfbw-blog480.jpg',\n",
      "                 'width': 480},\n",
      "                {'caption': None,\n",
      "                 'credit': None,\n",
      "                 'crop_name': 'blog533',\n",
      "                 'height': 355,\n",
      "                 'legacy': {},\n",
      "                 'rank': 0,\n",
      "                 'subType': 'blog533',\n",
      "                 'subtype': 'blog533',\n",
      "                 'type': 'image',\n",
      "                 'url': 'images/2023/09/08/multimedia/08dc-manchin-01-hfbw/08dc-manchin-01-hfbw-blog533.jpg',\n",
      "                 'width': 533},\n",
      "                {'caption': None,\n",
      "                 'credit': None,\n",
      "                 'crop_name': 'blog427',\n",
      "                 'height': 285,\n",
      "                 'legacy': {},\n",
      "                 'rank': 0,\n",
      "                 'subType': 'blog427',\n",
      "                 'subtype': 'blog427',\n",
      "                 'type': 'image',\n",
      "                 'url': 'images/2023/09/08/multimedia/08dc-manchin-01-hfbw/08dc-manchin-01-hfbw-blog427.jpg',\n",
      "                 'width': 427},\n",
      "                {'caption': None,\n",
      "                 'credit': None,\n",
      "                 'crop_name': 'tmagSF',\n",
      "                 'height': 241,\n",
      "                 'legacy': {},\n",
      "                 'rank': 0,\n",
      "                 'subType': 'tmagSF',\n",
      "                 'subtype': 'tmagSF',\n",
      "                 'type': 'image',\n",
      "                 'url': 'images/2023/09/08/multimedia/08dc-manchin-01-hfbw/08dc-manchin-01-hfbw-tmagSF.jpg',\n",
      "                 'width': 362},\n",
      "                {'caption': None,\n",
      "                 'credit': None,\n",
      "                 'crop_name': 'tmagArticle',\n",
      "                 'height': 395,\n",
      "                 'legacy': {},\n",
      "                 'rank': 0,\n",
      "                 'subType': 'tmagArticle',\n",
      "                 'subtype': 'tmagArticle',\n",
      "                 'type': 'image',\n",
      "                 'url': 'images/2023/09/08/multimedia/08dc-manchin-01-hfbw/08dc-manchin-01-hfbw-tmagArticle.jpg',\n",
      "                 'width': 592},\n",
      "                {'caption': None,\n",
      "                 'credit': None,\n",
      "                 'crop_name': 'slide',\n",
      "                 'height': 400,\n",
      "                 'legacy': {},\n",
      "                 'rank': 0,\n",
      "                 'subType': 'slide',\n",
      "                 'subtype': 'slide',\n",
      "                 'type': 'image',\n",
      "                 'url': 'images/2023/09/08/multimedia/08dc-manchin-01-hfbw/08dc-manchin-01-hfbw-slide.jpg',\n",
      "                 'width': 600},\n",
      "                {'caption': None,\n",
      "                 'credit': None,\n",
      "                 'crop_name': 'jumbo',\n",
      "                 'height': 683,\n",
      "                 'legacy': {},\n",
      "                 'rank': 0,\n",
      "                 'subType': 'jumbo',\n",
      "                 'subtype': 'jumbo',\n",
      "                 'type': 'image',\n",
      "                 'url': 'images/2023/09/08/multimedia/08dc-manchin-01-hfbw/08dc-manchin-01-hfbw-jumbo.jpg',\n",
      "                 'width': 1024},\n",
      "                {'caption': None,\n",
      "                 'credit': None,\n",
      "                 'crop_name': 'superJumbo',\n",
      "                 'height': 1365,\n",
      "                 'legacy': {},\n",
      "                 'rank': 0,\n",
      "                 'subType': 'superJumbo',\n",
      "                 'subtype': 'superJumbo',\n",
      "                 'type': 'image',\n",
      "                 'url': 'images/2023/09/08/multimedia/08dc-manchin-01-hfbw/08dc-manchin-01-hfbw-superJumbo.jpg',\n",
      "                 'width': 2048},\n",
      "                {'caption': None,\n",
      "                 'credit': None,\n",
      "                 'crop_name': 'blog225',\n",
      "                 'height': 150,\n",
      "                 'legacy': {},\n",
      "                 'rank': 0,\n",
      "                 'subType': 'blog225',\n",
      "                 'subtype': 'blog225',\n",
      "                 'type': 'image',\n",
      "                 'url': 'images/2023/09/08/multimedia/08dc-manchin-01-hfbw/08dc-manchin-01-hfbw-blog225.jpg',\n",
      "                 'width': 225},\n",
      "                {'caption': None,\n",
      "                 'credit': None,\n",
      "                 'crop_name': 'master1050',\n",
      "                 'height': 700,\n",
      "                 'legacy': {},\n",
      "                 'rank': 0,\n",
      "                 'subType': 'master1050',\n",
      "                 'subtype': 'master1050',\n",
      "                 'type': 'image',\n",
      "                 'url': 'images/2023/09/08/multimedia/08dc-manchin-01-hfbw/08dc-manchin-01-hfbw-master1050.jpg',\n",
      "                 'width': 1050},\n",
      "                {'caption': None,\n",
      "                 'credit': None,\n",
      "                 'crop_name': 'master675',\n",
      "                 'height': 450,\n",
      "                 'legacy': {},\n",
      "                 'rank': 0,\n",
      "                 'subType': 'master675',\n",
      "                 'subtype': 'master675',\n",
      "                 'type': 'image',\n",
      "                 'url': 'images/2023/09/08/multimedia/08dc-manchin-01-hfbw/08dc-manchin-01-hfbw-master675.jpg',\n",
      "                 'width': 675},\n",
      "                {'caption': None,\n",
      "                 'credit': None,\n",
      "                 'crop_name': 'master495',\n",
      "                 'height': 330,\n",
      "                 'legacy': {},\n",
      "                 'rank': 0,\n",
      "                 'subType': 'master495',\n",
      "                 'subtype': 'master495',\n",
      "                 'type': 'image',\n",
      "                 'url': 'images/2023/09/08/multimedia/08dc-manchin-01-hfbw/08dc-manchin-01-hfbw-master495.jpg',\n",
      "                 'width': 495},\n",
      "                {'caption': None,\n",
      "                 'credit': None,\n",
      "                 'crop_name': 'master180',\n",
      "                 'height': 120,\n",
      "                 'legacy': {},\n",
      "                 'rank': 0,\n",
      "                 'subType': 'master180',\n",
      "                 'subtype': 'master180',\n",
      "                 'type': 'image',\n",
      "                 'url': 'images/2023/09/08/multimedia/08dc-manchin-01-hfbw/08dc-manchin-01-hfbw-master180.jpg',\n",
      "                 'width': 180},\n",
      "                {'caption': None,\n",
      "                 'credit': None,\n",
      "                 'crop_name': 'master315',\n",
      "                 'height': 210,\n",
      "                 'legacy': {},\n",
      "                 'rank': 0,\n",
      "                 'subType': 'master315',\n",
      "                 'subtype': 'master315',\n",
      "                 'type': 'image',\n",
      "                 'url': 'images/2023/09/08/multimedia/08dc-manchin-01-hfbw/08dc-manchin-01-hfbw-master315.jpg',\n",
      "                 'width': 315},\n",
      "                {'caption': None,\n",
      "                 'credit': None,\n",
      "                 'crop_name': 'master768',\n",
      "                 'height': 512,\n",
      "                 'legacy': {},\n",
      "                 'rank': 0,\n",
      "                 'subType': 'master768',\n",
      "                 'subtype': 'master768',\n",
      "                 'type': 'image',\n",
      "                 'url': 'images/2023/09/08/multimedia/08dc-manchin-01-hfbw/08dc-manchin-01-hfbw-master768.jpg',\n",
      "                 'width': 768},\n",
      "                {'caption': None,\n",
      "                 'credit': None,\n",
      "                 'crop_name': 'thumbStandard',\n",
      "                 'height': 75,\n",
      "                 'legacy': {'thumbnail': 'images/2023/09/08/multimedia/08dc-manchin-01-hfbw/08dc-manchin-01-hfbw-thumbStandard.jpg',\n",
      "                            'thumbnailheight': 75,\n",
      "                            'thumbnailwidth': 75},\n",
      "                 'rank': 0,\n",
      "                 'subType': 'thumbnail',\n",
      "                 'subtype': 'thumbnail',\n",
      "                 'type': 'image',\n",
      "                 'url': 'images/2023/09/08/multimedia/08dc-manchin-01-hfbw/08dc-manchin-01-hfbw-thumbStandard.jpg',\n",
      "                 'width': 75},\n",
      "                {'caption': None,\n",
      "                 'credit': None,\n",
      "                 'crop_name': 'blogSmallThumb',\n",
      "                 'height': 50,\n",
      "                 'legacy': {},\n",
      "                 'rank': 0,\n",
      "                 'subType': 'blogSmallThumb',\n",
      "                 'subtype': 'blogSmallThumb',\n",
      "                 'type': 'image',\n",
      "                 'url': 'images/2023/09/08/multimedia/08dc-manchin-01-hfbw/08dc-manchin-01-hfbw-blogSmallThumb.jpg',\n",
      "                 'width': 50},\n",
      "                {'caption': None,\n",
      "                 'credit': None,\n",
      "                 'crop_name': 'thumbLarge',\n",
      "                 'height': 150,\n",
      "                 'legacy': {},\n",
      "                 'rank': 0,\n",
      "                 'subType': 'thumbLarge',\n",
      "                 'subtype': 'thumbLarge',\n",
      "                 'type': 'image',\n",
      "                 'url': 'images/2023/09/08/multimedia/08dc-manchin-01-hfbw/08dc-manchin-01-hfbw-thumbLarge.jpg',\n",
      "                 'width': 150},\n",
      "                {'caption': None,\n",
      "                 'credit': None,\n",
      "                 'crop_name': 'smallSquare168',\n",
      "                 'height': 168,\n",
      "                 'legacy': {},\n",
      "                 'rank': 0,\n",
      "                 'subType': 'smallSquare168',\n",
      "                 'subtype': 'smallSquare168',\n",
      "                 'type': 'image',\n",
      "                 'url': 'images/2023/09/08/multimedia/08dc-manchin-01-hfbw/08dc-manchin-01-hfbw-smallSquare168.jpg',\n",
      "                 'width': 168},\n",
      "                {'caption': None,\n",
      "                 'credit': None,\n",
      "                 'crop_name': 'smallSquare252',\n",
      "                 'height': 252,\n",
      "                 'legacy': {},\n",
      "                 'rank': 0,\n",
      "                 'subType': 'smallSquare252',\n",
      "                 'subtype': 'smallSquare252',\n",
      "                 'type': 'image',\n",
      "                 'url': 'images/2023/09/08/multimedia/08dc-manchin-01-hfbw/08dc-manchin-01-hfbw-smallSquare252.jpg',\n",
      "                 'width': 252},\n",
      "                {'caption': None,\n",
      "                 'credit': None,\n",
      "                 'crop_name': 'square320',\n",
      "                 'height': 320,\n",
      "                 'legacy': {},\n",
      "                 'rank': 0,\n",
      "                 'subType': 'square320',\n",
      "                 'subtype': 'square320',\n",
      "                 'type': 'image',\n",
      "                 'url': 'images/2023/09/08/multimedia/08dc-manchin-01-hfbw/08dc-manchin-01-hfbw-square320.jpg',\n",
      "                 'width': 320},\n",
      "                {'caption': None,\n",
      "                 'credit': None,\n",
      "                 'crop_name': 'moth',\n",
      "                 'height': 151,\n",
      "                 'legacy': {},\n",
      "                 'rank': 0,\n",
      "                 'subType': 'moth',\n",
      "                 'subtype': 'moth',\n",
      "                 'type': 'image',\n",
      "                 'url': 'images/2023/09/08/multimedia/08dc-manchin-01-hfbw/08dc-manchin-01-hfbw-moth.jpg',\n",
      "                 'width': 151},\n",
      "                {'caption': None,\n",
      "                 'credit': None,\n",
      "                 'crop_name': 'filmstrip',\n",
      "                 'height': 190,\n",
      "                 'legacy': {},\n",
      "                 'rank': 0,\n",
      "                 'subType': 'filmstrip',\n",
      "                 'subtype': 'filmstrip',\n",
      "                 'type': 'image',\n",
      "                 'url': 'images/2023/09/08/multimedia/08dc-manchin-01-hfbw/08dc-manchin-01-hfbw-filmstrip.jpg',\n",
      "                 'width': 190},\n",
      "                {'caption': None,\n",
      "                 'credit': None,\n",
      "                 'crop_name': 'square640',\n",
      "                 'height': 640,\n",
      "                 'legacy': {},\n",
      "                 'rank': 0,\n",
      "                 'subType': 'square640',\n",
      "                 'subtype': 'square640',\n",
      "                 'type': 'image',\n",
      "                 'url': 'images/2023/09/08/multimedia/08dc-manchin-01-hfbw/08dc-manchin-01-hfbw-square640.jpg',\n",
      "                 'width': 640},\n",
      "                {'caption': None,\n",
      "                 'credit': None,\n",
      "                 'crop_name': 'mediumSquare149',\n",
      "                 'height': 149,\n",
      "                 'legacy': {},\n",
      "                 'rank': 0,\n",
      "                 'subType': 'mediumSquare149',\n",
      "                 'subtype': 'mediumSquare149',\n",
      "                 'type': 'image',\n",
      "                 'url': 'images/2023/09/08/multimedia/08dc-manchin-01-hfbw/08dc-manchin-01-hfbw-mediumSquare149.jpg',\n",
      "                 'width': 149},\n",
      "                {'caption': None,\n",
      "                 'credit': None,\n",
      "                 'crop_name': 'mediumSquareAt3X',\n",
      "                 'height': 1800,\n",
      "                 'legacy': {},\n",
      "                 'rank': 0,\n",
      "                 'subType': 'mediumSquareAt3X',\n",
      "                 'subtype': 'mediumSquareAt3X',\n",
      "                 'type': 'image',\n",
      "                 'url': 'images/2023/09/08/multimedia/08dc-manchin-01-hfbw/08dc-manchin-01-hfbw-mediumSquareAt3X.jpg',\n",
      "                 'width': 1800},\n",
      "                {'caption': None,\n",
      "                 'credit': None,\n",
      "                 'crop_name': 'sfSpan',\n",
      "                 'height': 263,\n",
      "                 'legacy': {},\n",
      "                 'rank': 0,\n",
      "                 'subType': 'sfSpan',\n",
      "                 'subtype': 'sfSpan',\n",
      "                 'type': 'image',\n",
      "                 'url': 'images/2023/09/08/multimedia/08dc-manchin-01-hfbw/08dc-manchin-01-hfbw-sfSpan.jpg',\n",
      "                 'width': 395},\n",
      "                {'caption': None,\n",
      "                 'credit': None,\n",
      "                 'crop_name': 'largeHorizontal375',\n",
      "                 'height': 250,\n",
      "                 'legacy': {},\n",
      "                 'rank': 0,\n",
      "                 'subType': 'largeHorizontal375',\n",
      "                 'subtype': 'largeHorizontal375',\n",
      "                 'type': 'image',\n",
      "                 'url': 'images/2023/09/08/multimedia/08dc-manchin-01-hfbw/08dc-manchin-01-hfbw-largeHorizontal375.jpg',\n",
      "                 'width': 375},\n",
      "                {'caption': None,\n",
      "                 'credit': None,\n",
      "                 'crop_name': 'largeHorizontalJumbo',\n",
      "                 'height': 683,\n",
      "                 'legacy': {},\n",
      "                 'rank': 0,\n",
      "                 'subType': 'largeHorizontalJumbo',\n",
      "                 'subtype': 'largeHorizontalJumbo',\n",
      "                 'type': 'image',\n",
      "                 'url': 'images/2023/09/08/multimedia/08dc-manchin-01-hfbw/08dc-manchin-01-hfbw-largeHorizontalJumbo.jpg',\n",
      "                 'width': 1024},\n",
      "                {'caption': None,\n",
      "                 'credit': None,\n",
      "                 'crop_name': 'horizontalMediumAt2X',\n",
      "                 'height': 4000,\n",
      "                 'legacy': {},\n",
      "                 'rank': 0,\n",
      "                 'subType': 'horizontalMediumAt2X',\n",
      "                 'subtype': 'horizontalMediumAt2X',\n",
      "                 'type': 'image',\n",
      "                 'url': 'images/2023/09/08/multimedia/08dc-manchin-01-hfbw/08dc-manchin-01-hfbw-horizontalMediumAt2X.jpg',\n",
      "                 'width': 6000},\n",
      "                {'caption': None,\n",
      "                 'credit': None,\n",
      "                 'crop_name': 'hpLarge',\n",
      "                 'height': 287,\n",
      "                 'legacy': {},\n",
      "                 'rank': 0,\n",
      "                 'subType': 'hpLarge',\n",
      "                 'subtype': 'hpLarge',\n",
      "                 'type': 'image',\n",
      "                 'url': 'images/2023/09/08/multimedia/08dc-manchin-01-hfbw/08dc-manchin-01-hfbw-hpLarge.jpg',\n",
      "                 'width': 511},\n",
      "                {'caption': None,\n",
      "                 'credit': None,\n",
      "                 'crop_name': 'largeWidescreen573',\n",
      "                 'height': 322,\n",
      "                 'legacy': {},\n",
      "                 'rank': 0,\n",
      "                 'subType': 'largeWidescreen573',\n",
      "                 'subtype': 'largeWidescreen573',\n",
      "                 'type': 'image',\n",
      "                 'url': 'images/2023/09/08/multimedia/08dc-manchin-01-hfbw/08dc-manchin-01-hfbw-largeWidescreen573.jpg',\n",
      "                 'width': 573},\n",
      "                {'caption': None,\n",
      "                 'credit': None,\n",
      "                 'crop_name': 'largeWidescreen1050',\n",
      "                 'height': 591,\n",
      "                 'legacy': {},\n",
      "                 'rank': 0,\n",
      "                 'subType': 'largeWidescreen1050',\n",
      "                 'subtype': 'largeWidescreen1050',\n",
      "                 'type': 'image',\n",
      "                 'url': 'images/2023/09/08/multimedia/08dc-manchin-01-hfbw/08dc-manchin-01-hfbw-largeWidescreen1050.jpg',\n",
      "                 'width': 1050},\n",
      "                {'caption': None,\n",
      "                 'credit': None,\n",
      "                 'crop_name': 'thumbWide',\n",
      "                 'height': 126,\n",
      "                 'legacy': {'wide': 'images/2023/09/08/multimedia/08dc-manchin-01-hfbw/08dc-manchin-01-hfbw-thumbWide.jpg',\n",
      "                            'wideheight': 126,\n",
      "                            'widewidth': 190},\n",
      "                 'rank': 0,\n",
      "                 'subType': 'wide',\n",
      "                 'subtype': 'wide',\n",
      "                 'type': 'image',\n",
      "                 'url': 'images/2023/09/08/multimedia/08dc-manchin-01-hfbw/08dc-manchin-01-hfbw-thumbWide.jpg',\n",
      "                 'width': 190},\n",
      "                {'caption': None,\n",
      "                 'credit': None,\n",
      "                 'crop_name': 'videoThumb',\n",
      "                 'height': 50,\n",
      "                 'legacy': {},\n",
      "                 'rank': 0,\n",
      "                 'subType': 'videoThumb',\n",
      "                 'subtype': 'videoThumb',\n",
      "                 'type': 'image',\n",
      "                 'url': 'images/2023/09/08/multimedia/08dc-manchin-01-hfbw/08dc-manchin-01-hfbw-videoThumb.jpg',\n",
      "                 'width': 75},\n",
      "                {'caption': None,\n",
      "                 'credit': None,\n",
      "                 'crop_name': 'videoLarge',\n",
      "                 'height': 507,\n",
      "                 'legacy': {},\n",
      "                 'rank': 0,\n",
      "                 'subType': 'videoLarge',\n",
      "                 'subtype': 'videoLarge',\n",
      "                 'type': 'image',\n",
      "                 'url': 'images/2023/09/08/multimedia/08dc-manchin-01-hfbw/08dc-manchin-01-hfbw-videoLarge.jpg',\n",
      "                 'width': 768},\n",
      "                {'caption': None,\n",
      "                 'credit': None,\n",
      "                 'crop_name': 'mediumThreeByTwo210',\n",
      "                 'height': 140,\n",
      "                 'legacy': {},\n",
      "                 'rank': 0,\n",
      "                 'subType': 'mediumThreeByTwo210',\n",
      "                 'subtype': 'mediumThreeByTwo210',\n",
      "                 'type': 'image',\n",
      "                 'url': 'images/2023/09/08/multimedia/08dc-manchin-01-hfbw/08dc-manchin-01-hfbw-mediumThreeByTwo210.jpg',\n",
      "                 'width': 210},\n",
      "                {'caption': None,\n",
      "                 'credit': None,\n",
      "                 'crop_name': 'mediumThreeByTwo225',\n",
      "                 'height': 150,\n",
      "                 'legacy': {},\n",
      "                 'rank': 0,\n",
      "                 'subType': 'mediumThreeByTwo225',\n",
      "                 'subtype': 'mediumThreeByTwo225',\n",
      "                 'type': 'image',\n",
      "                 'url': 'images/2023/09/08/multimedia/08dc-manchin-01-hfbw/08dc-manchin-01-hfbw-mediumThreeByTwo225.jpg',\n",
      "                 'width': 225},\n",
      "                {'caption': None,\n",
      "                 'credit': None,\n",
      "                 'crop_name': 'mediumThreeByTwo440',\n",
      "                 'height': 293,\n",
      "                 'legacy': {},\n",
      "                 'rank': 0,\n",
      "                 'subType': 'mediumThreeByTwo440',\n",
      "                 'subtype': 'mediumThreeByTwo440',\n",
      "                 'type': 'image',\n",
      "                 'url': 'images/2023/09/08/multimedia/08dc-manchin-01-hfbw/08dc-manchin-01-hfbw-mediumThreeByTwo440.jpg',\n",
      "                 'width': 440},\n",
      "                {'caption': None,\n",
      "                 'credit': None,\n",
      "                 'crop_name': 'mediumThreeByTwo252',\n",
      "                 'height': 168,\n",
      "                 'legacy': {},\n",
      "                 'rank': 0,\n",
      "                 'subType': 'mediumThreeByTwo252',\n",
      "                 'subtype': 'mediumThreeByTwo252',\n",
      "                 'type': 'image',\n",
      "                 'url': 'images/2023/09/08/multimedia/08dc-manchin-01-hfbw/08dc-manchin-01-hfbw-mediumThreeByTwo252.jpg',\n",
      "                 'width': 252},\n",
      "                {'caption': None,\n",
      "                 'credit': None,\n",
      "                 'crop_name': 'mediumThreeByTwo378',\n",
      "                 'height': 252,\n",
      "                 'legacy': {},\n",
      "                 'rank': 0,\n",
      "                 'subType': 'mediumThreeByTwo378',\n",
      "                 'subtype': 'mediumThreeByTwo378',\n",
      "                 'type': 'image',\n",
      "                 'url': 'images/2023/09/08/multimedia/08dc-manchin-01-hfbw/08dc-manchin-01-hfbw-mediumThreeByTwo378.jpg',\n",
      "                 'width': 378},\n",
      "                {'caption': None,\n",
      "                 'credit': None,\n",
      "                 'crop_name': 'threeByTwoLargeAt2X',\n",
      "                 'height': 4000,\n",
      "                 'legacy': {},\n",
      "                 'rank': 0,\n",
      "                 'subType': 'threeByTwoLargeAt2X',\n",
      "                 'subtype': 'threeByTwoLargeAt2X',\n",
      "                 'type': 'image',\n",
      "                 'url': 'images/2023/09/08/multimedia/08dc-manchin-01-hfbw/08dc-manchin-01-hfbw-threeByTwoLargeAt2X.jpg',\n",
      "                 'width': 6000},\n",
      "                {'caption': None,\n",
      "                 'credit': None,\n",
      "                 'crop_name': 'threeByTwoMediumAt2X',\n",
      "                 'height': 1000,\n",
      "                 'legacy': {},\n",
      "                 'rank': 0,\n",
      "                 'subType': 'threeByTwoMediumAt2X',\n",
      "                 'subtype': 'threeByTwoMediumAt2X',\n",
      "                 'type': 'image',\n",
      "                 'url': 'images/2023/09/08/multimedia/08dc-manchin-01-hfbw/08dc-manchin-01-hfbw-threeByTwoMediumAt2X.jpg',\n",
      "                 'width': 1500},\n",
      "                {'caption': None,\n",
      "                 'credit': None,\n",
      "                 'crop_name': 'threeByTwoSmallAt2X',\n",
      "                 'height': 400,\n",
      "                 'legacy': {},\n",
      "                 'rank': 0,\n",
      "                 'subType': 'threeByTwoSmallAt2X',\n",
      "                 'subtype': 'threeByTwoSmallAt2X',\n",
      "                 'type': 'image',\n",
      "                 'url': 'images/2023/09/08/multimedia/08dc-manchin-01-hfbw/08dc-manchin-01-hfbw-threeByTwoSmallAt2X.jpg',\n",
      "                 'width': 600},\n",
      "                {'caption': None,\n",
      "                 'credit': None,\n",
      "                 'crop_name': 'articleInline',\n",
      "                 'height': 127,\n",
      "                 'legacy': {},\n",
      "                 'rank': 0,\n",
      "                 'subType': 'articleInline',\n",
      "                 'subtype': 'articleInline',\n",
      "                 'type': 'image',\n",
      "                 'url': 'images/2023/09/08/multimedia/08dc-manchin-01-hfbw/08dc-manchin-01-hfbw-articleInline.jpg',\n",
      "                 'width': 190},\n",
      "                {'caption': None,\n",
      "                 'credit': None,\n",
      "                 'crop_name': 'hpSmall',\n",
      "                 'height': 109,\n",
      "                 'legacy': {},\n",
      "                 'rank': 0,\n",
      "                 'subType': 'hpSmall',\n",
      "                 'subtype': 'hpSmall',\n",
      "                 'type': 'image',\n",
      "                 'url': 'images/2023/09/08/multimedia/08dc-manchin-01-hfbw/08dc-manchin-01-hfbw-hpSmall.jpg',\n",
      "                 'width': 163},\n",
      "                {'caption': None,\n",
      "                 'credit': None,\n",
      "                 'crop_name': 'blogSmallInline',\n",
      "                 'height': 101,\n",
      "                 'legacy': {},\n",
      "                 'rank': 0,\n",
      "                 'subType': 'blogSmallInline',\n",
      "                 'subtype': 'blogSmallInline',\n",
      "                 'type': 'image',\n",
      "                 'url': 'images/2023/09/08/multimedia/08dc-manchin-01-hfbw/08dc-manchin-01-hfbw-blogSmallInline.jpg',\n",
      "                 'width': 151},\n",
      "                {'caption': None,\n",
      "                 'credit': None,\n",
      "                 'crop_name': 'mediumFlexible177',\n",
      "                 'height': 118,\n",
      "                 'legacy': {},\n",
      "                 'rank': 0,\n",
      "                 'subType': 'mediumFlexible177',\n",
      "                 'subtype': 'mediumFlexible177',\n",
      "                 'type': 'image',\n",
      "                 'url': 'images/2023/09/08/multimedia/08dc-manchin-01-hfbw/08dc-manchin-01-hfbw-mediumFlexible177.jpg',\n",
      "                 'width': 177},\n",
      "                {'caption': None,\n",
      "                 'credit': None,\n",
      "                 'crop_name': 'videoSmall',\n",
      "                 'height': 281,\n",
      "                 'legacy': {},\n",
      "                 'rank': 0,\n",
      "                 'subType': 'videoSmall',\n",
      "                 'subtype': 'videoSmall',\n",
      "                 'type': 'image',\n",
      "                 'url': 'images/2023/09/08/multimedia/08dc-manchin-01-hfbw/08dc-manchin-01-hfbw-videoSmall.jpg',\n",
      "                 'width': 500},\n",
      "                {'caption': None,\n",
      "                 'credit': None,\n",
      "                 'crop_name': 'videoHpMedium',\n",
      "                 'height': 211,\n",
      "                 'legacy': {},\n",
      "                 'rank': 0,\n",
      "                 'subType': 'videoHpMedium',\n",
      "                 'subtype': 'videoHpMedium',\n",
      "                 'type': 'image',\n",
      "                 'url': 'images/2023/09/08/multimedia/08dc-manchin-01-hfbw/08dc-manchin-01-hfbw-videoHpMedium.jpg',\n",
      "                 'width': 375},\n",
      "                {'caption': None,\n",
      "                 'credit': None,\n",
      "                 'crop_name': 'videoSixteenByNine600',\n",
      "                 'height': 338,\n",
      "                 'legacy': {},\n",
      "                 'rank': 0,\n",
      "                 'subType': 'videoSixteenByNine600',\n",
      "                 'subtype': 'videoSixteenByNine600',\n",
      "                 'type': 'image',\n",
      "                 'url': 'images/2023/09/08/multimedia/08dc-manchin-01-hfbw/08dc-manchin-01-hfbw-videoSixteenByNine600.jpg',\n",
      "                 'width': 600},\n",
      "                {'caption': None,\n",
      "                 'credit': None,\n",
      "                 'crop_name': 'videoSixteenByNine540',\n",
      "                 'height': 304,\n",
      "                 'legacy': {},\n",
      "                 'rank': 0,\n",
      "                 'subType': 'videoSixteenByNine540',\n",
      "                 'subtype': 'videoSixteenByNine540',\n",
      "                 'type': 'image',\n",
      "                 'url': 'images/2023/09/08/multimedia/08dc-manchin-01-hfbw/08dc-manchin-01-hfbw-videoSixteenByNine540.jpg',\n",
      "                 'width': 540},\n",
      "                {'caption': None,\n",
      "                 'credit': None,\n",
      "                 'crop_name': 'videoSixteenByNine495',\n",
      "                 'height': 278,\n",
      "                 'legacy': {},\n",
      "                 'rank': 0,\n",
      "                 'subType': 'videoSixteenByNine495',\n",
      "                 'subtype': 'videoSixteenByNine495',\n",
      "                 'type': 'image',\n",
      "                 'url': 'images/2023/09/08/multimedia/08dc-manchin-01-hfbw/08dc-manchin-01-hfbw-videoSixteenByNine495.jpg',\n",
      "                 'width': 495},\n",
      "                {'caption': None,\n",
      "                 'credit': None,\n",
      "                 'crop_name': 'videoSixteenByNine390',\n",
      "                 'height': 219,\n",
      "                 'legacy': {},\n",
      "                 'rank': 0,\n",
      "                 'subType': 'videoSixteenByNine390',\n",
      "                 'subtype': 'videoSixteenByNine390',\n",
      "                 'type': 'image',\n",
      "                 'url': 'images/2023/09/08/multimedia/08dc-manchin-01-hfbw/08dc-manchin-01-hfbw-videoSixteenByNine390.jpg',\n",
      "                 'width': 390},\n",
      "                {'caption': None,\n",
      "                 'credit': None,\n",
      "                 'crop_name': 'videoSixteenByNine1050',\n",
      "                 'height': 591,\n",
      "                 'legacy': {},\n",
      "                 'rank': 0,\n",
      "                 'subType': 'videoSixteenByNine1050',\n",
      "                 'subtype': 'videoSixteenByNine1050',\n",
      "                 'type': 'image',\n",
      "                 'url': 'images/2023/09/08/multimedia/08dc-manchin-01-hfbw/08dc-manchin-01-hfbw-videoSixteenByNine1050.jpg',\n",
      "                 'width': 1050},\n",
      "                {'caption': None,\n",
      "                 'credit': None,\n",
      "                 'crop_name': 'videoSixteenByNine480',\n",
      "                 'height': 270,\n",
      "                 'legacy': {},\n",
      "                 'rank': 0,\n",
      "                 'subType': 'videoSixteenByNine480',\n",
      "                 'subtype': 'videoSixteenByNine480',\n",
      "                 'type': 'image',\n",
      "                 'url': 'images/2023/09/08/multimedia/08dc-manchin-01-hfbw/08dc-manchin-01-hfbw-videoSixteenByNine480.jpg',\n",
      "                 'width': 480},\n",
      "                {'caption': None,\n",
      "                 'credit': None,\n",
      "                 'crop_name': 'videoSixteenByNine310',\n",
      "                 'height': 174,\n",
      "                 'legacy': {},\n",
      "                 'rank': 0,\n",
      "                 'subType': 'videoSixteenByNine310',\n",
      "                 'subtype': 'videoSixteenByNine310',\n",
      "                 'type': 'image',\n",
      "                 'url': 'images/2023/09/08/multimedia/08dc-manchin-01-hfbw/08dc-manchin-01-hfbw-videoSixteenByNine310.jpg',\n",
      "                 'width': 310},\n",
      "                {'caption': None,\n",
      "                 'credit': None,\n",
      "                 'crop_name': 'videoSixteenByNine225',\n",
      "                 'height': 126,\n",
      "                 'legacy': {},\n",
      "                 'rank': 0,\n",
      "                 'subType': 'videoSixteenByNine225',\n",
      "                 'subtype': 'videoSixteenByNine225',\n",
      "                 'type': 'image',\n",
      "                 'url': 'images/2023/09/08/multimedia/08dc-manchin-01-hfbw/08dc-manchin-01-hfbw-videoSixteenByNine225.jpg',\n",
      "                 'width': 225},\n",
      "                {'caption': None,\n",
      "                 'credit': None,\n",
      "                 'crop_name': 'videoSixteenByNine96',\n",
      "                 'height': 54,\n",
      "                 'legacy': {},\n",
      "                 'rank': 0,\n",
      "                 'subType': 'videoSixteenByNine96',\n",
      "                 'subtype': 'videoSixteenByNine96',\n",
      "                 'type': 'image',\n",
      "                 'url': 'images/2023/09/08/multimedia/08dc-manchin-01-hfbw/08dc-manchin-01-hfbw-videoSixteenByNine96.jpg',\n",
      "                 'width': 96},\n",
      "                {'caption': None,\n",
      "                 'credit': None,\n",
      "                 'crop_name': 'videoSixteenByNine3000',\n",
      "                 'height': 1688,\n",
      "                 'legacy': {},\n",
      "                 'rank': 0,\n",
      "                 'subType': 'videoSixteenByNine3000',\n",
      "                 'subtype': 'videoSixteenByNine3000',\n",
      "                 'type': 'image',\n",
      "                 'url': 'images/2023/09/08/multimedia/08dc-manchin-01-hfbw/08dc-manchin-01-hfbw-videoSixteenByNine3000.jpg',\n",
      "                 'width': 3000},\n",
      "                {'caption': None,\n",
      "                 'credit': None,\n",
      "                 'crop_name': 'videoSixteenByNine768',\n",
      "                 'height': 432,\n",
      "                 'legacy': {},\n",
      "                 'rank': 0,\n",
      "                 'subType': 'videoSixteenByNine768',\n",
      "                 'subtype': 'videoSixteenByNine768',\n",
      "                 'type': 'image',\n",
      "                 'url': 'images/2023/09/08/multimedia/08dc-manchin-01-hfbw/08dc-manchin-01-hfbw-videoSixteenByNine768.jpg',\n",
      "                 'width': 768},\n",
      "                {'caption': None,\n",
      "                 'credit': None,\n",
      "                 'crop_name': 'videoSixteenByNine150',\n",
      "                 'height': 84,\n",
      "                 'legacy': {},\n",
      "                 'rank': 0,\n",
      "                 'subType': 'videoSixteenByNine150',\n",
      "                 'subtype': 'videoSixteenByNine150',\n",
      "                 'type': 'image',\n",
      "                 'url': 'images/2023/09/08/multimedia/08dc-manchin-01-hfbw/08dc-manchin-01-hfbw-videoSixteenByNine150.jpg',\n",
      "                 'width': 150},\n",
      "                {'caption': None,\n",
      "                 'credit': None,\n",
      "                 'crop_name': 'videoSixteenByNineJumbo1600',\n",
      "                 'height': 900,\n",
      "                 'legacy': {},\n",
      "                 'rank': 0,\n",
      "                 'subType': 'videoSixteenByNineJumbo1600',\n",
      "                 'subtype': 'videoSixteenByNineJumbo1600',\n",
      "                 'type': 'image',\n",
      "                 'url': 'images/2023/09/08/multimedia/08dc-manchin-01-hfbw/08dc-manchin-01-hfbw-videoSixteenByNineJumbo1600.jpg',\n",
      "                 'width': 1600},\n",
      "                {'caption': None,\n",
      "                 'credit': None,\n",
      "                 'crop_name': 'miniMoth',\n",
      "                 'height': 70,\n",
      "                 'legacy': {},\n",
      "                 'rank': 0,\n",
      "                 'subType': 'miniMoth',\n",
      "                 'subtype': 'miniMoth',\n",
      "                 'type': 'image',\n",
      "                 'url': 'images/2023/09/08/multimedia/08dc-manchin-01-hfbw/08dc-manchin-01-hfbw-miniMoth.jpg',\n",
      "                 'width': 151},\n",
      "                {'caption': None,\n",
      "                 'credit': None,\n",
      "                 'crop_name': 'windowsTile336H',\n",
      "                 'height': 336,\n",
      "                 'legacy': {},\n",
      "                 'rank': 0,\n",
      "                 'subType': 'windowsTile336H',\n",
      "                 'subtype': 'windowsTile336H',\n",
      "                 'type': 'image',\n",
      "                 'url': 'images/2023/09/08/multimedia/08dc-manchin-01-hfbw/08dc-manchin-01-hfbw-windowsTile336H.jpg',\n",
      "                 'width': 694},\n",
      "                {'caption': None,\n",
      "                 'credit': None,\n",
      "                 'crop_name': 'videoFifteenBySeven1305',\n",
      "                 'height': 609,\n",
      "                 'legacy': {},\n",
      "                 'rank': 0,\n",
      "                 'subType': 'videoFifteenBySeven1305',\n",
      "                 'subtype': 'videoFifteenBySeven1305',\n",
      "                 'type': 'image',\n",
      "                 'url': 'images/2023/09/08/multimedia/08dc-manchin-01-hfbw/08dc-manchin-01-hfbw-videoFifteenBySeven1305.jpg',\n",
      "                 'width': 1305},\n",
      "                {'caption': None,\n",
      "                 'credit': None,\n",
      "                 'crop_name': 'videoFifteenBySeven2610',\n",
      "                 'height': 1218,\n",
      "                 'legacy': {},\n",
      "                 'rank': 0,\n",
      "                 'subType': 'videoFifteenBySeven2610',\n",
      "                 'subtype': 'videoFifteenBySeven2610',\n",
      "                 'type': 'image',\n",
      "                 'url': 'images/2023/09/08/multimedia/08dc-manchin-01-hfbw/08dc-manchin-01-hfbw-videoFifteenBySeven2610.jpg',\n",
      "                 'width': 2610},\n",
      "                {'caption': None,\n",
      "                 'credit': None,\n",
      "                 'crop_name': 'facebookJumbo',\n",
      "                 'height': 550,\n",
      "                 'legacy': {},\n",
      "                 'rank': 0,\n",
      "                 'subType': 'facebookJumbo',\n",
      "                 'subtype': 'facebookJumbo',\n",
      "                 'type': 'image',\n",
      "                 'url': 'images/2023/09/08/multimedia/08dc-manchin-01-hfbw/08dc-manchin-01-hfbw-facebookJumbo.jpg',\n",
      "                 'width': 1050},\n",
      "                {'caption': None,\n",
      "                 'credit': None,\n",
      "                 'crop_name': 'watch308',\n",
      "                 'height': 348,\n",
      "                 'legacy': {},\n",
      "                 'rank': 0,\n",
      "                 'subType': 'watch308',\n",
      "                 'subtype': 'watch308',\n",
      "                 'type': 'image',\n",
      "                 'url': 'images/2023/09/08/multimedia/08dc-manchin-01-hfbw/08dc-manchin-01-hfbw-watch308.jpg',\n",
      "                 'width': 312},\n",
      "                {'caption': None,\n",
      "                 'credit': None,\n",
      "                 'crop_name': 'watch268',\n",
      "                 'height': 303,\n",
      "                 'legacy': {},\n",
      "                 'rank': 0,\n",
      "                 'subType': 'watch268',\n",
      "                 'subtype': 'watch268',\n",
      "                 'type': 'image',\n",
      "                 'url': 'images/2023/09/08/multimedia/08dc-manchin-01-hfbw/08dc-manchin-01-hfbw-watch268.jpg',\n",
      "                 'width': 272},\n",
      "                {'caption': None,\n",
      "                 'credit': None,\n",
      "                 'crop_name': 'verticalTwoByThree735',\n",
      "                 'height': 1102,\n",
      "                 'legacy': {},\n",
      "                 'rank': 0,\n",
      "                 'subType': 'verticalTwoByThree735',\n",
      "                 'subtype': 'verticalTwoByThree735',\n",
      "                 'type': 'image',\n",
      "                 'url': 'images/2023/09/08/multimedia/08dc-manchin-01-hfbw/08dc-manchin-01-hfbw-verticalTwoByThree735.jpg',\n",
      "                 'width': 735},\n",
      "                {'caption': None,\n",
      "                 'credit': None,\n",
      "                 'crop_name': 'mobileMasterAt3x',\n",
      "                 'height': 1800,\n",
      "                 'legacy': {},\n",
      "                 'rank': 0,\n",
      "                 'subType': 'mobileMasterAt3x',\n",
      "                 'subtype': 'mobileMasterAt3x',\n",
      "                 'type': 'image',\n",
      "                 'url': 'images/2023/09/08/multimedia/08dc-manchin-01-hfbw/08dc-manchin-01-hfbw-mobileMasterAt3x.jpg',\n",
      "                 'width': 1800}],\n",
      " 'news_desk': 'Washington',\n",
      " 'print_page': '19',\n",
      " 'print_section': 'A',\n",
      " 'pub_date': '2023-09-08T17:25:43+0000',\n",
      " 'section_name': 'U.S.',\n",
      " 'snippet': 'The West Virginia Democrat could run for re-election to the '\n",
      "            'Senate, make a third-party presidential bid or simply retire from '\n",
      "            'politics. To his party’s consternation, he’s not ready to say '\n",
      "            'which.',\n",
      " 'source': 'The New York Times',\n",
      " 'subsection_name': 'Politics',\n",
      " 'type_of_material': 'News',\n",
      " 'uri': 'nyt://article/48adac94-6f60-5bd7-89a8-9001914d2ead',\n",
      " 'web_url': 'https://www.nytimes.com/2023/09/08/us/politics/joe-manchin-future.html',\n",
      " 'word_count': 1400}\n"
     ]
    }
   ],
   "source": [
    "# Request articles\n",
    "articles = requests.get(query_url).json()\n",
    "\n",
    "# The \"response\" property in articles contains the actual articles\n",
    "# list comprehension.\n",
    "articles_list = articles[\"response\"][\"docs\"]\n",
    "pprint(articles_list[0])"
   ]
  },
  {
   "cell_type": "code",
   "execution_count": 209,
   "metadata": {
    "tags": []
   },
   "outputs": [
    {
     "name": "stdout",
     "output_type": "stream",
     "text": [
      "Your Reading List\n",
      "The West Virginia Democrat could run for re-election to the Senate, make a third-party presidential bid or simply retire from politics. To his party’s consternation, he’s not ready to say which.\n",
      "https://www.nytimes.com/2023/09/08/us/politics/joe-manchin-future.html\n",
      "The strain of migrants in New York, Chicago, Los Angeles and other cities has taxed resources, divided Democrats and put pressure on President Biden to act.\n",
      "https://www.nytimes.com/2023/09/08/us/politics/gop-migrants-blue-cities.html\n",
      "As Vivek Ramaswamy rises in the polls, fellow Republican presidential candidates are keying in on a number of policy pronouncements that veer far from the G.O.P. mainstream.\n",
      "https://www.nytimes.com/2023/08/21/us/politics/vivek-ramaswamy-foreign-policy.html\n",
      "Surging poll numbers and newly revealed concerns from Ron DeSantis’s super PAC underscore that Vivek Ramaswamy is having a well-timed political moment.\n",
      "https://www.nytimes.com/2023/08/18/us/politics/vivek-ramaswamy-ron-desantis-republican-primary.html\n",
      "State officials who rejected Donald Trump’s calls to subvert the election results say the party must move on from 2020 in order to defeat President Biden in 2024.\n",
      "https://www.nytimes.com/2023/08/16/us/politics/trumps-indictment-georgia-2024.html\n",
      "New polling shows national Republicans and Iowa Republican caucusgoers were more interested in “law and order” than battling “woke” schools, media and corporations.\n",
      "https://www.nytimes.com/2023/08/06/us/politics/woke-republicans-poll.html\n",
      "New polling suggests that Gov. Ron DeSantis’s efforts in Iowa have been having an effect, but that the challenge of defeating Mr. Trump there is complicated by multiple factors.\n",
      "https://www.nytimes.com/2023/08/04/us/politics/trump-iowa-poll.html\n",
      "Lawyers will be filing briefs over the course of the month before appearing in court again on Aug. 28.\n",
      "https://www.nytimes.com/2023/08/03/us/politics/trump-jan-6-election-trial-timetable.html\n",
      "This time the seriousness of the charges facing the former president gave the proceedings a sense of historical weight.\n",
      "https://www.nytimes.com/2023/08/03/us/politics/trump-court-appearance-arraignment.html\n",
      "A quick proceeding that was mostly straightforward.\n",
      "https://www.nytimes.com/2023/08/03/us/politics/trump-arraignment-takeaways.html\n"
     ]
    }
   ],
   "source": [
    "# Print the web_url of each stored article\n",
    "print(\"Your Reading List\")\n",
    "for article in articles_list:\n",
    "    print(article[\"snippet\"])\n",
    "    print(article[\"web_url\"])\n",
    "    "
   ]
  },
  {
   "cell_type": "markdown",
   "metadata": {},
   "source": [
    "# =========================================="
   ]
  },
  {
   "cell_type": "markdown",
   "metadata": {},
   "source": [
    "### 1.12 Students Do: Retrieving Articles (15 min)"
   ]
  },
  {
   "cell_type": "markdown",
   "metadata": {},
   "source": [
    "## Instructions\n",
    "In this activity, you will create an application that grabs articles from the NYT API, stores them within a list, and prints snippets of the articles to the screen.\n",
    "* Save the NYT API endpoint to a variable. Make sure that you include the right query parameter for retrieving JSON data!\n",
    "* Register for and save your API Key to a variable.\n",
    "* Decide on a search term, and save it to a variable.\n",
    "* Limit your search to articles published within a range of dates&mdash;for example, only articles published in 2014. _Hint_: Read the documentation on `end_date`.\n",
    "* Build your query URL, and save it to a variable.\n",
    "* Retrieve a response from the NYT API with a get request.\n",
    "* Review the documentation. How do you get a hold of the articles in the response?\n",
    "* Traverse through the returned JSON to retrieve the list of articles and store it in a variable.\n",
    "* Print a `snippet` from each article, and separate each snippet using dashes (`-`).\n",
    "## Bonus\n",
    "Figure out how we could get 30 results. **Hint**: Look up the `page` query parameter. If you get a message saying you've exceeded your rate limit, don't fret&mdash;you've solved the problem.\n",
    "## Hint\n",
    "* **Warning:** Be sure not to print out any of the query URLs. The query URLs will include your API key, and if pushed to a public repository, it becomes a security risk for you as someone could steal and use your key.\n",
    "\n",
    "- - -"
   ]
  },
  {
   "cell_type": "code",
   "execution_count": 61,
   "metadata": {},
   "outputs": [],
   "source": [
    "# Dependencies\n",
    "import requests\n",
    "# from config import nyt_api_key\n",
    "import time\n",
    "\n",
    "url = \"https://api.nytimes.com/svc/search/v2/articlesearch.json?\"\n",
    "\n",
    "# Store a search term\n",
    "query = \"obama\"\n",
    "\n",
    "# Search for articles published between a begin and end date\n",
    "begin_date = \"20160101\"\n",
    "end_date = \"20160130\"\n",
    "\n",
    "# Build URL\n",
    "query_url = f\"{url}api-key={nyt_api_key}&q={query}&begin_date={begin_date}&end_date={end_date}\""
   ]
  },
  {
   "cell_type": "code",
   "execution_count": 62,
   "metadata": {
    "tags": []
   },
   "outputs": [
    {
     "name": "stdout",
     "output_type": "stream",
     "text": [
      "A snippet from the article: In presidential elections, opposites attract.\n",
      "---------------------------\n",
      "A snippet from the article: “We must confront the reality that around the world anti-Semitism is on the rise,” the president urged at an event to posthumously honor individuals who protected Jews during the Holocaust.\n",
      "---------------------------\n",
      "A snippet from the article: President Obama signed a presidential memorandum creating a White House task force on cancer.\n",
      "---------------------------\n",
      "A snippet from the article: President Obama hosted the emir of Qatar, Sheikh Tamim bin Hamad al-Thani, on Tuesday, and both said they were committed to defeating the Islamic State and other terrorist organizations.\n",
      "---------------------------\n",
      "A snippet from the article: To function properly, the clemency process needs to be removed from the grasp of the Justice Department.\n",
      "---------------------------\n",
      "A snippet from the article: The president seeks $4 billion to help states expand in an area he views as critical to young people’s success in a changing job market.\n",
      "---------------------------\n",
      "A snippet from the article: Katie Beirne Fallon, the president’s legislative director, has been credited with improving his relations with lawmakers on Capitol Hill.\n",
      "---------------------------\n",
      "A snippet from the article: The practice can lead to “devastating, lasting psychological consequences,” he said in an opinion article in The Washington Post.\n",
      "---------------------------\n",
      "A snippet from the article: President Obama, speaking at the North American International Auto Show in Detroit, expressed sympathy and concern for residents of Flint, Mich., where there has been lead contamination in the drinking water.\n",
      "---------------------------\n",
      "A snippet from the article: The first time the president met with House Democrats, in 2009, there were 257 of them. Now there are 188. Some point a finger at him.\n",
      "---------------------------\n"
     ]
    }
   ],
   "source": [
    "# Retrieve articles\n",
    "articles = requests.get(query_url).json()\n",
    "articles_list = articles[\"response\"][\"docs\"]\n",
    "\n",
    "for article in articles_list:\n",
    "    print(f'A snippet from the article: {article[\"snippet\"]}')\n",
    "    print('---------------------------')"
   ]
  },
  {
   "cell_type": "code",
   "execution_count": 63,
   "metadata": {},
   "outputs": [],
   "source": [
    "# BONUS: How would we get 30 results? \n",
    "# HINT: Look up the page query param\n",
    "\n",
    "# Empty list for articles\n",
    "articles_list = []\n",
    "\n",
    "# loop through pages 0-2\n",
    "for page in range(0, 3):\n",
    "    query_url = f\"{url}api-key={nyt_api_key}&q={query}&begin_date={begin_date}&end_date={end_date}\"\n",
    "    # create query with page number\n",
    "    query_url = f\"{query_url}&page={str(page)}\"\n",
    "    articles = requests.get(query_url).json()\n",
    "    \n",
    "    # Add a one second interval between queries to stay within API query limits\n",
    "    time.sleep(1)\n",
    "    # loop through the response and append each article to the list\n",
    "    for article in articles[\"response\"][\"docs\"]:\n",
    "        articles_list.append(article)"
   ]
  },
  {
   "cell_type": "code",
   "execution_count": 64,
   "metadata": {
    "tags": []
   },
   "outputs": [
    {
     "name": "stdout",
     "output_type": "stream",
     "text": [
      "In presidential elections, opposites attract.\n",
      "---------------------------\n",
      "“We must confront the reality that around the world anti-Semitism is on the rise,” the president urged at an event to posthumously honor individuals who protected Jews during the Holocaust.\n",
      "---------------------------\n",
      "President Obama hosted the emir of Qatar, Sheikh Tamim bin Hamad al-Thani, on Tuesday, and both said they were committed to defeating the Islamic State and other terrorist organizations.\n",
      "---------------------------\n",
      "President Obama signed a presidential memorandum creating a White House task force on cancer.\n",
      "---------------------------\n",
      "To function properly, the clemency process needs to be removed from the grasp of the Justice Department.\n",
      "---------------------------\n",
      "The president seeks $4 billion to help states expand in an area he views as critical to young people’s success in a changing job market.\n",
      "---------------------------\n",
      "Katie Beirne Fallon, the president’s legislative director, has been credited with improving his relations with lawmakers on Capitol Hill.\n",
      "---------------------------\n",
      "The practice can lead to “devastating, lasting psychological consequences,” he said in an opinion article in The Washington Post.\n",
      "---------------------------\n",
      "President Obama, speaking at the North American International Auto Show in Detroit, expressed sympathy and concern for residents of Flint, Mich., where there has been lead contamination in the drinking water.\n",
      "---------------------------\n",
      "The first time the president met with House Democrats, in 2009, there were 257 of them. Now there are 188. Some point a finger at him.\n",
      "---------------------------\n",
      "The president told Politico that politics were “meaner” than in 2008, and discussed the Democratic contest between Hillary Clinton and Bernie Sanders.\n",
      "---------------------------\n",
      "The president, who has spoken highly of Hillary Clinton recently, will meet with Senator Bernie Sanders, whom he does not have much of a relationship with.\n",
      "---------------------------\n",
      "Parker Sawyers and Tika Sumpter play the first couple — on their first date — in the Sundance favorite “Southside With You.”\n",
      "---------------------------\n",
      "After Senator Bernie Sanders and President Obama met for more than 45 minutes, the senator said the president was not trying to tip the scales against him.\n",
      "---------------------------\n",
      "Highlights from President Obama’s remarks at a town-hall style meeting in Baton Rouge, La, on Thursday.\n",
      "---------------------------\n",
      "Mr. Obama is to appear at the embassy to remember Americans who risked their lives to save Jews during the Holocaust, his latest move to show solidarity with Israel after a historic rupture over the Iran accord.\n",
      "---------------------------\n",
      "While not actually saying she would name Mr. Obama to the Supreme Court, Mrs. Clinton didn’t dismiss the idea either, saying “I love that.”\n",
      "---------------------------\n",
      "“Let me tell you, there are three things that are certain in life: death, taxes, and Michelle is not running for president.” — President Obama\n",
      "---------------------------\n",
      "When the president goes to the Illinois Capitol next month to speak, he will call for a less divisive politics, aides say.\n",
      "---------------------------\n",
      "Dire warnings from Republicans about the effect of President Obama’s policies on employment have simply not come true.\n",
      "---------------------------\n",
      "On a visit to the United States, Prime Minister Malcolm Turnbull of Australia met with President Obama on Tuesday to discuss the fight against the Islamic State and terror.\n",
      "---------------------------\n",
      "President Obama expressed relief and happiness that several Americans who had been detained in Iran were returning home after the completion of a nuclear agreement with Tehran.\n",
      "---------------------------\n",
      "The 2017 budget plan would make it easier for small businesses to form retirement savings plans for their workers.\n",
      "---------------------------\n",
      "The White House is working with Hillary Clinton’s campaign in ways large and small. Their two staffs consult on issues and the positions she takes on the president’s policy priorities.\n",
      "---------------------------\n",
      "The Iran case showed that the use of diplomacy was the best course.\n",
      "---------------------------\n",
      "The president delivered his final State of the Union address on Tuesday and discussed American innovation.\n",
      "---------------------------\n",
      "The president delivered his final State of the Union address on Tuesday and discussed economic growth.\n",
      "---------------------------\n",
      "The president delivered his final State of the Union address on Tuesday and discussed the threat posed by the Islamic State.\n",
      "---------------------------\n",
      "Seeking to stabilize her campaign, Mrs. Clinton linked herself repeatedly to the president in the Democratic debate.\n",
      "---------------------------\n",
      "For many young people, the first president they consciously registered was a black man.\n",
      "---------------------------\n"
     ]
    }
   ],
   "source": [
    "for article in articles_list:\n",
    "    print(article['snippet'])\n",
    "    print('---------------------------')"
   ]
  },
  {
   "cell_type": "markdown",
   "metadata": {},
   "source": [
    "# =========================================="
   ]
  },
  {
   "cell_type": "markdown",
   "metadata": {},
   "source": [
    "### Rating Class Objectives\n",
    "\n",
    "* rate your understanding using 1-5 method in each objective"
   ]
  },
  {
   "cell_type": "code",
   "execution_count": null,
   "metadata": {},
   "outputs": [],
   "source": [
    "title = \"06.1-Python-APIs-APIs\"\n",
    "objectives = [\n",
    "    \"Make get requests with the Request library\",\n",
    "    \"Convert JSON into a Python dictionary\",\n",
    "    \"Read and apply API documentation\",\n",
    "    \"Sign up for and use an API key\",\n",
    "]\n",
    "rating = []\n",
    "total = 0\n",
    "for i in range(len(objectives)):\n",
    "    rate = input(objectives[i]+\"? \")\n",
    "    total += int(rate)\n",
    "    rating.append(objectives[i] + \". (\" + rate + \"/5)\")\n",
    "print(\"=\"*96)\n",
    "print(f\"Self Evaluation for: {title}\")\n",
    "print(\"-\"*24)\n",
    "for i in rating:\n",
    "    print(i)\n",
    "print(\"-\"*64)\n",
    "print(\"Average: \" + str(total/len(objectives)))"
   ]
  }
 ],
 "metadata": {
  "kernelspec": {
   "display_name": "Python 3 (ipykernel)",
   "language": "python",
   "name": "python3"
  },
  "language_info": {
   "codemirror_mode": {
    "name": "ipython",
    "version": 3
   },
   "file_extension": ".py",
   "mimetype": "text/x-python",
   "name": "python",
   "nbconvert_exporter": "python",
   "pygments_lexer": "ipython3",
   "version": "3.9.13"
  }
 },
 "nbformat": 4,
 "nbformat_minor": 4
}

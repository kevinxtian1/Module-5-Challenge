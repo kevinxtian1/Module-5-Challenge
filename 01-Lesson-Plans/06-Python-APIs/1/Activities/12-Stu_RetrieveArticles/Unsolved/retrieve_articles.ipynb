{
 "cells": [
  {
   "cell_type": "code",
   "execution_count": 18,
   "metadata": {},
   "outputs": [
    {
     "data": {
      "text/plain": [
       "'https://api.nytimes.com/svc/search/v2/articlesearch.json?api-key=GhrfvpZ8nZETSK9RZrhGZ2GQxb1xOiqs&q=politics&facet_fields=source&facet=true&begin_date=20230101&end_date=20231231'"
      ]
     },
     "execution_count": 18,
     "metadata": {},
     "output_type": "execute_result"
    }
   ],
   "source": [
    "# Dependencies\n",
    "import requests\n",
    "from config import api_key\n",
    "import time\n",
    "\n",
    "url = \"https://api.nytimes.com/svc/search/v2/articlesearch.json?\"\n",
    "\n",
    "# Store a search term\n",
    "search_term = \"politics\"\n",
    "\n",
    "# Search for articles published between a begin and end date\n",
    "# q=obama&facet_fields=source&facet=true&begin_date=20120101&end_date=20121231\n",
    "begin_date=\"20230101\"\n",
    "end_date=\"20231231\"\n",
    "\n",
    "# Build URL\n",
    "target_url = f\"{url}api-key={api_key}&q={search_term}&facet_fields=source&facet=true&begin_date={begin_date}&end_date={end_date}\"\n",
    "target_url"
   ]
  },
  {
   "cell_type": "code",
   "execution_count": 22,
   "metadata": {
    "tags": []
   },
   "outputs": [
    {
     "name": "stdout",
     "output_type": "stream",
     "text": [
      "A snippet from the article:  Ms. Sinema left the Democratic Party last year to become an independent, but has not confirmed whether she will run for re-election.\n",
      "---------------------------\n",
      "A snippet from the article:  McCarthy’s unprecedented removal hurls the House into a state of havoc, as Republicans scramble to determine their next steps.\n",
      "---------------------------\n",
      "A snippet from the article:  The pharmaceutical companies said they would begin talks even as several of them were suing the Biden administration over a new law authorizing the negotiations.\n",
      "---------------------------\n",
      "A snippet from the article:  Two top advisers to former President Donald J. Trump claimed without evidence that Democrats are working to “steal” the 2024 election.\n",
      "---------------------------\n",
      "A snippet from the article:  The number will depend on how many House members show up to vote.\n",
      "---------------------------\n",
      "A snippet from the article:  Recent incendiary statements by the former president come at a time when his supporters are already angry over his indictments.\n",
      "---------------------------\n",
      "A snippet from the article:  Representative Matt Gaetz is facing a House Committee inquiry into allegations of sexual misconduct and misuse of funds. Representative Kevin McCarthy has argued Mr. Gaetz’s move against his speakership is payback.\n",
      "---------------------------\n",
      "A snippet from the article:  The justices heard a challenge to the way Congress funded the Consumer Financial Protection Bureau but seemed persuaded that it was constitutional.\n",
      "---------------------------\n",
      "A snippet from the article:  After the speaker publicly blamed the shutdown on House Democrats, minority leader Hakeem Jeffries advised his party to vote against him.\n",
      "---------------------------\n",
      "A snippet from the article:  The trip comes at a time of heightened tensions between Beijing and Washington, as the Biden administration restricts investments in key Chinese sectors while trying to improve relations.\n",
      "---------------------------\n",
      "A snippet from the article:  James Craig, who ran for governor last year but was disqualified, will compete against former Representative Mike Rogers in the Republican primary race for an open Senate seat.\n",
      "---------------------------\n",
      "A snippet from the article:  A handful of far-right Republicans broke with their party and voted to remove Kevin McCarthy from his leadership post. He said he would not run again.\n",
      "---------------------------\n",
      "A snippet from the article:  The president’s son was arraigned on charges of lying about his drug use on a form he filled out to purchase a handgun in 2018.\n",
      "---------------------------\n",
      "A snippet from the article:  The resolution that Representative Matt Gaetz put forward on Monday gives Speaker Kevin McCarthy two legislative days to call a vote on whether he should keep his post. Action could come as early as Tuesday.\n",
      "---------------------------\n",
      "A snippet from the article:  Firestorms over Chinese investments, like a battery factory in Green Charter Township, are erupting as officials weigh the risks of taking money from an adversary.\n",
      "---------------------------\n",
      "A snippet from the article:  Representative Dean Phillips would be a long-shot candidate, given that party leadership and major donors have coalesced around President Biden.\n",
      "---------------------------\n",
      "A snippet from the article:  Party officials said that without promises to address their policy priorities, the speaker should not count on Democratic votes to save him.\n",
      "---------------------------\n",
      "A snippet from the article:  A viral video of Secretary of State Antony J. Blinken introduced Americans to the guitar geek hidden within.\n",
      "---------------------------\n",
      "A snippet from the article:  John Eastman, a conservative lawyer who had advised President Donald J. Trump, had sought to wipe out a decision that he said had harmed his reputation and that of his client.\n",
      "---------------------------\n",
      "A snippet from the article:  Russian spy agencies and new technologies could be used to push conspiracy theories, U.S. officials say.\n",
      "---------------------------\n",
      "A snippet from the article:  Officials in Moscow and Kyiv played down the significance of a U.S. government spending bill that lacked new funding for Ukraine.\n",
      "---------------------------\n",
      "A snippet from the article:  The move forces a vote within days on whether to keep the speaker in his post, a challenge that only two other House speakers have faced in the history of the chamber.\n",
      "---------------------------\n",
      "A snippet from the article:  We’re answering reader questions on polling and elections, including the underexplored area of longevity.\n",
      "---------------------------\n",
      "A snippet from the article:  A Trump campaign event on Sunday was part of an effort by the former president to increase his presence in Iowa and to shut out his rivals in January’s caucuses.\n",
      "---------------------------\n",
      "A snippet from the article:  At the last possible moment, Kevin McCarthy earned some credit for keeping the government open. But not a lot of credit.\n",
      "---------------------------\n",
      "A snippet from the article:  She achieved remarkable political breakthroughs as a woman, becoming San Francisco’s first female mayor and the first woman elected to the Senate from California.\n",
      "---------------------------\n",
      "A snippet from the article:  Speaker Kevin McCarthy, who for weeks resisted partnering with Democrats, needed their support to pass a measure that would keep the federal government temporarily open.\n",
      "---------------------------\n",
      "A snippet from the article:  A day after the Republican speaker turned to Democrats for help passing a stopgap spending bill to avert a shutdown, the far-right congressman promised to try to remove him from his post.\n",
      "---------------------------\n",
      "A snippet from the article:  As the nation teetered on the brink of a shutdown, its citizens were largely focused on other things.\n",
      "---------------------------\n",
      "A snippet from the article:  The Republican speaker opted to keep the government open the only way he could — by partnering with Democrats — in a surprise reversal that left him as politically vulnerable as ever.\n",
      "---------------------------\n",
      "A snippet from the article:  After emigrating to New Jersey from Egypt, Wael Hana faced a string of business and legal problems. Then his friend started dating a powerful U.S. senator.\n",
      "---------------------------\n",
      "A snippet from the article:  The new chairman of the Senate Foreign Relations Committee could force the Biden administration to reverse its decision to send Egypt $235 million in military assistance.\n",
      "---------------------------\n",
      "A snippet from the article:  Lawmakers’ deaths have sometimes helped to flip partisan control. With an aging, narrowly divided Senate, it could be a possibility again.\n",
      "---------------------------\n",
      "A snippet from the article:  Mr. Bowman, a Democrat, pulled the alarm ahead of a rushed vote on a stopgap funding measure. Two investigations have been opened in the incident.\n",
      "---------------------------\n",
      "A snippet from the article:  Anticipating its closure, the Carter library moved up celebrations for the former president, who is turning 99. As partygoers played games and ate cake, some called the deadlock in Congress “shameful.”\n",
      "---------------------------\n",
      "A snippet from the article:  See how each member of the House of Representatives voted on a measure to keep the government open through mid-November.\n",
      "---------------------------\n",
      "A snippet from the article:  Biden and Trump see solidarity very differently.\n",
      "---------------------------\n",
      "A snippet from the article:  In a stunning reversal, Speaker Kevin McCarthy pushed through a bill with Democratic votes to temporarily keep the government open. President Biden signed it late Saturday.\n",
      "---------------------------\n",
      "A snippet from the article:  Any deal to keep it open would have to be bipartisan, since the Senate and White House are controlled by Democrats, and the House by Republicans.\n",
      "---------------------------\n",
      "A snippet from the article:  Republicans are making big promises about combating fentanyl. Their words ring hollow to some who know too much about the drug’s deadly toll.\n",
      "---------------------------\n",
      "A snippet from the article:  A string of unexpected impediments could delay the administration’s timeline on an issue that is central to its effort to address racial disparities.\n",
      "---------------------------\n",
      "A snippet from the article:  As the top Democrat on the Senate Foreign Relations Committee, Mr. Menendez bucked Democratic colleagues — and presidents — on matters ranging from Cuba to Iran.\n",
      "---------------------------\n",
      "A snippet from the article:  The federal charges are said to involve disclosure of tax information from Donald Trump and other wealthy taxpayers.\n",
      "---------------------------\n",
      "A snippet from the article:  The political scion, whose long-shot Democratic primary challenge has faltered, released a video teasing a third-party candidacy that would put Democrats on high alert.\n",
      "---------------------------\n",
      "A snippet from the article:  As federal agencies prepare to enact their contingency plans for a shutdown, this is where the public could notice changes in the coming days.\n",
      "---------------------------\n",
      "A snippet from the article:  Speaker Kevin McCarthy’s long-shot attempt to avert a government shutdown failed, with opposition coming both from House Democrats and from hard-right members of his own party.\n",
      "---------------------------\n",
      "A snippet from the article:  Speaker Kevin McCarthy delivered remarks after the death of Senator Dianne Feinstein, California’s longest-serving senator.\n",
      "---------------------------\n",
      "A snippet from the article:  Gov. Gavin Newsom has pledged to pick a Black woman to fill the seat, but has also said he would not choose any of the current Democrats running for Senate.\n",
      "---------------------------\n",
      "A snippet from the article:  More than 20 hard-right Republicans defied Speaker Kevin McCarthy and defeated their own party’s bill, making a lapse in funding at midnight on Saturday all but certain.\n",
      "---------------------------\n",
      "A snippet from the article:  The four-star Air Force fighter pilot took over from Gen. Mark A. Milley as the chairman of the Joint Chiefs of Staff.\n",
      "---------------------------\n"
     ]
    }
   ],
   "source": [
    "all_articles = []\n",
    "for i in range(5):\n",
    "    try:\n",
    "        response = requests.get(target_url+f\"&page={i}\").json()\n",
    "        for x in response['response']['docs']:\n",
    "            all_articles.append(x)\n",
    "            print(\"A snippet from the article: \", x['snippet'])\n",
    "            print(\"---------------------------\")\n",
    "    except Exception as e:\n",
    "        print(e)\n"
   ]
  },
  {
   "cell_type": "code",
   "execution_count": 21,
   "metadata": {
    "tags": []
   },
   "outputs": [
    {
     "data": {
      "text/plain": [
       "50"
      ]
     },
     "execution_count": 21,
     "metadata": {},
     "output_type": "execute_result"
    }
   ],
   "source": [
    "len(all_articles)"
   ]
  },
  {
   "cell_type": "code",
   "execution_count": 2,
   "metadata": {},
   "outputs": [
    {
     "name": "stdout",
     "output_type": "stream",
     "text": [
      "A snippet from the article: I will not campaign for, vote for or support any candidate, even in my own party, who does not support common-sense gun reform.\n",
      "---------------------------\n",
      "A snippet from the article: In presidential elections, opposites attract.\n",
      "---------------------------\n",
      "A snippet from the article: “We must confront the reality that around the world anti-Semitism is on the rise,” the president urged at an event to posthumously honor individuals who protected Jews during the Holocaust.\n",
      "---------------------------\n",
      "A snippet from the article: President Obama signed a presidential memorandum creating a White House task force on cancer.\n",
      "---------------------------\n",
      "A snippet from the article: President Obama hosted the emir of Qatar, Sheikh Tamim bin Hamad al-Thani, on Tuesday, and both said they were committed to defeating the Islamic State and other terrorist organizations.\n",
      "---------------------------\n",
      "A snippet from the article: To function properly, the clemency process needs to be removed from the grasp of the Justice Department.\n",
      "---------------------------\n",
      "A snippet from the article: The president seeks $4 billion to help states expand in an area he views as critical to young people’s success in a changing job market.\n",
      "---------------------------\n",
      "A snippet from the article: Katie Beirne Fallon, the president’s legislative director, has been credited with improving his relations with lawmakers on Capitol Hill.\n",
      "---------------------------\n",
      "A snippet from the article: The practice can lead to “devastating, lasting psychological consequences,” he said in an opinion article in The Washington Post.\n",
      "---------------------------\n",
      "A snippet from the article: President Obama, speaking at the North American International Auto Show in Detroit, expressed sympathy and concern for residents of Flint, Mich., where there has been lead contamination in the drinking water.\n",
      "---------------------------\n"
     ]
    }
   ],
   "source": [
    "# Retrieve articles\n"
   ]
  },
  {
   "cell_type": "code",
   "execution_count": 3,
   "metadata": {},
   "outputs": [],
   "source": [
    "# BONUS: How would we get 30 results? \n",
    "# HINT: Look up the page query param\n",
    "\n"
   ]
  },
  {
   "cell_type": "code",
   "execution_count": 4,
   "metadata": {},
   "outputs": [
    {
     "name": "stdout",
     "output_type": "stream",
     "text": [
      "I will not campaign for, vote for or support any candidate, even in my own party, who does not support common-sense gun reform.\n",
      "---------------------------\n",
      "In presidential elections, opposites attract.\n",
      "---------------------------\n",
      "“We must confront the reality that around the world anti-Semitism is on the rise,” the president urged at an event to posthumously honor individuals who protected Jews during the Holocaust.\n",
      "---------------------------\n",
      "President Obama signed a presidential memorandum creating a White House task force on cancer.\n",
      "---------------------------\n",
      "President Obama hosted the emir of Qatar, Sheikh Tamim bin Hamad al-Thani, on Tuesday, and both said they were committed to defeating the Islamic State and other terrorist organizations.\n",
      "---------------------------\n",
      "To function properly, the clemency process needs to be removed from the grasp of the Justice Department.\n",
      "---------------------------\n",
      "The president seeks $4 billion to help states expand in an area he views as critical to young people’s success in a changing job market.\n",
      "---------------------------\n",
      "Katie Beirne Fallon, the president’s legislative director, has been credited with improving his relations with lawmakers on Capitol Hill.\n",
      "---------------------------\n",
      "The practice can lead to “devastating, lasting psychological consequences,” he said in an opinion article in The Washington Post.\n",
      "---------------------------\n",
      "President Obama, speaking at the North American International Auto Show in Detroit, expressed sympathy and concern for residents of Flint, Mich., where there has been lead contamination in the drinking water.\n",
      "---------------------------\n",
      "The first time the president met with House Democrats, in 2009, there were 257 of them. Now there are 188. Some point a finger at him.\n",
      "---------------------------\n",
      "The president told Politico that politics were “meaner” than in 2008, and discussed the Democratic contest between Hillary Clinton and Bernie Sanders.\n",
      "---------------------------\n",
      "The president, who has spoken highly of Hillary Clinton recently, will meet with Senator Bernie Sanders, whom he does not have much of a relationship with.\n",
      "---------------------------\n",
      "Parker Sawyers and Tika Sumpter play the first couple — on their first date — in the Sundance favorite “Southside With You.”\n",
      "---------------------------\n",
      "After Senator Bernie Sanders and President Obama met for more than 45 minutes, the senator said the president was not trying to tip the scales against him.\n",
      "---------------------------\n",
      "Highlights from President Obama’s remarks at a town-hall style meeting in Baton Rouge, La, on Thursday.\n",
      "---------------------------\n",
      "Mr. Obama is to appear at the embassy to remember Americans who risked their lives to save Jews during the Holocaust, his latest move to show solidarity with Israel after a historic rupture over the Iran accord.\n",
      "---------------------------\n",
      "While not actually saying she would name Mr. Obama to the Supreme Court, Mrs. Clinton didn’t dismiss the idea either, saying “I love that.”\n",
      "---------------------------\n",
      "“Let me tell you, there are three things that are certain in life: death, taxes, and Michelle is not running for president.” — President Obama\n",
      "---------------------------\n",
      "When the president goes to the Illinois Capitol next month to speak, he will call for a less divisive politics, aides say.\n",
      "---------------------------\n",
      "On a visit to the United States, Prime Minister Malcolm Turnbull of Australia met with President Obama on Tuesday to discuss the fight against the Islamic State and terror.\n",
      "---------------------------\n",
      "Dire warnings from Republicans about the effect of President Obama’s policies on employment have simply not come true.\n",
      "---------------------------\n",
      "President Obama expressed relief and happiness that several Americans who had been detained in Iran were returning home after the completion of a nuclear agreement with Tehran.\n",
      "---------------------------\n",
      "The 2017 budget plan would make it easier for small businesses to form retirement savings plans for their workers.\n",
      "---------------------------\n",
      "The White House is working with Hillary Clinton’s campaign in ways large and small. Their two staffs consult on issues and the positions she takes on the president’s policy priorities.\n",
      "---------------------------\n",
      "The Iran case showed that the use of diplomacy was the best course.\n",
      "---------------------------\n",
      "The president delivered his final State of the Union address on Tuesday and discussed American innovation.\n",
      "---------------------------\n",
      "The president delivered his final State of the Union address on Tuesday and discussed economic growth.\n",
      "---------------------------\n",
      "The president delivered his final State of the Union address on Tuesday and discussed the threat posed by the Islamic State.\n",
      "---------------------------\n",
      "Seeking to stabilize her campaign, Mrs. Clinton linked herself repeatedly to the president in the Democratic debate.\n",
      "---------------------------\n"
     ]
    }
   ],
   "source": [
    "# Print article snippets\n"
   ]
  },
  {
   "cell_type": "code",
   "execution_count": null,
   "metadata": {},
   "outputs": [],
   "source": []
  }
 ],
 "metadata": {
  "kernelspec": {
   "display_name": "Python 3 (ipykernel)",
   "language": "python",
   "name": "python3"
  },
  "language_info": {
   "codemirror_mode": {
    "name": "ipython",
    "version": 3
   },
   "file_extension": ".py",
   "mimetype": "text/x-python",
   "name": "python",
   "nbconvert_exporter": "python",
   "pygments_lexer": "ipython3",
   "version": "3.9.13"
  },
  "varInspector": {
   "cols": {
    "lenName": 16,
    "lenType": 16,
    "lenVar": 40
   },
   "kernels_config": {
    "python": {
     "delete_cmd_postfix": "",
     "delete_cmd_prefix": "del ",
     "library": "var_list.py",
     "varRefreshCmd": "print(var_dic_list())"
    },
    "r": {
     "delete_cmd_postfix": ") ",
     "delete_cmd_prefix": "rm(",
     "library": "var_list.r",
     "varRefreshCmd": "cat(var_dic_list()) "
    }
   },
   "types_to_exclude": [
    "module",
    "function",
    "builtin_function_or_method",
    "instance",
    "_Feature"
   ],
   "window_display": false
  }
 },
 "nbformat": 4,
 "nbformat_minor": 4
}

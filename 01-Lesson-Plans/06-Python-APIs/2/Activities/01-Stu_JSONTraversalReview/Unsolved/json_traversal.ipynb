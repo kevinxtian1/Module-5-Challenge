{
 "cells": [
  {
   "cell_type": "code",
   "execution_count": 1,
   "metadata": {},
   "outputs": [],
   "source": [
    "# Dependencies\n",
    "import json\n",
    "from pathlib import Path\n",
    "\n",
    "# Load JSON\n",
    "filepath = Path(\"../Resources/video_api_response.json\")\n",
    "with open(filepath) as jsonfile:\n",
    "    video_json = json.load(jsonfile)"
   ]
  },
  {
   "cell_type": "code",
   "execution_count": 3,
   "metadata": {},
   "outputs": [
    {
     "name": "stdout",
     "output_type": "stream",
     "text": [
      "{\n",
      "    \"data\": {\n",
      "        \"updated\": \"2021-06-07T12:00:00.000Z\",\n",
      "        \"totalItems\": 10,\n",
      "        \"startIndex\": 1,\n",
      "        \"itemsPerPage\": 1,\n",
      "        \"items\": [\n",
      "            {\n",
      "                \"id\": \"1234567890\",\n",
      "                \"uploaded\": \"2021-06-05T12:00:00.000Z\",\n",
      "                \"updated\": \"2021-06-07T12:00:00.000Z\",\n",
      "                \"category\": \"Educational\",\n",
      "                \"title\": \"Introduction to Python Programming\",\n",
      "                \"description\": \"This is the an introduction course to Python programming.\",\n",
      "                \"tags\": [\n",
      "                    \"Python\",\n",
      "                    \"Data\",\n",
      "                    \"Coding\"\n",
      "                ],\n",
      "                \"duration\": 45,\n",
      "                \"aspectRatio\": \"widescreen\",\n",
      "                \"rating\": 2.35,\n",
      "                \"ratingCount\": 453,\n",
      "                \"viewCount\": 1350,\n",
      "                \"favoriteCount\": 21,\n",
      "                \"commentCount\": 3\n",
      "            }\n",
      "        ]\n",
      "    }\n",
      "}\n"
     ]
    }
   ],
   "source": [
    "print(json.dumps(video_json, indent=4))"
   ]
  },
  {
   "cell_type": "code",
   "execution_count": 9,
   "metadata": {},
   "outputs": [
    {
     "data": {
      "text/plain": [
       "'Introduction to Python Programming'"
      ]
     },
     "execution_count": 9,
     "metadata": {},
     "output_type": "execute_result"
    }
   ],
   "source": []
  },
  {
   "cell_type": "code",
   "execution_count": 11,
   "metadata": {},
   "outputs": [
    {
     "name": "stdout",
     "output_type": "stream",
     "text": [
      "Title:  Introduction to Python Programming\n"
     ]
    }
   ],
   "source": [
    "# Isolate \"data items\" for easy reading\n",
    "data_items = video_json[\"data\"]\n",
    "\n",
    "\n",
    "# Retrieve the video's title\n",
    "video_title = data_items[\"items\"][0][\"title\"]\n",
    "print(\"Title: \", video_title)"
   ]
  },
  {
   "cell_type": "code",
   "execution_count": 12,
   "metadata": {},
   "outputs": [
    {
     "name": "stdout",
     "output_type": "stream",
     "text": [
      "Rating:  2.35\n"
     ]
    }
   ],
   "source": [
    "# Retrieve the video's rating\n",
    "video_rating = data_items[\"items\"][0][\"rating\"]\n",
    "print(\"Rating: \", video_rating)"
   ]
  },
  {
   "cell_type": "code",
   "execution_count": 14,
   "metadata": {},
   "outputs": [
    {
     "name": "stdout",
     "output_type": "stream",
     "text": [
      "First Tag:  Python\n"
     ]
    }
   ],
   "source": [
    "# Retrieve the link to the video's first tag\n",
    "video_first_tag = data_items[\"items\"][0][\"tags\"][0]\n",
    "print(\"First Tag: \", video_first_tag)"
   ]
  },
  {
   "cell_type": "code",
   "execution_count": 15,
   "metadata": {},
   "outputs": [
    {
     "name": "stdout",
     "output_type": "stream",
     "text": [
      "Views:  1350\n"
     ]
    }
   ],
   "source": [
    "# Retrieve the number of views this video has\n",
    "video_views = data_items[\"items\"][0][\"viewCount\"]\n",
    "print(\"Views: \", video_views)"
   ]
  },
  {
   "cell_type": "code",
   "execution_count": null,
   "metadata": {},
   "outputs": [],
   "source": []
  }
 ],
 "metadata": {
  "kernelspec": {
   "display_name": "Python 3 (ipykernel)",
   "language": "python",
   "name": "python3"
  },
  "language_info": {
   "codemirror_mode": {
    "name": "ipython",
    "version": 3
   },
   "file_extension": ".py",
   "mimetype": "text/x-python",
   "name": "python",
   "nbconvert_exporter": "python",
   "pygments_lexer": "ipython3",
   "version": "3.9.13"
  },
  "varInspector": {
   "cols": {
    "lenName": 16,
    "lenType": 16,
    "lenVar": 40
   },
   "kernels_config": {
    "python": {
     "delete_cmd_postfix": "",
     "delete_cmd_prefix": "del ",
     "library": "var_list.py",
     "varRefreshCmd": "print(var_dic_list())"
    },
    "r": {
     "delete_cmd_postfix": ") ",
     "delete_cmd_prefix": "rm(",
     "library": "var_list.r",
     "varRefreshCmd": "cat(var_dic_list()) "
    }
   },
   "types_to_exclude": [
    "module",
    "function",
    "builtin_function_or_method",
    "instance",
    "_Feature"
   ],
   "window_display": false
  }
 },
 "nbformat": 4,
 "nbformat_minor": 4
}
